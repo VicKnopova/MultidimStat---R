{
 "cells": [
  {
   "cell_type": "markdown",
   "id": "078f3a34",
   "metadata": {},
   "source": [
    "## Практика 6: Дискримінантний аналіз\n",
    "\n",
    "### Приклад 8.2, Таблиця  8.1\n",
    "У розв'язку використано наступне _[посилання.](https://rpubs.com/aaronsc32/classification-linear-discriminant-analysis)_\n",
    "\n",
    "В цій Таблиці 8.1 наведені максимальна міцність $y_1$ і межа текучості $y_2$ для сталі, прокатаної при двох температур $T1$ та $T2$. "
   ]
  },
  {
   "cell_type": "code",
   "execution_count": 1,
   "id": "406f4d4d",
   "metadata": {},
   "outputs": [
    {
     "data": {
      "text/html": [
       "<table>\n",
       "<thead><tr><th scope=col>V1</th><th scope=col>V2</th><th scope=col>V3</th></tr></thead>\n",
       "<tbody>\n",
       "\t<tr><td>1 </td><td>33</td><td>60</td></tr>\n",
       "\t<tr><td>1 </td><td>36</td><td>61</td></tr>\n",
       "\t<tr><td>1 </td><td>35</td><td>64</td></tr>\n",
       "\t<tr><td>1 </td><td>38</td><td>63</td></tr>\n",
       "\t<tr><td>1 </td><td>40</td><td>65</td></tr>\n",
       "\t<tr><td>2 </td><td>35</td><td>57</td></tr>\n",
       "\t<tr><td>2 </td><td>36</td><td>59</td></tr>\n",
       "\t<tr><td>2 </td><td>38</td><td>59</td></tr>\n",
       "\t<tr><td>2 </td><td>39</td><td>61</td></tr>\n",
       "\t<tr><td>2 </td><td>41</td><td>63</td></tr>\n",
       "\t<tr><td>2 </td><td>43</td><td>65</td></tr>\n",
       "\t<tr><td>2 </td><td>41</td><td>59</td></tr>\n",
       "</tbody>\n",
       "</table>\n"
      ],
      "text/latex": [
       "\\begin{tabular}{r|lll}\n",
       " V1 & V2 & V3\\\\\n",
       "\\hline\n",
       "\t 1  & 33 & 60\\\\\n",
       "\t 1  & 36 & 61\\\\\n",
       "\t 1  & 35 & 64\\\\\n",
       "\t 1  & 38 & 63\\\\\n",
       "\t 1  & 40 & 65\\\\\n",
       "\t 2  & 35 & 57\\\\\n",
       "\t 2  & 36 & 59\\\\\n",
       "\t 2  & 38 & 59\\\\\n",
       "\t 2  & 39 & 61\\\\\n",
       "\t 2  & 41 & 63\\\\\n",
       "\t 2  & 43 & 65\\\\\n",
       "\t 2  & 41 & 59\\\\\n",
       "\\end{tabular}\n"
      ],
      "text/markdown": [
       "\n",
       "| V1 | V2 | V3 |\n",
       "|---|---|---|\n",
       "| 1  | 33 | 60 |\n",
       "| 1  | 36 | 61 |\n",
       "| 1  | 35 | 64 |\n",
       "| 1  | 38 | 63 |\n",
       "| 1  | 40 | 65 |\n",
       "| 2  | 35 | 57 |\n",
       "| 2  | 36 | 59 |\n",
       "| 2  | 38 | 59 |\n",
       "| 2  | 39 | 61 |\n",
       "| 2  | 41 | 63 |\n",
       "| 2  | 43 | 65 |\n",
       "| 2  | 41 | 59 |\n",
       "\n"
      ],
      "text/plain": [
       "   V1 V2 V3\n",
       "1  1  33 60\n",
       "2  1  36 61\n",
       "3  1  35 64\n",
       "4  1  38 63\n",
       "5  1  40 65\n",
       "6  2  35 57\n",
       "7  2  36 59\n",
       "8  2  38 59\n",
       "9  2  39 61\n",
       "10 2  41 63\n",
       "11 2  43 65\n",
       "12 2  41 59"
      ]
     },
     "metadata": {},
     "output_type": "display_data"
    }
   ],
   "source": [
    "Temp<-read.table(\"T8_1_STEEL.DAT\")\n",
    "Temp"
   ]
  },
  {
   "cell_type": "markdown",
   "id": "7371db80",
   "metadata": {},
   "source": [
    "Розділимо на 2 групи по цим температурам."
   ]
  },
  {
   "cell_type": "code",
   "execution_count": 2,
   "id": "c0e1597f",
   "metadata": {},
   "outputs": [],
   "source": [
    "Temp<-as.matrix(Temp)\n",
    "Temp1<-Temp[1:5,2:3]\n",
    "# Temp1\n",
    "Temp2<-Temp[6:12,2:3] \n",
    "# Temp2"
   ]
  },
  {
   "cell_type": "markdown",
   "id": "10a97cd0",
   "metadata": {},
   "source": [
    "Зобразимо ці дані на площині (спочатку будуємо точки $T2$, потім добавляємо точки $T1$): "
   ]
  },
  {
   "cell_type": "code",
   "execution_count": 3,
   "id": "933da488",
   "metadata": {},
   "outputs": [
    {
     "data": {
      "image/png": "[encoded data removed]",
      "text/plain": [
       "plot without title"
      ]
     },
     "metadata": {},
     "output_type": "display_data"
    }
   ],
   "source": [
    "options(repr.plot.width=4, repr.plot.height=4)\n",
    "\n",
    "plot(Temp2, col = \"red\", xlim=c(32,48), ylim=c(55,68))  \n",
    "points(Temp1, col= \"blue\")                             "
   ]
  },
  {
   "cell_type": "code",
   "execution_count": 4,
   "id": "1c37dad1",
   "metadata": {},
   "outputs": [
    {
     "data": {
      "text/html": [
       "<ol class=list-inline>\n",
       "\t<li>36.4</li>\n",
       "\t<li>62.6</li>\n",
       "</ol>\n"
      ],
      "text/latex": [
       "\\begin{enumerate*}\n",
       "\\item 36.4\n",
       "\\item 62.6\n",
       "\\end{enumerate*}\n"
      ],
      "text/markdown": [
       "1. 36.4\n",
       "2. 62.6\n",
       "\n",
       "\n"
      ],
      "text/plain": [
       "[1] 36.4 62.6"
      ]
     },
     "metadata": {},
     "output_type": "display_data"
    },
    {
     "data": {
      "text/html": [
       "<ol class=list-inline>\n",
       "\t<li>39</li>\n",
       "\t<li>60.4285714285714</li>\n",
       "</ol>\n"
      ],
      "text/latex": [
       "\\begin{enumerate*}\n",
       "\\item 39\n",
       "\\item 60.4285714285714\n",
       "\\end{enumerate*}\n"
      ],
      "text/markdown": [
       "1. 39\n",
       "2. 60.4285714285714\n",
       "\n",
       "\n"
      ],
      "text/plain": [
       "[1] 39.00000 60.42857"
      ]
     },
     "metadata": {},
     "output_type": "display_data"
    }
   ],
   "source": [
    "y1 <- c(mean(Temp1[,1]),mean(Temp1[,2]))  # the vector of means for  T1\n",
    "y1\n",
    "y2 <- c(mean(Temp2[,1]),mean(Temp2[,2])) # vector of means for  T2\n",
    "y2"
   ]
  },
  {
   "cell_type": "markdown",
   "id": "d42da43a",
   "metadata": {},
   "source": [
    "Обчислимо змішану коваріаційну матрицю (pooled covariance $S_{pl}$). Тут  $d1$ та  $d2$- кількості вимірювань \n",
    "для зразків, прокатаних при температурах $T_1$  та $T_2$, відповідно. "
   ]
  },
  {
   "cell_type": "code",
   "execution_count": 5,
   "id": "85fba533",
   "metadata": {},
   "outputs": [
    {
     "data": {
      "text/html": [
       "<table>\n",
       "<thead><tr><th></th><th scope=col>V2</th><th scope=col>V3</th></tr></thead>\n",
       "<tbody>\n",
       "\t<tr><th scope=row>V2</th><td>7.92    </td><td>5.680000</td></tr>\n",
       "\t<tr><th scope=row>V3</th><td>5.68    </td><td>6.291429</td></tr>\n",
       "</tbody>\n",
       "</table>\n"
      ],
      "text/latex": [
       "\\begin{tabular}{r|ll}\n",
       "  & V2 & V3\\\\\n",
       "\\hline\n",
       "\tV2 & 7.92     & 5.680000\\\\\n",
       "\tV3 & 5.68     & 6.291429\\\\\n",
       "\\end{tabular}\n"
      ],
      "text/markdown": [
       "\n",
       "| <!--/--> | V2 | V3 |\n",
       "|---|---|---|\n",
       "| V2 | 7.92     | 5.680000 |\n",
       "| V3 | 5.68     | 6.291429 |\n",
       "\n"
      ],
      "text/plain": [
       "   V2   V3      \n",
       "V2 7.92 5.680000\n",
       "V3 5.68 6.291429"
      ]
     },
     "metadata": {},
     "output_type": "display_data"
    }
   ],
   "source": [
    "S1<-cov(Temp1)\n",
    "S2<-cov(Temp2)\n",
    "\n",
    "d1<-length(Temp1[,1]) \n",
    "d2<-length(Temp2[,1])\n",
    "\n",
    "Spl<-((d1-1)*S1+ (d2-1)*S2)/(d1+d2-2)  \n",
    "Spl"
   ]
  },
  {
   "cell_type": "markdown",
   "id": "1e57d63a",
   "metadata": {},
   "source": [
    "Тепер знайдемо вектор $a$ та дискримінантні функції $z_1$  та $z_2$  (нагадаємо, що $z_i = a'y_i$ )"
   ]
  },
  {
   "cell_type": "code",
   "execution_count": 6,
   "id": "3a7f05ec",
   "metadata": {},
   "outputs": [],
   "source": [
    "a<-solve(Spl)%*%(y1-y2) \n",
    "z1<- Temp1 %*% a  \n",
    "z2<- Temp2 %*% a"
   ]
  },
  {
   "cell_type": "markdown",
   "id": "1b8658fb",
   "metadata": {},
   "source": [
    "Розв'яжемо тепер наступну задачу класифікації. Ми розділимо вибірку на 2 групи, віднесши до перщої групи ті спостереження  $z$, де $z> \\frac{z_1+z_2}{2}$. Ми застосували print(group[,1]), а не print(group),   для наочності  зображення. "
   ]
  },
  {
   "cell_type": "code",
   "execution_count": 7,
   "id": "0f314123",
   "metadata": {},
   "outputs": [
    {
     "name": "stdout",
     "output_type": "stream",
     "text": [
      " [1] 1 1 1 1 1 2 2 2 2 2 2 2\n"
     ]
    }
   ],
   "source": [
    "zmean<-0.5*(mean(z1)+mean(z2))\n",
    "t<- as.matrix(Temp[,2:3])\n",
    "z<-t%*%a \n",
    "\n",
    "group <- ifelse(z> zmean, 1, 2) \n",
    "\n",
    "print(group[,1])  "
   ]
  },
  {
   "cell_type": "markdown",
   "id": "9c8a8a67",
   "metadata": {},
   "source": [
    "Отже, початкове розбиття на групи вдале. "
   ]
  },
  {
   "cell_type": "markdown",
   "id": "0ef267e4",
   "metadata": {},
   "source": [
    "## Приклад 8.4.1, Таблиця 8.3. "
   ]
  },
  {
   "cell_type": "markdown",
   "id": "d3799a19",
   "metadata": {},
   "source": [
    " Table 8.3  Rencher,  Chapter 8, p. 295 "
   ]
  },
  {
   "cell_type": "code",
   "execution_count": 8,
   "id": "e7de4c91",
   "metadata": {},
   "outputs": [
    {
     "name": "stderr",
     "output_type": "stream",
     "text": [
      "Loading required package: carData\n",
      "Warning message:\n",
      "\"package 'MASS' was built under R version 3.6.3\"Warning message:\n",
      "\"package 'dplyr' was built under R version 3.6.3\"\n",
      "Attaching package: 'dplyr'\n",
      "\n",
      "The following object is masked from 'package:MASS':\n",
      "\n",
      "    select\n",
      "\n",
      "The following object is masked from 'package:car':\n",
      "\n",
      "    recode\n",
      "\n",
      "The following objects are masked from 'package:stats':\n",
      "\n",
      "    filter, lag\n",
      "\n",
      "The following objects are masked from 'package:base':\n",
      "\n",
      "    intersect, setdiff, setequal, union\n",
      "\n"
     ]
    }
   ],
   "source": [
    "# install.packages(\"car\")\n",
    "library(car)\n",
    "library(MASS)\n",
    "library(dplyr)"
   ]
  },
  {
   "cell_type": "markdown",
   "id": "f99e0a56",
   "metadata": {},
   "source": [
    "В таблиці знаходяться вимірювання параметрів шоломів  в залежності від того, до якої групи відноситься людина (гравець шкільної команди, гравець команди коледжа, або людина взагалі не грає в  футбол).  Для простоти, ми перейменуємо колонки цієї таблиці. "
   ]
  },
  {
   "cell_type": "code",
   "execution_count": 9,
   "id": "e705fd61",
   "metadata": {},
   "outputs": [
    {
     "data": {
      "text/html": [
       "<table>\n",
       "<thead><tr><th scope=col>Group</th><th scope=col>WDIM</th><th scope=col>CIRCUM</th><th scope=col>FBEYE</th><th scope=col>EYEHD</th><th scope=col>EARHD</th><th scope=col>JAW</th></tr></thead>\n",
       "<tbody>\n",
       "\t<tr><td>1    </td><td>13.5 </td><td>57.15</td><td>19.5 </td><td>12.5 </td><td>14.0 </td><td>11   </td></tr>\n",
       "\t<tr><td>1    </td><td>15.5 </td><td>58.42</td><td>21.0 </td><td>12.0 </td><td>16.0 </td><td>12   </td></tr>\n",
       "\t<tr><td>1    </td><td>14.5 </td><td>55.88</td><td>19.0 </td><td>10.0 </td><td>13.0 </td><td>12   </td></tr>\n",
       "\t<tr><td>1    </td><td>15.5 </td><td>58.42</td><td>20.0 </td><td>13.5 </td><td>15.0 </td><td>12   </td></tr>\n",
       "\t<tr><td>1    </td><td>14.5 </td><td>58.42</td><td>20.0 </td><td>13.0 </td><td>15.5 </td><td>12   </td></tr>\n",
       "\t<tr><td>1    </td><td>14.0 </td><td>60.96</td><td>21.0 </td><td>12.0 </td><td>14.0 </td><td>13   </td></tr>\n",
       "</tbody>\n",
       "</table>\n"
      ],
      "text/latex": [
       "\\begin{tabular}{r|lllllll}\n",
       " Group & WDIM & CIRCUM & FBEYE & EYEHD & EARHD & JAW\\\\\n",
       "\\hline\n",
       "\t 1     & 13.5  & 57.15 & 19.5  & 12.5  & 14.0  & 11   \\\\\n",
       "\t 1     & 15.5  & 58.42 & 21.0  & 12.0  & 16.0  & 12   \\\\\n",
       "\t 1     & 14.5  & 55.88 & 19.0  & 10.0  & 13.0  & 12   \\\\\n",
       "\t 1     & 15.5  & 58.42 & 20.0  & 13.5  & 15.0  & 12   \\\\\n",
       "\t 1     & 14.5  & 58.42 & 20.0  & 13.0  & 15.5  & 12   \\\\\n",
       "\t 1     & 14.0  & 60.96 & 21.0  & 12.0  & 14.0  & 13   \\\\\n",
       "\\end{tabular}\n"
      ],
      "text/markdown": [
       "\n",
       "| Group | WDIM | CIRCUM | FBEYE | EYEHD | EARHD | JAW |\n",
       "|---|---|---|---|---|---|---|\n",
       "| 1     | 13.5  | 57.15 | 19.5  | 12.5  | 14.0  | 11    |\n",
       "| 1     | 15.5  | 58.42 | 21.0  | 12.0  | 16.0  | 12    |\n",
       "| 1     | 14.5  | 55.88 | 19.0  | 10.0  | 13.0  | 12    |\n",
       "| 1     | 15.5  | 58.42 | 20.0  | 13.5  | 15.0  | 12    |\n",
       "| 1     | 14.5  | 58.42 | 20.0  | 13.0  | 15.5  | 12    |\n",
       "| 1     | 14.0  | 60.96 | 21.0  | 12.0  | 14.0  | 13    |\n",
       "\n"
      ],
      "text/plain": [
       "  Group WDIM CIRCUM FBEYE EYEHD EARHD JAW\n",
       "1 1     13.5 57.15  19.5  12.5  14.0  11 \n",
       "2 1     15.5 58.42  21.0  12.0  16.0  12 \n",
       "3 1     14.5 55.88  19.0  10.0  13.0  12 \n",
       "4 1     15.5 58.42  20.0  13.5  15.0  12 \n",
       "5 1     14.5 58.42  20.0  13.0  15.5  12 \n",
       "6 1     14.0 60.96  21.0  12.0  14.0  13 "
      ]
     },
     "metadata": {},
     "output_type": "display_data"
    }
   ],
   "source": [
    "Foot<-read.table('T8_3_FOOTBALL.DAT', col.names = c('Group', 'WDIM', 'CIRCUM', 'FBEYE', 'EYEHD', 'EARHD','JAW') )\n",
    "head(Foot)"
   ]
  },
  {
   "cell_type": "code",
   "execution_count": 10,
   "id": "3f95579b",
   "metadata": {},
   "outputs": [
    {
     "data": {
      "text/html": [
       "<table>\n",
       "<thead><tr><th scope=col>Group</th><th scope=col>V2</th><th scope=col>V3</th><th scope=col>V4</th><th scope=col>V5</th><th scope=col>V6</th><th scope=col>V7</th></tr></thead>\n",
       "<tbody>\n",
       "\t<tr><td>1    </td><td>13.5 </td><td>57.15</td><td>19.5 </td><td>12.5 </td><td>14.0 </td><td>11   </td></tr>\n",
       "\t<tr><td>1    </td><td>15.5 </td><td>58.42</td><td>21.0 </td><td>12.0 </td><td>16.0 </td><td>12   </td></tr>\n",
       "\t<tr><td>1    </td><td>14.5 </td><td>55.88</td><td>19.0 </td><td>10.0 </td><td>13.0 </td><td>12   </td></tr>\n",
       "\t<tr><td>1    </td><td>15.5 </td><td>58.42</td><td>20.0 </td><td>13.5 </td><td>15.0 </td><td>12   </td></tr>\n",
       "\t<tr><td>1    </td><td>14.5 </td><td>58.42</td><td>20.0 </td><td>13.0 </td><td>15.5 </td><td>12   </td></tr>\n",
       "\t<tr><td>1    </td><td>14.0 </td><td>60.96</td><td>21.0 </td><td>12.0 </td><td>14.0 </td><td>13   </td></tr>\n",
       "</tbody>\n",
       "</table>\n"
      ],
      "text/latex": [
       "\\begin{tabular}{r|lllllll}\n",
       " Group & V2 & V3 & V4 & V5 & V6 & V7\\\\\n",
       "\\hline\n",
       "\t 1     & 13.5  & 57.15 & 19.5  & 12.5  & 14.0  & 11   \\\\\n",
       "\t 1     & 15.5  & 58.42 & 21.0  & 12.0  & 16.0  & 12   \\\\\n",
       "\t 1     & 14.5  & 55.88 & 19.0  & 10.0  & 13.0  & 12   \\\\\n",
       "\t 1     & 15.5  & 58.42 & 20.0  & 13.5  & 15.0  & 12   \\\\\n",
       "\t 1     & 14.5  & 58.42 & 20.0  & 13.0  & 15.5  & 12   \\\\\n",
       "\t 1     & 14.0  & 60.96 & 21.0  & 12.0  & 14.0  & 13   \\\\\n",
       "\\end{tabular}\n"
      ],
      "text/markdown": [
       "\n",
       "| Group | V2 | V3 | V4 | V5 | V6 | V7 |\n",
       "|---|---|---|---|---|---|---|\n",
       "| 1     | 13.5  | 57.15 | 19.5  | 12.5  | 14.0  | 11    |\n",
       "| 1     | 15.5  | 58.42 | 21.0  | 12.0  | 16.0  | 12    |\n",
       "| 1     | 14.5  | 55.88 | 19.0  | 10.0  | 13.0  | 12    |\n",
       "| 1     | 15.5  | 58.42 | 20.0  | 13.5  | 15.0  | 12    |\n",
       "| 1     | 14.5  | 58.42 | 20.0  | 13.0  | 15.5  | 12    |\n",
       "| 1     | 14.0  | 60.96 | 21.0  | 12.0  | 14.0  | 13    |\n",
       "\n"
      ],
      "text/plain": [
       "  Group V2   V3    V4   V5   V6   V7\n",
       "1 1     13.5 57.15 19.5 12.5 14.0 11\n",
       "2 1     15.5 58.42 21.0 12.0 16.0 12\n",
       "3 1     14.5 55.88 19.0 10.0 13.0 12\n",
       "4 1     15.5 58.42 20.0 13.5 15.0 12\n",
       "5 1     14.5 58.42 20.0 13.0 15.5 12\n",
       "6 1     14.0 60.96 21.0 12.0 14.0 13"
      ]
     },
     "metadata": {},
     "output_type": "display_data"
    }
   ],
   "source": [
    "Foot<-read.table('T8_3_FOOTBALL.DAT', col.names = c('Group', 'V2', 'V3', 'V4', 'V5', 'V6','V7') )\n",
    "head(Foot) "
   ]
  },
  {
   "cell_type": "markdown",
   "id": "81ecf91a",
   "metadata": {},
   "source": [
    "Визначимо залежні змінні (у вигляді матриці)."
   ]
  },
  {
   "cell_type": "code",
   "execution_count": 13,
   "id": "9328cecd",
   "metadata": {},
   "outputs": [],
   "source": [
    "DepVar <- as.matrix(read.table('T8_3_FOOTBALL.DAT'))[,2:7]"
   ]
  },
  {
   "cell_type": "markdown",
   "id": "683029a8",
   "metadata": {},
   "source": [
    "Для того, щоб знайти дискримінантні функції, нам потрібно знайти власні числа та власні вектори матриці $E^{-1}H$. "
   ]
  },
  {
   "cell_type": "markdown",
   "id": "5ed37c8b",
   "metadata": {},
   "source": [
    "Наведемо приклад обчислення матриць $E$ та $H$ (див.   також пару про MANOVA). При цьому ми використаємо формули \n",
    "\\begin{equation}\\label{E}\n",
    "E= \\sum_{ij} y_{ij}y_{ij}'- \\sum_{i=1}^k \\frac{1}{n}\\bar{y}_{i\\cdot} \\bar{y}_{i\\cdot}'. \n",
    "\\end{equation}\n",
    "та  \n",
    "\\begin{equation}\\label{H}\n",
    "H= \\sum_{i=1}^k \\frac{1}{n}\\bar{y}_{i\\cdot} \\bar{y}_{i\\cdot}'- \\frac{1}{kn}y_{\\cdot\\cdot}y_{\\cdot\\cdot}'\n",
    "\\end{equation}"
   ]
  },
  {
   "cell_type": "markdown",
   "id": "3181959d",
   "metadata": {},
   "source": [
    "Побудуємо перший доданок у матриці $E$. Для цього ми визначимо спочатку матрицю з нулів, і будемо її заповнювати, спочатку взявши скалярний добуток $y_{ij}y_{ij}'$, а потім просумувавши: "
   ]
  },
  {
   "cell_type": "code",
   "execution_count": 14,
   "id": "d412b05f",
   "metadata": {},
   "outputs": [
    {
     "data": {
      "text/html": [
       "<table>\n",
       "<thead><tr><th scope=col>V2</th><th scope=col>V3</th><th scope=col>V4</th><th scope=col>V5</th><th scope=col>V6</th><th scope=col>V7</th></tr></thead>\n",
       "<tbody>\n",
       "\t<tr><td>21383.84 </td><td> 80471.09</td><td> 27603.35</td><td>15752.77 </td><td>19354.57 </td><td>16655.30 </td></tr>\n",
       "\t<tr><td>80471.09 </td><td>303376.09</td><td>104064.45</td><td>59512.84 </td><td>72975.87 </td><td>62748.25 </td></tr>\n",
       "\t<tr><td>27603.35 </td><td>104064.45</td><td> 35716.09</td><td>20393.33 </td><td>25031.63 </td><td>21523.97 </td></tr>\n",
       "\t<tr><td>15752.77 </td><td> 59512.84</td><td> 20393.33</td><td>11885.51 </td><td>14376.49 </td><td>12306.24 </td></tr>\n",
       "\t<tr><td>19354.57 </td><td> 72975.87</td><td> 25031.63</td><td>14376.49 </td><td>17623.63 </td><td>15092.98 </td></tr>\n",
       "\t<tr><td>16655.30 </td><td> 62748.25</td><td> 21523.97</td><td>12306.24 </td><td>15092.98 </td><td>13005.66 </td></tr>\n",
       "</tbody>\n",
       "</table>\n"
      ],
      "text/latex": [
       "\\begin{tabular}{llllll}\n",
       " V2 & V3 & V4 & V5 & V6 & V7\\\\\n",
       "\\hline\n",
       "\t 21383.84  &  80471.09 &  27603.35 & 15752.77  & 19354.57  & 16655.30 \\\\\n",
       "\t 80471.09  & 303376.09 & 104064.45 & 59512.84  & 72975.87  & 62748.25 \\\\\n",
       "\t 27603.35  & 104064.45 &  35716.09 & 20393.33  & 25031.63  & 21523.97 \\\\\n",
       "\t 15752.77  &  59512.84 &  20393.33 & 11885.51  & 14376.49  & 12306.24 \\\\\n",
       "\t 19354.57  &  72975.87 &  25031.63 & 14376.49  & 17623.63  & 15092.98 \\\\\n",
       "\t 16655.30  &  62748.25 &  21523.97 & 12306.24  & 15092.98  & 13005.66 \\\\\n",
       "\\end{tabular}\n"
      ],
      "text/markdown": [
       "\n",
       "| V2 | V3 | V4 | V5 | V6 | V7 |\n",
       "|---|---|---|---|---|---|\n",
       "| 21383.84  |  80471.09 |  27603.35 | 15752.77  | 19354.57  | 16655.30  |\n",
       "| 80471.09  | 303376.09 | 104064.45 | 59512.84  | 72975.87  | 62748.25  |\n",
       "| 27603.35  | 104064.45 |  35716.09 | 20393.33  | 25031.63  | 21523.97  |\n",
       "| 15752.77  |  59512.84 |  20393.33 | 11885.51  | 14376.49  | 12306.24  |\n",
       "| 19354.57  |  72975.87 |  25031.63 | 14376.49  | 17623.63  | 15092.98  |\n",
       "| 16655.30  |  62748.25 |  21523.97 | 12306.24  | 15092.98  | 13005.66  |\n",
       "\n"
      ],
      "text/plain": [
       "     V2       V3        V4        V5       V6       V7      \n",
       "[1,] 21383.84  80471.09  27603.35 15752.77 19354.57 16655.30\n",
       "[2,] 80471.09 303376.09 104064.45 59512.84 72975.87 62748.25\n",
       "[3,] 27603.35 104064.45  35716.09 20393.33 25031.63 21523.97\n",
       "[4,] 15752.77  59512.84  20393.33 11885.51 14376.49 12306.24\n",
       "[5,] 19354.57  72975.87  25031.63 14376.49 17623.63 15092.98\n",
       "[6,] 16655.30  62748.25  21523.97 12306.24 15092.98 13005.66"
      ]
     },
     "metadata": {},
     "output_type": "display_data"
    }
   ],
   "source": [
    "A <- matrix(data = 0, nrow = 6, ncol = 6)     \n",
    "\n",
    "for (i in 1:90) {\n",
    "  A<- A+ DepVar[i,]%*%t(DepVar[i,])\n",
    "}\n",
    "A"
   ]
  },
  {
   "cell_type": "markdown",
   "id": "f821fad0",
   "metadata": {},
   "source": [
    "Побудуємо тепер другий доданок. Спочатку ми будуємо  матрицю  що складається з нулів і заповнюємо її сумами по групам елеметнами $\\bar{y}_{i\\cdot}$, $i=1,2,3$. "
   ]
  },
  {
   "cell_type": "code",
   "execution_count": 15,
   "id": "dc4c4cf8",
   "metadata": {},
   "outputs": [
    {
     "data": {
      "text/html": [
       "<table>\n",
       "<tbody>\n",
       "\t<tr><td>456.0  </td><td>1768.11</td><td>603.25 </td><td>392.5  </td><td>442.0  </td><td>368.0  </td></tr>\n",
       "\t<tr><td>462.6  </td><td>1721.39</td><td>594.10 </td><td>302.4  </td><td>403.6  </td><td>358.3  </td></tr>\n",
       "\t<tr><td>467.4  </td><td>1733.10</td><td>594.30 </td><td>328.4  </td><td>410.9  </td><td>354.1  </td></tr>\n",
       "</tbody>\n",
       "</table>\n"
      ],
      "text/latex": [
       "\\begin{tabular}{llllll}\n",
       "\t 456.0   & 1768.11 & 603.25  & 392.5   & 442.0   & 368.0  \\\\\n",
       "\t 462.6   & 1721.39 & 594.10  & 302.4   & 403.6   & 358.3  \\\\\n",
       "\t 467.4   & 1733.10 & 594.30  & 328.4   & 410.9   & 354.1  \\\\\n",
       "\\end{tabular}\n"
      ],
      "text/markdown": [
       "\n",
       "| 456.0   | 1768.11 | 603.25  | 392.5   | 442.0   | 368.0   |\n",
       "| 462.6   | 1721.39 | 594.10  | 302.4   | 403.6   | 358.3   |\n",
       "| 467.4   | 1733.10 | 594.30  | 328.4   | 410.9   | 354.1   |\n",
       "\n"
      ],
      "text/plain": [
       "     [,1]  [,2]    [,3]   [,4]  [,5]  [,6] \n",
       "[1,] 456.0 1768.11 603.25 392.5 442.0 368.0\n",
       "[2,] 462.6 1721.39 594.10 302.4 403.6 358.3\n",
       "[3,] 467.4 1733.10 594.30 328.4 410.9 354.1"
      ]
     },
     "metadata": {},
     "output_type": "display_data"
    }
   ],
   "source": [
    "g = matrix(data = 0, nrow = 3, ncol = 6)\n",
    "g[1,] = colSums(DepVar[1 : 30,])\n",
    "g[2,] = colSums(DepVar[31:60,])\n",
    "g[3,] = colSums(DepVar[61:90,])\n",
    "g"
   ]
  },
  {
   "cell_type": "markdown",
   "id": "db70ec6a",
   "metadata": {},
   "source": [
    "Потім ми будуємо скалярний добуток цих матриць та просумуємо: "
   ]
  },
  {
   "cell_type": "code",
   "execution_count": 16,
   "id": "a3b9d7bc",
   "metadata": {},
   "outputs": [
    {
     "data": {
      "text/html": [
       "<table>\n",
       "<tbody>\n",
       "\t<tr><td> 640397.5</td><td>2412624  </td><td> 827688.5</td><td> 472364.4</td><td> 580312.0</td><td> 499063.9</td></tr>\n",
       "\t<tr><td>2412624.1</td><td>9093032  </td><td>3119271.5</td><td>1783681.6</td><td>2188388.4</td><td>1881129.2</td></tr>\n",
       "\t<tr><td> 827688.5</td><td>3119271  </td><td>1070057.9</td><td> 611599.6</td><td> 750613.1</td><td> 645303.7</td></tr>\n",
       "\t<tr><td> 472364.4</td><td>1783682  </td><td> 611599.6</td><td> 353348.6</td><td> 430473.2</td><td> 369076.4</td></tr>\n",
       "\t<tr><td> 580312.0</td><td>2188388  </td><td> 750613.1</td><td> 430473.2</td><td> 527095.8</td><td> 452765.6</td></tr>\n",
       "\t<tr><td> 499063.9</td><td>1881129  </td><td> 645303.7</td><td> 369076.4</td><td> 452765.6</td><td> 389189.7</td></tr>\n",
       "</tbody>\n",
       "</table>\n"
      ],
      "text/latex": [
       "\\begin{tabular}{llllll}\n",
       "\t  640397.5 & 2412624   &  827688.5 &  472364.4 &  580312.0 &  499063.9\\\\\n",
       "\t 2412624.1 & 9093032   & 3119271.5 & 1783681.6 & 2188388.4 & 1881129.2\\\\\n",
       "\t  827688.5 & 3119271   & 1070057.9 &  611599.6 &  750613.1 &  645303.7\\\\\n",
       "\t  472364.4 & 1783682   &  611599.6 &  353348.6 &  430473.2 &  369076.4\\\\\n",
       "\t  580312.0 & 2188388   &  750613.1 &  430473.2 &  527095.8 &  452765.6\\\\\n",
       "\t  499063.9 & 1881129   &  645303.7 &  369076.4 &  452765.6 &  389189.7\\\\\n",
       "\\end{tabular}\n"
      ],
      "text/markdown": [
       "\n",
       "|  640397.5 | 2412624   |  827688.5 |  472364.4 |  580312.0 |  499063.9 |\n",
       "| 2412624.1 | 9093032   | 3119271.5 | 1783681.6 | 2188388.4 | 1881129.2 |\n",
       "|  827688.5 | 3119271   | 1070057.9 |  611599.6 |  750613.1 |  645303.7 |\n",
       "|  472364.4 | 1783682   |  611599.6 |  353348.6 |  430473.2 |  369076.4 |\n",
       "|  580312.0 | 2188388   |  750613.1 |  430473.2 |  527095.8 |  452765.6 |\n",
       "|  499063.9 | 1881129   |  645303.7 |  369076.4 |  452765.6 |  389189.7 |\n",
       "\n"
      ],
      "text/plain": [
       "     [,1]      [,2]    [,3]      [,4]      [,5]      [,6]     \n",
       "[1,]  640397.5 2412624  827688.5  472364.4  580312.0  499063.9\n",
       "[2,] 2412624.1 9093032 3119271.5 1783681.6 2188388.4 1881129.2\n",
       "[3,]  827688.5 3119271 1070057.9  611599.6  750613.1  645303.7\n",
       "[4,]  472364.4 1783682  611599.6  353348.6  430473.2  369076.4\n",
       "[5,]  580312.0 2188388  750613.1  430473.2  527095.8  452765.6\n",
       "[6,]  499063.9 1881129  645303.7  369076.4  452765.6  389189.7"
      ]
     },
     "metadata": {},
     "output_type": "display_data"
    }
   ],
   "source": [
    "B = matrix(data = 0, nrow = 6, ncol = 6)\n",
    "\n",
    "for (i in 1:3){\n",
    "B <- B+ g[i,]%*% t(g[i,])\n",
    "} \n",
    "B"
   ]
  },
  {
   "cell_type": "markdown",
   "id": "edade837",
   "metadata": {},
   "source": [
    "Якщо розділити матрицю на кількість елементів у групі (тобто 30), ми отримаємо другий доданок в $E$.  Отже,  "
   ]
  },
  {
   "cell_type": "code",
   "execution_count": 17,
   "id": "727cc3f8",
   "metadata": {},
   "outputs": [
    {
     "data": {
      "text/html": [
       "<table>\n",
       "<thead><tr><th scope=col>V2</th><th scope=col>V3</th><th scope=col>V4</th><th scope=col>V5</th><th scope=col>V6</th><th scope=col>V7</th></tr></thead>\n",
       "<tbody>\n",
       "\t<tr><td>37.2560   </td><td> 50.28120 </td><td>13.739000 </td><td>  7.290000</td><td>10.8360000</td><td>19.8360000</td></tr>\n",
       "\t<tr><td>50.2812   </td><td>275.01513 </td><td>88.737783 </td><td> 56.785300</td><td>29.5855333</td><td>43.9434333</td></tr>\n",
       "\t<tr><td>13.7390   </td><td> 88.73778 </td><td>47.497083 </td><td>  6.682167</td><td>11.1873333</td><td>13.8430000</td></tr>\n",
       "\t<tr><td> 7.2900   </td><td> 56.78530 </td><td> 6.682167 </td><td>107.224333</td><td>27.3833333</td><td> 3.6946667</td></tr>\n",
       "\t<tr><td>10.8360   </td><td> 29.58553 </td><td>11.187333 </td><td> 27.383333</td><td>53.7710000</td><td> 0.7943333</td></tr>\n",
       "\t<tr><td>19.8360   </td><td> 43.94343 </td><td>13.843000 </td><td>  3.694667</td><td> 0.7943333</td><td>32.6700000</td></tr>\n",
       "</tbody>\n",
       "</table>\n"
      ],
      "text/latex": [
       "\\begin{tabular}{llllll}\n",
       " V2 & V3 & V4 & V5 & V6 & V7\\\\\n",
       "\\hline\n",
       "\t 37.2560    &  50.28120  & 13.739000  &   7.290000 & 10.8360000 & 19.8360000\\\\\n",
       "\t 50.2812    & 275.01513  & 88.737783  &  56.785300 & 29.5855333 & 43.9434333\\\\\n",
       "\t 13.7390    &  88.73778  & 47.497083  &   6.682167 & 11.1873333 & 13.8430000\\\\\n",
       "\t  7.2900    &  56.78530  &  6.682167  & 107.224333 & 27.3833333 &  3.6946667\\\\\n",
       "\t 10.8360    &  29.58553  & 11.187333  &  27.383333 & 53.7710000 &  0.7943333\\\\\n",
       "\t 19.8360    &  43.94343  & 13.843000  &   3.694667 &  0.7943333 & 32.6700000\\\\\n",
       "\\end{tabular}\n"
      ],
      "text/markdown": [
       "\n",
       "| V2 | V3 | V4 | V5 | V6 | V7 |\n",
       "|---|---|---|---|---|---|\n",
       "| 37.2560    |  50.28120  | 13.739000  |   7.290000 | 10.8360000 | 19.8360000 |\n",
       "| 50.2812    | 275.01513  | 88.737783  |  56.785300 | 29.5855333 | 43.9434333 |\n",
       "| 13.7390    |  88.73778  | 47.497083  |   6.682167 | 11.1873333 | 13.8430000 |\n",
       "|  7.2900    |  56.78530  |  6.682167  | 107.224333 | 27.3833333 |  3.6946667 |\n",
       "| 10.8360    |  29.58553  | 11.187333  |  27.383333 | 53.7710000 |  0.7943333 |\n",
       "| 19.8360    |  43.94343  | 13.843000  |   3.694667 |  0.7943333 | 32.6700000 |\n",
       "\n"
      ],
      "text/plain": [
       "     V2      V3        V4        V5         V6         V7        \n",
       "[1,] 37.2560  50.28120 13.739000   7.290000 10.8360000 19.8360000\n",
       "[2,] 50.2812 275.01513 88.737783  56.785300 29.5855333 43.9434333\n",
       "[3,] 13.7390  88.73778 47.497083   6.682167 11.1873333 13.8430000\n",
       "[4,]  7.2900  56.78530  6.682167 107.224333 27.3833333  3.6946667\n",
       "[5,] 10.8360  29.58553 11.187333  27.383333 53.7710000  0.7943333\n",
       "[6,] 19.8360  43.94343 13.843000   3.694667  0.7943333 32.6700000"
      ]
     },
     "metadata": {},
     "output_type": "display_data"
    }
   ],
   "source": [
    "E = A- B/30\n",
    "E"
   ]
  },
  {
   "cell_type": "markdown",
   "id": "73266e99",
   "metadata": {},
   "source": [
    "Тепер неважко отримати матрицю $H$.  Перший доданок в $H$ ми вже знайшли. \n",
    "Щоб знайти другий, нам залишилось знайти $y_{\\cdot\\cdot}$, взяти скалярний добуток,  просумувати  і розділити на $kn=90$. "
   ]
  },
  {
   "cell_type": "code",
   "execution_count": 18,
   "id": "11c2fe3e",
   "metadata": {},
   "outputs": [
    {
     "data": {
      "text/html": [
       "<table>\n",
       "<tbody>\n",
       "\t<tr><td>  2.1840 </td><td>-7.236200</td><td>-1.794000</td><td>-13.34000</td><td>-6.366000</td><td>-2.696000</td></tr>\n",
       "\t<tr><td> -7.2362 </td><td>39.395362</td><td> 8.257439</td><td> 75.08970</td><td>32.981578</td><td> 9.896011</td></tr>\n",
       "\t<tr><td> -1.7940 </td><td> 8.257439</td><td> 1.820722</td><td> 15.59233</td><td> 7.012944</td><td> 2.359111</td></tr>\n",
       "\t<tr><td>-13.3400 </td><td>75.089700</td><td>15.592333</td><td>143.36467</td><td>62.701667</td><td>18.397333</td></tr>\n",
       "\t<tr><td> -6.3660 </td><td>32.981578</td><td> 7.012944</td><td> 62.70167</td><td>27.722889</td><td> 8.601222</td></tr>\n",
       "\t<tr><td> -2.6960 </td><td> 9.896011</td><td> 2.359111</td><td> 18.39733</td><td> 8.601222</td><td> 3.388222</td></tr>\n",
       "</tbody>\n",
       "</table>\n"
      ],
      "text/latex": [
       "\\begin{tabular}{llllll}\n",
       "\t   2.1840  & -7.236200 & -1.794000 & -13.34000 & -6.366000 & -2.696000\\\\\n",
       "\t  -7.2362  & 39.395362 &  8.257439 &  75.08970 & 32.981578 &  9.896011\\\\\n",
       "\t  -1.7940  &  8.257439 &  1.820722 &  15.59233 &  7.012944 &  2.359111\\\\\n",
       "\t -13.3400  & 75.089700 & 15.592333 & 143.36467 & 62.701667 & 18.397333\\\\\n",
       "\t  -6.3660  & 32.981578 &  7.012944 &  62.70167 & 27.722889 &  8.601222\\\\\n",
       "\t  -2.6960  &  9.896011 &  2.359111 &  18.39733 &  8.601222 &  3.388222\\\\\n",
       "\\end{tabular}\n"
      ],
      "text/markdown": [
       "\n",
       "|   2.1840  | -7.236200 | -1.794000 | -13.34000 | -6.366000 | -2.696000 |\n",
       "|  -7.2362  | 39.395362 |  8.257439 |  75.08970 | 32.981578 |  9.896011 |\n",
       "|  -1.7940  |  8.257439 |  1.820722 |  15.59233 |  7.012944 |  2.359111 |\n",
       "| -13.3400  | 75.089700 | 15.592333 | 143.36467 | 62.701667 | 18.397333 |\n",
       "|  -6.3660  | 32.981578 |  7.012944 |  62.70167 | 27.722889 |  8.601222 |\n",
       "|  -2.6960  |  9.896011 |  2.359111 |  18.39733 |  8.601222 |  3.388222 |\n",
       "\n"
      ],
      "text/plain": [
       "     [,1]     [,2]      [,3]      [,4]      [,5]      [,6]     \n",
       "[1,]   2.1840 -7.236200 -1.794000 -13.34000 -6.366000 -2.696000\n",
       "[2,]  -7.2362 39.395362  8.257439  75.08970 32.981578  9.896011\n",
       "[3,]  -1.7940  8.257439  1.820722  15.59233  7.012944  2.359111\n",
       "[4,] -13.3400 75.089700 15.592333 143.36467 62.701667 18.397333\n",
       "[5,]  -6.3660 32.981578  7.012944  62.70167 27.722889  8.601222\n",
       "[6,]  -2.6960  9.896011  2.359111  18.39733  8.601222  3.388222"
      ]
     },
     "metadata": {},
     "output_type": "display_data"
    }
   ],
   "source": [
    "D <- colSums(g) %*% t(colSums(g))\n",
    "H = B/30 - D/90\n",
    "H"
   ]
  },
  {
   "cell_type": "markdown",
   "id": "84a9482a",
   "metadata": {},
   "source": [
    "Отримаємо власні числа та власні вектори матриці $E^{-1}H$: "
   ]
  },
  {
   "cell_type": "code",
   "execution_count": 20,
   "id": "42511d4e",
   "metadata": {},
   "outputs": [
    {
     "data": {
      "text/plain": [
       "eigen() decomposition\n",
       "$values\n",
       "[1]  1.917763e+00  1.159315e-01 -6.016607e-13  4.961369e-13 -4.701334e-14\n",
       "[6]  1.610750e-14\n",
       "\n",
       "$vectors\n",
       "             [,1]          [,2]        [,3]        [,4]        [,5]        [,6]\n",
       "[1,] -0.630931115 -0.6450303875 -0.32620933  0.12374657  0.44434437 -0.55135467\n",
       "[2,]  0.002421392  0.0002350502  0.69125103 -0.27136788 -0.08458338  0.03270498\n",
       "[3,]  0.004283894  0.0131216785 -0.44072729  0.94235801  0.14296416  0.18510138\n",
       "[4,]  0.430733105 -0.2477230487 -0.31286614  0.08041750  0.21058236  0.26204102\n",
       "[5,]  0.335522189  0.1760307761  0.03050719 -0.03022323 -0.52020983 -0.74309833\n",
       "[6,]  0.551176528  0.7010064354 -0.35028993 -0.12500887  0.67823431 -0.19953765\n"
      ]
     },
     "metadata": {},
     "output_type": "display_data"
    }
   ],
   "source": [
    "eigen(solve(E)%*%H)"
   ]
  },
  {
   "cell_type": "markdown",
   "id": "1d269a9e",
   "metadata": {},
   "source": [
    "Перевіримо, яку частку складають 2 перші власні числа."
   ]
  },
  {
   "cell_type": "code",
   "execution_count": 21,
   "id": "82d806a5",
   "metadata": {},
   "outputs": [
    {
     "data": {
      "text/html": [
       "0.943"
      ],
      "text/latex": [
       "0.943"
      ],
      "text/markdown": [
       "0.943"
      ],
      "text/plain": [
       "[1] 0.943"
      ]
     },
     "metadata": {},
     "output_type": "display_data"
    },
    {
     "data": {
      "text/html": [
       "0.057"
      ],
      "text/latex": [
       "0.057"
      ],
      "text/markdown": [
       "0.057"
      ],
      "text/plain": [
       "[1] 0.057"
      ]
     },
     "metadata": {},
     "output_type": "display_data"
    }
   ],
   "source": [
    "lam1 = eigen(solve(E)%*%H)$values[1]\n",
    "lam2 = eigen(solve(E)%*%H)$values[2]\n",
    "sum_lam = sum(eigen(solve(E)%*%H)$values)\n",
    "round(lam1/sum_lam,4)\n",
    "round(lam2/sum_lam,4)"
   ]
  },
  {
   "cell_type": "markdown",
   "id": "5cc9796b",
   "metadata": {},
   "source": [
    "Отже, навіть однієї дискримінантної функції досить, щоб адекватно розділити вибірку на групи. \n",
    "Знайдемо власні вектори $E^{-1}H$. "
   ]
  },
  {
   "cell_type": "code",
   "execution_count": 22,
   "id": "6154b58b",
   "metadata": {},
   "outputs": [],
   "source": [
    "a1 = round(eigen(solve(E)%*%H)$vectors[,1],3)\n",
    "a2 = round(eigen(solve(E)%*%H)$vectors[,2],3)"
   ]
  },
  {
   "cell_type": "markdown",
   "id": "4b0aa685",
   "metadata": {},
   "source": [
    "Звпишемо тепер нашу вибірку в нових координатах. "
   ]
  },
  {
   "cell_type": "code",
   "execution_count": 23,
   "id": "f74b8e7d",
   "metadata": {},
   "outputs": [],
   "source": [
    "y11<-  DepVar[1:30,]%*%a1\n",
    "y12<- DepVar[1:30,]%*%a2\n",
    "\n",
    "\n",
    "y21<-  DepVar[31:60,]%*%a1\n",
    "y22<- DepVar[31:60,]%*%a2\n",
    "\n",
    "y31<-  DepVar[61:90,]%*%a1\n",
    "y32<- DepVar[61:90,]%*%a2"
   ]
  },
  {
   "cell_type": "code",
   "execution_count": 24,
   "id": "14b4642f",
   "metadata": {},
   "outputs": [
    {
     "data": {
      "image/png": "[encoded data removed]",
      "text/plain": [
       "plot without title"
      ]
     },
     "metadata": {},
     "output_type": "display_data"
    }
   ],
   "source": [
    "# dev.new(width=4, height=2, unit=\"in\")\n",
    "# windows(width=10, height=8)\n",
    "plot(y11,y12, col = \"red\", xlim= c(4,12), ylim=c(-3,1), xlab=\"z1\", ylab=\"z2\")\n",
    "points(y21,y22, col= \"blue\")\n",
    "points(y31,y32,col=\"green\")\n",
    "legend(\"topleft\", legend=c(\"Group 1\", \"Group 2\",\"Group 3\" ),\n",
    "       col=c(\"red\", \"blue\", \"green\"),lty=1, text.width = 2, cex = 0.65)"
   ]
  },
  {
   "cell_type": "markdown",
   "id": "6335c951",
   "metadata": {},
   "source": [
    "Застосуємо тепер вбудовані функції. Спочатку ми проведемо групування по першому стовбчику. Потім застосуємо функцію lda (linear discriminant analysis)"
   ]
  },
  {
   "cell_type": "code",
   "execution_count": 25,
   "id": "8718be31",
   "metadata": {},
   "outputs": [
    {
     "data": {
      "text/plain": [
       "Call:\n",
       "lda(Foot$Group ~ ., data = Foot)\n",
       "\n",
       "Prior probabilities of groups:\n",
       "        1         2         3 \n",
       "0.3333333 0.3333333 0.3333333 \n",
       "\n",
       "Group means:\n",
       "     V2       V3       V4       V5       V6       V7\n",
       "1 15.20 58.93700 20.10833 13.08333 14.73333 12.26667\n",
       "2 15.42 57.37967 19.80333 10.08000 13.45333 11.94333\n",
       "3 15.58 57.77000 19.81000 10.94667 13.69667 11.80333\n",
       "\n",
       "Coefficients of linear discriminants:\n",
       "            LD1           LD2\n",
       "V2  0.948423100  1.4067750094\n",
       "V3 -0.003639865 -0.0005126312\n",
       "V4 -0.006439599 -0.0286176430\n",
       "V5 -0.647483088  0.5402700415\n",
       "V6 -0.504360916 -0.3839132257\n",
       "V7 -0.828535064 -1.5288556226\n",
       "\n",
       "Proportion of trace:\n",
       "  LD1   LD2 \n",
       "0.943 0.057 "
      ]
     },
     "metadata": {},
     "output_type": "display_data"
    }
   ],
   "source": [
    "Foot$Group <- as.factor(Foot$Group)\n",
    "lda1<-lda(Foot$Group~., data=Foot) \n",
    "lda1"
   ]
  },
  {
   "cell_type": "markdown",
   "id": "da9f04a3",
   "metadata": {},
   "source": [
    "Подивитися  атрібути цієї  функції можна наступним чином: "
   ]
  },
  {
   "cell_type": "code",
   "execution_count": 26,
   "id": "c2dfca42",
   "metadata": {},
   "outputs": [
    {
     "data": {
      "text/html": [
       "<dl>\n",
       "\t<dt>$names</dt>\n",
       "\t\t<dd><ol class=list-inline>\n",
       "\t<li>'prior'</li>\n",
       "\t<li>'counts'</li>\n",
       "\t<li>'means'</li>\n",
       "\t<li>'scaling'</li>\n",
       "\t<li>'lev'</li>\n",
       "\t<li>'svd'</li>\n",
       "\t<li>'N'</li>\n",
       "\t<li>'call'</li>\n",
       "\t<li>'terms'</li>\n",
       "\t<li>'xlevels'</li>\n",
       "</ol>\n",
       "</dd>\n",
       "\t<dt>$class</dt>\n",
       "\t\t<dd>'lda'</dd>\n",
       "</dl>\n"
      ],
      "text/latex": [
       "\\begin{description}\n",
       "\\item[\\$names] \\begin{enumerate*}\n",
       "\\item 'prior'\n",
       "\\item 'counts'\n",
       "\\item 'means'\n",
       "\\item 'scaling'\n",
       "\\item 'lev'\n",
       "\\item 'svd'\n",
       "\\item 'N'\n",
       "\\item 'call'\n",
       "\\item 'terms'\n",
       "\\item 'xlevels'\n",
       "\\end{enumerate*}\n",
       "\n",
       "\\item[\\$class] 'lda'\n",
       "\\end{description}\n"
      ],
      "text/markdown": [
       "$names\n",
       ":   1. 'prior'\n",
       "2. 'counts'\n",
       "3. 'means'\n",
       "4. 'scaling'\n",
       "5. 'lev'\n",
       "6. 'svd'\n",
       "7. 'N'\n",
       "8. 'call'\n",
       "9. 'terms'\n",
       "10. 'xlevels'\n",
       "\n",
       "\n",
       "\n",
       "$class\n",
       ":   'lda'\n",
       "\n",
       "\n"
      ],
      "text/plain": [
       "$names\n",
       " [1] \"prior\"   \"counts\"  \"means\"   \"scaling\" \"lev\"     \"svd\"     \"N\"      \n",
       " [8] \"call\"    \"terms\"   \"xlevels\"\n",
       "\n",
       "$class\n",
       "[1] \"lda\"\n"
      ]
     },
     "metadata": {},
     "output_type": "display_data"
    }
   ],
   "source": [
    "attributes(lda1)"
   ]
  },
  {
   "cell_type": "markdown",
   "id": "40a155cd",
   "metadata": {},
   "source": [
    "Викликати власні вектори можна наступним чином: "
   ]
  },
  {
   "cell_type": "code",
   "execution_count": 27,
   "id": "fba7c470",
   "metadata": {},
   "outputs": [
    {
     "data": {
      "text/html": [
       "<table>\n",
       "<thead><tr><th></th><th scope=col>LD1</th><th scope=col>LD2</th></tr></thead>\n",
       "<tbody>\n",
       "\t<tr><th scope=row>V2</th><td> 0.948423100 </td><td> 1.4067750094</td></tr>\n",
       "\t<tr><th scope=row>V3</th><td>-0.003639865 </td><td>-0.0005126312</td></tr>\n",
       "\t<tr><th scope=row>V4</th><td>-0.006439599 </td><td>-0.0286176430</td></tr>\n",
       "\t<tr><th scope=row>V5</th><td>-0.647483088 </td><td> 0.5402700415</td></tr>\n",
       "\t<tr><th scope=row>V6</th><td>-0.504360916 </td><td>-0.3839132257</td></tr>\n",
       "\t<tr><th scope=row>V7</th><td>-0.828535064 </td><td>-1.5288556226</td></tr>\n",
       "</tbody>\n",
       "</table>\n"
      ],
      "text/latex": [
       "\\begin{tabular}{r|ll}\n",
       "  & LD1 & LD2\\\\\n",
       "\\hline\n",
       "\tV2 &  0.948423100  &  1.4067750094\\\\\n",
       "\tV3 & -0.003639865  & -0.0005126312\\\\\n",
       "\tV4 & -0.006439599  & -0.0286176430\\\\\n",
       "\tV5 & -0.647483088  &  0.5402700415\\\\\n",
       "\tV6 & -0.504360916  & -0.3839132257\\\\\n",
       "\tV7 & -0.828535064  & -1.5288556226\\\\\n",
       "\\end{tabular}\n"
      ],
      "text/markdown": [
       "\n",
       "| <!--/--> | LD1 | LD2 |\n",
       "|---|---|---|\n",
       "| V2 |  0.948423100  |  1.4067750094 |\n",
       "| V3 | -0.003639865  | -0.0005126312 |\n",
       "| V4 | -0.006439599  | -0.0286176430 |\n",
       "| V5 | -0.647483088  |  0.5402700415 |\n",
       "| V6 | -0.504360916  | -0.3839132257 |\n",
       "| V7 | -0.828535064  | -1.5288556226 |\n",
       "\n"
      ],
      "text/plain": [
       "   LD1          LD2          \n",
       "V2  0.948423100  1.4067750094\n",
       "V3 -0.003639865 -0.0005126312\n",
       "V4 -0.006439599 -0.0286176430\n",
       "V5 -0.647483088  0.5402700415\n",
       "V6 -0.504360916 -0.3839132257\n",
       "V7 -0.828535064 -1.5288556226"
      ]
     },
     "metadata": {},
     "output_type": "display_data"
    }
   ],
   "source": [
    "lda1$scaling  \n",
    "# lda1$scaling[,1] "
   ]
  },
  {
   "cell_type": "markdown",
   "id": "ca9e05f5",
   "metadata": {},
   "source": [
    "Це-ненормовані власні вкктори. Нoрмування дасть нам як раз вектори $a1$ і $a2$, знайдені віще:"
   ]
  },
  {
   "cell_type": "code",
   "execution_count": 28,
   "id": "9f355778",
   "metadata": {},
   "outputs": [
    {
     "data": {
      "text/html": [
       "<ol class=list-inline>\n",
       "\t<li>0.630931115160399</li>\n",
       "\t<li>-0.00242139192377011</li>\n",
       "\t<li>-0.00428389358001968</li>\n",
       "\t<li>-0.430733105378933</li>\n",
       "\t<li>-0.335522189324088</li>\n",
       "\t<li>-0.551176528383778</li>\n",
       "</ol>\n"
      ],
      "text/latex": [
       "\\begin{enumerate*}\n",
       "\\item 0.630931115160399\n",
       "\\item -0.00242139192377011\n",
       "\\item -0.00428389358001968\n",
       "\\item -0.430733105378933\n",
       "\\item -0.335522189324088\n",
       "\\item -0.551176528383778\n",
       "\\end{enumerate*}\n"
      ],
      "text/markdown": [
       "1. 0.630931115160399\n",
       "2. -0.00242139192377011\n",
       "3. -0.00428389358001968\n",
       "4. -0.430733105378933\n",
       "5. -0.335522189324088\n",
       "6. -0.551176528383778\n",
       "\n",
       "\n"
      ],
      "text/plain": [
       "[1]  0.630931115 -0.002421392 -0.004283894 -0.430733105 -0.335522189\n",
       "[6] -0.551176528"
      ]
     },
     "metadata": {},
     "output_type": "display_data"
    }
   ],
   "source": [
    "b1<- as.vector(lda1$scaling[,1])\n",
    "b2<- as.vector(lda1$scaling[,2])\n",
    "b1/(sqrt(sum(b1^2)))  "
   ]
  },
  {
   "cell_type": "markdown",
   "id": "34b8c4f9",
   "metadata": {},
   "source": [
    "Як ми бачимо, отримали як раз вектор $a1$. "
   ]
  },
  {
   "cell_type": "markdown",
   "id": "daa3ef50",
   "metadata": {},
   "source": [
    "В координатах $b1$ і $b2$ картинка розділення на групи схожа: "
   ]
  },
  {
   "cell_type": "code",
   "execution_count": 29,
   "id": "0836ea7d",
   "metadata": {},
   "outputs": [],
   "source": [
    "w11<-  DepVar[1:30,]%*%b1\n",
    "w12<- DepVar[1:30,]%*%b2\n",
    "\n",
    "\n",
    "w21<-  DepVar[31:60,]%*%b1\n",
    "w22<- DepVar[31:60,]%*%b2\n",
    "\n",
    "w31<-  DepVar[61:90,]%*%b1\n",
    "w32<- DepVar[61:90,]%*%b2"
   ]
  },
  {
   "cell_type": "code",
   "execution_count": 30,
   "id": "355c9e1d",
   "metadata": {},
   "outputs": [
    {
     "data": {
      "image/png": "[encoded data removed]",
      "text/plain": [
       "plot without title"
      ]
     },
     "metadata": {},
     "output_type": "display_data"
    }
   ],
   "source": [
    "windows(width=10, height=8)\n",
    "plot(w11,w12, col = \"red\",  xlab=\"z1\", ylab=\"z2\")\n",
    "points(w21,w22, col= \"blue\")\n",
    "points(w31,w32,col=\"green\")\n",
    "legend(\"topleft\", legend=c(\"Group 1\", \"Group 2\",\"Group 3\" ),\n",
    "       col=c(\"red\", \"blue\", \"green\"),lty=1, cex = 0.65, text.width = 1)"
   ]
  },
  {
   "cell_type": "markdown",
   "id": "3ef55566",
   "metadata": {},
   "source": [
    "Більше  почитати можна  тут:\n",
    "\n",
    "https://www.r-bloggers.com/2021/05/linear-discriminant-analysis-in-r/\n",
    "\n",
    "https://www.r-bloggers.com/2016/12/discriminant-analysis-of-several-groups/"
   ]
  },
  {
   "cell_type": "code",
   "execution_count": null,
   "id": "99ef5c73",
   "metadata": {},
   "outputs": [],
   "source": []
  }
 ],
 "metadata": {
  "kernelspec": {
   "display_name": "R",
   "language": "R",
   "name": "ir"
  },
  "language_info": {
   "codemirror_mode": "r",
   "file_extension": ".r",
   "mimetype": "text/x-r-source",
   "name": "R",
   "pygments_lexer": "r",
   "version": "3.6.1"
  }
 },
 "nbformat": 4,
 "nbformat_minor": 5
}
