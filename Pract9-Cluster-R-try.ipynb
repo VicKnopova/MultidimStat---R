{
 "cells": [
  {
   "cell_type": "markdown",
   "id": "9f30f669",
   "metadata": {},
   "source": [
    "## Практика 9: Кластерний  аналіз"
   ]
  },
  {
   "cell_type": "code",
   "execution_count": 56,
   "id": "28a936b7",
   "metadata": {},
   "outputs": [],
   "source": [
    "library(ggplot2)\n",
    "library(dplyr)\n",
    "library(mvtnorm)             \n",
    "library(mclust)\n",
    "#library(magrittr)\n",
    "#library(ellipse)\n",
    "#library(tidyr)"
   ]
  },
  {
   "cell_type": "code",
   "execution_count": 57,
   "id": "d97aa904",
   "metadata": {},
   "outputs": [],
   "source": [
    "options(repr.plot.width=4, repr.plot.height=4)"
   ]
  },
  {
   "cell_type": "markdown",
   "id": "0c522cdc",
   "metadata": {},
   "source": [
    "### Приклад 1. \n",
    "\n",
    "Завантажимо  таблицю, в якій вказані дані по злочинності у містах (див. Таблиця~15.13 Rencher)."
   ]
  },
  {
   "cell_type": "code",
   "execution_count": 45,
   "id": "ee249e4b",
   "metadata": {},
   "outputs": [
    {
     "data": {
      "text/html": [
       "<table>\n",
       "<thead><tr><th scope=col>V1</th><th scope=col>V2</th><th scope=col>V3</th><th scope=col>V4</th><th scope=col>V5</th><th scope=col>V6</th><th scope=col>V7</th><th scope=col>V8</th></tr></thead>\n",
       "<tbody>\n",
       "\t<tr><td>Atlanta</td><td>16.5   </td><td>24.8   </td><td>106    </td><td>147    </td><td>1112   </td><td> 905   </td><td>494    </td></tr>\n",
       "\t<tr><td>Boston </td><td> 4.2   </td><td>13.3   </td><td>122    </td><td> 90    </td><td> 982   </td><td> 669   </td><td>954    </td></tr>\n",
       "\t<tr><td>Chicago</td><td>11.6   </td><td>24.7   </td><td>340    </td><td>242    </td><td> 808   </td><td> 609   </td><td>645    </td></tr>\n",
       "\t<tr><td>Dallas </td><td>18.1   </td><td>34.2   </td><td>184    </td><td>293    </td><td>1668   </td><td> 901   </td><td>602    </td></tr>\n",
       "\t<tr><td>Denver </td><td> 6.9   </td><td>41.5   </td><td>173    </td><td>191    </td><td>1534   </td><td>1368   </td><td>780    </td></tr>\n",
       "\t<tr><td>Detroit</td><td>13.0   </td><td>35.7   </td><td>477    </td><td>220    </td><td>1566   </td><td>1183   </td><td>788    </td></tr>\n",
       "</tbody>\n",
       "</table>\n"
      ],
      "text/latex": [
       "\\begin{tabular}{r|llllllll}\n",
       " V1 & V2 & V3 & V4 & V5 & V6 & V7 & V8\\\\\n",
       "\\hline\n",
       "\t Atlanta & 16.5    & 24.8    & 106     & 147     & 1112    &  905    & 494    \\\\\n",
       "\t Boston  &  4.2    & 13.3    & 122     &  90     &  982    &  669    & 954    \\\\\n",
       "\t Chicago & 11.6    & 24.7    & 340     & 242     &  808    &  609    & 645    \\\\\n",
       "\t Dallas  & 18.1    & 34.2    & 184     & 293     & 1668    &  901    & 602    \\\\\n",
       "\t Denver  &  6.9    & 41.5    & 173     & 191     & 1534    & 1368    & 780    \\\\\n",
       "\t Detroit & 13.0    & 35.7    & 477     & 220     & 1566    & 1183    & 788    \\\\\n",
       "\\end{tabular}\n"
      ],
      "text/markdown": [
       "\n",
       "| V1 | V2 | V3 | V4 | V5 | V6 | V7 | V8 |\n",
       "|---|---|---|---|---|---|---|---|\n",
       "| Atlanta | 16.5    | 24.8    | 106     | 147     | 1112    |  905    | 494     |\n",
       "| Boston  |  4.2    | 13.3    | 122     |  90     |  982    |  669    | 954     |\n",
       "| Chicago | 11.6    | 24.7    | 340     | 242     |  808    |  609    | 645     |\n",
       "| Dallas  | 18.1    | 34.2    | 184     | 293     | 1668    |  901    | 602     |\n",
       "| Denver  |  6.9    | 41.5    | 173     | 191     | 1534    | 1368    | 780     |\n",
       "| Detroit | 13.0    | 35.7    | 477     | 220     | 1566    | 1183    | 788     |\n",
       "\n"
      ],
      "text/plain": [
       "  V1      V2   V3   V4  V5  V6   V7   V8 \n",
       "1 Atlanta 16.5 24.8 106 147 1112  905 494\n",
       "2 Boston   4.2 13.3 122  90  982  669 954\n",
       "3 Chicago 11.6 24.7 340 242  808  609 645\n",
       "4 Dallas  18.1 34.2 184 293 1668  901 602\n",
       "5 Denver   6.9 41.5 173 191 1534 1368 780\n",
       "6 Detroit 13.0 35.7 477 220 1566 1183 788"
      ]
     },
     "metadata": {},
     "output_type": "display_data"
    }
   ],
   "source": [
    "city<-read.table(\"T14_1_CITYCRIME.dat\")\n",
    "head(city)"
   ]
  },
  {
   "cell_type": "markdown",
   "id": "4480567e",
   "metadata": {},
   "source": [
    "Для виконання ієархічної кластерізації використаємо функцію hclust; за замовченням, використовується евклідова відстань. "
   ]
  },
  {
   "cell_type": "code",
   "execution_count": 46,
   "id": "f50dc26a",
   "metadata": {},
   "outputs": [
    {
     "data": {
      "text/plain": [
       "\n",
       "Call:\n",
       "hclust(d = dist(city[, 2:8]))\n",
       "\n",
       "Cluster method   : complete \n",
       "Distance         : euclidean \n",
       "Number of objects: 16 \n"
      ]
     },
     "metadata": {},
     "output_type": "display_data"
    }
   ],
   "source": [
    "hc<- hclust(dist(city[,2:8]))\n",
    "hc"
   ]
  },
  {
   "cell_type": "code",
   "execution_count": 49,
   "id": "51d0456e",
   "metadata": {},
   "outputs": [
    {
     "data": {
      "text/html": [
       "<dl>\n",
       "\t<dt>$names</dt>\n",
       "\t\t<dd><ol class=list-inline>\n",
       "\t<li>'merge'</li>\n",
       "\t<li>'height'</li>\n",
       "\t<li>'order'</li>\n",
       "\t<li>'labels'</li>\n",
       "\t<li>'method'</li>\n",
       "\t<li>'call'</li>\n",
       "\t<li>'dist.method'</li>\n",
       "</ol>\n",
       "</dd>\n",
       "\t<dt>$class</dt>\n",
       "\t\t<dd>'hclust'</dd>\n",
       "</dl>\n"
      ],
      "text/latex": [
       "\\begin{description}\n",
       "\\item[\\$names] \\begin{enumerate*}\n",
       "\\item 'merge'\n",
       "\\item 'height'\n",
       "\\item 'order'\n",
       "\\item 'labels'\n",
       "\\item 'method'\n",
       "\\item 'call'\n",
       "\\item 'dist.method'\n",
       "\\end{enumerate*}\n",
       "\n",
       "\\item[\\$class] 'hclust'\n",
       "\\end{description}\n"
      ],
      "text/markdown": [
       "$names\n",
       ":   1. 'merge'\n",
       "2. 'height'\n",
       "3. 'order'\n",
       "4. 'labels'\n",
       "5. 'method'\n",
       "6. 'call'\n",
       "7. 'dist.method'\n",
       "\n",
       "\n",
       "\n",
       "$class\n",
       ":   'hclust'\n",
       "\n",
       "\n"
      ],
      "text/plain": [
       "$names\n",
       "[1] \"merge\"       \"height\"      \"order\"       \"labels\"      \"method\"     \n",
       "[6] \"call\"        \"dist.method\"\n",
       "\n",
       "$class\n",
       "[1] \"hclust\"\n"
      ]
     },
     "metadata": {},
     "output_type": "display_data"
    }
   ],
   "source": [
    "attributes(hc)"
   ]
  },
  {
   "cell_type": "markdown",
   "id": "bd26c26b",
   "metadata": {},
   "source": [
    "Якщо потрібно змініти відстань, треба задати інший параметр в method, наприклад, method=\"manhattan\": \n",
    "$$\n",
    "d(x,y) := \\sum_{j=1}^n |x_i-y_j|. \n",
    "$$"
   ]
  },
  {
   "cell_type": "code",
   "execution_count": 52,
   "id": "4a8d6d7a",
   "metadata": {},
   "outputs": [
    {
     "data": {
      "text/plain": [
       "\n",
       "Call:\n",
       "hclust(d = dist(city[, 2:8], method = \"manhattan\"))\n",
       "\n",
       "Cluster method   : complete \n",
       "Distance         : manhattan \n",
       "Number of objects: 16 \n"
      ]
     },
     "metadata": {},
     "output_type": "display_data"
    }
   ],
   "source": [
    "hc1 <- hclust(dist(city[,2:8], method  =\"manhattan\"))\n",
    "hc1"
   ]
  },
  {
   "cell_type": "markdown",
   "id": "1e7102a6",
   "metadata": {},
   "source": [
    "У даному випадку всі ці методи дають однакові результати. \n",
    "Намалюємо дендрограму: "
   ]
  },
  {
   "cell_type": "code",
   "execution_count": 53,
   "id": "a7bfbc83",
   "metadata": {},
   "outputs": [
    {
     "data": {
      "image/png": "[encoded data removed]",
      "text/plain": [
       "Plot with title \"Manhattan distance\""
      ]
     },
     "metadata": {},
     "output_type": "display_data"
    }
   ],
   "source": [
    "hcd1 <- as.dendrogram(hc1)\n",
    "plot(hcd1, main = \"Manhattan distance\")"
   ]
  },
  {
   "cell_type": "markdown",
   "id": "bed0d099",
   "metadata": {},
   "source": [
    "Застосуємо тепер метод $к$ середніх: "
   ]
  },
  {
   "cell_type": "code",
   "execution_count": 54,
   "id": "a1bee2c4",
   "metadata": {},
   "outputs": [
    {
     "data": {
      "text/plain": [
       "K-means clustering with 4 clusters of sizes 6, 4, 3, 3\n",
       "\n",
       "Cluster means:\n",
       "         V2       V3        V4       V5        V6        V7       V8\n",
       "1 11.133333 27.88333 241.83333 182.3333 1525.6667 1004.8333 654.6667\n",
       "2  9.750000 37.10000 364.50000 258.2500 1669.0000 1332.2500 819.5000\n",
       "3  8.033333 18.83333  86.33333 132.6667 1111.6667  795.0000 481.3333\n",
       "4  8.700000 25.90000 242.66667 205.0000  948.6667  771.3333 791.6667\n",
       "\n",
       "Clustering vector:\n",
       " [1] 3 4 4 1 2 2 3 1 1 1 2 4 2 1 3 1\n",
       "\n",
       "Within cluster sum of squares by cluster:\n",
       "[1] 399379.27 214621.01  39170.38 233038.53\n",
       " (between_SS / total_SS =  72.7 %)\n",
       "\n",
       "Available components:\n",
       "\n",
       "[1] \"cluster\"      \"centers\"      \"totss\"        \"withinss\"     \"tot.withinss\"\n",
       "[6] \"betweenss\"    \"size\"         \"iter\"         \"ifault\"      "
      ]
     },
     "metadata": {},
     "output_type": "display_data"
    }
   ],
   "source": [
    "kmeans.city<-kmeans(city[,2:8], 4, iter.max = 10, nstart = 1) \n",
    "kmeans.city"
   ]
  },
  {
   "cell_type": "markdown",
   "id": "904d9cec",
   "metadata": {},
   "source": [
    "Розподіл по кластерам:"
   ]
  },
  {
   "cell_type": "code",
   "execution_count": 55,
   "id": "37a9ed3d",
   "metadata": {},
   "outputs": [
    {
     "data": {
      "text/html": [
       "<ol class=list-inline>\n",
       "\t<li>3</li>\n",
       "\t<li>4</li>\n",
       "\t<li>4</li>\n",
       "\t<li>1</li>\n",
       "\t<li>2</li>\n",
       "\t<li>2</li>\n",
       "\t<li>3</li>\n",
       "\t<li>1</li>\n",
       "\t<li>1</li>\n",
       "\t<li>1</li>\n",
       "\t<li>2</li>\n",
       "\t<li>4</li>\n",
       "\t<li>2</li>\n",
       "\t<li>1</li>\n",
       "\t<li>3</li>\n",
       "\t<li>1</li>\n",
       "</ol>\n"
      ],
      "text/latex": [
       "\\begin{enumerate*}\n",
       "\\item 3\n",
       "\\item 4\n",
       "\\item 4\n",
       "\\item 1\n",
       "\\item 2\n",
       "\\item 2\n",
       "\\item 3\n",
       "\\item 1\n",
       "\\item 1\n",
       "\\item 1\n",
       "\\item 2\n",
       "\\item 4\n",
       "\\item 2\n",
       "\\item 1\n",
       "\\item 3\n",
       "\\item 1\n",
       "\\end{enumerate*}\n"
      ],
      "text/markdown": [
       "1. 3\n",
       "2. 4\n",
       "3. 4\n",
       "4. 1\n",
       "5. 2\n",
       "6. 2\n",
       "7. 3\n",
       "8. 1\n",
       "9. 1\n",
       "10. 1\n",
       "11. 2\n",
       "12. 4\n",
       "13. 2\n",
       "14. 1\n",
       "15. 3\n",
       "16. 1\n",
       "\n",
       "\n"
      ],
      "text/plain": [
       " [1] 3 4 4 1 2 2 3 1 1 1 2 4 2 1 3 1"
      ]
     },
     "metadata": {},
     "output_type": "display_data"
    }
   ],
   "source": [
    "kmeans.city$cluster"
   ]
  },
  {
   "cell_type": "markdown",
   "id": "ef56af01",
   "metadata": {},
   "source": [
    "### Приклад 2. \n",
    "\n",
    "Розглянемо метод сумішей. Ми зробимо кластерізацію використовуючи пакет mclust. Ми згенеруємо гаусівську суміш і "
   ]
  },
  {
   "cell_type": "markdown",
   "id": "6f5f1656",
   "metadata": {},
   "source": [
    "Ще приклади для пакету mclust: https://cran.r-project.org/web/packages/mclust/vignettes/mclust.html та  https://cran.r-project.org/web/packages/mclust/index.html"
   ]
  },
  {
   "cell_type": "code",
   "execution_count": 3,
   "id": "08b977d8",
   "metadata": {},
   "outputs": [],
   "source": [
    "m_1 <- c(1,1)\n",
    "m_2 <- c(3,4)\n",
    "m_3 <- c(5,5)\n",
    "sig_1<- matrix(c(1, -.5, -.5, 1), nrow =2, byrow= FALSE)\n",
    "sig_2<- matrix(c(2, -.5, -.5, 2), nrow =2, byrow= FALSE)\n",
    "sig_3<- matrix(c(1, 0, 0, 1), nrow =2, byrow= FALSE)\n",
    "mv_1<-rmvnorm(30, m_1, sig_1)  \n",
    "mv_2<-rmvnorm(20, m_2, sig_2)  \n",
    "mv_3<-rmvnorm(50, m_3, sig_3)  "
   ]
  },
  {
   "cell_type": "code",
   "execution_count": 8,
   "id": "32df38f7",
   "metadata": {},
   "outputs": [
    {
     "data": {
      "image/png": "[encoded data removed]",
      "text/plain": [
       "plot without title"
      ]
     },
     "metadata": {},
     "output_type": "display_data"
    }
   ],
   "source": [
    "plot(mv_1, col = \"red\", xlim=c(-5,10), ylim=c(-2,10))  \n",
    "points(mv_2, col= \"blue\") \n",
    "points(mv_3, col= \"green\") "
   ]
  },
  {
   "cell_type": "code",
   "execution_count": 12,
   "id": "548a0aff",
   "metadata": {},
   "outputs": [],
   "source": [
    "X <- rbind(mv_1,mv_2,mv_3)"
   ]
  },
  {
   "cell_type": "code",
   "execution_count": 17,
   "id": "4728a2fe",
   "metadata": {},
   "outputs": [
    {
     "data": {
      "text/plain": [
       "'Mclust' model object: (EII,3) \n",
       "\n",
       "Available components: \n",
       " [1] \"call\"           \"data\"           \"modelName\"      \"n\"             \n",
       " [5] \"d\"              \"G\"              \"BIC\"            \"loglik\"        \n",
       " [9] \"df\"             \"bic\"            \"icl\"            \"hypvol\"        \n",
       "[13] \"parameters\"     \"z\"              \"classification\" \"uncertainty\"   "
      ]
     },
     "metadata": {},
     "output_type": "display_data"
    }
   ],
   "source": [
    "data_1 = Mclust(X, G = 3)\n",
    "data_1"
   ]
  },
  {
   "cell_type": "code",
   "execution_count": 34,
   "id": "bc910e7e",
   "metadata": {},
   "outputs": [
    {
     "data": {
      "text/plain": [
       "---------------------------------------------------- \n",
       "Gaussian finite mixture model fitted by EM algorithm \n",
       "---------------------------------------------------- \n",
       "\n",
       "Mclust EII (spherical, equal volume) model with 3 components: \n",
       "\n",
       " log-likelihood   n df      BIC       ICL\n",
       "      -381.5052 100  9 -804.457 -808.0755\n",
       "\n",
       "Clustering table:\n",
       " 1  2  3 \n",
       "33  3 64 "
      ]
     },
     "metadata": {},
     "output_type": "display_data"
    }
   ],
   "source": [
    "summary(data_1)"
   ]
  },
  {
   "cell_type": "markdown",
   "id": "25d66eb1",
   "metadata": {},
   "source": [
    "Тут\n",
    "$$\n",
    "BIC= - 2 \\ln L(X,\\theta) + k \\ln n, \n",
    "$$\n",
    "де $L(X,\\theta)$ - функція вирогідностей,  $n$ - кількість спостережень, $k$ - кількість незалежних параметрів.  \n",
    "(див. https://sites.stat.washington.edu/raftery/Research/PDF/fraley1998.pdf\n",
    "\n",
    "та \n",
    "\n",
    "https://www.ncbi.nlm.nih.gov/pmc/articles/PMC5096736/\n",
    "\n",
    "У нас кількість незалежних параметрів 9,  $ln L(X,\\theta)  =-381.5052$. Пакет mclust бере цю величину зі знаком +, тому"
   ]
  },
  {
   "cell_type": "code",
   "execution_count": 41,
   "id": "cc354c05",
   "metadata": {},
   "outputs": [
    {
     "data": {
      "text/html": [
       "804.456931673893"
      ],
      "text/latex": [
       "804.456931673893"
      ],
      "text/markdown": [
       "804.456931673893"
      ],
      "text/plain": [
       "[1] 804.4569"
      ]
     },
     "metadata": {},
     "output_type": "display_data"
    }
   ],
   "source": [
    "2*381.5052 +9 * log(100)"
   ]
  },
  {
   "cell_type": "code",
   "execution_count": 15,
   "id": "56b3a6e7",
   "metadata": {},
   "outputs": [
    {
     "data": {
      "text/plain": [
       "\n",
       " 1  2  3 \n",
       "33  3 64 "
      ]
     },
     "metadata": {},
     "output_type": "display_data"
    }
   ],
   "source": [
    "table(data_1$classification)"
   ]
  },
  {
   "cell_type": "code",
   "execution_count": 16,
   "id": "aff6fad7",
   "metadata": {},
   "outputs": [
    {
     "data": {
      "image/png": "[encoded data removed]",
      "text/plain": [
       "Plot with title \"\""
      ]
     },
     "metadata": {},
     "output_type": "display_data"
    }
   ],
   "source": [
    "plot(data_1, what = \"uncertainty\")\n"
   ]
  },
  {
   "cell_type": "code",
   "execution_count": 19,
   "id": "764d70e1",
   "metadata": {},
   "outputs": [
    {
     "data": {
      "image/png": "[encoded data removed]",
      "text/plain": [
       "Plot with title \"\""
      ]
     },
     "metadata": {},
     "output_type": "display_data"
    }
   ],
   "source": [
    "plot(data_1, what = \"classification\")"
   ]
  },
  {
   "cell_type": "markdown",
   "id": "16ce7d87",
   "metadata": {},
   "source": [
    "Визначимо кільксть спостережень. "
   ]
  },
  {
   "cell_type": "code",
   "execution_count": 30,
   "id": "acd17eba",
   "metadata": {},
   "outputs": [],
   "source": [
    "number_of_obs <- 300"
   ]
  },
  {
   "cell_type": "code",
   "execution_count": 66,
   "id": "467546be",
   "metadata": {},
   "outputs": [],
   "source": [
    "# Gaussian 1: Heads\n",
    "gauss_1 <- rnorm(n = number_of_obs, mean = 5, sd = 2)\n",
    "\n",
    "# Gaussian 2: Tails\n",
    "gauss_2 <- rnorm(n = number_of_obs, mean = 0, sd = 1)\n",
    "\n",
    "\n",
    "gauss_3 <- rnorm(n= number_of_obs,mean= 10, sd = 1)\n",
    "\n",
    "\n",
    "proportions <- sample(c(1, 2,3), number_of_obs,\n",
    "                       replace = TRUE, prob =c(1/3, 1/4, 5/12))\n",
    "\n",
    "mixture_simulation <- data.frame(x = ifelse(proportions == 0, gauss_1,\n",
    "                                            ifelse(proportions == 1, gauss_2, gauss_3)))\n"
   ]
  },
  {
   "cell_type": "code",
   "execution_count": 69,
   "id": "91fe897c",
   "metadata": {},
   "outputs": [
    {
     "name": "stderr",
     "output_type": "stream",
     "text": [
      "`stat_bin()` using `bins = 30`. Pick better value with `binwidth`.\n"
     ]
    },
    {
     "data": {
      "image/png": "[encoded data removed]",
      "text/plain": [
       "plot without title"
      ]
     },
     "metadata": {},
     "output_type": "display_data"
    }
   ],
   "source": [
    "ggplot(mixture_simulation) +  geom_histogram(aes(x=x, y =..density..))"
   ]
  },
  {
   "cell_type": "code",
   "execution_count": 72,
   "id": "4688c340",
   "metadata": {},
   "outputs": [
    {
     "name": "stdout",
     "output_type": "stream",
     "text": [
      "[1] 2 1 3 1 2 1\n"
     ]
    }
   ],
   "source": [
    "m_1 <- c(1,1)\n",
    "m_2 <- c(3,4)\n",
    "m_3 <- c(5,5)\n",
    "sig_1<- matrix(c(1, -.5, -.5, 1), nrow =2, byrow= FALSE)\n",
    "sig_2<- matrix(c(2, -.5, -.5, 2), nrow =2, byrow= FALSE)\n",
    "sig_3<- matrix(c(1, 0, 0, 1), nrow =2, byrow= FALSE)\n",
    "mv_1<-rmvnorm(100, m_1, sig_1)  \n",
    "mv_2<-rmvnorm(100, m_2, sig_2)  \n",
    "mv_3<-rmvnorm(100, m_3, sig_3)  \n",
    "mixture_mult <- data.frame( class = proportions, x = ifelse(proportions == 0, mv_1[1],\n",
    "                                            ifelse(proportions == 1, mv_2[1], mv_3[1])), \n",
    "                           y = ifelse(proportions == 0, mv_1[2],\n",
    "                                            ifelse(proportions == 1, mv_2[2], mv_3[2])))\n",
    "#print(mv_1)\n",
    "X = mixture_mult"
   ]
  },
  {
   "cell_type": "code",
   "execution_count": 50,
   "id": "4ec7ff32",
   "metadata": {},
   "outputs": [],
   "source": [
    "dat1 = Mclust(mixture_simulation, G = 2)"
   ]
  },
  {
   "cell_type": "code",
   "execution_count": 51,
   "id": "e73f76f6",
   "metadata": {},
   "outputs": [
    {
     "data": {
      "text/plain": [
       "---------------------------------------------------- \n",
       "Gaussian finite mixture model fitted by EM algorithm \n",
       "---------------------------------------------------- \n",
       "\n",
       "Mclust V (univariate, unequal variance) model with 2 components: \n",
       "\n",
       " log-likelihood   n df       BIC       ICL\n",
       "      -795.9084 300  5 -1620.336 -1640.765\n",
       "\n",
       "Clustering table:\n",
       "  1   2 \n",
       "179 121 "
      ]
     },
     "metadata": {},
     "output_type": "display_data"
    }
   ],
   "source": [
    "summary(dat1)"
   ]
  },
  {
   "cell_type": "code",
   "execution_count": 52,
   "id": "9bb42ac6",
   "metadata": {},
   "outputs": [
    {
     "data": {
      "text/plain": [
       "\n",
       "  1   2 \n",
       "179 121 "
      ]
     },
     "metadata": {},
     "output_type": "display_data"
    }
   ],
   "source": [
    "table(dat1$classification)"
   ]
  },
  {
   "cell_type": "code",
   "execution_count": 53,
   "id": "b2d8cb58",
   "metadata": {},
   "outputs": [
    {
     "data": {
      "image/png": "[encoded data removed]",
      "text/plain": [
       "plot without title"
      ]
     },
     "metadata": {},
     "output_type": "display_data"
    }
   ],
   "source": [
    "plot(dat1, what = \"uncertainty\")\n"
   ]
  },
  {
   "cell_type": "code",
   "execution_count": 93,
   "id": "ebe15289",
   "metadata": {},
   "outputs": [
    {
     "name": "stderr",
     "output_type": "stream",
     "text": [
      "Parsed with column specification:\n",
      "cols(\n",
      "  .default = col_double()\n",
      ")\n",
      "See spec(...) for full column specifications.\n"
     ]
    },
    {
     "data": {
      "image/png": "[encoded data removed]",
      "text/plain": [
       "Plot with title \"\""
      ]
     },
     "metadata": {},
     "output_type": "display_data"
    },
    {
     "data": {
      "image/png": "[encoded data removed]",
      "text/plain": [
       "Plot with title \"\""
      ]
     },
     "metadata": {},
     "output_type": "display_data"
    }
   ],
   "source": [
    "data(geyser, package = 'MASS')\n",
    "\n",
    "url <- \"https://koalaverse.github.io/homlr/data/my_basket.csv\"\n",
    "my_basket <- readr::read_csv(url)\n",
    "# Apply GMM model with 3 components\n",
    "geyser_mc <- Mclust(geyser, G = 3)\n",
    "\n",
    "# Plot results\n",
    "plot(geyser_mc, what = \"density\")\n",
    "plot(geyser_mc, what = \"uncertainty\")"
   ]
  },
  {
   "cell_type": "code",
   "execution_count": 95,
   "id": "35d504ea",
   "metadata": {},
   "outputs": [
    {
     "data": {
      "text/html": [
       "'list'"
      ],
      "text/latex": [
       "'list'"
      ],
      "text/markdown": [
       "'list'"
      ],
      "text/plain": [
       "[1] \"list\""
      ]
     },
     "metadata": {},
     "output_type": "display_data"
    }
   ],
   "source": [
    "typeof(geyser)"
   ]
  },
  {
   "cell_type": "code",
   "execution_count": 96,
   "id": "3bca97cc",
   "metadata": {},
   "outputs": [
    {
     "data": {
      "text/html": [
       "'list'"
      ],
      "text/latex": [
       "'list'"
      ],
      "text/markdown": [
       "'list'"
      ],
      "text/plain": [
       "[1] \"list\""
      ]
     },
     "metadata": {},
     "output_type": "display_data"
    }
   ],
   "source": [
    "typeof(mixture_mult)"
   ]
  },
  {
   "cell_type": "code",
   "execution_count": 79,
   "id": "5bf361db",
   "metadata": {},
   "outputs": [],
   "source": [
    "class <- mixture_mult$class"
   ]
  },
  {
   "cell_type": "code",
   "execution_count": 78,
   "id": "31648a86",
   "metadata": {},
   "outputs": [
    {
     "ename": "ERROR",
     "evalue": "Error in MclustDA(mixture_mult, G = 3): class labels for training data must be provided!\n",
     "output_type": "error",
     "traceback": [
      "Error in MclustDA(mixture_mult, G = 3): class labels for training data must be provided!\nTraceback:\n",
      "1. MclustDA(mixture_mult, G = 3)",
      "2. stop(\"class labels for training data must be provided!\")"
     ]
    }
   ],
   "source": [
    "mix_mc <- MclustDA(mixture_mult, G = 3)"
   ]
  },
  {
   "cell_type": "code",
   "execution_count": 83,
   "id": "5f953d07",
   "metadata": {},
   "outputs": [
    {
     "data": {
      "text/plain": [
       "     class             x               y        \n",
       " Min.   :1.000   Min.   :3.339   Min.   :3.931  \n",
       " 1st Qu.:1.000   1st Qu.:3.339   1st Qu.:3.931  \n",
       " Median :2.000   Median :4.738   Median :3.931  \n",
       " Mean   :2.093   Mean   :4.272   Mean   :3.979  \n",
       " 3rd Qu.:3.000   3rd Qu.:4.738   3rd Qu.:4.074  \n",
       " Max.   :3.000   Max.   :4.738   Max.   :4.074  "
      ]
     },
     "metadata": {},
     "output_type": "display_data"
    }
   ],
   "source": [
    "summary(mixture_mult)"
   ]
  },
  {
   "cell_type": "code",
   "execution_count": null,
   "id": "0a52fb72",
   "metadata": {},
   "outputs": [],
   "source": [
    "plot(mix_mc, what = \"density\")\n",
    "plot(mix_mc, what = \"uncertainty\")"
   ]
  },
  {
   "cell_type": "markdown",
   "id": "db630067",
   "metadata": {},
   "source": [
    "https://cran.r-project.org/web/packages/mclust/vignettes/mclust.html"
   ]
  },
  {
   "cell_type": "code",
   "execution_count": 21,
   "id": "65ca7792",
   "metadata": {},
   "outputs": [
    {
     "data": {
      "text/plain": [
       "class\n",
       "Chemical   Normal    Overt \n",
       "      36       76       33 "
      ]
     },
     "metadata": {},
     "output_type": "display_data"
    },
    {
     "name": "stdout",
     "output_type": "stream",
     "text": [
      "   class glucose insulin sspg\n",
      "1 Normal      80     356  124\n",
      "2 Normal      97     289  117\n",
      "3 Normal     105     319  143\n",
      "4 Normal      90     356  199\n",
      "5 Normal      90     323  240\n",
      "6 Normal      86     381  157\n"
     ]
    }
   ],
   "source": [
    "data(diabetes)\n",
    "class <- diabetes$class\n",
    "table(class)\n",
    "print(head(diabetes))"
   ]
  },
  {
   "cell_type": "code",
   "execution_count": 18,
   "id": "ba966162",
   "metadata": {},
   "outputs": [
    {
     "data": {
      "text/html": [
       "<table>\n",
       "<thead><tr><th scope=col>glucose</th><th scope=col>insulin</th><th scope=col>sspg</th></tr></thead>\n",
       "<tbody>\n",
       "\t<tr><td> 80</td><td>356</td><td>124</td></tr>\n",
       "\t<tr><td> 97</td><td>289</td><td>117</td></tr>\n",
       "\t<tr><td>105</td><td>319</td><td>143</td></tr>\n",
       "\t<tr><td> 90</td><td>356</td><td>199</td></tr>\n",
       "\t<tr><td> 90</td><td>323</td><td>240</td></tr>\n",
       "\t<tr><td> 86</td><td>381</td><td>157</td></tr>\n",
       "</tbody>\n",
       "</table>\n"
      ],
      "text/latex": [
       "\\begin{tabular}{r|lll}\n",
       " glucose & insulin & sspg\\\\\n",
       "\\hline\n",
       "\t  80 & 356 & 124\\\\\n",
       "\t  97 & 289 & 117\\\\\n",
       "\t 105 & 319 & 143\\\\\n",
       "\t  90 & 356 & 199\\\\\n",
       "\t  90 & 323 & 240\\\\\n",
       "\t  86 & 381 & 157\\\\\n",
       "\\end{tabular}\n"
      ],
      "text/markdown": [
       "\n",
       "| glucose | insulin | sspg |\n",
       "|---|---|---|\n",
       "|  80 | 356 | 124 |\n",
       "|  97 | 289 | 117 |\n",
       "| 105 | 319 | 143 |\n",
       "|  90 | 356 | 199 |\n",
       "|  90 | 323 | 240 |\n",
       "|  86 | 381 | 157 |\n",
       "\n"
      ],
      "text/plain": [
       "  glucose insulin sspg\n",
       "1  80     356     124 \n",
       "2  97     289     117 \n",
       "3 105     319     143 \n",
       "4  90     356     199 \n",
       "5  90     323     240 \n",
       "6  86     381     157 "
      ]
     },
     "metadata": {},
     "output_type": "display_data"
    }
   ],
   "source": [
    "X <- diabetes[,-1]\n",
    "head(X)"
   ]
  },
  {
   "cell_type": "code",
   "execution_count": 19,
   "id": "17208a0c",
   "metadata": {},
   "outputs": [
    {
     "data": {
      "image/png": "[encoded data removed]",
      "text/plain": [
       "plot without title"
      ]
     },
     "metadata": {},
     "output_type": "display_data"
    }
   ],
   "source": [
    "clPairs(X, class)"
   ]
  },
  {
   "cell_type": "code",
   "execution_count": 23,
   "id": "e932a62b",
   "metadata": {},
   "outputs": [
    {
     "data": {
      "text/plain": [
       "---------------------------------------------------- \n",
       "Gaussian finite mixture model fitted by EM algorithm \n",
       "---------------------------------------------------- \n",
       "\n",
       "Mclust VVV (ellipsoidal, varying volume, shape, and orientation) model with 3\n",
       "components: \n",
       "\n",
       " log-likelihood   n df       BIC       ICL\n",
       "      -2303.496 145 29 -4751.316 -4770.169\n",
       "\n",
       "Clustering table:\n",
       " 1  2  3 \n",
       "81 36 28 \n",
       "\n",
       "Mixing probabilities:\n",
       "        1         2         3 \n",
       "0.5368974 0.2650129 0.1980897 \n",
       "\n",
       "Means:\n",
       "             [,1]     [,2]       [,3]\n",
       "glucose  90.96239 104.5335  229.42136\n",
       "insulin 357.79083 494.8259 1098.25990\n",
       "sspg    163.74858 309.5583   81.60001\n",
       "\n",
       "Variances:\n",
       "[,,1]\n",
       "         glucose    insulin       sspg\n",
       "glucose 57.18044   75.83206   14.73199\n",
       "insulin 75.83206 2101.76553  322.82294\n",
       "sspg    14.73199  322.82294 2416.99074\n",
       "[,,2]\n",
       "          glucose   insulin       sspg\n",
       "glucose  185.0290  1282.340  -509.7313\n",
       "insulin 1282.3398 14039.283 -2559.0251\n",
       "sspg    -509.7313 -2559.025 23835.7278\n",
       "[,,3]\n",
       "          glucose   insulin       sspg\n",
       "glucose  5529.250  20389.09  -2486.208\n",
       "insulin 20389.088  83132.48 -10393.004\n",
       "sspg    -2486.208 -10393.00   2217.533"
      ]
     },
     "metadata": {},
     "output_type": "display_data"
    }
   ],
   "source": [
    "BIC <- mclustBIC(X)\n",
    "mod1 <- Mclust(X, x = BIC)\n",
    "summary(mod1, parameters = TRUE)"
   ]
  },
  {
   "cell_type": "code",
   "execution_count": 24,
   "id": "4c2687da",
   "metadata": {},
   "outputs": [
    {
     "data": {
      "text/plain": [
       "          \n",
       "class       1  2  3\n",
       "  Chemical  9 26  1\n",
       "  Normal   72  4  0\n",
       "  Overt     0  6 27"
      ]
     },
     "metadata": {},
     "output_type": "display_data"
    }
   ],
   "source": [
    "table(class, mod1$classification)"
   ]
  },
  {
   "cell_type": "code",
   "execution_count": 26,
   "id": "879fc771",
   "metadata": {},
   "outputs": [
    {
     "data": {
      "image/png": "[encoded data removed]",
      "text/plain": [
       "Plot with title \"\""
      ]
     },
     "metadata": {},
     "output_type": "display_data"
    }
   ],
   "source": [
    "plot(mod1, what = \"uncertainty\")\n"
   ]
  }
 ],
 "metadata": {
  "kernelspec": {
   "display_name": "R",
   "language": "R",
   "name": "ir"
  },
  "language_info": {
   "codemirror_mode": "r",
   "file_extension": ".r",
   "mimetype": "text/x-r-source",
   "name": "R",
   "pygments_lexer": "r",
   "version": "3.6.1"
  }
 },
 "nbformat": 4,
 "nbformat_minor": 5
}
