{
 "cells": [
  {
   "cell_type": "markdown",
   "id": "82af63dc",
   "metadata": {},
   "source": [
    "## Практика 5: Лінійна регресія\n",
    "\n",
    "Ми спочатку розглянемо одновимірний випадок. \n",
    "\n",
    "## Приклад 1.  ANOVA\n",
    "Розглянемо наступний приклад, в якому дані взято з  так званого \"квартету Анскомбе\" http://www.learnbymarketing.com/tutorials/explaining-the-lm-summary-in-r/.\n",
    "Квартет Анскомбе складається з чотирьох послідовностей, які задовольняють моделі лінійної регресії,   але їхні графіки істотно відрізняються.  \n",
    "#### Зауважимо, що наведені нижче обчислення залежать від згенерованих нормально розподілених випадкових величин, тому мають суто ілюстративну мету. \n",
    "\n",
    "Ми побудуємо лінійну модель та будемо перевіряти гіпотезу  \n",
    "\n",
    "$H_0$: Всі коефіцієнти = 0\n",
    "\n",
    "проти альтернативи \n",
    "\n",
    "\n",
    "$H_1$: Принаймні 1 з коефіцієнтів не  0. "
   ]
  },
  {
   "cell_type": "code",
   "execution_count": 1,
   "id": "e2053693",
   "metadata": {},
   "outputs": [],
   "source": [
    "y=c(8.04,6.95,7.58,8.81,8.33,9.96,7.24,4.26,10.84,4.82,5.68)\n",
    "x1=c(10,8,13,9,11,14,6,4,12,7,5)"
   ]
  },
  {
   "cell_type": "markdown",
   "id": "b970f852",
   "metadata": {},
   "source": [
    "Згенеруємо наступні дані:"
   ]
  },
  {
   "cell_type": "code",
   "execution_count": 2,
   "id": "3d062ead",
   "metadata": {},
   "outputs": [],
   "source": [
    "x2=sqrt(y)+rnorm(length(y))"
   ]
  },
  {
   "cell_type": "markdown",
   "id": "0ab60eb9",
   "metadata": {},
   "source": [
    "Задамо модель лінійної регресії:"
   ]
  },
  {
   "cell_type": "code",
   "execution_count": 3,
   "id": "129d21ff",
   "metadata": {},
   "outputs": [],
   "source": [
    "model=lm(y~x1+x2)"
   ]
  },
  {
   "cell_type": "markdown",
   "id": "bc74415e",
   "metadata": {},
   "source": [
    "Коротка інформація:"
   ]
  },
  {
   "cell_type": "code",
   "execution_count": 4,
   "id": "9f6bfa92",
   "metadata": {},
   "outputs": [
    {
     "data": {
      "text/plain": [
       "\n",
       "Call:\n",
       "lm(formula = y ~ x1 + x2)\n",
       "\n",
       "Coefficients:\n",
       "(Intercept)           x1           x2  \n",
       "     2.7541       0.4807       0.1615  \n"
      ]
     },
     "metadata": {},
     "output_type": "display_data"
    }
   ],
   "source": [
    "model"
   ]
  },
  {
   "cell_type": "markdown",
   "id": "2e69f825",
   "metadata": {},
   "source": [
    "Повна інформація:"
   ]
  },
  {
   "cell_type": "code",
   "execution_count": 5,
   "id": "f43771bc",
   "metadata": {},
   "outputs": [
    {
     "data": {
      "text/plain": [
       "\n",
       "Call:\n",
       "lm(formula = y ~ x1 + x2)\n",
       "\n",
       "Residuals:\n",
       "     Min       1Q   Median       3Q      Max \n",
       "-1.87388 -0.65225  0.04959  0.64068  1.89474 \n",
       "\n",
       "Coefficients:\n",
       "            Estimate Std. Error t value Pr(>|t|)   \n",
       "(Intercept)   2.7541     1.3280   2.074  0.07179 . \n",
       "x1            0.4807     0.1327   3.623  0.00675 **\n",
       "x2            0.1615     0.3988   0.405  0.69616   \n",
       "---\n",
       "Signif. codes:  0 '***' 0.001 '**' 0.01 '*' 0.05 '.' 0.1 ' ' 1\n",
       "\n",
       "Residual standard error: 1.298 on 8 degrees of freedom\n",
       "Multiple R-squared:  0.6732,\tAdjusted R-squared:  0.5915 \n",
       "F-statistic: 8.241 on 2 and 8 DF,  p-value: 0.0114\n"
      ]
     },
     "metadata": {},
     "output_type": "display_data"
    }
   ],
   "source": [
    "summary(model)"
   ]
  },
  {
   "cell_type": "markdown",
   "id": "af6a8e67",
   "metadata": {},
   "source": [
    "Інформація про коефіцієнти  (див. колонку Estimate)"
   ]
  },
  {
   "cell_type": "code",
   "execution_count": 6,
   "id": "6920570c",
   "metadata": {},
   "outputs": [
    {
     "data": {
      "text/html": [
       "<dl class=dl-horizontal>\n",
       "\t<dt>(Intercept)</dt>\n",
       "\t\t<dd>2.7541405243856</dd>\n",
       "\t<dt>x1</dt>\n",
       "\t\t<dd>0.480745911192527</dd>\n",
       "\t<dt>x2</dt>\n",
       "\t\t<dd>0.161472900578093</dd>\n",
       "</dl>\n"
      ],
      "text/latex": [
       "\\begin{description*}\n",
       "\\item[(Intercept)] 2.7541405243856\n",
       "\\item[x1] 0.480745911192527\n",
       "\\item[x2] 0.161472900578093\n",
       "\\end{description*}\n"
      ],
      "text/markdown": [
       "(Intercept)\n",
       ":   2.7541405243856x1\n",
       ":   0.480745911192527x2\n",
       ":   0.161472900578093\n",
       "\n"
      ],
      "text/plain": [
       "(Intercept)          x1          x2 \n",
       "  2.7541405   0.4807459   0.1614729 "
      ]
     },
     "metadata": {},
     "output_type": "display_data"
    }
   ],
   "source": [
    "model$coefficients"
   ]
  },
  {
   "cell_type": "markdown",
   "id": "9e9b8d04",
   "metadata": {},
   "source": [
    "коефіцієнт при  x1-- це другий коефіцієнт в колоні  `Estimates'."
   ]
  },
  {
   "cell_type": "code",
   "execution_count": 7,
   "id": "bacbebb2",
   "metadata": {},
   "outputs": [
    {
     "data": {
      "text/html": [
       "<strong>x1:</strong> 0.480745911192527"
      ],
      "text/latex": [
       "\\textbf{x1:} 0.480745911192527"
      ],
      "text/markdown": [
       "**x1:** 0.480745911192527"
      ],
      "text/plain": [
       "       x1 \n",
       "0.4807459 "
      ]
     },
     "metadata": {},
     "output_type": "display_data"
    }
   ],
   "source": [
    "model$coefficients[2]  "
   ]
  },
  {
   "cell_type": "markdown",
   "id": "54645a64",
   "metadata": {},
   "source": [
    "Як отримати інформацію про кожну колонку:"
   ]
  },
  {
   "cell_type": "code",
   "execution_count": 8,
   "id": "51f03762",
   "metadata": {},
   "outputs": [
    {
     "data": {
      "text/html": [
       "<dl class=dl-horizontal>\n",
       "\t<dt>(Intercept)</dt>\n",
       "\t\t<dd>1.32799466014116</dd>\n",
       "\t<dt>x1</dt>\n",
       "\t\t<dd>0.132694852335902</dd>\n",
       "\t<dt>x2</dt>\n",
       "\t\t<dd>0.398789510163962</dd>\n",
       "</dl>\n"
      ],
      "text/latex": [
       "\\begin{description*}\n",
       "\\item[(Intercept)] 1.32799466014116\n",
       "\\item[x1] 0.132694852335902\n",
       "\\item[x2] 0.398789510163962\n",
       "\\end{description*}\n"
      ],
      "text/markdown": [
       "(Intercept)\n",
       ":   1.32799466014116x1\n",
       ":   0.132694852335902x2\n",
       ":   0.398789510163962\n",
       "\n"
      ],
      "text/plain": [
       "(Intercept)          x1          x2 \n",
       "  1.3279947   0.1326949   0.3987895 "
      ]
     },
     "metadata": {},
     "output_type": "display_data"
    }
   ],
   "source": [
    "coef(summary(model))[, \"Std. Error\"] "
   ]
  },
  {
   "cell_type": "code",
   "execution_count": 9,
   "id": "eac4b755",
   "metadata": {},
   "outputs": [
    {
     "data": {
      "text/html": [
       "<dl class=dl-horizontal>\n",
       "\t<dt>(Intercept)</dt>\n",
       "\t\t<dd>2.07390933642221</dd>\n",
       "\t<dt>x1</dt>\n",
       "\t\t<dd>3.62294318679049</dd>\n",
       "\t<dt>x2</dt>\n",
       "\t\t<dd>0.404907592759156</dd>\n",
       "</dl>\n"
      ],
      "text/latex": [
       "\\begin{description*}\n",
       "\\item[(Intercept)] 2.07390933642221\n",
       "\\item[x1] 3.62294318679049\n",
       "\\item[x2] 0.404907592759156\n",
       "\\end{description*}\n"
      ],
      "text/markdown": [
       "(Intercept)\n",
       ":   2.07390933642221x1\n",
       ":   3.62294318679049x2\n",
       ":   0.404907592759156\n",
       "\n"
      ],
      "text/plain": [
       "(Intercept)          x1          x2 \n",
       "  2.0739093   3.6229432   0.4049076 "
      ]
     },
     "metadata": {},
     "output_type": "display_data"
    }
   ],
   "source": [
    "coef(summary(model))[, \"t value\"]"
   ]
  },
  {
   "cell_type": "code",
   "execution_count": 10,
   "id": "27d335d3",
   "metadata": {},
   "outputs": [
    {
     "data": {
      "text/html": [
       "<dl class=dl-horizontal>\n",
       "\t<dt>(Intercept)</dt>\n",
       "\t\t<dd>0.0717916066857211</dd>\n",
       "\t<dt>x1</dt>\n",
       "\t\t<dd>0.00675372448843643</dd>\n",
       "\t<dt>x2</dt>\n",
       "\t\t<dd>0.696156346534693</dd>\n",
       "</dl>\n"
      ],
      "text/latex": [
       "\\begin{description*}\n",
       "\\item[(Intercept)] 0.0717916066857211\n",
       "\\item[x1] 0.00675372448843643\n",
       "\\item[x2] 0.696156346534693\n",
       "\\end{description*}\n"
      ],
      "text/markdown": [
       "(Intercept)\n",
       ":   0.0717916066857211x1\n",
       ":   0.00675372448843643x2\n",
       ":   0.696156346534693\n",
       "\n"
      ],
      "text/plain": [
       "(Intercept)          x1          x2 \n",
       "0.071791607 0.006753724 0.696156347 "
      ]
     },
     "metadata": {},
     "output_type": "display_data"
    }
   ],
   "source": [
    "coef(summary(model))[, \"Pr(>|t|)\"]"
   ]
  },
  {
   "cell_type": "markdown",
   "id": "4408de17",
   "metadata": {},
   "source": [
    "Визначимо число змінних і число випробувань:"
   ]
  },
  {
   "cell_type": "code",
   "execution_count": 11,
   "id": "6b12207c",
   "metadata": {},
   "outputs": [
    {
     "data": {
      "text/html": [
       "3"
      ],
      "text/latex": [
       "3"
      ],
      "text/markdown": [
       "3"
      ],
      "text/plain": [
       "[1] 3"
      ]
     },
     "metadata": {},
     "output_type": "display_data"
    },
    {
     "data": {
      "text/html": [
       "11"
      ],
      "text/latex": [
       "11"
      ],
      "text/markdown": [
       "11"
      ],
      "text/plain": [
       "[1] 11"
      ]
     },
     "metadata": {},
     "output_type": "display_data"
    }
   ],
   "source": [
    "k=length(model$coefficients)   \n",
    "k\n",
    "n=length(model$residuals)           \n",
    "n"
   ]
  },
  {
   "cell_type": "markdown",
   "id": "f0fe8238",
   "metadata": {},
   "source": [
    "Інформація про оцінку  $\\hat{y}$: розкид та, власне, $\\hat{y}$"
   ]
  },
  {
   "cell_type": "code",
   "execution_count": 12,
   "id": "a56373fa",
   "metadata": {},
   "outputs": [
    {
     "data": {
      "text/plain": [
       "    Min.  1st Qu.   Median     Mean  3rd Qu.     Max. \n",
       "-1.87388 -0.65225  0.04959  0.00000  0.64068  1.89474 "
      ]
     },
     "metadata": {},
     "output_type": "display_data"
    }
   ],
   "source": [
    "summary(y-model$fitted.values)  "
   ]
  },
  {
   "cell_type": "code",
   "execution_count": 13,
   "id": "530dbd53",
   "metadata": {},
   "outputs": [
    {
     "data": {
      "text/html": [
       "<dl class=dl-horizontal>\n",
       "\t<dt>1</dt>\n",
       "\t\t<dd>7.99981899564099</dd>\n",
       "\t<dt>2</dt>\n",
       "\t\t<dd>6.7444536503026</dd>\n",
       "\t<dt>3</dt>\n",
       "\t\t<dd>9.4538768177944</dd>\n",
       "\t<dt>4</dt>\n",
       "\t\t<dd>7.48827633976721</dd>\n",
       "\t<dt>5</dt>\n",
       "\t\t<dd>8.90392447566152</dd>\n",
       "\t<dt>6</dt>\n",
       "\t\t<dd>9.91040879975395</dd>\n",
       "\t<dt>7</dt>\n",
       "\t\t<dd>6.16419097030285</dd>\n",
       "\t<dt>8</dt>\n",
       "\t\t<dd>4.9905824186047</dd>\n",
       "\t<dt>9</dt>\n",
       "\t\t<dd>8.94525685113303</dd>\n",
       "\t<dt>10</dt>\n",
       "\t\t<dd>6.4128958040396</dd>\n",
       "\t<dt>11</dt>\n",
       "\t\t<dd>5.49631487699916</dd>\n",
       "</dl>\n"
      ],
      "text/latex": [
       "\\begin{description*}\n",
       "\\item[1] 7.99981899564099\n",
       "\\item[2] 6.7444536503026\n",
       "\\item[3] 9.4538768177944\n",
       "\\item[4] 7.48827633976721\n",
       "\\item[5] 8.90392447566152\n",
       "\\item[6] 9.91040879975395\n",
       "\\item[7] 6.16419097030285\n",
       "\\item[8] 4.9905824186047\n",
       "\\item[9] 8.94525685113303\n",
       "\\item[10] 6.4128958040396\n",
       "\\item[11] 5.49631487699916\n",
       "\\end{description*}\n"
      ],
      "text/markdown": [
       "1\n",
       ":   7.999818995640992\n",
       ":   6.74445365030263\n",
       ":   9.45387681779444\n",
       ":   7.488276339767215\n",
       ":   8.903924475661526\n",
       ":   9.910408799753957\n",
       ":   6.164190970302858\n",
       ":   4.99058241860479\n",
       ":   8.9452568511330310\n",
       ":   6.412895804039611\n",
       ":   5.49631487699916\n",
       "\n"
      ],
      "text/plain": [
       "       1        2        3        4        5        6        7        8 \n",
       "7.999819 6.744454 9.453877 7.488276 8.903924 9.910409 6.164191 4.990582 \n",
       "       9       10       11 \n",
       "8.945257 6.412896 5.496315 "
      ]
     },
     "metadata": {},
     "output_type": "display_data"
    }
   ],
   "source": [
    "model$fitted.values"
   ]
  },
  {
   "cell_type": "markdown",
   "id": "009008ed",
   "metadata": {},
   "source": [
    "Інформація про залишки $\\epsilon_i= y_i - \\hat{y}_i$: "
   ]
  },
  {
   "cell_type": "code",
   "execution_count": 14,
   "id": "ed054d67",
   "metadata": {},
   "outputs": [
    {
     "data": {
      "text/html": [
       "<dl class=dl-horizontal>\n",
       "\t<dt>1</dt>\n",
       "\t\t<dd>0.0401810043590079</dd>\n",
       "\t<dt>2</dt>\n",
       "\t\t<dd>0.205546349697404</dd>\n",
       "\t<dt>3</dt>\n",
       "\t\t<dd>-1.87387681779439</dd>\n",
       "\t<dt>4</dt>\n",
       "\t\t<dd>1.32172366023279</dd>\n",
       "\t<dt>5</dt>\n",
       "\t\t<dd>-0.57392447566152</dd>\n",
       "\t<dt>6</dt>\n",
       "\t\t<dd>0.0495912002460509</dd>\n",
       "\t<dt>7</dt>\n",
       "\t\t<dd>1.07580902969715</dd>\n",
       "\t<dt>8</dt>\n",
       "\t\t<dd>-0.730582418604701</dd>\n",
       "\t<dt>9</dt>\n",
       "\t\t<dd>1.89474314886696</dd>\n",
       "\t<dt>10</dt>\n",
       "\t\t<dd>-1.5928958040396</dd>\n",
       "\t<dt>11</dt>\n",
       "\t\t<dd>0.183685123000844</dd>\n",
       "</dl>\n"
      ],
      "text/latex": [
       "\\begin{description*}\n",
       "\\item[1] 0.0401810043590079\n",
       "\\item[2] 0.205546349697404\n",
       "\\item[3] -1.87387681779439\n",
       "\\item[4] 1.32172366023279\n",
       "\\item[5] -0.57392447566152\n",
       "\\item[6] 0.0495912002460509\n",
       "\\item[7] 1.07580902969715\n",
       "\\item[8] -0.730582418604701\n",
       "\\item[9] 1.89474314886696\n",
       "\\item[10] -1.5928958040396\n",
       "\\item[11] 0.183685123000844\n",
       "\\end{description*}\n"
      ],
      "text/markdown": [
       "1\n",
       ":   0.04018100435900792\n",
       ":   0.2055463496974043\n",
       ":   -1.873876817794394\n",
       ":   1.321723660232795\n",
       ":   -0.573924475661526\n",
       ":   0.04959120024605097\n",
       ":   1.075809029697158\n",
       ":   -0.7305824186047019\n",
       ":   1.8947431488669610\n",
       ":   -1.592895804039611\n",
       ":   0.183685123000844\n",
       "\n"
      ],
      "text/plain": [
       "         1          2          3          4          5          6          7 \n",
       " 0.0401810  0.2055463 -1.8738768  1.3217237 -0.5739245  0.0495912  1.0758090 \n",
       "         8          9         10         11 \n",
       "-0.7305824  1.8947431 -1.5928958  0.1836851 "
      ]
     },
     "metadata": {},
     "output_type": "display_data"
    }
   ],
   "source": [
    "model$residuals                   "
   ]
  },
  {
   "cell_type": "markdown",
   "id": "ccf3a6db",
   "metadata": {},
   "source": [
    "Можна отримати варіаційний ряд: "
   ]
  },
  {
   "cell_type": "code",
   "execution_count": 15,
   "id": "389145a2",
   "metadata": {},
   "outputs": [
    {
     "data": {
      "text/html": [
       "<dl class=dl-horizontal>\n",
       "\t<dt>3</dt>\n",
       "\t\t<dd>-1.87387681779439</dd>\n",
       "\t<dt>10</dt>\n",
       "\t\t<dd>-1.5928958040396</dd>\n",
       "\t<dt>8</dt>\n",
       "\t\t<dd>-0.730582418604701</dd>\n",
       "\t<dt>5</dt>\n",
       "\t\t<dd>-0.57392447566152</dd>\n",
       "\t<dt>1</dt>\n",
       "\t\t<dd>0.0401810043590079</dd>\n",
       "\t<dt>6</dt>\n",
       "\t\t<dd>0.0495912002460509</dd>\n",
       "\t<dt>11</dt>\n",
       "\t\t<dd>0.183685123000844</dd>\n",
       "\t<dt>2</dt>\n",
       "\t\t<dd>0.205546349697404</dd>\n",
       "\t<dt>7</dt>\n",
       "\t\t<dd>1.07580902969715</dd>\n",
       "\t<dt>4</dt>\n",
       "\t\t<dd>1.32172366023279</dd>\n",
       "\t<dt>9</dt>\n",
       "\t\t<dd>1.89474314886696</dd>\n",
       "</dl>\n"
      ],
      "text/latex": [
       "\\begin{description*}\n",
       "\\item[3] -1.87387681779439\n",
       "\\item[10] -1.5928958040396\n",
       "\\item[8] -0.730582418604701\n",
       "\\item[5] -0.57392447566152\n",
       "\\item[1] 0.0401810043590079\n",
       "\\item[6] 0.0495912002460509\n",
       "\\item[11] 0.183685123000844\n",
       "\\item[2] 0.205546349697404\n",
       "\\item[7] 1.07580902969715\n",
       "\\item[4] 1.32172366023279\n",
       "\\item[9] 1.89474314886696\n",
       "\\end{description*}\n"
      ],
      "text/markdown": [
       "3\n",
       ":   -1.8738768177943910\n",
       ":   -1.59289580403968\n",
       ":   -0.7305824186047015\n",
       ":   -0.573924475661521\n",
       ":   0.04018100435900796\n",
       ":   0.049591200246050911\n",
       ":   0.1836851230008442\n",
       ":   0.2055463496974047\n",
       ":   1.075809029697154\n",
       ":   1.321723660232799\n",
       ":   1.89474314886696\n",
       "\n"
      ],
      "text/plain": [
       "         3         10          8          5          1          6         11 \n",
       "-1.8738768 -1.5928958 -0.7305824 -0.5739245  0.0401810  0.0495912  0.1836851 \n",
       "         2          7          4          9 \n",
       " 0.2055463  1.0758090  1.3217237  1.8947431 "
      ]
     },
     "metadata": {},
     "output_type": "display_data"
    }
   ],
   "source": [
    "sort(model$residuals)"
   ]
  },
  {
   "cell_type": "markdown",
   "id": "55f7f297",
   "metadata": {},
   "source": [
    "Пряме обчислення $\\hat{y}$: "
   ]
  },
  {
   "cell_type": "code",
   "execution_count": 16,
   "id": "d4acf669",
   "metadata": {},
   "outputs": [
    {
     "data": {
      "text/html": [
       "<ol class=list-inline>\n",
       "\t<li>7.99981899564099</li>\n",
       "\t<li>6.7444536503026</li>\n",
       "\t<li>9.45387681779439</li>\n",
       "\t<li>7.48827633976721</li>\n",
       "\t<li>8.90392447566152</li>\n",
       "\t<li>9.91040879975395</li>\n",
       "\t<li>6.16419097030285</li>\n",
       "\t<li>4.9905824186047</li>\n",
       "\t<li>8.94525685113304</li>\n",
       "\t<li>6.4128958040396</li>\n",
       "\t<li>5.49631487699916</li>\n",
       "</ol>\n"
      ],
      "text/latex": [
       "\\begin{enumerate*}\n",
       "\\item 7.99981899564099\n",
       "\\item 6.7444536503026\n",
       "\\item 9.45387681779439\n",
       "\\item 7.48827633976721\n",
       "\\item 8.90392447566152\n",
       "\\item 9.91040879975395\n",
       "\\item 6.16419097030285\n",
       "\\item 4.9905824186047\n",
       "\\item 8.94525685113304\n",
       "\\item 6.4128958040396\n",
       "\\item 5.49631487699916\n",
       "\\end{enumerate*}\n"
      ],
      "text/markdown": [
       "1. 7.99981899564099\n",
       "2. 6.7444536503026\n",
       "3. 9.45387681779439\n",
       "4. 7.48827633976721\n",
       "5. 8.90392447566152\n",
       "6. 9.91040879975395\n",
       "7. 6.16419097030285\n",
       "8. 4.9905824186047\n",
       "9. 8.94525685113304\n",
       "10. 6.4128958040396\n",
       "11. 5.49631487699916\n",
       "\n",
       "\n"
      ],
      "text/plain": [
       " [1] 7.999819 6.744454 9.453877 7.488276 8.903924 9.910409 6.164191 4.990582\n",
       " [9] 8.945257 6.412896 5.496315"
      ]
     },
     "metadata": {},
     "output_type": "display_data"
    }
   ],
   "source": [
    "model$coefficients[1] + model$coefficients[2]*x1+ model$coefficients[3]*x2"
   ]
  },
  {
   "cell_type": "markdown",
   "id": "6add684b",
   "metadata": {},
   "source": [
    "Перевірка: отримаємо $y = \\epsilon+ \\hat{y}$. "
   ]
  },
  {
   "cell_type": "code",
   "execution_count": 17,
   "id": "0d3d7b13",
   "metadata": {},
   "outputs": [
    {
     "data": {
      "text/html": [
       "<dl class=dl-horizontal>\n",
       "\t<dt>1</dt>\n",
       "\t\t<dd>8.04</dd>\n",
       "\t<dt>2</dt>\n",
       "\t\t<dd>6.95</dd>\n",
       "\t<dt>3</dt>\n",
       "\t\t<dd>7.58</dd>\n",
       "\t<dt>4</dt>\n",
       "\t\t<dd>8.81</dd>\n",
       "\t<dt>5</dt>\n",
       "\t\t<dd>8.33</dd>\n",
       "\t<dt>6</dt>\n",
       "\t\t<dd>9.96</dd>\n",
       "\t<dt>7</dt>\n",
       "\t\t<dd>7.24</dd>\n",
       "\t<dt>8</dt>\n",
       "\t\t<dd>4.26</dd>\n",
       "\t<dt>9</dt>\n",
       "\t\t<dd>10.84</dd>\n",
       "\t<dt>10</dt>\n",
       "\t\t<dd>4.82</dd>\n",
       "\t<dt>11</dt>\n",
       "\t\t<dd>5.68</dd>\n",
       "</dl>\n"
      ],
      "text/latex": [
       "\\begin{description*}\n",
       "\\item[1] 8.04\n",
       "\\item[2] 6.95\n",
       "\\item[3] 7.58\n",
       "\\item[4] 8.81\n",
       "\\item[5] 8.33\n",
       "\\item[6] 9.96\n",
       "\\item[7] 7.24\n",
       "\\item[8] 4.26\n",
       "\\item[9] 10.84\n",
       "\\item[10] 4.82\n",
       "\\item[11] 5.68\n",
       "\\end{description*}\n"
      ],
      "text/markdown": [
       "1\n",
       ":   8.042\n",
       ":   6.953\n",
       ":   7.584\n",
       ":   8.815\n",
       ":   8.336\n",
       ":   9.967\n",
       ":   7.248\n",
       ":   4.269\n",
       ":   10.8410\n",
       ":   4.8211\n",
       ":   5.68\n",
       "\n"
      ],
      "text/plain": [
       "    1     2     3     4     5     6     7     8     9    10    11 \n",
       " 8.04  6.95  7.58  8.81  8.33  9.96  7.24  4.26 10.84  4.82  5.68 "
      ]
     },
     "metadata": {},
     "output_type": "display_data"
    }
   ],
   "source": [
    "model$residuals+  model$fitted.values "
   ]
  },
  {
   "cell_type": "markdown",
   "id": "4afaee61",
   "metadata": {},
   "source": [
    "Зчитаємо  $\\hat{b}$ як вектор:"
   ]
  },
  {
   "cell_type": "code",
   "execution_count": 18,
   "id": "06de3340",
   "metadata": {},
   "outputs": [
    {
     "data": {
      "text/html": [
       "<ol class=list-inline>\n",
       "\t<li>2.7541405243856</li>\n",
       "\t<li>0.480745911192527</li>\n",
       "\t<li>0.161472900578093</li>\n",
       "</ol>\n"
      ],
      "text/latex": [
       "\\begin{enumerate*}\n",
       "\\item 2.7541405243856\n",
       "\\item 0.480745911192527\n",
       "\\item 0.161472900578093\n",
       "\\end{enumerate*}\n"
      ],
      "text/markdown": [
       "1. 2.7541405243856\n",
       "2. 0.480745911192527\n",
       "3. 0.161472900578093\n",
       "\n",
       "\n"
      ],
      "text/plain": [
       "[1] 2.7541405 0.4807459 0.1614729"
      ]
     },
     "metadata": {},
     "output_type": "display_data"
    }
   ],
   "source": [
    "b_est<- as.vector(model$coefficients) \n",
    "b_est"
   ]
  },
  {
   "cell_type": "markdown",
   "id": "a667d8cc",
   "metadata": {},
   "source": [
    "Обчислення  $\\hat{b}= (X^T X)^{-1} X^T Y$: "
   ]
  },
  {
   "cell_type": "markdown",
   "id": "5360693a",
   "metadata": {},
   "source": [
    "Отримаємо те  саме, що в колонці  `Estimates`: "
   ]
  },
  {
   "cell_type": "code",
   "execution_count": 19,
   "id": "24637d6d",
   "metadata": {},
   "outputs": [
    {
     "data": {
      "text/html": [
       "<table>\n",
       "<tbody>\n",
       "\t<tr><th scope=row></th><td>2.7541405</td></tr>\n",
       "\t<tr><th scope=row>x1</th><td>0.4807459</td></tr>\n",
       "\t<tr><th scope=row>x2</th><td>0.1614729</td></tr>\n",
       "</tbody>\n",
       "</table>\n"
      ],
      "text/latex": [
       "\\begin{tabular}{r|l}\n",
       "\t & 2.7541405\\\\\n",
       "\tx1 & 0.4807459\\\\\n",
       "\tx2 & 0.1614729\\\\\n",
       "\\end{tabular}\n"
      ],
      "text/markdown": [
       "\n",
       "|  | 2.7541405 |\n",
       "| x1 | 0.4807459 |\n",
       "| x2 | 0.1614729 |\n",
       "\n"
      ],
      "text/plain": [
       "   [,1]     \n",
       "   2.7541405\n",
       "x1 0.4807459\n",
       "x2 0.1614729"
      ]
     },
     "metadata": {},
     "output_type": "display_data"
    }
   ],
   "source": [
    "X<-cbind(1,x1,x2)   \n",
    "est_b<-solve(t(X)%*% X) %*% (t(X)%*%y)\n",
    "est_b "
   ]
  },
  {
   "cell_type": "markdown",
   "id": "4a9ffe63",
   "metadata": {},
   "source": [
    "Обчислення похибки в оцінці  $b$. \n",
    "\n",
    "Обчислимо $s^2 = SSE/(n-q-1)$,  $n=11$,  $q=2$,  $n-q-1=8$."
   ]
  },
  {
   "cell_type": "code",
   "execution_count": 20,
   "id": "648fd9c7",
   "metadata": {},
   "outputs": [
    {
     "data": {
      "text/html": [
       "1.68578809675577"
      ],
      "text/latex": [
       "1.68578809675577"
      ],
      "text/markdown": [
       "1.68578809675577"
      ],
      "text/plain": [
       "[1] 1.685788"
      ]
     },
     "metadata": {},
     "output_type": "display_data"
    }
   ],
   "source": [
    "s2<-sum(model$residuals**2)/(n-k)\n",
    "s2"
   ]
  },
  {
   "cell_type": "markdown",
   "id": "1013db6f",
   "metadata": {},
   "source": [
    "Обчислимо Residual Standard Error:"
   ]
  },
  {
   "cell_type": "code",
   "execution_count": 21,
   "id": "7daf6b97",
   "metadata": {},
   "outputs": [
    {
     "data": {
      "text/html": [
       "1.29837902661579"
      ],
      "text/latex": [
       "1.29837902661579"
      ],
      "text/markdown": [
       "1.29837902661579"
      ],
      "text/plain": [
       "[1] 1.298379"
      ]
     },
     "metadata": {},
     "output_type": "display_data"
    }
   ],
   "source": [
    "sqrt(s2)"
   ]
  },
  {
   "cell_type": "markdown",
   "id": "4339ce64",
   "metadata": {},
   "source": [
    "Обчислимо $\\sqrt{s2 (X'X)^{-1}}$ -- це  error в колонці   Std. Error. "
   ]
  },
  {
   "cell_type": "code",
   "execution_count": 22,
   "id": "bec19d27",
   "metadata": {},
   "outputs": [
    {
     "data": {
      "text/html": [
       "<table>\n",
       "<thead><tr><th></th><th scope=col></th><th scope=col>x1</th><th scope=col>x2</th></tr></thead>\n",
       "<tbody>\n",
       "\t<tr><th scope=row></th><td> 1.7635698 </td><td>-0.10890765</td><td>-0.2422341 </td></tr>\n",
       "\t<tr><th scope=row>x1</th><td>-0.1089077 </td><td> 0.01760792</td><td>-0.0190527 </td></tr>\n",
       "\t<tr><th scope=row>x2</th><td>-0.2422341 </td><td>-0.01905270</td><td> 0.1590331 </td></tr>\n",
       "</tbody>\n",
       "</table>\n"
      ],
      "text/latex": [
       "\\begin{tabular}{r|lll}\n",
       "  &  & x1 & x2\\\\\n",
       "\\hline\n",
       "\t &  1.7635698  & -0.10890765 & -0.2422341 \\\\\n",
       "\tx1 & -0.1089077  &  0.01760792 & -0.0190527 \\\\\n",
       "\tx2 & -0.2422341  & -0.01905270 &  0.1590331 \\\\\n",
       "\\end{tabular}\n"
      ],
      "text/markdown": [
       "\n",
       "| <!--/--> |  | x1 | x2 |\n",
       "|---|---|---|---|\n",
       "|  |  1.7635698  | -0.10890765 | -0.2422341  |\n",
       "| x1 | -0.1089077  |  0.01760792 | -0.0190527  |\n",
       "| x2 | -0.2422341  | -0.01905270 |  0.1590331  |\n",
       "\n"
      ],
      "text/plain": [
       "              x1          x2        \n",
       "    1.7635698 -0.10890765 -0.2422341\n",
       "x1 -0.1089077  0.01760792 -0.0190527\n",
       "x2 -0.2422341 -0.01905270  0.1590331"
      ]
     },
     "metadata": {},
     "output_type": "display_data"
    },
    {
     "data": {
      "text/html": [
       "<dl class=dl-horizontal>\n",
       "\t<dt>1</dt>\n",
       "\t\t<dd>1.32799466014116</dd>\n",
       "\t<dt>x1</dt>\n",
       "\t\t<dd>0.132694852335902</dd>\n",
       "\t<dt>x2</dt>\n",
       "\t\t<dd>0.398789510163962</dd>\n",
       "</dl>\n"
      ],
      "text/latex": [
       "\\begin{description*}\n",
       "\\item[1] 1.32799466014116\n",
       "\\item[x1] 0.132694852335902\n",
       "\\item[x2] 0.398789510163962\n",
       "\\end{description*}\n"
      ],
      "text/markdown": [
       "1\n",
       ":   1.32799466014116x1\n",
       ":   0.132694852335902x2\n",
       ":   0.398789510163962\n",
       "\n"
      ],
      "text/plain": [
       "                 x1        x2 \n",
       "1.3279947 0.1326949 0.3987895 "
      ]
     },
     "metadata": {},
     "output_type": "display_data"
    }
   ],
   "source": [
    "Err<- s2*solve(t(X)%*%X)    # Err = s2 (X'X)^{-1}\n",
    "Err\n",
    "\n",
    "sqrt(diag(Err)) "
   ]
  },
  {
   "cell_type": "markdown",
   "id": "f9831f88",
   "metadata": {},
   "source": [
    "3тя колонка, \"t value\" :  $t_i = \\hat{b}_i/\\sigma_i$.  \n",
    "За нульової гіпотези $H_0$: $b_i=0$, $i=0,1,2$, випадкові величини   $t_i = \\hat{b}_i/\\sigma_i$  мають розподіл Стьюдента: чисальник (після нормування) має стандартний нормальний розподіл, знаменник є коренем з $\\chi^2$ розподілом з  n-3 ступенями свободи. \n",
    "\n",
    "Перший елемент 3ї колонки:"
   ]
  },
  {
   "cell_type": "code",
   "execution_count": 23,
   "id": "218c0e46",
   "metadata": {},
   "outputs": [
    {
     "data": {
      "text/html": [
       "<strong>:</strong> 2.07390933642221"
      ],
      "text/latex": [
       "\\textbf{:} 2.07390933642221"
      ],
      "text/markdown": [
       "**:** 2.07390933642221"
      ],
      "text/plain": [
       "         \n",
       "2.073909 "
      ]
     },
     "metadata": {},
     "output_type": "display_data"
    }
   ],
   "source": [
    "t1 <- est_b[1]/sqrt(diag(Err))[1] \n",
    "t1"
   ]
  },
  {
   "cell_type": "markdown",
   "id": "7d3f2c11",
   "metadata": {},
   "source": [
    "Ми перевіряємо гіпотезу $H_0$ про те, що  $\\beta_i =0$, тому ми віднімаємо 0 від $\\hat{b}$. \n",
    "\n",
    "$p-value$.  Обчислимо перший елемент  в колонці \"Pr(>|t|)\". Нагадаємо, що ми маємо розподіл Стьюдента з n-k ступенями свободи. "
   ]
  },
  {
   "cell_type": "code",
   "execution_count": 24,
   "id": "ef5b009a",
   "metadata": {},
   "outputs": [
    {
     "data": {
      "text/html": [
       "<strong>:</strong> 0.0717916066857209"
      ],
      "text/latex": [
       "\\textbf{:} 0.0717916066857209"
      ],
      "text/markdown": [
       "**:** 0.0717916066857209"
      ],
      "text/plain": [
       "           \n",
       "0.07179161 "
      ]
     },
     "metadata": {},
     "output_type": "display_data"
    }
   ],
   "source": [
    "2*(1-pt(t1, n-k)) "
   ]
  },
  {
   "cell_type": "markdown",
   "id": "42885f26",
   "metadata": {},
   "source": [
    "Residual standard error: це квадратний корінь з  mean square error, ділену на \n",
    "кількість ступенів свободи. \n",
    "\n",
    "Обчислимо SSE та SST "
   ]
  },
  {
   "cell_type": "code",
   "execution_count": 25,
   "id": "f57780d7",
   "metadata": {},
   "outputs": [
    {
     "data": {
      "text/html": [
       "13.4863047740461"
      ],
      "text/latex": [
       "13.4863047740461"
      ],
      "text/markdown": [
       "13.4863047740461"
      ],
      "text/plain": [
       "[1] 13.4863"
      ]
     },
     "metadata": {},
     "output_type": "display_data"
    },
    {
     "data": {
      "text/html": [
       "1.29837902661579"
      ],
      "text/latex": [
       "1.29837902661579"
      ],
      "text/markdown": [
       "1.29837902661579"
      ],
      "text/plain": [
       "[1] 1.298379"
      ]
     },
     "metadata": {},
     "output_type": "display_data"
    },
    {
     "data": {
      "text/html": [
       "41.2726909090909"
      ],
      "text/latex": [
       "41.2726909090909"
      ],
      "text/markdown": [
       "41.2726909090909"
      ],
      "text/plain": [
       "[1] 41.27269"
      ]
     },
     "metadata": {},
     "output_type": "display_data"
    }
   ],
   "source": [
    "SSE=sum(model$residuals**2) \n",
    "SSE\n",
    "\n",
    "sqrt(SSE/(n-k)) # Residual Standard Error\n",
    "\n",
    "SST<-sum((y-mean(y))**2) \n",
    "SST\n"
   ]
  },
  {
   "cell_type": "markdown",
   "id": "3944caad",
   "metadata": {},
   "source": [
    "Multiple R Squared:  $R^2 = \\frac{SSR}{SST} = \\frac{SST- SSE}{SST}$ (Rencher, (10.30)). "
   ]
  },
  {
   "cell_type": "code",
   "execution_count": 26,
   "id": "d9e2438e",
   "metadata": {},
   "outputs": [
    {
     "data": {
      "text/html": [
       "0.673239023746921"
      ],
      "text/latex": [
       "0.673239023746921"
      ],
      "text/markdown": [
       "0.673239023746921"
      ],
      "text/plain": [
       "[1] 0.673239"
      ]
     },
     "metadata": {},
     "output_type": "display_data"
    }
   ],
   "source": [
    "R2<-(SST-SSE)/SST\n",
    "R2"
   ]
  },
  {
   "cell_type": "markdown",
   "id": "d6444390",
   "metadata": {},
   "source": [
    "Adjusted R-Squared:"
   ]
  },
  {
   "cell_type": "code",
   "execution_count": 27,
   "id": "0339b652",
   "metadata": {},
   "outputs": [
    {
     "data": {
      "text/html": [
       "0.591548779683651"
      ],
      "text/latex": [
       "0.591548779683651"
      ],
      "text/markdown": [
       "0.591548779683651"
      ],
      "text/plain": [
       "[1] 0.5915488"
      ]
     },
     "metadata": {},
     "output_type": "display_data"
    }
   ],
   "source": [
    "1-(SSE/(n-k))/(SST/(n-1))"
   ]
  },
  {
   "cell_type": "markdown",
   "id": "d7f541a5",
   "metadata": {},
   "source": [
    "Обчислюємо статистику $F$: "
   ]
  },
  {
   "cell_type": "code",
   "execution_count": 28,
   "id": "cd8d18c8",
   "metadata": {},
   "outputs": [
    {
     "data": {
      "text/html": [
       "8.24136384297605"
      ],
      "text/latex": [
       "8.24136384297605"
      ],
      "text/markdown": [
       "8.24136384297605"
      ],
      "text/plain": [
       "[1] 8.241364"
      ]
     },
     "metadata": {},
     "output_type": "display_data"
    }
   ],
   "source": [
    "F<-((SST-SSE)/(k-1))/ (SSE/(n-k))\n",
    "F"
   ]
  },
  {
   "cell_type": "markdown",
   "id": "b9f67db8",
   "metadata": {},
   "source": [
    "Порівняємо з теоретичним занченням $F$."
   ]
  },
  {
   "cell_type": "code",
   "execution_count": 29,
   "id": "2d5f82e2",
   "metadata": {},
   "outputs": [
    {
     "data": {
      "text/html": [
       "0.048475724782847"
      ],
      "text/latex": [
       "0.048475724782847"
      ],
      "text/markdown": [
       "0.048475724782847"
      ],
      "text/plain": [
       "[1] 0.04847572"
      ]
     },
     "metadata": {},
     "output_type": "display_data"
    }
   ],
   "source": [
    "pf(0.05, k-1, n-k)"
   ]
  },
  {
   "cell_type": "markdown",
   "id": "fe3294ff",
   "metadata": {},
   "source": [
    "А це наше  p-value. Оскільки воно менше за  0.05, ми відхиляємо  $H_0$:"
   ]
  },
  {
   "cell_type": "code",
   "execution_count": 30,
   "id": "0e7b1ce8",
   "metadata": {},
   "outputs": [
    {
     "data": {
      "text/html": [
       "0.0114004170679058"
      ],
      "text/latex": [
       "0.0114004170679058"
      ],
      "text/markdown": [
       "0.0114004170679058"
      ],
      "text/plain": [
       "[1] 0.01140042"
      ]
     },
     "metadata": {},
     "output_type": "display_data"
    }
   ],
   "source": [
    "1-pf(F, k-1, n-k)  "
   ]
  },
  {
   "cell_type": "markdown",
   "id": "0ecd2ca2",
   "metadata": {},
   "source": [
    "Додаткові посилання:  http://kokminglee.125mb.com/math/ttest2.html"
   ]
  },
  {
   "cell_type": "markdown",
   "id": "419f7a14",
   "metadata": {},
   "source": [
    "## 2. Приклад 2. MANOVA. \n",
    "\n",
    "Розглянемо приклад багатовимірної лінійної регресії. Див. Rencher, Table 10.1 Examples 10.4.2, 10.5.1. В цій таблиці наведено дані результату хімічного експерименту, в якому $X1$, $X2$, $X3$- це дані, а $Y1$, $Y2$, $Y3$ - відгук. "
   ]
  },
  {
   "cell_type": "code",
   "execution_count": 31,
   "id": "31ec98f3",
   "metadata": {},
   "outputs": [
    {
     "data": {
      "text/html": [
       "<table>\n",
       "<thead><tr><th scope=col>V1</th><th scope=col>Y1</th><th scope=col>Y2</th><th scope=col>Y3</th><th scope=col>X1</th><th scope=col>X2</th><th scope=col>X3</th></tr></thead>\n",
       "<tbody>\n",
       "\t<tr><td>1   </td><td>41.5</td><td>45.9</td><td>11.2</td><td>162 </td><td>23  </td><td>3   </td></tr>\n",
       "\t<tr><td>2   </td><td>33.8</td><td>53.3</td><td>11.2</td><td>162 </td><td>23  </td><td>8   </td></tr>\n",
       "\t<tr><td>3   </td><td>27.7</td><td>57.5</td><td>12.7</td><td>162 </td><td>30  </td><td>5   </td></tr>\n",
       "\t<tr><td>4   </td><td>21.7</td><td>58.8</td><td>16.0</td><td>162 </td><td>30  </td><td>8   </td></tr>\n",
       "\t<tr><td>5   </td><td>19.9</td><td>60.6</td><td>16.2</td><td>172 </td><td>25  </td><td>5   </td></tr>\n",
       "\t<tr><td>6   </td><td>15.0</td><td>58.0</td><td>22.6</td><td>172 </td><td>25  </td><td>8   </td></tr>\n",
       "</tbody>\n",
       "</table>\n"
      ],
      "text/latex": [
       "\\begin{tabular}{r|lllllll}\n",
       " V1 & Y1 & Y2 & Y3 & X1 & X2 & X3\\\\\n",
       "\\hline\n",
       "\t 1    & 41.5 & 45.9 & 11.2 & 162  & 23   & 3   \\\\\n",
       "\t 2    & 33.8 & 53.3 & 11.2 & 162  & 23   & 8   \\\\\n",
       "\t 3    & 27.7 & 57.5 & 12.7 & 162  & 30   & 5   \\\\\n",
       "\t 4    & 21.7 & 58.8 & 16.0 & 162  & 30   & 8   \\\\\n",
       "\t 5    & 19.9 & 60.6 & 16.2 & 172  & 25   & 5   \\\\\n",
       "\t 6    & 15.0 & 58.0 & 22.6 & 172  & 25   & 8   \\\\\n",
       "\\end{tabular}\n"
      ],
      "text/markdown": [
       "\n",
       "| V1 | Y1 | Y2 | Y3 | X1 | X2 | X3 |\n",
       "|---|---|---|---|---|---|---|\n",
       "| 1    | 41.5 | 45.9 | 11.2 | 162  | 23   | 3    |\n",
       "| 2    | 33.8 | 53.3 | 11.2 | 162  | 23   | 8    |\n",
       "| 3    | 27.7 | 57.5 | 12.7 | 162  | 30   | 5    |\n",
       "| 4    | 21.7 | 58.8 | 16.0 | 162  | 30   | 8    |\n",
       "| 5    | 19.9 | 60.6 | 16.2 | 172  | 25   | 5    |\n",
       "| 6    | 15.0 | 58.0 | 22.6 | 172  | 25   | 8    |\n",
       "\n"
      ],
      "text/plain": [
       "  V1 Y1   Y2   Y3   X1  X2 X3\n",
       "1 1  41.5 45.9 11.2 162 23 3 \n",
       "2 2  33.8 53.3 11.2 162 23 8 \n",
       "3 3  27.7 57.5 12.7 162 30 5 \n",
       "4 4  21.7 58.8 16.0 162 30 8 \n",
       "5 5  19.9 60.6 16.2 172 25 5 \n",
       "6 6  15.0 58.0 22.6 172 25 8 "
      ]
     },
     "metadata": {},
     "output_type": "display_data"
    }
   ],
   "source": [
    "chem<- read.table('T10_1_CHEM.DAT', col.names = c('V1', 'Y1','Y2','Y3','X1','X2','X3') )\n",
    "head(chem)"
   ]
  },
  {
   "cell_type": "markdown",
   "id": "ed579943",
   "metadata": {},
   "source": [
    "Згрупуємо дані по $X$  і $Y$. "
   ]
  },
  {
   "cell_type": "code",
   "execution_count": 32,
   "id": "7506e595",
   "metadata": {},
   "outputs": [
    {
     "ename": "ERROR",
     "evalue": "Error in chem %>% select(starts_with(\"X\")): konnte Funktion \"%>%\" nicht finden\n",
     "output_type": "error",
     "traceback": [
      "Error in chem %>% select(starts_with(\"X\")): konnte Funktion \"%>%\" nicht finden\nTraceback:\n"
     ]
    }
   ],
   "source": [
    "library(dplyr)\n",
    "chem_x<- chem %>% select(starts_with(\"X\")) \n",
    "x <- as.matrix(chem_x)\n",
    "chem_y <- chem %>% select(starts_with(\"y\"))\n",
    "y <- as.matrix(chem_y)\n",
    "y"
   ]
  },
  {
   "cell_type": "markdown",
   "id": "bd25b3db",
   "metadata": {},
   "source": [
    "Утворюємо модель лінійнох регресії: "
   ]
  },
  {
   "cell_type": "code",
   "execution_count": null,
   "id": "2cdb1bb9",
   "metadata": {},
   "outputs": [],
   "source": [
    "chem.lm<-lm(y~x)  \n",
    "chem.lm                                     "
   ]
  },
  {
   "cell_type": "markdown",
   "id": "dd0fac55",
   "metadata": {},
   "source": [
    "Ми от римали матрицю оцінки коефіцієнтів регресіх, тобто $\\hat{B}$. "
   ]
  },
  {
   "cell_type": "code",
   "execution_count": null,
   "id": "6e1de5ac",
   "metadata": {},
   "outputs": [],
   "source": [
    "chem.manova<- summary(manova(y~x), test=\"Wilks\")\n",
    "chem.manova"
   ]
  },
  {
   "cell_type": "markdown",
   "id": "d5a0bc57",
   "metadata": {},
   "source": [
    "Що таке  ``approx F'': \n",
    "\n",
    "nu_H = degrees of freedom in the model=q=3\n",
    "\n",
    "nu_E = degrees of freedom in the residuals = n-q-1=19-3-1=15 \n",
    "\n",
    "(Це перша колонка, Df)\n",
    "\n",
    "Друга колонка: Wilks Lambda: $\\Lambda = \\frac{|E|}{|E+H|}$. \n",
    "\n",
    "Approx F: це наближення  Lambda за допомогою розподілу Фішера (F-distr)  (Див Rancher, (6.15), p.187). \n",
    "\n",
    "num  Df : це df1 \n",
    "\n",
    "num  Df : це df2"
   ]
  },
  {
   "cell_type": "code",
   "execution_count": null,
   "id": "752c1eca",
   "metadata": {},
   "outputs": [],
   "source": [
    "nu_H = 3\n",
    "nu_E = 15 \n",
    "p = 3\n",
    "\n",
    "\n",
    "df1<- p* nu_H    # num Df, see Rencher, p. 178.\n",
    "df1 "
   ]
  },
  {
   "cell_type": "code",
   "execution_count": null,
   "id": "2c73c5d9",
   "metadata": {},
   "outputs": [],
   "source": [
    "w= nu_E +nu_H - 0.5* (p+ nu_H+1)\n",
    "\n",
    "t <- sqrt( ((p*nu_H)**2 -4)/(p**2 +nu_H**2 -5))\n",
    "\n",
    "\n",
    "df2 <- w*t - 0.5*(p* nu_H - 2)\n",
    "df2                        # den Df  "
   ]
  },
  {
   "cell_type": "markdown",
   "id": "220796c8",
   "metadata": {},
   "source": [
    "Обчислюємо $\\Lambda$: "
   ]
  },
  {
   "cell_type": "code",
   "execution_count": null,
   "id": "1f6db841",
   "metadata": {},
   "outputs": [],
   "source": [
    "H <- chem.manova$SS[1]\n",
    "H\n",
    "E <- chem.manova$SS[2]\n",
    "E"
   ]
  },
  {
   "cell_type": "code",
   "execution_count": null,
   "id": "ea7e6b9a",
   "metadata": {},
   "outputs": [],
   "source": [
    "E1 = as.matrix(E$Residuals)\n",
    "H1 = as.matrix(H$x)\n",
    "Lam = det(E1)/(det(E1+H1))\n",
    "Lam"
   ]
  },
  {
   "cell_type": "markdown",
   "id": "c8913acd",
   "metadata": {},
   "source": [
    "Рахуємо  F -статистику: "
   ]
  },
  {
   "cell_type": "code",
   "execution_count": null,
   "id": "62f123b7",
   "metadata": {},
   "outputs": [],
   "source": [
    "Lam = 0.033158\n",
    "F<- ((1-Lam**(1/t))/(Lam**(1/t)))* (df2/df1)\n",
    "F"
   ]
  },
  {
   "cell_type": "markdown",
   "id": "370dfbd0",
   "metadata": {},
   "source": [
    "Можна застосувати різні тести: \n",
    "\n",
    "chem.manova2<- summary(manova(y~x), test=\"Roy\")\n",
    "\n",
    "chem.manova3<- summary(manova(y~x), test=\"Pillai\")\n",
    "\n",
    "chem.manova4<- summary(manova(y~x),test=\"Hotelling-Lawley\")"
   ]
  },
  {
   "cell_type": "markdown",
   "id": "5c7085ca",
   "metadata": {},
   "source": [
    "Справка: \n",
    "\n",
    "help(summary.lm)\n",
    "\n",
    "Покоординатно: "
   ]
  },
  {
   "cell_type": "code",
   "execution_count": null,
   "id": "2e68822c",
   "metadata": {},
   "outputs": [],
   "source": [
    "summary(chem.lm) "
   ]
  },
  {
   "cell_type": "markdown",
   "id": "6671d2ce",
   "metadata": {},
   "source": [
    "Візуалізація: http://friendly.github.io/heplots/"
   ]
  },
  {
   "cell_type": "code",
   "execution_count": null,
   "id": "fb4136ed",
   "metadata": {},
   "outputs": [],
   "source": []
  }
 ],
 "metadata": {
  "kernelspec": {
   "display_name": "R",
   "language": "R",
   "name": "ir"
  },
  "language_info": {
   "codemirror_mode": "r",
   "file_extension": ".r",
   "mimetype": "text/x-r-source",
   "name": "R",
   "pygments_lexer": "r",
   "version": "3.6.1"
  }
 },
 "nbformat": 4,
 "nbformat_minor": 5
}
