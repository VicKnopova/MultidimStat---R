{
 "cells": [
  {
   "cell_type": "markdown",
   "id": "82af63dc",
   "metadata": {},
   "source": [
    "## Практика 5: Лінійна регресія\n",
    "\n",
    "Ми спочатку розглянемо одновимірний випадок. \n",
    "\n",
    "## Приклад 1.  ANOVA\n",
    "Розглянемо наступний приклад, в якому дані взято з  так званого \"квартету Анскомбе\" http://www.learnbymarketing.com/tutorials/explaining-the-lm-summary-in-r/.\n",
    "Квартет Анскомбе складається з чотирьох послідовностей, які задовольняють моделі лінійної регресії,   але їхні графіки істотно відрізняються.  \n",
    "#### Зауважимо, що наведені нижче обчислення залежать від згенерованих нормально розподілених випадкових величин, тому мають суто ілюстративну мету. \n",
    "\n",
    "Ми побудуємо лінійну модель та будемо перевіряти гіпотезу  \n",
    "\n",
    "$H_0$: Всі коефіцієнти = 0\n",
    "\n",
    "проти альтернативи \n",
    "\n",
    "\n",
    "$H_1$: Принаймні 1 з коефіцієнтів не  0. "
   ]
  },
  {
   "cell_type": "code",
   "execution_count": 1,
   "id": "e2053693",
   "metadata": {},
   "outputs": [],
   "source": [
    "y=c(8.04,6.95,7.58,8.81,8.33,9.96,7.24,4.26,10.84,4.82,5.68)\n",
    "x1=c(10,8,13,9,11,14,6,4,12,7,5)"
   ]
  },
  {
   "cell_type": "markdown",
   "id": "b970f852",
   "metadata": {},
   "source": [
    "Згенеруємо наступні дані:"
   ]
  },
  {
   "cell_type": "code",
   "execution_count": 3,
   "id": "3d062ead",
   "metadata": {},
   "outputs": [],
   "source": [
    "x2=sqrt(y)+rnorm(length(y))"
   ]
  },
  {
   "cell_type": "markdown",
   "id": "0ab60eb9",
   "metadata": {},
   "source": [
    "Задамо модель лінійної регресії:"
   ]
  },
  {
   "cell_type": "code",
   "execution_count": 4,
   "id": "129d21ff",
   "metadata": {},
   "outputs": [],
   "source": [
    "model=lm(y~x1+x2)"
   ]
  },
  {
   "cell_type": "markdown",
   "id": "bc74415e",
   "metadata": {},
   "source": [
    "Коротка інформація:"
   ]
  },
  {
   "cell_type": "code",
   "execution_count": 5,
   "id": "9f6bfa92",
   "metadata": {},
   "outputs": [
    {
     "data": {
      "text/plain": [
       "\n",
       "Call:\n",
       "lm(formula = y ~ x1 + x2)\n",
       "\n",
       "Coefficients:\n",
       "(Intercept)           x1           x2  \n",
       "     3.3850       0.6326      -0.6765  \n"
      ]
     },
     "metadata": {},
     "output_type": "display_data"
    }
   ],
   "source": [
    "model"
   ]
  },
  {
   "cell_type": "markdown",
   "id": "2e69f825",
   "metadata": {},
   "source": [
    "Повна інформація:"
   ]
  },
  {
   "cell_type": "code",
   "execution_count": 6,
   "id": "f43771bc",
   "metadata": {},
   "outputs": [
    {
     "data": {
      "text/plain": [
       "\n",
       "Call:\n",
       "lm(formula = y ~ x1 + x2)\n",
       "\n",
       "Residuals:\n",
       "    Min      1Q  Median      3Q     Max \n",
       "-1.5149 -0.4595 -0.3751  0.3799  1.8932 \n",
       "\n",
       "Coefficients:\n",
       "            Estimate Std. Error t value Pr(>|t|)   \n",
       "(Intercept)   3.3850     1.0735   3.153  0.01353 * \n",
       "x1            0.6326     0.1386   4.563  0.00184 **\n",
       "x2           -0.6765     0.4339  -1.559  0.15758   \n",
       "---\n",
       "Signif. codes:  0 '***' 0.001 '**' 0.01 '*' 0.05 '.' 0.1 ' ' 1\n",
       "\n",
       "Residual standard error: 1.149 on 8 degrees of freedom\n",
       "Multiple R-squared:  0.7443,\tAdjusted R-squared:  0.6803 \n",
       "F-statistic: 11.64 on 2 and 8 DF,  p-value: 0.004278\n"
      ]
     },
     "metadata": {},
     "output_type": "display_data"
    }
   ],
   "source": [
    "summary(model)"
   ]
  },
  {
   "cell_type": "markdown",
   "id": "af6a8e67",
   "metadata": {},
   "source": [
    "Інформація про коефіцієнти  (див. колонку Estimate)"
   ]
  },
  {
   "cell_type": "code",
   "execution_count": 7,
   "id": "6920570c",
   "metadata": {},
   "outputs": [
    {
     "data": {
      "text/html": [
       "<dl class=dl-horizontal>\n",
       "\t<dt>(Intercept)</dt>\n",
       "\t\t<dd>3.38497857699524</dd>\n",
       "\t<dt>x1</dt>\n",
       "\t\t<dd>0.632627115621079</dd>\n",
       "\t<dt>x2</dt>\n",
       "\t\t<dd>-0.676502492320322</dd>\n",
       "</dl>\n"
      ],
      "text/latex": [
       "\\begin{description*}\n",
       "\\item[(Intercept)] 3.38497857699524\n",
       "\\item[x1] 0.632627115621079\n",
       "\\item[x2] -0.676502492320322\n",
       "\\end{description*}\n"
      ],
      "text/markdown": [
       "(Intercept)\n",
       ":   3.38497857699524x1\n",
       ":   0.632627115621079x2\n",
       ":   -0.676502492320322\n",
       "\n"
      ],
      "text/plain": [
       "(Intercept)          x1          x2 \n",
       "  3.3849786   0.6326271  -0.6765025 "
      ]
     },
     "metadata": {},
     "output_type": "display_data"
    }
   ],
   "source": [
    "model$coefficients"
   ]
  },
  {
   "cell_type": "markdown",
   "id": "9e9b8d04",
   "metadata": {},
   "source": [
    "коефіцієнт при  x1-- це другий коефіцієнт в колоні  `Estimates'."
   ]
  },
  {
   "cell_type": "code",
   "execution_count": 8,
   "id": "bacbebb2",
   "metadata": {},
   "outputs": [
    {
     "data": {
      "text/html": [
       "<strong>x1:</strong> 0.632627115621079"
      ],
      "text/latex": [
       "\\textbf{x1:} 0.632627115621079"
      ],
      "text/markdown": [
       "**x1:** 0.632627115621079"
      ],
      "text/plain": [
       "       x1 \n",
       "0.6326271 "
      ]
     },
     "metadata": {},
     "output_type": "display_data"
    }
   ],
   "source": [
    "model$coefficients[2]  "
   ]
  },
  {
   "cell_type": "markdown",
   "id": "54645a64",
   "metadata": {},
   "source": [
    "Як отримати інформацію про кожну колонку:"
   ]
  },
  {
   "cell_type": "code",
   "execution_count": 9,
   "id": "51f03762",
   "metadata": {},
   "outputs": [
    {
     "data": {
      "text/html": [
       "<dl class=dl-horizontal>\n",
       "\t<dt>(Intercept)</dt>\n",
       "\t\t<dd>1.07352527585165</dd>\n",
       "\t<dt>x1</dt>\n",
       "\t\t<dd>0.138638969752647</dd>\n",
       "\t<dt>x2</dt>\n",
       "\t\t<dd>0.433896459815454</dd>\n",
       "</dl>\n"
      ],
      "text/latex": [
       "\\begin{description*}\n",
       "\\item[(Intercept)] 1.07352527585165\n",
       "\\item[x1] 0.138638969752647\n",
       "\\item[x2] 0.433896459815454\n",
       "\\end{description*}\n"
      ],
      "text/markdown": [
       "(Intercept)\n",
       ":   1.07352527585165x1\n",
       ":   0.138638969752647x2\n",
       ":   0.433896459815454\n",
       "\n"
      ],
      "text/plain": [
       "(Intercept)          x1          x2 \n",
       "  1.0735253   0.1386390   0.4338965 "
      ]
     },
     "metadata": {},
     "output_type": "display_data"
    }
   ],
   "source": [
    "coef(summary(model))[, \"Std. Error\"] "
   ]
  },
  {
   "cell_type": "code",
   "execution_count": 10,
   "id": "eac4b755",
   "metadata": {},
   "outputs": [
    {
     "data": {
      "text/html": [
       "<dl class=dl-horizontal>\n",
       "\t<dt>(Intercept)</dt>\n",
       "\t\t<dd>3.1531428771529</dd>\n",
       "\t<dt>x1</dt>\n",
       "\t\t<dd>4.56312620289793</dd>\n",
       "\t<dt>x2</dt>\n",
       "\t\t<dd>-1.55913346840408</dd>\n",
       "</dl>\n"
      ],
      "text/latex": [
       "\\begin{description*}\n",
       "\\item[(Intercept)] 3.1531428771529\n",
       "\\item[x1] 4.56312620289793\n",
       "\\item[x2] -1.55913346840408\n",
       "\\end{description*}\n"
      ],
      "text/markdown": [
       "(Intercept)\n",
       ":   3.1531428771529x1\n",
       ":   4.56312620289793x2\n",
       ":   -1.55913346840408\n",
       "\n"
      ],
      "text/plain": [
       "(Intercept)          x1          x2 \n",
       "   3.153143    4.563126   -1.559133 "
      ]
     },
     "metadata": {},
     "output_type": "display_data"
    }
   ],
   "source": [
    "coef(summary(model))[, \"t value\"]"
   ]
  },
  {
   "cell_type": "code",
   "execution_count": 11,
   "id": "27d335d3",
   "metadata": {},
   "outputs": [
    {
     "data": {
      "text/html": [
       "<dl class=dl-horizontal>\n",
       "\t<dt>(Intercept)</dt>\n",
       "\t\t<dd>0.0135341693927222</dd>\n",
       "\t<dt>x1</dt>\n",
       "\t\t<dd>0.00184233151279831</dd>\n",
       "\t<dt>x2</dt>\n",
       "\t\t<dd>0.157583420985832</dd>\n",
       "</dl>\n"
      ],
      "text/latex": [
       "\\begin{description*}\n",
       "\\item[(Intercept)] 0.0135341693927222\n",
       "\\item[x1] 0.00184233151279831\n",
       "\\item[x2] 0.157583420985832\n",
       "\\end{description*}\n"
      ],
      "text/markdown": [
       "(Intercept)\n",
       ":   0.0135341693927222x1\n",
       ":   0.00184233151279831x2\n",
       ":   0.157583420985832\n",
       "\n"
      ],
      "text/plain": [
       "(Intercept)          x1          x2 \n",
       "0.013534169 0.001842332 0.157583421 "
      ]
     },
     "metadata": {},
     "output_type": "display_data"
    }
   ],
   "source": [
    "coef(summary(model))[, \"Pr(>|t|)\"]"
   ]
  },
  {
   "cell_type": "markdown",
   "id": "4408de17",
   "metadata": {},
   "source": [
    "Визначимо число змінних і число випробувань:"
   ]
  },
  {
   "cell_type": "code",
   "execution_count": 12,
   "id": "6b12207c",
   "metadata": {},
   "outputs": [
    {
     "data": {
      "text/html": [
       "3"
      ],
      "text/latex": [
       "3"
      ],
      "text/markdown": [
       "3"
      ],
      "text/plain": [
       "[1] 3"
      ]
     },
     "metadata": {},
     "output_type": "display_data"
    },
    {
     "data": {
      "text/html": [
       "11"
      ],
      "text/latex": [
       "11"
      ],
      "text/markdown": [
       "11"
      ],
      "text/plain": [
       "[1] 11"
      ]
     },
     "metadata": {},
     "output_type": "display_data"
    }
   ],
   "source": [
    "k=length(model$coefficients)   \n",
    "k\n",
    "n=length(model$residuals)           \n",
    "n"
   ]
  },
  {
   "cell_type": "markdown",
   "id": "f0fe8238",
   "metadata": {},
   "source": [
    "Інформація про оцінку  $\\hat{y}$: розкид та, власне, $\\hat{y}$"
   ]
  },
  {
   "cell_type": "code",
   "execution_count": 13,
   "id": "a56373fa",
   "metadata": {},
   "outputs": [
    {
     "data": {
      "text/plain": [
       "   Min. 1st Qu.  Median    Mean 3rd Qu.    Max. \n",
       "-1.5149 -0.4595 -0.3751  0.0000  0.3799  1.8932 "
      ]
     },
     "metadata": {},
     "output_type": "display_data"
    }
   ],
   "source": [
    "summary(y-model$fitted.values)  "
   ]
  },
  {
   "cell_type": "code",
   "execution_count": 14,
   "id": "530dbd53",
   "metadata": {},
   "outputs": [
    {
     "data": {
      "text/html": [
       "<dl class=dl-horizontal>\n",
       "\t<dt>1</dt>\n",
       "\t\t<dd>8.41511600048205</dd>\n",
       "\t<dt>2</dt>\n",
       "\t\t<dd>7.36650707404342</dd>\n",
       "\t<dt>3</dt>\n",
       "\t\t<dd>9.09487420860384</dd>\n",
       "\t<dt>4</dt>\n",
       "\t\t<dd>7.21633501363135</dd>\n",
       "\t<dt>5</dt>\n",
       "\t\t<dd>8.22494237072719</dd>\n",
       "\t<dt>6</dt>\n",
       "\t\t<dd>10.3461915056438</dd>\n",
       "\t<dt>7</dt>\n",
       "\t\t<dd>7.30297796542338</dd>\n",
       "\t<dt>8</dt>\n",
       "\t\t<dd>4.76255579146834</dd>\n",
       "\t<dt>9</dt>\n",
       "\t\t<dd>8.94683994411619</dd>\n",
       "\t<dt>10</dt>\n",
       "\t\t<dd>5.80844274708886</dd>\n",
       "\t<dt>11</dt>\n",
       "\t\t<dd>5.02521737877158</dd>\n",
       "</dl>\n"
      ],
      "text/latex": [
       "\\begin{description*}\n",
       "\\item[1] 8.41511600048205\n",
       "\\item[2] 7.36650707404342\n",
       "\\item[3] 9.09487420860384\n",
       "\\item[4] 7.21633501363135\n",
       "\\item[5] 8.22494237072719\n",
       "\\item[6] 10.3461915056438\n",
       "\\item[7] 7.30297796542338\n",
       "\\item[8] 4.76255579146834\n",
       "\\item[9] 8.94683994411619\n",
       "\\item[10] 5.80844274708886\n",
       "\\item[11] 5.02521737877158\n",
       "\\end{description*}\n"
      ],
      "text/markdown": [
       "1\n",
       ":   8.415116000482052\n",
       ":   7.366507074043423\n",
       ":   9.094874208603844\n",
       ":   7.216335013631355\n",
       ":   8.224942370727196\n",
       ":   10.34619150564387\n",
       ":   7.302977965423388\n",
       ":   4.762555791468349\n",
       ":   8.9468399441161910\n",
       ":   5.8084427470888611\n",
       ":   5.02521737877158\n",
       "\n"
      ],
      "text/plain": [
       "        1         2         3         4         5         6         7         8 \n",
       " 8.415116  7.366507  9.094874  7.216335  8.224942 10.346192  7.302978  4.762556 \n",
       "        9        10        11 \n",
       " 8.946840  5.808443  5.025217 "
      ]
     },
     "metadata": {},
     "output_type": "display_data"
    }
   ],
   "source": [
    "model$fitted.values"
   ]
  },
  {
   "cell_type": "markdown",
   "id": "009008ed",
   "metadata": {},
   "source": [
    "Інформація про залишки $\\epsilon_i= y_i - \\hat{y}_i$: "
   ]
  },
  {
   "cell_type": "code",
   "execution_count": 16,
   "id": "ed054d67",
   "metadata": {},
   "outputs": [
    {
     "data": {
      "text/html": [
       "<dl class=dl-horizontal>\n",
       "\t<dt>1</dt>\n",
       "\t\t<dd>-0.375116000482049</dd>\n",
       "\t<dt>2</dt>\n",
       "\t\t<dd>-0.41650707404342</dd>\n",
       "\t<dt>3</dt>\n",
       "\t\t<dd>-1.51487420860384</dd>\n",
       "\t<dt>4</dt>\n",
       "\t\t<dd>1.59366498636865</dd>\n",
       "\t<dt>5</dt>\n",
       "\t\t<dd>0.105057629272808</dd>\n",
       "\t<dt>6</dt>\n",
       "\t\t<dd>-0.386191505643786</dd>\n",
       "\t<dt>7</dt>\n",
       "\t\t<dd>-0.0629779654233837</dd>\n",
       "\t<dt>8</dt>\n",
       "\t\t<dd>-0.502555791468343</dd>\n",
       "\t<dt>9</dt>\n",
       "\t\t<dd>1.89316005588381</dd>\n",
       "\t<dt>10</dt>\n",
       "\t\t<dd>-0.988442747088858</dd>\n",
       "\t<dt>11</dt>\n",
       "\t\t<dd>0.654782621228421</dd>\n",
       "</dl>\n"
      ],
      "text/latex": [
       "\\begin{description*}\n",
       "\\item[1] -0.375116000482049\n",
       "\\item[2] -0.41650707404342\n",
       "\\item[3] -1.51487420860384\n",
       "\\item[4] 1.59366498636865\n",
       "\\item[5] 0.105057629272808\n",
       "\\item[6] -0.386191505643786\n",
       "\\item[7] -0.0629779654233837\n",
       "\\item[8] -0.502555791468343\n",
       "\\item[9] 1.89316005588381\n",
       "\\item[10] -0.988442747088858\n",
       "\\item[11] 0.654782621228421\n",
       "\\end{description*}\n"
      ],
      "text/markdown": [
       "1\n",
       ":   -0.3751160004820492\n",
       ":   -0.416507074043423\n",
       ":   -1.514874208603844\n",
       ":   1.593664986368655\n",
       ":   0.1050576292728086\n",
       ":   -0.3861915056437867\n",
       ":   -0.06297796542338378\n",
       ":   -0.5025557914683439\n",
       ":   1.8931600558838110\n",
       ":   -0.98844274708885811\n",
       ":   0.654782621228421\n",
       "\n"
      ],
      "text/plain": [
       "          1           2           3           4           5           6 \n",
       "-0.37511600 -0.41650707 -1.51487421  1.59366499  0.10505763 -0.38619151 \n",
       "          7           8           9          10          11 \n",
       "-0.06297797 -0.50255579  1.89316006 -0.98844275  0.65478262 "
      ]
     },
     "metadata": {},
     "output_type": "display_data"
    }
   ],
   "source": [
    "model$residuals                   "
   ]
  },
  {
   "cell_type": "markdown",
   "id": "ccf3a6db",
   "metadata": {},
   "source": [
    "Можна отримати варіаційний ряд: "
   ]
  },
  {
   "cell_type": "code",
   "execution_count": 17,
   "id": "389145a2",
   "metadata": {},
   "outputs": [
    {
     "data": {
      "text/html": [
       "<dl class=dl-horizontal>\n",
       "\t<dt>3</dt>\n",
       "\t\t<dd>-1.51487420860384</dd>\n",
       "\t<dt>10</dt>\n",
       "\t\t<dd>-0.988442747088858</dd>\n",
       "\t<dt>8</dt>\n",
       "\t\t<dd>-0.502555791468343</dd>\n",
       "\t<dt>2</dt>\n",
       "\t\t<dd>-0.41650707404342</dd>\n",
       "\t<dt>6</dt>\n",
       "\t\t<dd>-0.386191505643786</dd>\n",
       "\t<dt>1</dt>\n",
       "\t\t<dd>-0.375116000482049</dd>\n",
       "\t<dt>7</dt>\n",
       "\t\t<dd>-0.0629779654233837</dd>\n",
       "\t<dt>5</dt>\n",
       "\t\t<dd>0.105057629272808</dd>\n",
       "\t<dt>11</dt>\n",
       "\t\t<dd>0.654782621228421</dd>\n",
       "\t<dt>4</dt>\n",
       "\t\t<dd>1.59366498636865</dd>\n",
       "\t<dt>9</dt>\n",
       "\t\t<dd>1.89316005588381</dd>\n",
       "</dl>\n"
      ],
      "text/latex": [
       "\\begin{description*}\n",
       "\\item[3] -1.51487420860384\n",
       "\\item[10] -0.988442747088858\n",
       "\\item[8] -0.502555791468343\n",
       "\\item[2] -0.41650707404342\n",
       "\\item[6] -0.386191505643786\n",
       "\\item[1] -0.375116000482049\n",
       "\\item[7] -0.0629779654233837\n",
       "\\item[5] 0.105057629272808\n",
       "\\item[11] 0.654782621228421\n",
       "\\item[4] 1.59366498636865\n",
       "\\item[9] 1.89316005588381\n",
       "\\end{description*}\n"
      ],
      "text/markdown": [
       "3\n",
       ":   -1.5148742086038410\n",
       ":   -0.9884427470888588\n",
       ":   -0.5025557914683432\n",
       ":   -0.416507074043426\n",
       ":   -0.3861915056437861\n",
       ":   -0.3751160004820497\n",
       ":   -0.06297796542338375\n",
       ":   0.10505762927280811\n",
       ":   0.6547826212284214\n",
       ":   1.593664986368659\n",
       ":   1.89316005588381\n",
       "\n"
      ],
      "text/plain": [
       "          3          10           8           2           6           1 \n",
       "-1.51487421 -0.98844275 -0.50255579 -0.41650707 -0.38619151 -0.37511600 \n",
       "          7           5          11           4           9 \n",
       "-0.06297797  0.10505763  0.65478262  1.59366499  1.89316006 "
      ]
     },
     "metadata": {},
     "output_type": "display_data"
    }
   ],
   "source": [
    "sort(model$residuals)"
   ]
  },
  {
   "cell_type": "markdown",
   "id": "55f7f297",
   "metadata": {},
   "source": [
    "Пряме обчислення $\\hat{y}$: "
   ]
  },
  {
   "cell_type": "code",
   "execution_count": 19,
   "id": "d4acf669",
   "metadata": {},
   "outputs": [
    {
     "data": {
      "text/html": [
       "<ol class=list-inline>\n",
       "\t<li>8.41511600048205</li>\n",
       "\t<li>7.36650707404342</li>\n",
       "\t<li>9.09487420860384</li>\n",
       "\t<li>7.21633501363135</li>\n",
       "\t<li>8.22494237072719</li>\n",
       "\t<li>10.3461915056438</li>\n",
       "\t<li>7.30297796542338</li>\n",
       "\t<li>4.76255579146834</li>\n",
       "\t<li>8.94683994411619</li>\n",
       "\t<li>5.80844274708886</li>\n",
       "\t<li>5.02521737877158</li>\n",
       "</ol>\n"
      ],
      "text/latex": [
       "\\begin{enumerate*}\n",
       "\\item 8.41511600048205\n",
       "\\item 7.36650707404342\n",
       "\\item 9.09487420860384\n",
       "\\item 7.21633501363135\n",
       "\\item 8.22494237072719\n",
       "\\item 10.3461915056438\n",
       "\\item 7.30297796542338\n",
       "\\item 4.76255579146834\n",
       "\\item 8.94683994411619\n",
       "\\item 5.80844274708886\n",
       "\\item 5.02521737877158\n",
       "\\end{enumerate*}\n"
      ],
      "text/markdown": [
       "1. 8.41511600048205\n",
       "2. 7.36650707404342\n",
       "3. 9.09487420860384\n",
       "4. 7.21633501363135\n",
       "5. 8.22494237072719\n",
       "6. 10.3461915056438\n",
       "7. 7.30297796542338\n",
       "8. 4.76255579146834\n",
       "9. 8.94683994411619\n",
       "10. 5.80844274708886\n",
       "11. 5.02521737877158\n",
       "\n",
       "\n"
      ],
      "text/plain": [
       " [1]  8.415116  7.366507  9.094874  7.216335  8.224942 10.346192  7.302978\n",
       " [8]  4.762556  8.946840  5.808443  5.025217"
      ]
     },
     "metadata": {},
     "output_type": "display_data"
    }
   ],
   "source": [
    "model$coefficients[1] + model$coefficients[2]*x1+ model$coefficients[3]*x2"
   ]
  },
  {
   "cell_type": "markdown",
   "id": "6add684b",
   "metadata": {},
   "source": [
    "Перевірка: отримаємо $y = \\epsilon+ \\hat{y}$. "
   ]
  },
  {
   "cell_type": "code",
   "execution_count": 20,
   "id": "0d3d7b13",
   "metadata": {},
   "outputs": [
    {
     "data": {
      "text/html": [
       "<dl class=dl-horizontal>\n",
       "\t<dt>1</dt>\n",
       "\t\t<dd>8.04</dd>\n",
       "\t<dt>2</dt>\n",
       "\t\t<dd>6.95</dd>\n",
       "\t<dt>3</dt>\n",
       "\t\t<dd>7.58</dd>\n",
       "\t<dt>4</dt>\n",
       "\t\t<dd>8.81</dd>\n",
       "\t<dt>5</dt>\n",
       "\t\t<dd>8.33</dd>\n",
       "\t<dt>6</dt>\n",
       "\t\t<dd>9.96</dd>\n",
       "\t<dt>7</dt>\n",
       "\t\t<dd>7.24</dd>\n",
       "\t<dt>8</dt>\n",
       "\t\t<dd>4.26</dd>\n",
       "\t<dt>9</dt>\n",
       "\t\t<dd>10.84</dd>\n",
       "\t<dt>10</dt>\n",
       "\t\t<dd>4.82</dd>\n",
       "\t<dt>11</dt>\n",
       "\t\t<dd>5.68</dd>\n",
       "</dl>\n"
      ],
      "text/latex": [
       "\\begin{description*}\n",
       "\\item[1] 8.04\n",
       "\\item[2] 6.95\n",
       "\\item[3] 7.58\n",
       "\\item[4] 8.81\n",
       "\\item[5] 8.33\n",
       "\\item[6] 9.96\n",
       "\\item[7] 7.24\n",
       "\\item[8] 4.26\n",
       "\\item[9] 10.84\n",
       "\\item[10] 4.82\n",
       "\\item[11] 5.68\n",
       "\\end{description*}\n"
      ],
      "text/markdown": [
       "1\n",
       ":   8.042\n",
       ":   6.953\n",
       ":   7.584\n",
       ":   8.815\n",
       ":   8.336\n",
       ":   9.967\n",
       ":   7.248\n",
       ":   4.269\n",
       ":   10.8410\n",
       ":   4.8211\n",
       ":   5.68\n",
       "\n"
      ],
      "text/plain": [
       "    1     2     3     4     5     6     7     8     9    10    11 \n",
       " 8.04  6.95  7.58  8.81  8.33  9.96  7.24  4.26 10.84  4.82  5.68 "
      ]
     },
     "metadata": {},
     "output_type": "display_data"
    }
   ],
   "source": [
    "model$residuals+  model$fitted.values "
   ]
  },
  {
   "cell_type": "markdown",
   "id": "4afaee61",
   "metadata": {},
   "source": [
    "Зчитаємо  $\\hat{b}$ як вектор:"
   ]
  },
  {
   "cell_type": "code",
   "execution_count": 21,
   "id": "06de3340",
   "metadata": {},
   "outputs": [
    {
     "data": {
      "text/html": [
       "<ol class=list-inline>\n",
       "\t<li>3.38497857699524</li>\n",
       "\t<li>0.632627115621079</li>\n",
       "\t<li>-0.676502492320322</li>\n",
       "</ol>\n"
      ],
      "text/latex": [
       "\\begin{enumerate*}\n",
       "\\item 3.38497857699524\n",
       "\\item 0.632627115621079\n",
       "\\item -0.676502492320322\n",
       "\\end{enumerate*}\n"
      ],
      "text/markdown": [
       "1. 3.38497857699524\n",
       "2. 0.632627115621079\n",
       "3. -0.676502492320322\n",
       "\n",
       "\n"
      ],
      "text/plain": [
       "[1]  3.3849786  0.6326271 -0.6765025"
      ]
     },
     "metadata": {},
     "output_type": "display_data"
    }
   ],
   "source": [
    "b_est<- as.vector(model$coefficients) \n",
    "b_est"
   ]
  },
  {
   "cell_type": "markdown",
   "id": "a667d8cc",
   "metadata": {},
   "source": [
    "Обчислення  $\\hat{b}= (X^T X)^{-1} X^T Y$: "
   ]
  },
  {
   "cell_type": "markdown",
   "id": "5360693a",
   "metadata": {},
   "source": [
    "Отримаємо те  саме, що в колонці  `Estimates`: "
   ]
  },
  {
   "cell_type": "code",
   "execution_count": 23,
   "id": "24637d6d",
   "metadata": {},
   "outputs": [
    {
     "data": {
      "text/html": [
       "<table>\n",
       "<tbody>\n",
       "\t<tr><th scope=row></th><td> 3.3849786</td></tr>\n",
       "\t<tr><th scope=row>x1</th><td> 0.6326271</td></tr>\n",
       "\t<tr><th scope=row>x2</th><td>-0.6765025</td></tr>\n",
       "</tbody>\n",
       "</table>\n"
      ],
      "text/latex": [
       "\\begin{tabular}{r|l}\n",
       "\t &  3.3849786\\\\\n",
       "\tx1 &  0.6326271\\\\\n",
       "\tx2 & -0.6765025\\\\\n",
       "\\end{tabular}\n"
      ],
      "text/markdown": [
       "\n",
       "|  |  3.3849786 |\n",
       "| x1 |  0.6326271 |\n",
       "| x2 | -0.6765025 |\n",
       "\n"
      ],
      "text/plain": [
       "   [,1]      \n",
       "    3.3849786\n",
       "x1  0.6326271\n",
       "x2 -0.6765025"
      ]
     },
     "metadata": {},
     "output_type": "display_data"
    }
   ],
   "source": [
    "X<-cbind(1,x1,x2)   \n",
    "est_b<-solve(t(X)%*% X) %*% (t(X)%*%y)\n",
    "est_b "
   ]
  },
  {
   "cell_type": "markdown",
   "id": "4a9ffe63",
   "metadata": {},
   "source": [
    "Обчислення похибки в оцінці  $b$. \n",
    "\n",
    "Обчислимо $s^2 = SSE/(n-q-1)$,  $n=11$,  $q=2$,  $n-q-1=8$."
   ]
  },
  {
   "cell_type": "code",
   "execution_count": 25,
   "id": "648fd9c7",
   "metadata": {},
   "outputs": [
    {
     "data": {
      "text/html": [
       "1.31941574848909"
      ],
      "text/latex": [
       "1.31941574848909"
      ],
      "text/markdown": [
       "1.31941574848909"
      ],
      "text/plain": [
       "[1] 1.319416"
      ]
     },
     "metadata": {},
     "output_type": "display_data"
    }
   ],
   "source": [
    "s2<-sum(model$residuals**2)/(n-k)\n",
    "s2"
   ]
  },
  {
   "cell_type": "markdown",
   "id": "1013db6f",
   "metadata": {},
   "source": [
    "Обчислимо Residual Standard Error:"
   ]
  },
  {
   "cell_type": "code",
   "execution_count": 26,
   "id": "7daf6b97",
   "metadata": {},
   "outputs": [
    {
     "data": {
      "text/html": [
       "1.14865823833249"
      ],
      "text/latex": [
       "1.14865823833249"
      ],
      "text/markdown": [
       "1.14865823833249"
      ],
      "text/plain": [
       "[1] 1.148658"
      ]
     },
     "metadata": {},
     "output_type": "display_data"
    }
   ],
   "source": [
    "sqrt(s2)"
   ]
  },
  {
   "cell_type": "markdown",
   "id": "4339ce64",
   "metadata": {},
   "source": [
    "Обчислимо $\\sqrt{s2 (X'X)^{-1}}$ -- це  error в колонці   Std. Error. "
   ]
  },
  {
   "cell_type": "code",
   "execution_count": 27,
   "id": "bec19d27",
   "metadata": {},
   "outputs": [
    {
     "data": {
      "text/html": [
       "<table>\n",
       "<thead><tr><th></th><th scope=col></th><th scope=col>x1</th><th scope=col>x2</th></tr></thead>\n",
       "<tbody>\n",
       "\t<tr><th scope=row></th><td> 1.15245652</td><td>-0.08696754</td><td>-0.10711167</td></tr>\n",
       "\t<tr><th scope=row>x1</th><td>-0.08696754</td><td> 0.01922076</td><td>-0.03688394</td></tr>\n",
       "\t<tr><th scope=row>x2</th><td>-0.10711167</td><td>-0.03688394</td><td> 0.18826614</td></tr>\n",
       "</tbody>\n",
       "</table>\n"
      ],
      "text/latex": [
       "\\begin{tabular}{r|lll}\n",
       "  &  & x1 & x2\\\\\n",
       "\\hline\n",
       "\t &  1.15245652 & -0.08696754 & -0.10711167\\\\\n",
       "\tx1 & -0.08696754 &  0.01922076 & -0.03688394\\\\\n",
       "\tx2 & -0.10711167 & -0.03688394 &  0.18826614\\\\\n",
       "\\end{tabular}\n"
      ],
      "text/markdown": [
       "\n",
       "| <!--/--> |  | x1 | x2 |\n",
       "|---|---|---|---|\n",
       "|  |  1.15245652 | -0.08696754 | -0.10711167 |\n",
       "| x1 | -0.08696754 |  0.01922076 | -0.03688394 |\n",
       "| x2 | -0.10711167 | -0.03688394 |  0.18826614 |\n",
       "\n"
      ],
      "text/plain": [
       "               x1          x2         \n",
       "    1.15245652 -0.08696754 -0.10711167\n",
       "x1 -0.08696754  0.01922076 -0.03688394\n",
       "x2 -0.10711167 -0.03688394  0.18826614"
      ]
     },
     "metadata": {},
     "output_type": "display_data"
    },
    {
     "data": {
      "text/html": [
       "<dl class=dl-horizontal>\n",
       "\t<dt>1</dt>\n",
       "\t\t<dd>1.07352527585165</dd>\n",
       "\t<dt>x1</dt>\n",
       "\t\t<dd>0.138638969752647</dd>\n",
       "\t<dt>x2</dt>\n",
       "\t\t<dd>0.433896459815454</dd>\n",
       "</dl>\n"
      ],
      "text/latex": [
       "\\begin{description*}\n",
       "\\item[1] 1.07352527585165\n",
       "\\item[x1] 0.138638969752647\n",
       "\\item[x2] 0.433896459815454\n",
       "\\end{description*}\n"
      ],
      "text/markdown": [
       "1\n",
       ":   1.07352527585165x1\n",
       ":   0.138638969752647x2\n",
       ":   0.433896459815454\n",
       "\n"
      ],
      "text/plain": [
       "                 x1        x2 \n",
       "1.0735253 0.1386390 0.4338965 "
      ]
     },
     "metadata": {},
     "output_type": "display_data"
    }
   ],
   "source": [
    "Err<- s2*solve(t(X)%*%X)    # Err = s2 (X'X)^{-1}\n",
    "Err\n",
    "\n",
    "sqrt(diag(Err)) "
   ]
  },
  {
   "cell_type": "markdown",
   "id": "f9831f88",
   "metadata": {},
   "source": [
    "3тя колонка, \"t value\" :  $t_i = \\hat{b}_i/\\sigma_i$.  \n",
    "За нульової гіпотези $H_0$: $b_i=0$, $i=0,1,2$, випадкові величини   $t_i = \\hat{b}_i/\\sigma_i$  мають розподіл Стьюдента: чисальник (після нормування) має стандартний нормальний розподіл, знаменник є коренем з $\\chi^2$ розподілом з  n-3 ступенями свободи. \n",
    "\n",
    "Перший елемент 3ї колонки:"
   ]
  },
  {
   "cell_type": "code",
   "execution_count": 30,
   "id": "218c0e46",
   "metadata": {},
   "outputs": [
    {
     "data": {
      "text/html": [
       "<strong>:</strong> 3.15314287715293"
      ],
      "text/latex": [
       "\\textbf{:} 3.15314287715293"
      ],
      "text/markdown": [
       "**:** 3.15314287715293"
      ],
      "text/plain": [
       "         \n",
       "3.153143 "
      ]
     },
     "metadata": {},
     "output_type": "display_data"
    }
   ],
   "source": [
    "t1 <- est_b[1]/sqrt(diag(Err))[1] \n",
    "t1"
   ]
  },
  {
   "cell_type": "markdown",
   "id": "7d3f2c11",
   "metadata": {},
   "source": [
    "Ми перевіряємо гіпотезу $H_0$ про те, що  $\\beta_i =0$, тому ми віднімаємо 0 від $\\hat{b}$. \n",
    "\n",
    "$p-value$.  Обчислимо перший елемент  в колонці \"Pr(>|t|)\". Нагадаємо, що ми маємо розподіл Стьюдента з n-k ступенями свободи. "
   ]
  },
  {
   "cell_type": "code",
   "execution_count": 31,
   "id": "ef5b009a",
   "metadata": {},
   "outputs": [
    {
     "data": {
      "text/html": [
       "<strong>:</strong> 0.0135341693927216"
      ],
      "text/latex": [
       "\\textbf{:} 0.0135341693927216"
      ],
      "text/markdown": [
       "**:** 0.0135341693927216"
      ],
      "text/plain": [
       "           \n",
       "0.01353417 "
      ]
     },
     "metadata": {},
     "output_type": "display_data"
    }
   ],
   "source": [
    "2*(1-pt(t1, n-k)) "
   ]
  },
  {
   "cell_type": "markdown",
   "id": "42885f26",
   "metadata": {},
   "source": [
    "Residual standard error: це квадратний корінь з  mean square error, ділену на \n",
    "кількість ступенів свободи. \n",
    "\n",
    "Обчислимо SSE та SST "
   ]
  },
  {
   "cell_type": "code",
   "execution_count": 32,
   "id": "f57780d7",
   "metadata": {},
   "outputs": [
    {
     "data": {
      "text/html": [
       "10.5553259879128"
      ],
      "text/latex": [
       "10.5553259879128"
      ],
      "text/markdown": [
       "10.5553259879128"
      ],
      "text/plain": [
       "[1] 10.55533"
      ]
     },
     "metadata": {},
     "output_type": "display_data"
    },
    {
     "data": {
      "text/html": [
       "1.14865823833249"
      ],
      "text/latex": [
       "1.14865823833249"
      ],
      "text/markdown": [
       "1.14865823833249"
      ],
      "text/plain": [
       "[1] 1.148658"
      ]
     },
     "metadata": {},
     "output_type": "display_data"
    },
    {
     "data": {
      "text/html": [
       "41.2726909090909"
      ],
      "text/latex": [
       "41.2726909090909"
      ],
      "text/markdown": [
       "41.2726909090909"
      ],
      "text/plain": [
       "[1] 41.27269"
      ]
     },
     "metadata": {},
     "output_type": "display_data"
    }
   ],
   "source": [
    "SSE=sum(model$residuals**2) \n",
    "SSE\n",
    "\n",
    "sqrt(SSE/(n-k)) # Residual Standard Error\n",
    "\n",
    "SST<-sum((y-mean(y))**2) \n",
    "SST\n"
   ]
  },
  {
   "cell_type": "markdown",
   "id": "3944caad",
   "metadata": {},
   "source": [
    "Multiple R Squared:  $R^2 = \\frac{SSR}{SST} = \\frac{SST- SSE}{SST}$ (Rencher, (10.30)). "
   ]
  },
  {
   "cell_type": "code",
   "execution_count": 33,
   "id": "d9e2438e",
   "metadata": {},
   "outputs": [
    {
     "data": {
      "text/html": [
       "0.744253990825013"
      ],
      "text/latex": [
       "0.744253990825013"
      ],
      "text/markdown": [
       "0.744253990825013"
      ],
      "text/plain": [
       "[1] 0.744254"
      ]
     },
     "metadata": {},
     "output_type": "display_data"
    }
   ],
   "source": [
    "R2<-(SST-SSE)/SST\n",
    "R2"
   ]
  },
  {
   "cell_type": "markdown",
   "id": "d6444390",
   "metadata": {},
   "source": [
    "Adjusted R-Squared:"
   ]
  },
  {
   "cell_type": "code",
   "execution_count": 34,
   "id": "0339b652",
   "metadata": {},
   "outputs": [
    {
     "data": {
      "text/html": [
       "0.680317488531267"
      ],
      "text/latex": [
       "0.680317488531267"
      ],
      "text/markdown": [
       "0.680317488531267"
      ],
      "text/plain": [
       "[1] 0.6803175"
      ]
     },
     "metadata": {},
     "output_type": "display_data"
    }
   ],
   "source": [
    "1-(SSE/(n-k))/(SST/(n-1))"
   ]
  },
  {
   "cell_type": "markdown",
   "id": "d7f541a5",
   "metadata": {},
   "source": [
    "Обчислюємо статистику $F$: "
   ]
  },
  {
   "cell_type": "code",
   "execution_count": 75,
   "id": "cd8d18c8",
   "metadata": {},
   "outputs": [
    {
     "data": {
      "text/html": [
       "11.6405177656677"
      ],
      "text/latex": [
       "11.6405177656677"
      ],
      "text/markdown": [
       "11.6405177656677"
      ],
      "text/plain": [
       "[1] 11.64052"
      ]
     },
     "metadata": {},
     "output_type": "display_data"
    }
   ],
   "source": [
    "F<-((SST-SSE)/(k-1))/ (SSE/(n-k))\n",
    "F"
   ]
  },
  {
   "cell_type": "markdown",
   "id": "b9f67db8",
   "metadata": {},
   "source": [
    "Порівняємо з теоретичним занченням $F$."
   ]
  },
  {
   "cell_type": "code",
   "execution_count": 77,
   "id": "2d5f82e2",
   "metadata": {},
   "outputs": [
    {
     "data": {
      "text/html": [
       "0.048475724782847"
      ],
      "text/latex": [
       "0.048475724782847"
      ],
      "text/markdown": [
       "0.048475724782847"
      ],
      "text/plain": [
       "[1] 0.04847572"
      ]
     },
     "metadata": {},
     "output_type": "display_data"
    }
   ],
   "source": [
    "pf(0.05, k-1, n-k)"
   ]
  },
  {
   "cell_type": "markdown",
   "id": "fe3294ff",
   "metadata": {},
   "source": [
    "А це наше  p-value. Оскільки воно менше за  0.05, ми відхиляємо  $H_0$:"
   ]
  },
  {
   "cell_type": "code",
   "execution_count": 80,
   "id": "0e7b1ce8",
   "metadata": {},
   "outputs": [
    {
     "data": {
      "text/html": [
       "0.00427794761038336"
      ],
      "text/latex": [
       "0.00427794761038336"
      ],
      "text/markdown": [
       "0.00427794761038336"
      ],
      "text/plain": [
       "[1] 0.004277948"
      ]
     },
     "metadata": {},
     "output_type": "display_data"
    }
   ],
   "source": [
    "1-pf(F, k-1, n-k)  "
   ]
  },
  {
   "cell_type": "markdown",
   "id": "0ecd2ca2",
   "metadata": {},
   "source": [
    "Додаткові посилання:  http://kokminglee.125mb.com/math/ttest2.html"
   ]
  },
  {
   "cell_type": "markdown",
   "id": "419f7a14",
   "metadata": {},
   "source": [
    "## 2. Приклад 2. MANOVA. \n",
    "\n",
    "Розглянемо приклад багатовимірної лінійної регресії. Див. Rencher, Table 10.1 Examples 10.4.2, 10.5.1. В цій таблиці наведено дані результату хімічного експерименту, в якому $X1$, $X2$, $X3$- це дані, а $Y1$, $Y2$, $Y3$ - відгук. "
   ]
  },
  {
   "cell_type": "code",
   "execution_count": 37,
   "id": "31ec98f3",
   "metadata": {},
   "outputs": [
    {
     "data": {
      "text/html": [
       "<table>\n",
       "<thead><tr><th scope=col>V1</th><th scope=col>Y1</th><th scope=col>Y2</th><th scope=col>Y3</th><th scope=col>X1</th><th scope=col>X2</th><th scope=col>X3</th></tr></thead>\n",
       "<tbody>\n",
       "\t<tr><td>1   </td><td>41.5</td><td>45.9</td><td>11.2</td><td>162 </td><td>23  </td><td>3   </td></tr>\n",
       "\t<tr><td>2   </td><td>33.8</td><td>53.3</td><td>11.2</td><td>162 </td><td>23  </td><td>8   </td></tr>\n",
       "\t<tr><td>3   </td><td>27.7</td><td>57.5</td><td>12.7</td><td>162 </td><td>30  </td><td>5   </td></tr>\n",
       "\t<tr><td>4   </td><td>21.7</td><td>58.8</td><td>16.0</td><td>162 </td><td>30  </td><td>8   </td></tr>\n",
       "\t<tr><td>5   </td><td>19.9</td><td>60.6</td><td>16.2</td><td>172 </td><td>25  </td><td>5   </td></tr>\n",
       "\t<tr><td>6   </td><td>15.0</td><td>58.0</td><td>22.6</td><td>172 </td><td>25  </td><td>8   </td></tr>\n",
       "</tbody>\n",
       "</table>\n"
      ],
      "text/latex": [
       "\\begin{tabular}{r|lllllll}\n",
       " V1 & Y1 & Y2 & Y3 & X1 & X2 & X3\\\\\n",
       "\\hline\n",
       "\t 1    & 41.5 & 45.9 & 11.2 & 162  & 23   & 3   \\\\\n",
       "\t 2    & 33.8 & 53.3 & 11.2 & 162  & 23   & 8   \\\\\n",
       "\t 3    & 27.7 & 57.5 & 12.7 & 162  & 30   & 5   \\\\\n",
       "\t 4    & 21.7 & 58.8 & 16.0 & 162  & 30   & 8   \\\\\n",
       "\t 5    & 19.9 & 60.6 & 16.2 & 172  & 25   & 5   \\\\\n",
       "\t 6    & 15.0 & 58.0 & 22.6 & 172  & 25   & 8   \\\\\n",
       "\\end{tabular}\n"
      ],
      "text/markdown": [
       "\n",
       "| V1 | Y1 | Y2 | Y3 | X1 | X2 | X3 |\n",
       "|---|---|---|---|---|---|---|\n",
       "| 1    | 41.5 | 45.9 | 11.2 | 162  | 23   | 3    |\n",
       "| 2    | 33.8 | 53.3 | 11.2 | 162  | 23   | 8    |\n",
       "| 3    | 27.7 | 57.5 | 12.7 | 162  | 30   | 5    |\n",
       "| 4    | 21.7 | 58.8 | 16.0 | 162  | 30   | 8    |\n",
       "| 5    | 19.9 | 60.6 | 16.2 | 172  | 25   | 5    |\n",
       "| 6    | 15.0 | 58.0 | 22.6 | 172  | 25   | 8    |\n",
       "\n"
      ],
      "text/plain": [
       "  V1 Y1   Y2   Y3   X1  X2 X3\n",
       "1 1  41.5 45.9 11.2 162 23 3 \n",
       "2 2  33.8 53.3 11.2 162 23 8 \n",
       "3 3  27.7 57.5 12.7 162 30 5 \n",
       "4 4  21.7 58.8 16.0 162 30 8 \n",
       "5 5  19.9 60.6 16.2 172 25 5 \n",
       "6 6  15.0 58.0 22.6 172 25 8 "
      ]
     },
     "metadata": {},
     "output_type": "display_data"
    }
   ],
   "source": [
    "chem<- read.table('T10_1_CHEM.DAT', col.names = c('V1', 'Y1','Y2','Y3','X1','X2','X3') )\n",
    "head(chem)"
   ]
  },
  {
   "cell_type": "markdown",
   "id": "ed579943",
   "metadata": {},
   "source": [
    "Згрупуємо дані по $X$  і $Y$. "
   ]
  },
  {
   "cell_type": "code",
   "execution_count": 41,
   "id": "7506e595",
   "metadata": {},
   "outputs": [
    {
     "data": {
      "text/html": [
       "<table>\n",
       "<thead><tr><th scope=col>Y1</th><th scope=col>Y2</th><th scope=col>Y3</th></tr></thead>\n",
       "<tbody>\n",
       "\t<tr><td>41.5</td><td>45.9</td><td>11.2</td></tr>\n",
       "\t<tr><td>33.8</td><td>53.3</td><td>11.2</td></tr>\n",
       "\t<tr><td>27.7</td><td>57.5</td><td>12.7</td></tr>\n",
       "\t<tr><td>21.7</td><td>58.8</td><td>16.0</td></tr>\n",
       "\t<tr><td>19.9</td><td>60.6</td><td>16.2</td></tr>\n",
       "\t<tr><td>15.0</td><td>58.0</td><td>22.6</td></tr>\n",
       "\t<tr><td>12.2</td><td>58.6</td><td>24.5</td></tr>\n",
       "\t<tr><td> 4.3</td><td>52.4</td><td>38.0</td></tr>\n",
       "\t<tr><td>19.3</td><td>56.9</td><td>21.3</td></tr>\n",
       "\t<tr><td> 6.4</td><td>55.4</td><td>30.8</td></tr>\n",
       "\t<tr><td>37.6</td><td>46.9</td><td>14.7</td></tr>\n",
       "\t<tr><td>18.0</td><td>57.3</td><td>22.2</td></tr>\n",
       "\t<tr><td>26.3</td><td>55.0</td><td>18.3</td></tr>\n",
       "\t<tr><td> 9.9</td><td>58.9</td><td>28.0</td></tr>\n",
       "\t<tr><td>25.0</td><td>50.3</td><td>22.1</td></tr>\n",
       "\t<tr><td>14.1</td><td>61.1</td><td>23.0</td></tr>\n",
       "\t<tr><td>15.2</td><td>62.9</td><td>20.7</td></tr>\n",
       "\t<tr><td>15.9</td><td>60.0</td><td>22.1</td></tr>\n",
       "\t<tr><td>19.6</td><td>60.6</td><td>19.3</td></tr>\n",
       "</tbody>\n",
       "</table>\n"
      ],
      "text/latex": [
       "\\begin{tabular}{lll}\n",
       " Y1 & Y2 & Y3\\\\\n",
       "\\hline\n",
       "\t 41.5 & 45.9 & 11.2\\\\\n",
       "\t 33.8 & 53.3 & 11.2\\\\\n",
       "\t 27.7 & 57.5 & 12.7\\\\\n",
       "\t 21.7 & 58.8 & 16.0\\\\\n",
       "\t 19.9 & 60.6 & 16.2\\\\\n",
       "\t 15.0 & 58.0 & 22.6\\\\\n",
       "\t 12.2 & 58.6 & 24.5\\\\\n",
       "\t  4.3 & 52.4 & 38.0\\\\\n",
       "\t 19.3 & 56.9 & 21.3\\\\\n",
       "\t  6.4 & 55.4 & 30.8\\\\\n",
       "\t 37.6 & 46.9 & 14.7\\\\\n",
       "\t 18.0 & 57.3 & 22.2\\\\\n",
       "\t 26.3 & 55.0 & 18.3\\\\\n",
       "\t  9.9 & 58.9 & 28.0\\\\\n",
       "\t 25.0 & 50.3 & 22.1\\\\\n",
       "\t 14.1 & 61.1 & 23.0\\\\\n",
       "\t 15.2 & 62.9 & 20.7\\\\\n",
       "\t 15.9 & 60.0 & 22.1\\\\\n",
       "\t 19.6 & 60.6 & 19.3\\\\\n",
       "\\end{tabular}\n"
      ],
      "text/markdown": [
       "\n",
       "| Y1 | Y2 | Y3 |\n",
       "|---|---|---|\n",
       "| 41.5 | 45.9 | 11.2 |\n",
       "| 33.8 | 53.3 | 11.2 |\n",
       "| 27.7 | 57.5 | 12.7 |\n",
       "| 21.7 | 58.8 | 16.0 |\n",
       "| 19.9 | 60.6 | 16.2 |\n",
       "| 15.0 | 58.0 | 22.6 |\n",
       "| 12.2 | 58.6 | 24.5 |\n",
       "|  4.3 | 52.4 | 38.0 |\n",
       "| 19.3 | 56.9 | 21.3 |\n",
       "|  6.4 | 55.4 | 30.8 |\n",
       "| 37.6 | 46.9 | 14.7 |\n",
       "| 18.0 | 57.3 | 22.2 |\n",
       "| 26.3 | 55.0 | 18.3 |\n",
       "|  9.9 | 58.9 | 28.0 |\n",
       "| 25.0 | 50.3 | 22.1 |\n",
       "| 14.1 | 61.1 | 23.0 |\n",
       "| 15.2 | 62.9 | 20.7 |\n",
       "| 15.9 | 60.0 | 22.1 |\n",
       "| 19.6 | 60.6 | 19.3 |\n",
       "\n"
      ],
      "text/plain": [
       "      Y1   Y2   Y3  \n",
       " [1,] 41.5 45.9 11.2\n",
       " [2,] 33.8 53.3 11.2\n",
       " [3,] 27.7 57.5 12.7\n",
       " [4,] 21.7 58.8 16.0\n",
       " [5,] 19.9 60.6 16.2\n",
       " [6,] 15.0 58.0 22.6\n",
       " [7,] 12.2 58.6 24.5\n",
       " [8,]  4.3 52.4 38.0\n",
       " [9,] 19.3 56.9 21.3\n",
       "[10,]  6.4 55.4 30.8\n",
       "[11,] 37.6 46.9 14.7\n",
       "[12,] 18.0 57.3 22.2\n",
       "[13,] 26.3 55.0 18.3\n",
       "[14,]  9.9 58.9 28.0\n",
       "[15,] 25.0 50.3 22.1\n",
       "[16,] 14.1 61.1 23.0\n",
       "[17,] 15.2 62.9 20.7\n",
       "[18,] 15.9 60.0 22.1\n",
       "[19,] 19.6 60.6 19.3"
      ]
     },
     "metadata": {},
     "output_type": "display_data"
    }
   ],
   "source": [
    "library(dplyr)\n",
    "chem_x<- chem %>% select(starts_with(\"X\")) \n",
    "x <- as.matrix(chem_x)\n",
    "chem_y <- chem %>% select(starts_with(\"y\"))\n",
    "y <- as.matrix(chem_y)\n",
    "y"
   ]
  },
  {
   "cell_type": "markdown",
   "id": "bd25b3db",
   "metadata": {},
   "source": [
    "Утворюємо модель лінійнох регресії: "
   ]
  },
  {
   "cell_type": "code",
   "execution_count": 42,
   "id": "2cdb1bb9",
   "metadata": {},
   "outputs": [
    {
     "data": {
      "text/plain": [
       "\n",
       "Call:\n",
       "lm(formula = y ~ x)\n",
       "\n",
       "Coefficients:\n",
       "             Y1         Y2         Y3       \n",
       "(Intercept)   332.1110   -26.0353  -164.0789\n",
       "xX1            -1.5460     0.4046     0.9139\n",
       "xX2            -1.4246     0.2930     0.8995\n",
       "xX3            -2.2374     1.0338     1.1535\n"
      ]
     },
     "metadata": {},
     "output_type": "display_data"
    }
   ],
   "source": [
    "chem.lm<-lm(y~x)  \n",
    "chem.lm                                     "
   ]
  },
  {
   "cell_type": "markdown",
   "id": "dd0fac55",
   "metadata": {},
   "source": [
    "Ми от римали матрицю оцінки коефіцієнтів регресіх, тобто $\\hat{B}$. "
   ]
  },
  {
   "cell_type": "code",
   "execution_count": 60,
   "id": "6e1de5ac",
   "metadata": {},
   "outputs": [
    {
     "data": {
      "text/plain": [
       "          Df    Wilks approx F num Df den Df    Pr(>F)    \n",
       "x          3 0.033158   10.787      9 31.789 1.884e-07 ***\n",
       "Residuals 15                                              \n",
       "---\n",
       "Signif. codes:  0 '***' 0.001 '**' 0.01 '*' 0.05 '.' 0.1 ' ' 1"
      ]
     },
     "metadata": {},
     "output_type": "display_data"
    }
   ],
   "source": [
    "chem.manova<- summary(manova(y~x), test=\"Wilks\")\n",
    "chem.manova"
   ]
  },
  {
   "cell_type": "markdown",
   "id": "d5a0bc57",
   "metadata": {},
   "source": [
    "Що таке  ``approx F'': \n",
    "\n",
    "nu_H = degrees of freedom in the model=q=3\n",
    "\n",
    "nu_E = degrees of freedom in the residuals = n-q-1=19-3-1=15 \n",
    "\n",
    "(Це перша колонка, Df)\n",
    "\n",
    "Друга колонка: Wilks Lambda: $\\Lambda = \\frac{|E|}{|E+H|}$. \n",
    "\n",
    "Approx F: це наближення  Lambda за допомогою розподілу Фішера (F-distr)  (Див Rancher, (6.15), p.187). \n",
    "\n",
    "num  Df : це df1 \n",
    "\n",
    "num  Df : це df2"
   ]
  },
  {
   "cell_type": "code",
   "execution_count": 45,
   "id": "752c1eca",
   "metadata": {},
   "outputs": [
    {
     "data": {
      "text/html": [
       "9"
      ],
      "text/latex": [
       "9"
      ],
      "text/markdown": [
       "9"
      ],
      "text/plain": [
       "[1] 9"
      ]
     },
     "metadata": {},
     "output_type": "display_data"
    }
   ],
   "source": [
    "nu_H = 3\n",
    "nu_E = 15 \n",
    "p = 3\n",
    "\n",
    "\n",
    "df1<- p* nu_H    # num Df, see Rencher, p. 178.\n",
    "df1 "
   ]
  },
  {
   "cell_type": "code",
   "execution_count": 53,
   "id": "2c73c5d9",
   "metadata": {},
   "outputs": [
    {
     "data": {
      "text/html": [
       "31.7891898897796"
      ],
      "text/latex": [
       "31.7891898897796"
      ],
      "text/markdown": [
       "31.7891898897796"
      ],
      "text/plain": [
       "[1] 31.78919"
      ]
     },
     "metadata": {},
     "output_type": "display_data"
    }
   ],
   "source": [
    "w= nu_E +nu_H - 0.5* (p+ nu_H+1)\n",
    "\n",
    "t <- sqrt( ((p*nu_H)**2 -4)/(p**2 +nu_H**2 -5))\n",
    "\n",
    "\n",
    "df2 <- w*t - 0.5*(p* nu_H - 2)\n",
    "df2                        # den Df  "
   ]
  },
  {
   "cell_type": "markdown",
   "id": "220796c8",
   "metadata": {},
   "source": [
    "Обчислюємо $\\Lambda$: "
   ]
  },
  {
   "cell_type": "code",
   "execution_count": 70,
   "id": "1f6db841",
   "metadata": {},
   "outputs": [
    {
     "data": {
      "text/html": [
       "<strong>$x</strong> = <table>\n",
       "<thead><tr><th></th><th scope=col>Y1</th><th scope=col>Y2</th><th scope=col>Y3</th></tr></thead>\n",
       "<tbody>\n",
       "\t<tr><th scope=row>Y1</th><td>1707.1580</td><td>-492.5315</td><td>-996.5837</td></tr>\n",
       "\t<tr><th scope=row>Y2</th><td>-492.5315</td><td> 151.0022</td><td> 283.6070</td></tr>\n",
       "\t<tr><th scope=row>Y3</th><td>-996.5837</td><td> 283.6070</td><td> 583.6884</td></tr>\n",
       "</tbody>\n",
       "</table>\n"
      ],
      "text/latex": [
       "\\textbf{\\$x} = \\begin{tabular}{r|lll}\n",
       "  & Y1 & Y2 & Y3\\\\\n",
       "\\hline\n",
       "\tY1 & 1707.1580 & -492.5315 & -996.5837\\\\\n",
       "\tY2 & -492.5315 &  151.0022 &  283.6070\\\\\n",
       "\tY3 & -996.5837 &  283.6070 &  583.6884\\\\\n",
       "\\end{tabular}\n"
      ],
      "text/markdown": [
       "**$x** = \n",
       "| <!--/--> | Y1 | Y2 | Y3 |\n",
       "|---|---|---|---|\n",
       "| Y1 | 1707.1580 | -492.5315 | -996.5837 |\n",
       "| Y2 | -492.5315 |  151.0022 |  283.6070 |\n",
       "| Y3 | -996.5837 |  283.6070 |  583.6884 |\n",
       "\n"
      ],
      "text/plain": [
       "$x\n",
       "          Y1        Y2        Y3\n",
       "Y1 1707.1580 -492.5315 -996.5837\n",
       "Y2 -492.5315  151.0022  283.6070\n",
       "Y3 -996.5837  283.6070  583.6884\n"
      ]
     },
     "metadata": {},
     "output_type": "display_data"
    },
    {
     "data": {
      "text/html": [
       "<strong>$Residuals</strong> = <table>\n",
       "<thead><tr><th></th><th scope=col>Y1</th><th scope=col>Y2</th><th scope=col>Y3</th></tr></thead>\n",
       "<tbody>\n",
       "\t<tr><th scope=row>Y1</th><td> 80.17354 </td><td> -21.70375</td><td> -65.92266</td></tr>\n",
       "\t<tr><th scope=row>Y2</th><td>-21.70375 </td><td> 249.46202</td><td>-179.49592</td></tr>\n",
       "\t<tr><th scope=row>Y3</th><td>-65.92266 </td><td>-179.49592</td><td> 231.19687</td></tr>\n",
       "</tbody>\n",
       "</table>\n"
      ],
      "text/latex": [
       "\\textbf{\\$Residuals} = \\begin{tabular}{r|lll}\n",
       "  & Y1 & Y2 & Y3\\\\\n",
       "\\hline\n",
       "\tY1 &  80.17354  &  -21.70375 &  -65.92266\\\\\n",
       "\tY2 & -21.70375  &  249.46202 & -179.49592\\\\\n",
       "\tY3 & -65.92266  & -179.49592 &  231.19687\\\\\n",
       "\\end{tabular}\n"
      ],
      "text/markdown": [
       "**$Residuals** = \n",
       "| <!--/--> | Y1 | Y2 | Y3 |\n",
       "|---|---|---|---|\n",
       "| Y1 |  80.17354  |  -21.70375 |  -65.92266 |\n",
       "| Y2 | -21.70375  |  249.46202 | -179.49592 |\n",
       "| Y3 | -65.92266  | -179.49592 |  231.19687 |\n",
       "\n"
      ],
      "text/plain": [
       "$Residuals\n",
       "          Y1         Y2         Y3\n",
       "Y1  80.17354  -21.70375  -65.92266\n",
       "Y2 -21.70375  249.46202 -179.49592\n",
       "Y3 -65.92266 -179.49592  231.19687\n"
      ]
     },
     "metadata": {},
     "output_type": "display_data"
    }
   ],
   "source": [
    "H <- chem.manova$SS[1]\n",
    "H\n",
    "E <- chem.manova$SS[2]\n",
    "E"
   ]
  },
  {
   "cell_type": "code",
   "execution_count": 72,
   "id": "ea7e6b9a",
   "metadata": {},
   "outputs": [
    {
     "data": {
      "text/html": [
       "0.0331576439644121"
      ],
      "text/latex": [
       "0.0331576439644121"
      ],
      "text/markdown": [
       "0.0331576439644121"
      ],
      "text/plain": [
       "[1] 0.03315764"
      ]
     },
     "metadata": {},
     "output_type": "display_data"
    }
   ],
   "source": [
    "E1 = as.matrix(E$Residuals)\n",
    "H1 = as.matrix(H$x)\n",
    "Lam = det(E1)/(det(E1+H1))\n",
    "Lam"
   ]
  },
  {
   "cell_type": "markdown",
   "id": "c8913acd",
   "metadata": {},
   "source": [
    "Рахуємо  F -статистику: "
   ]
  },
  {
   "cell_type": "code",
   "execution_count": 73,
   "id": "62f123b7",
   "metadata": {},
   "outputs": [
    {
     "data": {
      "text/html": [
       "10.786892931477"
      ],
      "text/latex": [
       "10.786892931477"
      ],
      "text/markdown": [
       "10.786892931477"
      ],
      "text/plain": [
       "[1] 10.78689"
      ]
     },
     "metadata": {},
     "output_type": "display_data"
    }
   ],
   "source": [
    "Lam = 0.033158\n",
    "F<- ((1-Lam**(1/t))/(Lam**(1/t)))* (df2/df1)\n",
    "F"
   ]
  },
  {
   "cell_type": "markdown",
   "id": "370dfbd0",
   "metadata": {},
   "source": [
    "Можна застосувати різні тести: \n",
    "\n",
    "chem.manova2<- summary(manova(y~x), test=\"Roy\")\n",
    "\n",
    "chem.manova3<- summary(manova(y~x), test=\"Pillai\")\n",
    "\n",
    "chem.manova4<- summary(manova(y~x),test=\"Hotelling-Lawley\")"
   ]
  },
  {
   "cell_type": "markdown",
   "id": "5c7085ca",
   "metadata": {},
   "source": [
    "Справка: \n",
    "\n",
    "help(summary.lm)\n",
    "\n",
    "Покоординатно: "
   ]
  },
  {
   "cell_type": "code",
   "execution_count": 74,
   "id": "2e68822c",
   "metadata": {},
   "outputs": [
    {
     "data": {
      "text/plain": [
       "Response Y1 :\n",
       "\n",
       "Call:\n",
       "lm(formula = Y1 ~ x)\n",
       "\n",
       "Residuals:\n",
       "    Min      1Q  Median      3Q     Max \n",
       "-3.6420 -1.1551 -0.0821  1.1563  4.9055 \n",
       "\n",
       "Coefficients:\n",
       "             Estimate Std. Error t value Pr(>|t|)    \n",
       "(Intercept) 332.11098   18.69293  17.767 1.74e-11 ***\n",
       "xX1          -1.54596    0.09903 -15.610 1.10e-10 ***\n",
       "xX2          -1.42456    0.14765  -9.648 7.99e-08 ***\n",
       "xX3          -2.23737    0.33982  -6.584 8.67e-06 ***\n",
       "---\n",
       "Signif. codes:  0 '***' 0.001 '**' 0.01 '*' 0.05 '.' 0.1 ' ' 1\n",
       "\n",
       "Residual standard error: 2.312 on 15 degrees of freedom\n",
       "Multiple R-squared:  0.9551,\tAdjusted R-squared:  0.9462 \n",
       "F-statistic: 106.5 on 3 and 15 DF,  p-value: 2.459e-10\n",
       "\n",
       "\n",
       "Response Y2 :\n",
       "\n",
       "Call:\n",
       "lm(formula = Y2 ~ x)\n",
       "\n",
       "Residuals:\n",
       "    Min      1Q  Median      3Q     Max \n",
       "-8.2075 -2.0557  0.1633  3.2712  4.7503 \n",
       "\n",
       "Coefficients:\n",
       "            Estimate Std. Error t value Pr(>|t|)  \n",
       "(Intercept) -26.0353    32.9734  -0.790   0.4421  \n",
       "xX1           0.4046     0.1747   2.316   0.0351 *\n",
       "xX2           0.2930     0.2604   1.125   0.2783  \n",
       "xX3           1.0338     0.5994   1.725   0.1051  \n",
       "---\n",
       "Signif. codes:  0 '***' 0.001 '**' 0.01 '*' 0.05 '.' 0.1 ' ' 1\n",
       "\n",
       "Residual standard error: 4.078 on 15 degrees of freedom\n",
       "Multiple R-squared:  0.3771,\tAdjusted R-squared:  0.2525 \n",
       "F-statistic: 3.027 on 3 and 15 DF,  p-value: 0.06235\n",
       "\n",
       "\n",
       "Response Y3 :\n",
       "\n",
       "Call:\n",
       "lm(formula = Y3 ~ x)\n",
       "\n",
       "Residuals:\n",
       "    Min      1Q  Median      3Q     Max \n",
       "-5.1704 -2.5827 -0.1729  2.5387  8.6718 \n",
       "\n",
       "Coefficients:\n",
       "             Estimate Std. Error t value Pr(>|t|)    \n",
       "(Intercept) -164.0789    31.7434  -5.169 0.000114 ***\n",
       "xX1            0.9139     0.1682   5.434 6.91e-05 ***\n",
       "xX2            0.8995     0.2507   3.587 0.002694 ** \n",
       "xX3            1.1535     0.5771   1.999 0.064079 .  \n",
       "---\n",
       "Signif. codes:  0 '***' 0.001 '**' 0.01 '*' 0.05 '.' 0.1 ' ' 1\n",
       "\n",
       "Residual standard error: 3.926 on 15 degrees of freedom\n",
       "Multiple R-squared:  0.7163,\tAdjusted R-squared:  0.6595 \n",
       "F-statistic: 12.62 on 3 and 15 DF,  p-value: 0.0002212\n",
       "\n"
      ]
     },
     "metadata": {},
     "output_type": "display_data"
    }
   ],
   "source": [
    "summary(chem.lm) "
   ]
  },
  {
   "cell_type": "markdown",
   "id": "6671d2ce",
   "metadata": {},
   "source": [
    "Візуалізація: http://friendly.github.io/heplots/"
   ]
  },
  {
   "cell_type": "code",
   "execution_count": null,
   "id": "fb4136ed",
   "metadata": {},
   "outputs": [],
   "source": []
  }
 ],
 "metadata": {
  "kernelspec": {
   "display_name": "R",
   "language": "R",
   "name": "ir"
  },
  "language_info": {
   "codemirror_mode": "r",
   "file_extension": ".r",
   "mimetype": "text/x-r-source",
   "name": "R",
   "pygments_lexer": "r",
   "version": "3.6.1"
  }
 },
 "nbformat": 4,
 "nbformat_minor": 5
}
