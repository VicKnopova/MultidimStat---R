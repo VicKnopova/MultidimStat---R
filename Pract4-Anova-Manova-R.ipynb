{
 "cells": [
  {
   "cell_type": "markdown",
   "id": "9b567464",
   "metadata": {},
   "source": [
    "## Практика 4: ANOVA, MANOVA. \n",
    "\n",
    "### 1. ANOVA\n",
    "\n",
    "Спочатку розглянемо одновимірний випадок, тобто ANOVA. \n",
    "\n",
    "Більш детально: див. \n",
    "https://rpubs.com/aaronsc32/anova-compare-more-than-two-groups  та \n",
    "https://www.scribbr.com/statistics/anova-in-r/\n"
   ]
  },
  {
   "cell_type": "code",
   "execution_count": 1,
   "id": "4afca527",
   "metadata": {},
   "outputs": [],
   "source": [
    "# install.packages(ggplot2)  Якщо ви працюєте з RStudio, треба завантажити пакети та відкрити біблаотеки\n",
    "# installed.packages(car)\n",
    "# library(ggplot2)\n",
    "# library(car)"
   ]
  },
  {
   "cell_type": "markdown",
   "id": "341abf12",
   "metadata": {},
   "source": [
    "Завантажимо дані з інтернету: "
   ]
  },
  {
   "cell_type": "code",
   "execution_count": 2,
   "id": "61f24c8e",
   "metadata": {},
   "outputs": [
    {
     "data": {
      "text/html": [
       "<table>\n",
       "<thead><tr><th scope=col>weight</th><th scope=col>group</th></tr></thead>\n",
       "<tbody>\n",
       "\t<tr><td>4.17</td><td>ctrl</td></tr>\n",
       "\t<tr><td>5.58</td><td>ctrl</td></tr>\n",
       "\t<tr><td>5.18</td><td>ctrl</td></tr>\n",
       "\t<tr><td>6.11</td><td>ctrl</td></tr>\n",
       "\t<tr><td>4.50</td><td>ctrl</td></tr>\n",
       "\t<tr><td>4.61</td><td>ctrl</td></tr>\n",
       "\t<tr><td>5.17</td><td>ctrl</td></tr>\n",
       "\t<tr><td>4.53</td><td>ctrl</td></tr>\n",
       "\t<tr><td>5.33</td><td>ctrl</td></tr>\n",
       "\t<tr><td>5.14</td><td>ctrl</td></tr>\n",
       "\t<tr><td>4.81</td><td>trt1</td></tr>\n",
       "\t<tr><td>4.17</td><td>trt1</td></tr>\n",
       "\t<tr><td>4.41</td><td>trt1</td></tr>\n",
       "\t<tr><td>3.59</td><td>trt1</td></tr>\n",
       "\t<tr><td>5.87</td><td>trt1</td></tr>\n",
       "\t<tr><td>3.83</td><td>trt1</td></tr>\n",
       "\t<tr><td>6.03</td><td>trt1</td></tr>\n",
       "\t<tr><td>4.89</td><td>trt1</td></tr>\n",
       "\t<tr><td>4.32</td><td>trt1</td></tr>\n",
       "\t<tr><td>4.69</td><td>trt1</td></tr>\n",
       "\t<tr><td>6.31</td><td>trt2</td></tr>\n",
       "\t<tr><td>5.12</td><td>trt2</td></tr>\n",
       "\t<tr><td>5.54</td><td>trt2</td></tr>\n",
       "\t<tr><td>5.50</td><td>trt2</td></tr>\n",
       "\t<tr><td>5.37</td><td>trt2</td></tr>\n",
       "\t<tr><td>5.29</td><td>trt2</td></tr>\n",
       "\t<tr><td>4.92</td><td>trt2</td></tr>\n",
       "\t<tr><td>6.15</td><td>trt2</td></tr>\n",
       "\t<tr><td>5.80</td><td>trt2</td></tr>\n",
       "\t<tr><td>5.26</td><td>trt2</td></tr>\n",
       "</tbody>\n",
       "</table>\n"
      ],
      "text/latex": [
       "\\begin{tabular}{r|ll}\n",
       " weight & group\\\\\n",
       "\\hline\n",
       "\t 4.17 & ctrl\\\\\n",
       "\t 5.58 & ctrl\\\\\n",
       "\t 5.18 & ctrl\\\\\n",
       "\t 6.11 & ctrl\\\\\n",
       "\t 4.50 & ctrl\\\\\n",
       "\t 4.61 & ctrl\\\\\n",
       "\t 5.17 & ctrl\\\\\n",
       "\t 4.53 & ctrl\\\\\n",
       "\t 5.33 & ctrl\\\\\n",
       "\t 5.14 & ctrl\\\\\n",
       "\t 4.81 & trt1\\\\\n",
       "\t 4.17 & trt1\\\\\n",
       "\t 4.41 & trt1\\\\\n",
       "\t 3.59 & trt1\\\\\n",
       "\t 5.87 & trt1\\\\\n",
       "\t 3.83 & trt1\\\\\n",
       "\t 6.03 & trt1\\\\\n",
       "\t 4.89 & trt1\\\\\n",
       "\t 4.32 & trt1\\\\\n",
       "\t 4.69 & trt1\\\\\n",
       "\t 6.31 & trt2\\\\\n",
       "\t 5.12 & trt2\\\\\n",
       "\t 5.54 & trt2\\\\\n",
       "\t 5.50 & trt2\\\\\n",
       "\t 5.37 & trt2\\\\\n",
       "\t 5.29 & trt2\\\\\n",
       "\t 4.92 & trt2\\\\\n",
       "\t 6.15 & trt2\\\\\n",
       "\t 5.80 & trt2\\\\\n",
       "\t 5.26 & trt2\\\\\n",
       "\\end{tabular}\n"
      ],
      "text/markdown": [
       "\n",
       "| weight | group |\n",
       "|---|---|\n",
       "| 4.17 | ctrl |\n",
       "| 5.58 | ctrl |\n",
       "| 5.18 | ctrl |\n",
       "| 6.11 | ctrl |\n",
       "| 4.50 | ctrl |\n",
       "| 4.61 | ctrl |\n",
       "| 5.17 | ctrl |\n",
       "| 4.53 | ctrl |\n",
       "| 5.33 | ctrl |\n",
       "| 5.14 | ctrl |\n",
       "| 4.81 | trt1 |\n",
       "| 4.17 | trt1 |\n",
       "| 4.41 | trt1 |\n",
       "| 3.59 | trt1 |\n",
       "| 5.87 | trt1 |\n",
       "| 3.83 | trt1 |\n",
       "| 6.03 | trt1 |\n",
       "| 4.89 | trt1 |\n",
       "| 4.32 | trt1 |\n",
       "| 4.69 | trt1 |\n",
       "| 6.31 | trt2 |\n",
       "| 5.12 | trt2 |\n",
       "| 5.54 | trt2 |\n",
       "| 5.50 | trt2 |\n",
       "| 5.37 | trt2 |\n",
       "| 5.29 | trt2 |\n",
       "| 4.92 | trt2 |\n",
       "| 6.15 | trt2 |\n",
       "| 5.80 | trt2 |\n",
       "| 5.26 | trt2 |\n",
       "\n"
      ],
      "text/plain": [
       "   weight group\n",
       "1  4.17   ctrl \n",
       "2  5.58   ctrl \n",
       "3  5.18   ctrl \n",
       "4  6.11   ctrl \n",
       "5  4.50   ctrl \n",
       "6  4.61   ctrl \n",
       "7  5.17   ctrl \n",
       "8  4.53   ctrl \n",
       "9  5.33   ctrl \n",
       "10 5.14   ctrl \n",
       "11 4.81   trt1 \n",
       "12 4.17   trt1 \n",
       "13 4.41   trt1 \n",
       "14 3.59   trt1 \n",
       "15 5.87   trt1 \n",
       "16 3.83   trt1 \n",
       "17 6.03   trt1 \n",
       "18 4.89   trt1 \n",
       "19 4.32   trt1 \n",
       "20 4.69   trt1 \n",
       "21 6.31   trt2 \n",
       "22 5.12   trt2 \n",
       "23 5.54   trt2 \n",
       "24 5.50   trt2 \n",
       "25 5.37   trt2 \n",
       "26 5.29   trt2 \n",
       "27 4.92   trt2 \n",
       "28 6.15   trt2 \n",
       "29 5.80   trt2 \n",
       "30 5.26   trt2 "
      ]
     },
     "metadata": {},
     "output_type": "display_data"
    }
   ],
   "source": [
    "attach(PlantGrowth)\n",
    "PlantGrowth"
   ]
  },
  {
   "cell_type": "markdown",
   "id": "9d38f179",
   "metadata": {},
   "source": [
    "Порівняємо вагу рослини в залежності від групи, до якої ця рослина належить. Для цього розглянемо парні діаграми. "
   ]
  },
  {
   "cell_type": "code",
   "execution_count": 3,
   "id": "1e711839",
   "metadata": {
    "scrolled": true
   },
   "outputs": [
    {
     "data": {
      "image/png": "[encoded data removed]",
      "text/plain": [
       "plot without title"
      ]
     },
     "metadata": {},
     "output_type": "display_data"
    }
   ],
   "source": [
    "options(repr.plot.width=4, repr.plot.height=3)\n",
    "pairs(PlantGrowth, col=\" blue\")      "
   ]
  },
  {
   "cell_type": "markdown",
   "id": "d560a480",
   "metadata": {},
   "source": [
    "Отже, яскраво виражені 3 групи. Застосуємо функцію  lm(..) для того, щоб задати модель лінійної регресії.\n",
    "\n",
    "По суті, ми задаємо тим самим модель лінійної регресії,  але зараз нас цікавить не оцінка коефіцієнтів регресії (що буде зроблено пізніше,  а аналіз сум квадратів та перевірка гіпотези про рівність середніх значень.\n",
    "\n",
    "Для тих, хто пише в RStudio: для малювання треба встановити пакети ggplot2 та car, і завантажити відповідні бібліотеки: \n",
    "\n",
    "library(ggplot2)\n",
    "\n",
    "library(car)"
   ]
  },
  {
   "cell_type": "code",
   "execution_count": 4,
   "id": "e4e51b11",
   "metadata": {},
   "outputs": [
    {
     "data": {
      "text/plain": [
       "\n",
       "Call:\n",
       "lm(formula = weight ~ group, data = PlantGrowth)\n",
       "\n",
       "Coefficients:\n",
       "(Intercept)    grouptrt1    grouptrt2  \n",
       "      5.032       -0.371        0.494  \n"
      ]
     },
     "metadata": {},
     "output_type": "display_data"
    },
    {
     "data": {
      "image/png": "[encoded data removed]",
      "text/plain": [
       "plot without title"
      ]
     },
     "metadata": {},
     "output_type": "display_data"
    }
   ],
   "source": [
    "lm(weight ~ group, data = PlantGrowth)   # weight ~ b_0 + b_1 group1 + b_2 group 2  \n",
    "plot(group, weight)"
   ]
  },
  {
   "cell_type": "markdown",
   "id": "a6f5ac76",
   "metadata": {},
   "source": [
    "Повна інформацію про модель можна отримати, застосувавші  summary(lm()) (детальніше буде розібрано на практиці з лінійної регресії). "
   ]
  },
  {
   "cell_type": "code",
   "execution_count": 5,
   "id": "2fe17cd4",
   "metadata": {},
   "outputs": [
    {
     "data": {
      "text/plain": [
       "\n",
       "Call:\n",
       "lm(formula = weight ~ group, data = PlantGrowth)\n",
       "\n",
       "Residuals:\n",
       "    Min      1Q  Median      3Q     Max \n",
       "-1.0710 -0.4180 -0.0060  0.2627  1.3690 \n",
       "\n",
       "Coefficients:\n",
       "            Estimate Std. Error t value Pr(>|t|)    \n",
       "(Intercept)   5.0320     0.1971  25.527   <2e-16 ***\n",
       "grouptrt1    -0.3710     0.2788  -1.331   0.1944    \n",
       "grouptrt2     0.4940     0.2788   1.772   0.0877 .  \n",
       "---\n",
       "Signif. codes:  0 '***' 0.001 '**' 0.01 '*' 0.05 '.' 0.1 ' ' 1\n",
       "\n",
       "Residual standard error: 0.6234 on 27 degrees of freedom\n",
       "Multiple R-squared:  0.2641,\tAdjusted R-squared:  0.2096 \n",
       "F-statistic: 4.846 on 2 and 27 DF,  p-value: 0.01591\n"
      ]
     },
     "metadata": {},
     "output_type": "display_data"
    }
   ],
   "source": [
    "PlantSum<-summary(lm(weight ~ group, data = PlantGrowth))    \n",
    "PlantSum                                                    "
   ]
  },
  {
   "cell_type": "markdown",
   "id": "8eaf4f85",
   "metadata": {},
   "source": [
    "Але зараз ми дослідимо лише дисперсії. Для цього застосуємо функцію anova до нашої лінійної моделі. "
   ]
  },
  {
   "cell_type": "code",
   "execution_count": 6,
   "id": "26a67959",
   "metadata": {},
   "outputs": [
    {
     "data": {
      "text/html": [
       "<table>\n",
       "<thead><tr><th></th><th scope=col>Df</th><th scope=col>Sum Sq</th><th scope=col>Mean Sq</th><th scope=col>F value</th><th scope=col>Pr(&gt;F)</th></tr></thead>\n",
       "<tbody>\n",
       "\t<tr><th scope=row>group</th><td> 2        </td><td> 3.76634  </td><td>1.8831700 </td><td>4.846088  </td><td>0.01590996</td></tr>\n",
       "\t<tr><th scope=row>Residuals</th><td>27        </td><td>10.49209  </td><td>0.3885959 </td><td>      NA  </td><td>        NA</td></tr>\n",
       "</tbody>\n",
       "</table>\n"
      ],
      "text/latex": [
       "\\begin{tabular}{r|lllll}\n",
       "  & Df & Sum Sq & Mean Sq & F value & Pr(>F)\\\\\n",
       "\\hline\n",
       "\tgroup &  2         &  3.76634   & 1.8831700  & 4.846088   & 0.01590996\\\\\n",
       "\tResiduals & 27         & 10.49209   & 0.3885959  &       NA   &         NA\\\\\n",
       "\\end{tabular}\n"
      ],
      "text/markdown": [
       "\n",
       "| <!--/--> | Df | Sum Sq | Mean Sq | F value | Pr(>F) |\n",
       "|---|---|---|---|---|---|\n",
       "| group |  2         |  3.76634   | 1.8831700  | 4.846088   | 0.01590996 |\n",
       "| Residuals | 27         | 10.49209   | 0.3885959  |       NA   |         NA |\n",
       "\n"
      ],
      "text/plain": [
       "          Df Sum Sq   Mean Sq   F value  Pr(>F)    \n",
       "group      2  3.76634 1.8831700 4.846088 0.01590996\n",
       "Residuals 27 10.49209 0.3885959       NA         NA"
      ]
     },
     "metadata": {},
     "output_type": "display_data"
    }
   ],
   "source": [
    "plant.aov <- anova(lm(weight ~ group, data = PlantGrowth))  \n",
    "plant.aov"
   ]
  },
  {
   "attachments": {
    "image.png": {
     "image/png": "[encoded data removed]"
    }
   },
   "cell_type": "markdown",
   "id": "e495d225",
   "metadata": {},
   "source": [
    "![image.png](attachment:image.png)"
   ]
  },
  {
   "cell_type": "markdown",
   "id": "c4e8ab99",
   "metadata": {},
   "source": [
    "Оскільки $p$-value<0.05, то відхиляємо гіпотезу про рівність середніх. \n",
    "\n",
    "\n",
    "Альтернативно, можна зробити аналіз дисперсій за допомогою функції aov. "
   ]
  },
  {
   "cell_type": "code",
   "execution_count": 7,
   "id": "c1d59d04",
   "metadata": {},
   "outputs": [
    {
     "data": {
      "text/plain": [
       "Call:\n",
       "   aov(formula = lm(weight ~ group, data = PlantGrowth))\n",
       "\n",
       "Terms:\n",
       "                   group Residuals\n",
       "Sum of Squares   3.76634  10.49209\n",
       "Deg. of Freedom        2        27\n",
       "\n",
       "Residual standard error: 0.6233746\n",
       "Estimated effects may be unbalanced"
      ]
     },
     "metadata": {},
     "output_type": "display_data"
    }
   ],
   "source": [
    "aov(lm(weight ~ group, data = PlantGrowth))  "
   ]
  },
  {
   "cell_type": "markdown",
   "id": "b31db845",
   "metadata": {},
   "source": [
    "Residual standard error - це  $\\sqrt{Mean\\, Sq}$. "
   ]
  },
  {
   "cell_type": "code",
   "execution_count": 8,
   "id": "139e5a80",
   "metadata": {},
   "outputs": [
    {
     "data": {
      "text/html": [
       "0.623374606476716"
      ],
      "text/latex": [
       "0.623374606476716"
      ],
      "text/markdown": [
       "0.623374606476716"
      ],
      "text/plain": [
       "[1] 0.6233746"
      ]
     },
     "metadata": {},
     "output_type": "display_data"
    }
   ],
   "source": [
    "sqrt(0.3885959)"
   ]
  },
  {
   "cell_type": "markdown",
   "id": "29760021",
   "metadata": {},
   "source": [
    "### 2.MANOVA\n",
    "Розглянемо Приклад 6.1.7  з Rencher. Наведений нижче код запропоновано на сторінці https://rpubs.com/aaronsc32/manova. \n",
    "Зчитаємо  Таблицю  6.2 з Rencher: "
   ]
  },
  {
   "cell_type": "code",
   "execution_count": 9,
   "id": "ec579233",
   "metadata": {},
   "outputs": [],
   "source": [
    "root <- read.table('T6_2_ROOT.DAT', col.names = c('V1', 'V2', 'V3', 'V4', 'V5'))"
   ]
  },
  {
   "cell_type": "markdown",
   "id": "eac508ca",
   "metadata": {},
   "source": [
    "Ми позначили через  колонки наступні величини (для зручності, наведемо оригінальні назви, використані в Rencher): \n",
    "\n",
    "$V1$:  Номер дерева ('Tree.Number');\n",
    "\n",
    "$V2$:   Обхват дерева через 4 роки ('Trunk.Girth.4.Years')\n",
    "\n",
    "$V3$:    Висота через 4 роки ('Ext.Growth.4.Years')\n",
    "\n",
    "$V4$:    Обхват дерева через 15 років ('Trunk.Girth.15.Years')\n",
    "\n",
    "$V5:$    Вага над грунтом через 15 років.  ('Weight.Above.Ground.15.Years')\n",
    "\n",
    "Наведемо перші 6 значень цієї таблиці (в першій колонці у нас поки лише результати для дерев з першої групи, усього в таблиці 6 груп дерев, по 8 у кожній групі, тобто  $k=6$, $n=8$; також, у нас 4 змінні, а отже, $p=4$): "
   ]
  },
  {
   "cell_type": "code",
   "execution_count": 10,
   "id": "8b0fbd25",
   "metadata": {},
   "outputs": [
    {
     "data": {
      "text/html": [
       "<table>\n",
       "<thead><tr><th scope=col>V1</th><th scope=col>V2</th><th scope=col>V3</th><th scope=col>V4</th><th scope=col>V5</th></tr></thead>\n",
       "<tbody>\n",
       "\t<tr><td>1    </td><td>1.11 </td><td>2.569</td><td>3.58 </td><td>0.760</td></tr>\n",
       "\t<tr><td>1    </td><td>1.19 </td><td>2.928</td><td>3.75 </td><td>0.821</td></tr>\n",
       "\t<tr><td>1    </td><td>1.09 </td><td>2.865</td><td>3.93 </td><td>0.928</td></tr>\n",
       "\t<tr><td>1    </td><td>1.25 </td><td>3.844</td><td>3.94 </td><td>1.009</td></tr>\n",
       "\t<tr><td>1    </td><td>1.11 </td><td>3.027</td><td>3.60 </td><td>0.766</td></tr>\n",
       "\t<tr><td>1    </td><td>1.08 </td><td>2.336</td><td>3.51 </td><td>0.726</td></tr>\n",
       "</tbody>\n",
       "</table>\n"
      ],
      "text/latex": [
       "\\begin{tabular}{r|lllll}\n",
       " V1 & V2 & V3 & V4 & V5\\\\\n",
       "\\hline\n",
       "\t 1     & 1.11  & 2.569 & 3.58  & 0.760\\\\\n",
       "\t 1     & 1.19  & 2.928 & 3.75  & 0.821\\\\\n",
       "\t 1     & 1.09  & 2.865 & 3.93  & 0.928\\\\\n",
       "\t 1     & 1.25  & 3.844 & 3.94  & 1.009\\\\\n",
       "\t 1     & 1.11  & 3.027 & 3.60  & 0.766\\\\\n",
       "\t 1     & 1.08  & 2.336 & 3.51  & 0.726\\\\\n",
       "\\end{tabular}\n"
      ],
      "text/markdown": [
       "\n",
       "| V1 | V2 | V3 | V4 | V5 |\n",
       "|---|---|---|---|---|\n",
       "| 1     | 1.11  | 2.569 | 3.58  | 0.760 |\n",
       "| 1     | 1.19  | 2.928 | 3.75  | 0.821 |\n",
       "| 1     | 1.09  | 2.865 | 3.93  | 0.928 |\n",
       "| 1     | 1.25  | 3.844 | 3.94  | 1.009 |\n",
       "| 1     | 1.11  | 3.027 | 3.60  | 0.766 |\n",
       "| 1     | 1.08  | 2.336 | 3.51  | 0.726 |\n",
       "\n"
      ],
      "text/plain": [
       "  V1 V2   V3    V4   V5   \n",
       "1 1  1.11 2.569 3.58 0.760\n",
       "2 1  1.19 2.928 3.75 0.821\n",
       "3 1  1.09 2.865 3.93 0.928\n",
       "4 1  1.25 3.844 3.94 1.009\n",
       "5 1  1.11 3.027 3.60 0.766\n",
       "6 1  1.08 2.336 3.51 0.726"
      ]
     },
     "metadata": {},
     "output_type": "display_data"
    }
   ],
   "source": [
    "head(root)"
   ]
  },
  {
   "cell_type": "markdown",
   "id": "e0811721",
   "metadata": {},
   "source": [
    "Далі ми подилимо дані на групи відповідно до номеру дерева та позничимо залежні змінні. Після цього ми можемо застосувати функцію  aov. \n"
   ]
  },
  {
   "cell_type": "code",
   "execution_count": 12,
   "id": "daedd51c",
   "metadata": {},
   "outputs": [
    {
     "data": {
      "text/plain": [
       "Call:\n",
       "   aov(formula = dependent.vars ~ root$V1)\n",
       "\n",
       "Terms:\n",
       "                  root$V1 Residuals\n",
       "V2               0.073560  0.319987\n",
       "V3               4.199662 12.142790\n",
       "V4               6.113935  4.290813\n",
       "V5               2.493091  1.722525\n",
       "Deg. of Freedom         5        42\n",
       "\n",
       "Residual standard errors: 0.08728545 0.5376933 0.3196282 0.2025154\n",
       "Estimated effects may be unbalanced"
      ]
     },
     "metadata": {},
     "output_type": "display_data"
    }
   ],
   "source": [
    "root$V1 <- as.factor(root$V1)\n",
    "dependent.vars <- as.matrix(read.table('T6_2_ROOT.DAT'))[,2:5]\n",
    "aov(dependent.vars ~ root$V1)  "
   ]
  },
  {
   "cell_type": "markdown",
   "id": "41f3a1b9",
   "metadata": {},
   "source": [
    "Такий самий результат дає застосування функції manova: \n",
    "\n",
    "Syntax: \n",
    "manova(formula, data = NULL, projections = FALSE, qr = TRUE, contrasts = NULL, …)"
   ]
  },
  {
   "cell_type": "code",
   "execution_count": 13,
   "id": "32100825",
   "metadata": {},
   "outputs": [
    {
     "data": {
      "text/plain": [
       "Call:\n",
       "   manova(dependent.vars ~ root$V1)\n",
       "\n",
       "Terms:\n",
       "                  root$V1 Residuals\n",
       "V2               0.073560  0.319987\n",
       "V3               4.199662 12.142790\n",
       "V4               6.113935  4.290813\n",
       "V5               2.493091  1.722525\n",
       "Deg. of Freedom         5        42\n",
       "\n",
       "Residual standard errors: 0.08728545 0.5376933 0.3196282 0.2025154\n",
       "Estimated effects may be unbalanced"
      ]
     },
     "metadata": {},
     "output_type": "display_data"
    }
   ],
   "source": [
    "manova(dependent.vars ~ root$V1)"
   ]
  },
  {
   "cell_type": "markdown",
   "id": "4a62d464",
   "metadata": {},
   "source": [
    "Residual standard errors: $\\sqrt{Residuals/(Deg. of Freedom)}$: "
   ]
  },
  {
   "cell_type": "code",
   "execution_count": null,
   "id": "2687f67a",
   "metadata": {},
   "outputs": [],
   "source": [
    "sqrt(0.319987/42)"
   ]
  },
  {
   "cell_type": "markdown",
   "id": "dca491ac",
   "metadata": {},
   "source": [
    "Або, у розгорнотому вигляді, "
   ]
  },
  {
   "cell_type": "code",
   "execution_count": 14,
   "id": "4600ab8d",
   "metadata": {},
   "outputs": [
    {
     "data": {
      "text/plain": [
       " Response V2 :\n",
       "            Df  Sum Sq   Mean Sq F value Pr(>F)\n",
       "root$V1      5 0.07356 0.0147121   1.931 0.1094\n",
       "Residuals   42 0.31999 0.0076187               \n",
       "\n",
       " Response V3 :\n",
       "            Df  Sum Sq Mean Sq F value Pr(>F)  \n",
       "root$V1      5  4.1997 0.83993  2.9052 0.0243 *\n",
       "Residuals   42 12.1428 0.28911                 \n",
       "---\n",
       "Signif. codes:  0 '***' 0.001 '**' 0.01 '*' 0.05 '.' 0.1 ' ' 1\n",
       "\n",
       " Response V4 :\n",
       "            Df Sum Sq Mean Sq F value    Pr(>F)    \n",
       "root$V1      5 6.1139 1.22279  11.969 3.112e-07 ***\n",
       "Residuals   42 4.2908 0.10216                      \n",
       "---\n",
       "Signif. codes:  0 '***' 0.001 '**' 0.01 '*' 0.05 '.' 0.1 ' ' 1\n",
       "\n",
       " Response V5 :\n",
       "            Df Sum Sq Mean Sq F value    Pr(>F)    \n",
       "root$V1      5 2.4931 0.49862  12.158 2.587e-07 ***\n",
       "Residuals   42 1.7225 0.04101                      \n",
       "---\n",
       "Signif. codes:  0 '***' 0.001 '**' 0.01 '*' 0.05 '.' 0.1 ' ' 1\n"
      ]
     },
     "metadata": {},
     "output_type": "display_data"
    }
   ],
   "source": [
    "summary(aov(dependent.vars ~ root$V1))"
   ]
  },
  {
   "cell_type": "markdown",
   "id": "99cdc841",
   "metadata": {},
   "source": [
    "Розберемо, що знаходиться в цій таблиці.  \n",
    "\n",
    "Перша колонка- це кількість  ступенів свободи: $\\nu_H = k-1=5$  та $\\nu_E= k(n-1)= 6* 7=42$. Друга колонка- це діагональні елементи матриць $H$ та $E$, відповідно.    Ці матриці можна отримани  з MANOVA  наступним чином: "
   ]
  },
  {
   "cell_type": "code",
   "execution_count": 15,
   "id": "91fffcef",
   "metadata": {},
   "outputs": [
    {
     "data": {
      "text/html": [
       "<strong>$`root$V1`</strong> = <table>\n",
       "<thead><tr><th></th><th scope=col>V2</th><th scope=col>V3</th><th scope=col>V4</th><th scope=col>V5</th></tr></thead>\n",
       "<tbody>\n",
       "\t<tr><th scope=row>V2</th><td>0.07356042</td><td>0.5373852 </td><td>0.3322646 </td><td>0.208470  </td></tr>\n",
       "\t<tr><th scope=row>V3</th><td>0.53738521</td><td>4.1996619 </td><td>2.3553885 </td><td>1.637108  </td></tr>\n",
       "\t<tr><th scope=row>V4</th><td>0.33226458</td><td>2.3553885 </td><td>6.1139354 </td><td>3.781044  </td></tr>\n",
       "\t<tr><th scope=row>V5</th><td>0.20847000</td><td>1.6371084 </td><td>3.7810437 </td><td>2.493091  </td></tr>\n",
       "</tbody>\n",
       "</table>\n"
      ],
      "text/latex": [
       "\\textbf{\\$`root\\$V1`} = \\begin{tabular}{r|llll}\n",
       "  & V2 & V3 & V4 & V5\\\\\n",
       "\\hline\n",
       "\tV2 & 0.07356042 & 0.5373852  & 0.3322646  & 0.208470  \\\\\n",
       "\tV3 & 0.53738521 & 4.1996619  & 2.3553885  & 1.637108  \\\\\n",
       "\tV4 & 0.33226458 & 2.3553885  & 6.1139354  & 3.781044  \\\\\n",
       "\tV5 & 0.20847000 & 1.6371084  & 3.7810437  & 2.493091  \\\\\n",
       "\\end{tabular}\n"
      ],
      "text/markdown": [
       "**$`root$V1`** = \n",
       "| <!--/--> | V2 | V3 | V4 | V5 |\n",
       "|---|---|---|---|---|\n",
       "| V2 | 0.07356042 | 0.5373852  | 0.3322646  | 0.208470   |\n",
       "| V3 | 0.53738521 | 4.1996619  | 2.3553885  | 1.637108   |\n",
       "| V4 | 0.33226458 | 2.3553885  | 6.1139354  | 3.781044   |\n",
       "| V5 | 0.20847000 | 1.6371084  | 3.7810437  | 2.493091   |\n",
       "\n"
      ],
      "text/plain": [
       "$`root$V1`\n",
       "           V2        V3        V4       V5\n",
       "V2 0.07356042 0.5373852 0.3322646 0.208470\n",
       "V3 0.53738521 4.1996619 2.3553885 1.637108\n",
       "V4 0.33226458 2.3553885 6.1139354 3.781044\n",
       "V5 0.20847000 1.6371084 3.7810437 2.493091\n"
      ]
     },
     "metadata": {},
     "output_type": "display_data"
    }
   ],
   "source": [
    "root.manova <- summary(manova(dependent.vars ~ root$V1))\n",
    "H <- root.manova$SS[1]\n",
    "E <- root.manova$SS[2]\n",
    "H"
   ]
  },
  {
   "cell_type": "code",
   "execution_count": 16,
   "id": "9959e4a6",
   "metadata": {},
   "outputs": [
    {
     "data": {
      "text/html": [
       "<strong>$Residuals</strong> = <table>\n",
       "<thead><tr><th></th><th scope=col>V2</th><th scope=col>V3</th><th scope=col>V4</th><th scope=col>V5</th></tr></thead>\n",
       "<tbody>\n",
       "\t<tr><th scope=row>V2</th><td>0.3199875</td><td> 1.696564</td><td>0.5540875</td><td>0.217140 </td></tr>\n",
       "\t<tr><th scope=row>V3</th><td>1.6965637</td><td>12.142790</td><td>4.3636125</td><td>2.110214 </td></tr>\n",
       "\t<tr><th scope=row>V4</th><td>0.5540875</td><td> 4.363612</td><td>4.2908125</td><td>2.481656 </td></tr>\n",
       "\t<tr><th scope=row>V5</th><td>0.2171400</td><td> 2.110214</td><td>2.4816562</td><td>1.722525 </td></tr>\n",
       "</tbody>\n",
       "</table>\n"
      ],
      "text/latex": [
       "\\textbf{\\$Residuals} = \\begin{tabular}{r|llll}\n",
       "  & V2 & V3 & V4 & V5\\\\\n",
       "\\hline\n",
       "\tV2 & 0.3199875 &  1.696564 & 0.5540875 & 0.217140 \\\\\n",
       "\tV3 & 1.6965637 & 12.142790 & 4.3636125 & 2.110214 \\\\\n",
       "\tV4 & 0.5540875 &  4.363612 & 4.2908125 & 2.481656 \\\\\n",
       "\tV5 & 0.2171400 &  2.110214 & 2.4816562 & 1.722525 \\\\\n",
       "\\end{tabular}\n"
      ],
      "text/markdown": [
       "**$Residuals** = \n",
       "| <!--/--> | V2 | V3 | V4 | V5 |\n",
       "|---|---|---|---|---|\n",
       "| V2 | 0.3199875 |  1.696564 | 0.5540875 | 0.217140  |\n",
       "| V3 | 1.6965637 | 12.142790 | 4.3636125 | 2.110214  |\n",
       "| V4 | 0.5540875 |  4.363612 | 4.2908125 | 2.481656  |\n",
       "| V5 | 0.2171400 |  2.110214 | 2.4816562 | 1.722525  |\n",
       "\n"
      ],
      "text/plain": [
       "$Residuals\n",
       "          V2        V3        V4       V5\n",
       "V2 0.3199875  1.696564 0.5540875 0.217140\n",
       "V3 1.6965637 12.142790 4.3636125 2.110214\n",
       "V4 0.5540875  4.363612 4.2908125 2.481656\n",
       "V5 0.2171400  2.110214 2.4816562 1.722525\n"
      ]
     },
     "metadata": {},
     "output_type": "display_data"
    }
   ],
   "source": [
    "E"
   ]
  },
  {
   "cell_type": "markdown",
   "id": "240584c5",
   "metadata": {},
   "source": [
    "Код обчислення  $E$ і $H$:  https://rpubs.com/aaronsc32/manova"
   ]
  },
  {
   "cell_type": "markdown",
   "id": "9e3fe477",
   "metadata": {},
   "source": [
    "Числа в третій колонці- це числа у другій колонці, поділені на кількість ступенів свободи, тобто на відповідні числа  у першій колонці. Числа у четвертій колонці- це відношення зваженої суми квадратів, що відповідає змінній, і суми квадратів, що відповідає залишкам, тобто, наприклад, для першої змінної $0.0147121/0.0076187=\n",
    "1.931051$. Як і в попередньому розділі, за умови гіпотези $H_0$ -- це відношення має розподіл Фішера. Остання колонка-- це $p$-value. \n",
    "\n",
    "З іншого боку, можна застосувати summary(manova) для того, щоб перевірити гіпотезу  $H_0$ про те, всі групи мають однакові середні.  Для цього треба подивитися результат  root.manova: "
   ]
  },
  {
   "cell_type": "code",
   "execution_count": 17,
   "id": "50319119",
   "metadata": {},
   "outputs": [
    {
     "data": {
      "text/plain": [
       "          Df Pillai approx F num Df den Df    Pr(>F)    \n",
       "root$V1    5 1.3055   4.0697     20    168 1.983e-07 ***\n",
       "Residuals 42                                            \n",
       "---\n",
       "Signif. codes:  0 '***' 0.001 '**' 0.01 '*' 0.05 '.' 0.1 ' ' 1"
      ]
     },
     "metadata": {},
     "output_type": "display_data"
    }
   ],
   "source": [
    "root.manova"
   ]
  },
  {
   "cell_type": "markdown",
   "id": "035670f6",
   "metadata": {},
   "source": [
    "Тобто, використання  root.manova дає нам значення статистики Пілая\n",
    "$$\n",
    "\tV^{(s)} = trace [ (E+H)^{-1} H]= \\sum_{i=1}^s \\frac{\\lambda_i}{1+\\lambda_i}. \n",
    "$$  \n",
    "Маємо: $\\nu_H= k-1=5$, $\\nu_E= k(n-1)= 42$, $p=4$, \n",
    " $m:=\\frac{|p-\\nu_H|-1}{2}=0$, $w:=(\\nu_E-p-1)/2$, $s=4$ (у нашому випадку це розмірність).  Випадкова величина \n",
    "$$\n",
    "\\frac{(2w+s+1)V^{(s)}}{(2m+s+1)(s-V^{(s)})}\\sim F_{s(2w+s+1),  s(2n+s+1)}\n",
    "$$\n",
    "має за виконання гіпотези розподіл Фішера $F_{20,168}$. \n",
    "\n",
    "Для того, щоб обчислити це значення вручну, застосуємо матриці  $E$ та $H$. \n",
    "Вище ми зчитали матриці $E$ та $H$ як таблиці. Перетворимо їх у матриці та обчислимо стетистику Пілая:  "
   ]
  },
  {
   "cell_type": "code",
   "execution_count": 18,
   "id": "4cc05901",
   "metadata": {},
   "outputs": [
    {
     "data": {
      "text/html": [
       "1.3055"
      ],
      "text/latex": [
       "1.3055"
      ],
      "text/markdown": [
       "1.3055"
      ],
      "text/plain": [
       "[1] 1.3055"
      ]
     },
     "metadata": {},
     "output_type": "display_data"
    }
   ],
   "source": [
    "E1 <- as.matrix(E$Residuals)\n",
    "H1 <- as.matrix(H$`root$V1`)\n",
    "Vs <- sum(diag(solve(E1 + H1) %*% H1)) \n",
    "round(Vs,4)"
   ]
  },
  {
   "cell_type": "code",
   "execution_count": 19,
   "id": "028d4782",
   "metadata": {},
   "outputs": [
    {
     "data": {
      "text/html": [
       "4.0697"
      ],
      "text/latex": [
       "4.0697"
      ],
      "text/markdown": [
       "4.0697"
      ],
      "text/plain": [
       "[1] 4.0697"
      ]
     },
     "metadata": {},
     "output_type": "display_data"
    }
   ],
   "source": [
    "F = (42*Vs)/(5*(4-Vs))\n",
    "round(F,4)"
   ]
  },
  {
   "cell_type": "markdown",
   "id": "7b75d7d7",
   "metadata": {},
   "source": [
    "Можна перевірити, що  $p$-value дуже мале. \n",
    "\n",
    "Можна також використати інші тести, які вбудовані у функцію manova: "
   ]
  },
  {
   "cell_type": "code",
   "execution_count": 21,
   "id": "0a656df4",
   "metadata": {},
   "outputs": [
    {
     "data": {
      "text/plain": [
       "          Df Pillai approx F num Df den Df    Pr(>F)    \n",
       "root$V1    5 1.3055   4.0697     20    168 1.983e-07 ***\n",
       "Residuals 42                                            \n",
       "---\n",
       "Signif. codes:  0 '***' 0.001 '**' 0.01 '*' 0.05 '.' 0.1 ' ' 1"
      ]
     },
     "metadata": {},
     "output_type": "display_data"
    }
   ],
   "source": [
    "#summary(manova(dependent.vars ~ root$V1), test=\"Wilks\")\n",
    "# summary(manova(dependent.vars ~ root$V1), test=\"Roy\")\n",
    "# summary(manova(dependent.vars ~ root$V1), test=\"Hotelling-Lawley\")\n",
    "summary(manova(dependent.vars ~ root$V1), test=\"Pillai\")"
   ]
  },
  {
   "cell_type": "code",
   "execution_count": 28,
   "id": "6b5d6029",
   "metadata": {},
   "outputs": [
    {
     "data": {
      "text/plain": [
       "          Df   Wilks approx F num Df den Df    Pr(>F)    \n",
       "root$V1    5 0.15401   4.9369     20  130.3 7.714e-09 ***\n",
       "Residuals 42                                             \n",
       "---\n",
       "Signif. codes:  0 '***' 0.001 '**' 0.01 '*' 0.05 '.' 0.1 ' ' 1"
      ]
     },
     "metadata": {},
     "output_type": "display_data"
    }
   ],
   "source": [
    "summary(manova(dependent.vars ~ root$V1), test=\"Wilks\")"
   ]
  },
  {
   "cell_type": "code",
   "execution_count": 56,
   "id": "544c8afc",
   "metadata": {},
   "outputs": [
    {
     "data": {
      "text/plain": [
       "eigen() decomposition\n",
       "$values\n",
       "[1] 1.87567112 0.79069454 0.22904907 0.02595357\n",
       "\n",
       "$vectors\n",
       "            [,1]        [,2]       [,3]        [,4]\n",
       "[1,] -0.55337105  0.08340397 -0.1521720  0.97955535\n",
       "[2,]  0.30911038  0.08894955  0.2539187 -0.12869430\n",
       "[3,] -0.76855963 -0.52426558  0.4623164 -0.08413202\n",
       "[4,]  0.08687548  0.84277954 -0.8358424  0.12973396\n"
      ]
     },
     "metadata": {},
     "output_type": "display_data"
    }
   ],
   "source": [
    "ev <- eigen(solve(E1)%*% H1)\n",
    "ev"
   ]
  }
 ],
 "metadata": {
  "kernelspec": {
   "display_name": "R",
   "language": "R",
   "name": "ir"
  },
  "language_info": {
   "codemirror_mode": "r",
   "file_extension": ".r",
   "mimetype": "text/x-r-source",
   "name": "R",
   "pygments_lexer": "r",
   "version": "3.6.1"
  }
 },
 "nbformat": 4,
 "nbformat_minor": 5
}
