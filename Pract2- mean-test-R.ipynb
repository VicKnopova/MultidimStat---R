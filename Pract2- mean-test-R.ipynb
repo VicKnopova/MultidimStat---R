{
  "cells": [
    {
      "cell_type": "markdown",
      "id": "7adfacfd",
      "metadata": {
        "id": "7adfacfd"
      },
      "source": [
        "## Практичне заняття 2. Тестування  вектору середніх.\n",
        "\n",
        "# Приклад 1. Гіпотеза про середнє при відомій дисперсії (Example 5.2.2)\n",
        "\n",
        "Зчитуємо таблицю 3.1  (див. Rencher, Chapter 3, p.45 (стор. 60 у  файлі))"
      ]
    },
    {
      "cell_type": "code",
      "source": [
        "from google.colab import drive\n",
        "drive.mount('/content/drive')"
      ],
      "metadata": {
        "id": "jRNE5SKCmTt7"
      },
      "id": "jRNE5SKCmTt7",
      "execution_count": null,
      "outputs": []
    },
    {
      "cell_type": "code",
      "execution_count": null,
      "id": "87293cf1",
      "metadata": {
        "id": "87293cf1",
        "outputId": "71ac0418-4060-4094-f6b7-c95f959aaaad"
      },
      "outputs": [
        {
          "data": {
            "text/html": [
              "<table>\n",
              "<thead><tr><th scope=col>V1</th><th scope=col>V2</th><th scope=col>V3</th></tr></thead>\n",
              "<tbody>\n",
              "\t<tr><td>1  </td><td>69 </td><td>153</td></tr>\n",
              "\t<tr><td>2  </td><td>74 </td><td>175</td></tr>\n",
              "\t<tr><td>3  </td><td>68 </td><td>155</td></tr>\n",
              "\t<tr><td>4  </td><td>70 </td><td>135</td></tr>\n",
              "\t<tr><td>5  </td><td>72 </td><td>172</td></tr>\n",
              "\t<tr><td>6  </td><td>67 </td><td>150</td></tr>\n",
              "</tbody>\n",
              "</table>\n"
            ],
            "text/latex": [
              "\\begin{tabular}{r|lll}\n",
              " V1 & V2 & V3\\\\\n",
              "\\hline\n",
              "\t 1   & 69  & 153\\\\\n",
              "\t 2   & 74  & 175\\\\\n",
              "\t 3   & 68  & 155\\\\\n",
              "\t 4   & 70  & 135\\\\\n",
              "\t 5   & 72  & 172\\\\\n",
              "\t 6   & 67  & 150\\\\\n",
              "\\end{tabular}\n"
            ],
            "text/markdown": [
              "\n",
              "| V1 | V2 | V3 |\n",
              "|---|---|---|\n",
              "| 1   | 69  | 153 |\n",
              "| 2   | 74  | 175 |\n",
              "| 3   | 68  | 155 |\n",
              "| 4   | 70  | 135 |\n",
              "| 5   | 72  | 172 |\n",
              "| 6   | 67  | 150 |\n",
              "\n"
            ],
            "text/plain": [
              "  V1 V2 V3 \n",
              "1 1  69 153\n",
              "2 2  74 175\n",
              "3 3  68 155\n",
              "4 4  70 135\n",
              "5 5  72 172\n",
              "6 6  67 150"
            ]
          },
          "metadata": {},
          "output_type": "display_data"
        }
      ],
      "source": [
        "Tab_3_1<-read.table(\"T3_1_HEIGHTWT.DAT\")\n",
        "head(Tab_3_1)"
      ]
    },
    {
      "cell_type": "markdown",
      "id": "a54019ab",
      "metadata": {
        "id": "a54019ab"
      },
      "source": [
        "Припустимо, що ми знаємо коваріаційну матрицю. Припустимо, що ми знаємо коваріаційну   матрицю $E$. Див. стор. 129 у файлі [Rencher'02].  Також, визначимо вектор $\\mu_0$."
      ]
    },
    {
      "cell_type": "code",
      "execution_count": null,
      "id": "3bcb8c6f",
      "metadata": {
        "id": "3bcb8c6f",
        "outputId": "737340e2-5a1c-445f-9df4-b141b8001478"
      },
      "outputs": [
        {
          "data": {
            "text/html": [
              "<table>\n",
              "<tbody>\n",
              "\t<tr><td> 20 </td><td> 100</td></tr>\n",
              "\t<tr><td>100 </td><td>1000</td></tr>\n",
              "</tbody>\n",
              "</table>\n"
            ],
            "text/latex": [
              "\\begin{tabular}{ll}\n",
              "\t  20  &  100\\\\\n",
              "\t 100  & 1000\\\\\n",
              "\\end{tabular}\n"
            ],
            "text/markdown": [
              "\n",
              "|  20  |  100 |\n",
              "| 100  | 1000 |\n",
              "\n"
            ],
            "text/plain": [
              "     [,1] [,2]\n",
              "[1,]  20   100\n",
              "[2,] 100  1000"
            ]
          },
          "metadata": {},
          "output_type": "display_data"
        },
        {
          "data": {
            "text/html": [
              "<ol class=list-inline>\n",
              "\t<li>70</li>\n",
              "\t<li>170</li>\n",
              "</ol>\n"
            ],
            "text/latex": [
              "\\begin{enumerate*}\n",
              "\\item 70\n",
              "\\item 170\n",
              "\\end{enumerate*}\n"
            ],
            "text/markdown": [
              "1. 70\n",
              "2. 170\n",
              "\n",
              "\n"
            ],
            "text/plain": [
              "[1]  70 170"
            ]
          },
          "metadata": {},
          "output_type": "display_data"
        }
      ],
      "source": [
        "E<-matrix(c(20,100,100,1000),nrow = 2, byrow = FALSE)\n",
        "E\n",
        "mu0<-c(70,170)\n",
        "mu0"
      ]
    },
    {
      "cell_type": "markdown",
      "id": "da13bf64",
      "metadata": {
        "id": "da13bf64"
      },
      "source": [
        "Виводимо перший стовбчик таблиці:"
      ]
    },
    {
      "cell_type": "code",
      "execution_count": null,
      "id": "029ed177",
      "metadata": {
        "id": "029ed177",
        "outputId": "155610ff-a58f-4aa7-9c32-34e168918215"
      },
      "outputs": [
        {
          "data": {
            "text/html": [
              "<ol class=list-inline>\n",
              "\t<li>1</li>\n",
              "\t<li>2</li>\n",
              "\t<li>3</li>\n",
              "\t<li>4</li>\n",
              "\t<li>5</li>\n",
              "\t<li>6</li>\n",
              "\t<li>7</li>\n",
              "\t<li>8</li>\n",
              "\t<li>9</li>\n",
              "\t<li>10</li>\n",
              "\t<li>11</li>\n",
              "\t<li>12</li>\n",
              "\t<li>13</li>\n",
              "\t<li>14</li>\n",
              "\t<li>15</li>\n",
              "\t<li>16</li>\n",
              "\t<li>17</li>\n",
              "\t<li>18</li>\n",
              "\t<li>19</li>\n",
              "\t<li>20</li>\n",
              "</ol>\n"
            ],
            "text/latex": [
              "\\begin{enumerate*}\n",
              "\\item 1\n",
              "\\item 2\n",
              "\\item 3\n",
              "\\item 4\n",
              "\\item 5\n",
              "\\item 6\n",
              "\\item 7\n",
              "\\item 8\n",
              "\\item 9\n",
              "\\item 10\n",
              "\\item 11\n",
              "\\item 12\n",
              "\\item 13\n",
              "\\item 14\n",
              "\\item 15\n",
              "\\item 16\n",
              "\\item 17\n",
              "\\item 18\n",
              "\\item 19\n",
              "\\item 20\n",
              "\\end{enumerate*}\n"
            ],
            "text/markdown": [
              "1. 1\n",
              "2. 2\n",
              "3. 3\n",
              "4. 4\n",
              "5. 5\n",
              "6. 6\n",
              "7. 7\n",
              "8. 8\n",
              "9. 9\n",
              "10. 10\n",
              "11. 11\n",
              "12. 12\n",
              "13. 13\n",
              "14. 14\n",
              "15. 15\n",
              "16. 16\n",
              "17. 17\n",
              "18. 18\n",
              "19. 19\n",
              "20. 20\n",
              "\n",
              "\n"
            ],
            "text/plain": [
              " [1]  1  2  3  4  5  6  7  8  9 10 11 12 13 14 15 16 17 18 19 20"
            ]
          },
          "metadata": {},
          "output_type": "display_data"
        }
      ],
      "source": [
        "Tab_3_1$V1"
      ]
    },
    {
      "cell_type": "markdown",
      "id": "94bf6dab",
      "metadata": {
        "id": "94bf6dab"
      },
      "source": [
        "Визначимо вектори $X1$ та $X2$:"
      ]
    },
    {
      "cell_type": "code",
      "execution_count": null,
      "id": "c38e061d",
      "metadata": {
        "id": "c38e061d"
      },
      "outputs": [],
      "source": [
        "X1<-Tab_3_1$V2\n",
        "X2<-Tab_3_1$V3"
      ]
    },
    {
      "cell_type": "markdown",
      "id": "5738d803",
      "metadata": {
        "id": "5738d803"
      },
      "source": [
        "Знаходимо вектор середніх значень $\\bar{X}$."
      ]
    },
    {
      "cell_type": "code",
      "execution_count": null,
      "id": "5bea2f64",
      "metadata": {
        "id": "5bea2f64",
        "outputId": "f39f4cc2-237a-481a-9ca3-c4756c6933a2"
      },
      "outputs": [
        {
          "data": {
            "text/html": [
              "<ol class=list-inline>\n",
              "\t<li>71.45</li>\n",
              "\t<li>164.7</li>\n",
              "</ol>\n"
            ],
            "text/latex": [
              "\\begin{enumerate*}\n",
              "\\item 71.45\n",
              "\\item 164.7\n",
              "\\end{enumerate*}\n"
            ],
            "text/markdown": [
              "1. 71.45\n",
              "2. 164.7\n",
              "\n",
              "\n"
            ],
            "text/plain": [
              "[1]  71.45 164.70"
            ]
          },
          "metadata": {},
          "output_type": "display_data"
        }
      ],
      "source": [
        "xbar<-c(mean(X1),mean(X2))\n",
        "xbar"
      ]
    },
    {
      "cell_type": "markdown",
      "id": "f73d5194",
      "metadata": {
        "id": "f73d5194"
      },
      "source": [
        "Ми маємо 20 спостережень, і маємо двовимірний вектор."
      ]
    },
    {
      "cell_type": "code",
      "execution_count": null,
      "id": "94fb42ba",
      "metadata": {
        "id": "94fb42ba"
      },
      "outputs": [],
      "source": [
        "m = 20\n",
        "p = 2"
      ]
    },
    {
      "cell_type": "markdown",
      "id": "077e9748",
      "metadata": {
        "id": "077e9748"
      },
      "source": [
        "Але краще знайти ці значення з наших даних. Для цього розглянемо розмірність $da0$. Перша координата  в $dim(da0)$ -- це кількість спостережень, друга- розмірність вектору."
      ]
    },
    {
      "cell_type": "code",
      "execution_count": null,
      "id": "57543a40",
      "metadata": {
        "id": "57543a40",
        "outputId": "ca94e998-c9e0-4518-a20a-f34a14ac5755"
      },
      "outputs": [
        {
          "data": {
            "text/html": [
              "<ol class=list-inline>\n",
              "\t<li>20</li>\n",
              "\t<li>3</li>\n",
              "</ol>\n"
            ],
            "text/latex": [
              "\\begin{enumerate*}\n",
              "\\item 20\n",
              "\\item 3\n",
              "\\end{enumerate*}\n"
            ],
            "text/markdown": [
              "1. 20\n",
              "2. 3\n",
              "\n",
              "\n"
            ],
            "text/plain": [
              "[1] 20  3"
            ]
          },
          "metadata": {},
          "output_type": "display_data"
        },
        {
          "data": {
            "text/html": [
              "20"
            ],
            "text/latex": [
              "20"
            ],
            "text/markdown": [
              "20"
            ],
            "text/plain": [
              "[1] 20"
            ]
          },
          "metadata": {},
          "output_type": "display_data"
        },
        {
          "data": {
            "text/html": [
              "2"
            ],
            "text/latex": [
              "2"
            ],
            "text/markdown": [
              "2"
            ],
            "text/plain": [
              "[1] 2"
            ]
          },
          "metadata": {},
          "output_type": "display_data"
        }
      ],
      "source": [
        "Tab_dim = dim(Tab_3_1)\n",
        "m = Tab_dim[1]\n",
        "p = Tab_dim[2]-1\n",
        "Tab_dim\n",
        "m\n",
        "p"
      ]
    },
    {
      "cell_type": "markdown",
      "id": "f7927097",
      "metadata": {
        "id": "f7927097"
      },
      "source": [
        "Обчислюємо\n",
        "$$\n",
        "Z^2= m  (\\bar{X}-\\mu_0)' \\Sigma^{-1} (\\bar{X}-\\mu_0)= m \\Delta^2.\n",
        "$$\n",
        "$t(A)$ означає транспоновану матрицю А,  %*% щзначає множення матриць"
      ]
    },
    {
      "cell_type": "code",
      "execution_count": null,
      "id": "facd949d",
      "metadata": {
        "id": "facd949d",
        "outputId": "d5a6cb6e-f6d2-40b4-a3a2-2e60a1d25b5b"
      },
      "outputs": [
        {
          "data": {
            "text/html": [
              "<table>\n",
              "<tbody>\n",
              "\t<tr><td>8.4026</td></tr>\n",
              "</tbody>\n",
              "</table>\n"
            ],
            "text/latex": [
              "\\begin{tabular}{l}\n",
              "\t 8.4026\\\\\n",
              "\\end{tabular}\n"
            ],
            "text/markdown": [
              "\n",
              "| 8.4026 |\n",
              "\n"
            ],
            "text/plain": [
              "     [,1]  \n",
              "[1,] 8.4026"
            ]
          },
          "metadata": {},
          "output_type": "display_data"
        }
      ],
      "source": [
        "Z2<-m*t(xbar-mu0)%*%solve(E)%*%(xbar-mu0)\n",
        "Z2"
      ]
    },
    {
      "cell_type": "markdown",
      "id": "53095388",
      "metadata": {
        "id": "53095388"
      },
      "source": [
        "А можна рахувати вбудованою функцією\n",
        "Використаємо відстань Махаланобіса між вектором середніх і $mu0h0$"
      ]
    },
    {
      "cell_type": "code",
      "execution_count": null,
      "id": "d5e10d86",
      "metadata": {
        "id": "d5e10d86",
        "outputId": "abf45c6b-1a6b-4e7a-8e25-633780f5be89"
      },
      "outputs": [
        {
          "data": {
            "text/html": [
              "8.40260000000003"
            ],
            "text/latex": [
              "8.40260000000003"
            ],
            "text/markdown": [
              "8.40260000000003"
            ],
            "text/plain": [
              "[1] 8.4026"
            ]
          },
          "metadata": {},
          "output_type": "display_data"
        }
      ],
      "source": [
        "Z2new<-m*mahalanobis(xbar,mu0,E)\n",
        "Z2new"
      ]
    },
    {
      "cell_type": "markdown",
      "id": "a3d6028c",
      "metadata": {
        "id": "a3d6028c"
      },
      "source": [
        "Рахуємо квантіль рівня 0.95 хі-квадрат родподілу з 2ма ступенями свободи:"
      ]
    },
    {
      "cell_type": "code",
      "execution_count": null,
      "id": "fb48a8c6",
      "metadata": {
        "id": "fb48a8c6",
        "outputId": "60360074-4d22-4f77-d336-4356ecef58b4"
      },
      "outputs": [
        {
          "data": {
            "text/html": [
              "5.99146454710798"
            ],
            "text/latex": [
              "5.99146454710798"
            ],
            "text/markdown": [
              "5.99146454710798"
            ],
            "text/plain": [
              "[1] 5.991465"
            ]
          },
          "metadata": {},
          "output_type": "display_data"
        }
      ],
      "source": [
        "qchisq(0.95,df = p, lower.tail = TRUE, log.p = FALSE)"
      ]
    },
    {
      "cell_type": "markdown",
      "id": "3716795b",
      "metadata": {
        "id": "3716795b"
      },
      "source": [
        "Відхиляємо  гіпотезу H0: $mu=mu0$, оскільки $Z2> qchisq(...)$"
      ]
    },
    {
      "cell_type": "markdown",
      "id": "e5e29266",
      "metadata": {
        "id": "e5e29266"
      },
      "source": [
        "Розглянемо ще одну можливість перевірити гіпотезу вбудованою функцією. Для цього треба встановити пакет Hotelling."
      ]
    },
    {
      "cell_type": "code",
      "execution_count": null,
      "id": "a0df2eb9",
      "metadata": {
        "id": "a0df2eb9",
        "outputId": "22cd92ba-7aaf-4363-b671-b28f43914113"
      },
      "outputs": [
        {
          "name": "stderr",
          "output_type": "stream",
          "text": [
            "Loading required package: corpcor\n"
          ]
        }
      ],
      "source": [
        "# install.packages(\"Hotelling\")\n",
        "library(Hotelling)"
      ]
    },
    {
      "cell_type": "markdown",
      "id": "d537a33d",
      "metadata": {
        "id": "d537a33d"
      },
      "source": [
        "Для того, щоб використати функцію hotelling.test, потрібно підставити  $xbar$ та  $mu0$  у вигляді матриць. Тут вважається, що коваріаційна матриця невідома."
      ]
    },
    {
      "cell_type": "code",
      "execution_count": null,
      "id": "8b5c7890",
      "metadata": {
        "id": "8b5c7890",
        "outputId": "1e2cf0ad-bf37-4bd2-98d5-8d6a611c7d65"
      },
      "outputs": [
        {
          "data": {
            "text/plain": [
              "Test stat:  0.00079284 \n",
              "Numerator df:  1 \n",
              "Denominator df:  2 \n",
              "P-value:  0.9801 "
            ]
          },
          "metadata": {},
          "output_type": "display_data"
        }
      ],
      "source": [
        "xbar=as.matrix(xbar)\n",
        "mu0=as.matrix(mu0)\n",
        "P=hotelling.test(xbar, mu0, shrinkage = FALSE, var.equal = TRUE)\n",
        "P"
      ]
    },
    {
      "cell_type": "markdown",
      "id": "48e62a82",
      "metadata": {
        "id": "48e62a82"
      },
      "source": [
        "# Приклад 2. Гіпотеза про середнє при невідомій дисперсії.\n",
        "\n",
        "\n",
        "Зчитуємо таблицю 3.3 (див. Rencher, Chapter 3, p.56 (стор. 73 у  файлі)"
      ]
    },
    {
      "cell_type": "code",
      "execution_count": null,
      "id": "34b6a028",
      "metadata": {
        "id": "34b6a028",
        "outputId": "6001d128-88dd-4897-81da-8e1bb1237700"
      },
      "outputs": [
        {
          "data": {
            "text/html": [
              "<table>\n",
              "<thead><tr><th scope=col>V1</th><th scope=col>V2</th><th scope=col>V3</th><th scope=col>V4</th></tr></thead>\n",
              "<tbody>\n",
              "\t<tr><td> 1  </td><td>35  </td><td> 3.5</td><td>2.80</td></tr>\n",
              "\t<tr><td> 2  </td><td>35  </td><td> 4.9</td><td>2.70</td></tr>\n",
              "\t<tr><td> 3  </td><td>40  </td><td>30.0</td><td>4.38</td></tr>\n",
              "\t<tr><td> 4  </td><td>10  </td><td> 2.8</td><td>3.21</td></tr>\n",
              "\t<tr><td> 5  </td><td> 6  </td><td> 2.7</td><td>2.73</td></tr>\n",
              "\t<tr><td> 6  </td><td>20  </td><td> 2.8</td><td>2.81</td></tr>\n",
              "\t<tr><td> 7  </td><td>35  </td><td> 4.6</td><td>2.88</td></tr>\n",
              "\t<tr><td> 8  </td><td>35  </td><td>10.9</td><td>2.90</td></tr>\n",
              "\t<tr><td> 9  </td><td>35  </td><td> 8.0</td><td>3.28</td></tr>\n",
              "\t<tr><td>10  </td><td>30  </td><td> 1.6</td><td>3.20</td></tr>\n",
              "</tbody>\n",
              "</table>\n"
            ],
            "text/latex": [
              "\\begin{tabular}{r|llll}\n",
              " V1 & V2 & V3 & V4\\\\\n",
              "\\hline\n",
              "\t  1   & 35   &  3.5 & 2.80\\\\\n",
              "\t  2   & 35   &  4.9 & 2.70\\\\\n",
              "\t  3   & 40   & 30.0 & 4.38\\\\\n",
              "\t  4   & 10   &  2.8 & 3.21\\\\\n",
              "\t  5   &  6   &  2.7 & 2.73\\\\\n",
              "\t  6   & 20   &  2.8 & 2.81\\\\\n",
              "\t  7   & 35   &  4.6 & 2.88\\\\\n",
              "\t  8   & 35   & 10.9 & 2.90\\\\\n",
              "\t  9   & 35   &  8.0 & 3.28\\\\\n",
              "\t 10   & 30   &  1.6 & 3.20\\\\\n",
              "\\end{tabular}\n"
            ],
            "text/markdown": [
              "\n",
              "| V1 | V2 | V3 | V4 |\n",
              "|---|---|---|---|\n",
              "|  1   | 35   |  3.5 | 2.80 |\n",
              "|  2   | 35   |  4.9 | 2.70 |\n",
              "|  3   | 40   | 30.0 | 4.38 |\n",
              "|  4   | 10   |  2.8 | 3.21 |\n",
              "|  5   |  6   |  2.7 | 2.73 |\n",
              "|  6   | 20   |  2.8 | 2.81 |\n",
              "|  7   | 35   |  4.6 | 2.88 |\n",
              "|  8   | 35   | 10.9 | 2.90 |\n",
              "|  9   | 35   |  8.0 | 3.28 |\n",
              "| 10   | 30   |  1.6 | 3.20 |\n",
              "\n"
            ],
            "text/plain": [
              "   V1 V2 V3   V4  \n",
              "1   1 35  3.5 2.80\n",
              "2   2 35  4.9 2.70\n",
              "3   3 40 30.0 4.38\n",
              "4   4 10  2.8 3.21\n",
              "5   5  6  2.7 2.73\n",
              "6   6 20  2.8 2.81\n",
              "7   7 35  4.6 2.88\n",
              "8   8 35 10.9 2.90\n",
              "9   9 35  8.0 3.28\n",
              "10 10 30  1.6 3.20"
            ]
          },
          "metadata": {},
          "output_type": "display_data"
        }
      ],
      "source": [
        "Tab_3_3<-read.table(\"T3_3_CALCIUM.DAT\", header=F)\n",
        "Tab_3_3"
      ]
    },
    {
      "cell_type": "markdown",
      "id": "a11cf857",
      "metadata": {
        "id": "a11cf857"
      },
      "source": [
        "Утворюємо матрицю М з векторів V2, V3, V4:"
      ]
    },
    {
      "cell_type": "code",
      "execution_count": null,
      "id": "55934bb1",
      "metadata": {
        "id": "55934bb1",
        "outputId": "23d912e3-d590-44ed-c0e4-1bcf61e566ab"
      },
      "outputs": [
        {
          "data": {
            "text/html": [
              "<table>\n",
              "<thead><tr><th scope=col>Y1</th><th scope=col>Y2</th><th scope=col>Y3</th></tr></thead>\n",
              "<tbody>\n",
              "\t<tr><td>35  </td><td> 3.5</td><td>2.80</td></tr>\n",
              "\t<tr><td>35  </td><td> 4.9</td><td>2.70</td></tr>\n",
              "\t<tr><td>40  </td><td>30.0</td><td>4.38</td></tr>\n",
              "\t<tr><td>10  </td><td> 2.8</td><td>3.21</td></tr>\n",
              "\t<tr><td> 6  </td><td> 2.7</td><td>2.73</td></tr>\n",
              "\t<tr><td>20  </td><td> 2.8</td><td>2.81</td></tr>\n",
              "\t<tr><td>35  </td><td> 4.6</td><td>2.88</td></tr>\n",
              "\t<tr><td>35  </td><td>10.9</td><td>2.90</td></tr>\n",
              "\t<tr><td>35  </td><td> 8.0</td><td>3.28</td></tr>\n",
              "\t<tr><td>30  </td><td> 1.6</td><td>3.20</td></tr>\n",
              "</tbody>\n",
              "</table>\n"
            ],
            "text/latex": [
              "\\begin{tabular}{lll}\n",
              " Y1 & Y2 & Y3\\\\\n",
              "\\hline\n",
              "\t 35   &  3.5 & 2.80\\\\\n",
              "\t 35   &  4.9 & 2.70\\\\\n",
              "\t 40   & 30.0 & 4.38\\\\\n",
              "\t 10   &  2.8 & 3.21\\\\\n",
              "\t  6   &  2.7 & 2.73\\\\\n",
              "\t 20   &  2.8 & 2.81\\\\\n",
              "\t 35   &  4.6 & 2.88\\\\\n",
              "\t 35   & 10.9 & 2.90\\\\\n",
              "\t 35   &  8.0 & 3.28\\\\\n",
              "\t 30   &  1.6 & 3.20\\\\\n",
              "\\end{tabular}\n"
            ],
            "text/markdown": [
              "\n",
              "| Y1 | Y2 | Y3 |\n",
              "|---|---|---|\n",
              "| 35   |  3.5 | 2.80 |\n",
              "| 35   |  4.9 | 2.70 |\n",
              "| 40   | 30.0 | 4.38 |\n",
              "| 10   |  2.8 | 3.21 |\n",
              "|  6   |  2.7 | 2.73 |\n",
              "| 20   |  2.8 | 2.81 |\n",
              "| 35   |  4.6 | 2.88 |\n",
              "| 35   | 10.9 | 2.90 |\n",
              "| 35   |  8.0 | 3.28 |\n",
              "| 30   |  1.6 | 3.20 |\n",
              "\n"
            ],
            "text/plain": [
              "      Y1 Y2   Y3  \n",
              " [1,] 35  3.5 2.80\n",
              " [2,] 35  4.9 2.70\n",
              " [3,] 40 30.0 4.38\n",
              " [4,] 10  2.8 3.21\n",
              " [5,]  6  2.7 2.73\n",
              " [6,] 20  2.8 2.81\n",
              " [7,] 35  4.6 2.88\n",
              " [8,] 35 10.9 2.90\n",
              " [9,] 35  8.0 3.28\n",
              "[10,] 30  1.6 3.20"
            ]
          },
          "metadata": {},
          "output_type": "display_data"
        }
      ],
      "source": [
        "Y1<-Tab_3_3$V2\n",
        "Y2<-Tab_3_3$V3\n",
        "Y3<-Tab_3_3$V4\n",
        "M<-cbind(Y1,Y2,Y3)\n",
        "M"
      ]
    },
    {
      "cell_type": "markdown",
      "id": "0dc102a6",
      "metadata": {
        "id": "0dc102a6"
      },
      "source": [
        "Знаходимо коваріаційну матрицю, що пов'язана з М:"
      ]
    },
    {
      "cell_type": "code",
      "execution_count": null,
      "id": "4c25a7f7",
      "metadata": {
        "id": "4c25a7f7",
        "outputId": "17fdcc79-06c9-49b0-f624-f4b7322f5ef1"
      },
      "outputs": [
        {
          "data": {
            "text/html": [
              "<table>\n",
              "<thead><tr><th></th><th scope=col>Y1</th><th scope=col>Y2</th><th scope=col>Y3</th></tr></thead>\n",
              "<tbody>\n",
              "\t<tr><th scope=row>Y1</th><td>140.544444</td><td>49.680000 </td><td>1.9412222 </td></tr>\n",
              "\t<tr><th scope=row>Y2</th><td> 49.680000</td><td>72.248444 </td><td>3.6760889 </td></tr>\n",
              "\t<tr><th scope=row>Y3</th><td>  1.941222</td><td> 3.676089 </td><td>0.2501211 </td></tr>\n",
              "</tbody>\n",
              "</table>\n"
            ],
            "text/latex": [
              "\\begin{tabular}{r|lll}\n",
              "  & Y1 & Y2 & Y3\\\\\n",
              "\\hline\n",
              "\tY1 & 140.544444 & 49.680000  & 1.9412222 \\\\\n",
              "\tY2 &  49.680000 & 72.248444  & 3.6760889 \\\\\n",
              "\tY3 &   1.941222 &  3.676089  & 0.2501211 \\\\\n",
              "\\end{tabular}\n"
            ],
            "text/markdown": [
              "\n",
              "| <!--/--> | Y1 | Y2 | Y3 |\n",
              "|---|---|---|---|\n",
              "| Y1 | 140.544444 | 49.680000  | 1.9412222  |\n",
              "| Y2 |  49.680000 | 72.248444  | 3.6760889  |\n",
              "| Y3 |   1.941222 |  3.676089  | 0.2501211  |\n",
              "\n"
            ],
            "text/plain": [
              "   Y1         Y2        Y3       \n",
              "Y1 140.544444 49.680000 1.9412222\n",
              "Y2  49.680000 72.248444 3.6760889\n",
              "Y3   1.941222  3.676089 0.2501211"
            ]
          },
          "metadata": {},
          "output_type": "display_data"
        },
        {
          "data": {
            "text/html": [
              "<table>\n",
              "<thead><tr><th></th><th scope=col>Y1</th><th scope=col>Y2</th><th scope=col>Y3</th></tr></thead>\n",
              "<tbody>\n",
              "\t<tr><th scope=row>Y1</th><td>1.0000000</td><td>0.4930154</td><td>0.327411 </td></tr>\n",
              "\t<tr><th scope=row>Y2</th><td>0.4930154</td><td>1.0000000</td><td>0.864762 </td></tr>\n",
              "\t<tr><th scope=row>Y3</th><td>0.3274110</td><td>0.8647620</td><td>1.000000 </td></tr>\n",
              "</tbody>\n",
              "</table>\n"
            ],
            "text/latex": [
              "\\begin{tabular}{r|lll}\n",
              "  & Y1 & Y2 & Y3\\\\\n",
              "\\hline\n",
              "\tY1 & 1.0000000 & 0.4930154 & 0.327411 \\\\\n",
              "\tY2 & 0.4930154 & 1.0000000 & 0.864762 \\\\\n",
              "\tY3 & 0.3274110 & 0.8647620 & 1.000000 \\\\\n",
              "\\end{tabular}\n"
            ],
            "text/markdown": [
              "\n",
              "| <!--/--> | Y1 | Y2 | Y3 |\n",
              "|---|---|---|---|\n",
              "| Y1 | 1.0000000 | 0.4930154 | 0.327411  |\n",
              "| Y2 | 0.4930154 | 1.0000000 | 0.864762  |\n",
              "| Y3 | 0.3274110 | 0.8647620 | 1.000000  |\n",
              "\n"
            ],
            "text/plain": [
              "   Y1        Y2        Y3      \n",
              "Y1 1.0000000 0.4930154 0.327411\n",
              "Y2 0.4930154 1.0000000 0.864762\n",
              "Y3 0.3274110 0.8647620 1.000000"
            ]
          },
          "metadata": {},
          "output_type": "display_data"
        }
      ],
      "source": [
        "cov(M)\n",
        "cor(M)"
      ]
    },
    {
      "cell_type": "markdown",
      "id": "387e4877",
      "metadata": {
        "id": "387e4877"
      },
      "source": [
        "Можна зробити простіше:"
      ]
    },
    {
      "cell_type": "code",
      "execution_count": null,
      "id": "ee0a5a96",
      "metadata": {
        "id": "ee0a5a96",
        "outputId": "17a4364b-6c0d-4cb9-a618-59f0ced70165"
      },
      "outputs": [
        {
          "data": {
            "text/html": [
              "'data.frame'"
            ],
            "text/latex": [
              "'data.frame'"
            ],
            "text/markdown": [
              "'data.frame'"
            ],
            "text/plain": [
              "[1] \"data.frame\""
            ]
          },
          "metadata": {},
          "output_type": "display_data"
        }
      ],
      "source": [
        "M<-cbind.data.frame(Tab_3_3)\n",
        "class(M)"
      ]
    },
    {
      "cell_type": "code",
      "execution_count": null,
      "id": "19d35736",
      "metadata": {
        "id": "19d35736"
      },
      "outputs": [],
      "source": [
        "M<-as.matrix(M)"
      ]
    },
    {
      "cell_type": "markdown",
      "id": "4e1ed67b",
      "metadata": {
        "id": "4e1ed67b"
      },
      "source": [
        "Знаходимо вектор середніх значень $\\mu$:"
      ]
    },
    {
      "cell_type": "code",
      "execution_count": null,
      "id": "8ca9bbcd",
      "metadata": {
        "id": "8ca9bbcd",
        "outputId": "8b3d0db9-412d-487b-8a7c-6f1ef76303d9"
      },
      "outputs": [
        {
          "data": {
            "text/html": [
              "<ol class=list-inline>\n",
              "\t<li>28.1</li>\n",
              "\t<li>7.18</li>\n",
              "\t<li>3.089</li>\n",
              "</ol>\n"
            ],
            "text/latex": [
              "\\begin{enumerate*}\n",
              "\\item 28.1\n",
              "\\item 7.18\n",
              "\\item 3.089\n",
              "\\end{enumerate*}\n"
            ],
            "text/markdown": [
              "1. 28.1\n",
              "2. 7.18\n",
              "3. 3.089\n",
              "\n",
              "\n"
            ],
            "text/plain": [
              "[1] 28.100  7.180  3.089"
            ]
          },
          "metadata": {},
          "output_type": "display_data"
        }
      ],
      "source": [
        "ybar<-c(mean(Y1),mean(Y2),mean(Y3))\n",
        "ybar"
      ]
    },
    {
      "cell_type": "markdown",
      "id": "3782837b",
      "metadata": {
        "id": "3782837b"
      },
      "source": [
        "Задамо також вектор середніх який буде використано для перевірки гіпотези $H_0$: $\\mu=\\mu_0$."
      ]
    },
    {
      "cell_type": "code",
      "execution_count": null,
      "id": "4d90c7f1",
      "metadata": {
        "id": "4d90c7f1",
        "outputId": "81a5a916-5dd9-4bff-d983-451ebf94d245"
      },
      "outputs": [
        {
          "data": {
            "text/html": [
              "10"
            ],
            "text/latex": [
              "10"
            ],
            "text/markdown": [
              "10"
            ],
            "text/plain": [
              "[1] 10"
            ]
          },
          "metadata": {},
          "output_type": "display_data"
        },
        {
          "data": {
            "text/html": [
              "3"
            ],
            "text/latex": [
              "3"
            ],
            "text/markdown": [
              "3"
            ],
            "text/plain": [
              "[1] 3"
            ]
          },
          "metadata": {},
          "output_type": "display_data"
        }
      ],
      "source": [
        "mu0h0<-c(15.0, 6.0, 2.85)\n",
        "n<- c(dim(M))[1]\n",
        "p<- c(dim(M))[2]\n",
        "n\n",
        "p"
      ]
    },
    {
      "cell_type": "markdown",
      "id": "6d9546a0",
      "metadata": {
        "id": "6d9546a0"
      },
      "source": [
        "Обчислюємо статистику Хотеллінга:"
      ]
    },
    {
      "cell_type": "code",
      "execution_count": null,
      "id": "c881f4d0",
      "metadata": {
        "id": "c881f4d0",
        "outputId": "9ced9dae-afc4-4c80-8219-5d2bbb5b4cc0"
      },
      "outputs": [
        {
          "data": {
            "text/html": [
              "<table>\n",
              "<tbody>\n",
              "\t<tr><td>24.55891</td></tr>\n",
              "</tbody>\n",
              "</table>\n"
            ],
            "text/latex": [
              "\\begin{tabular}{l}\n",
              "\t 24.55891\\\\\n",
              "\\end{tabular}\n"
            ],
            "text/markdown": [
              "\n",
              "| 24.55891 |\n",
              "\n"
            ],
            "text/plain": [
              "     [,1]    \n",
              "[1,] 24.55891"
            ]
          },
          "metadata": {},
          "output_type": "display_data"
        }
      ],
      "source": [
        "T2<-n*t(ybar-mu0h0)%*%solve(cov(M))%*%(ybar-mu0h0)\n",
        "T2"
      ]
    },
    {
      "cell_type": "markdown",
      "id": "544e25a2",
      "metadata": {
        "id": "544e25a2"
      },
      "source": [
        "А можна рахувати вбудованою функцією. Використаємо відстань Махаланобіса між вектором середнії і $mu0h0$."
      ]
    },
    {
      "cell_type": "code",
      "execution_count": null,
      "id": "cced3011",
      "metadata": {
        "id": "cced3011",
        "outputId": "e5045802-546a-41a6-da9a-da77c37d3640"
      },
      "outputs": [
        {
          "data": {
            "text/html": [
              "24.558907556462"
            ],
            "text/latex": [
              "24.558907556462"
            ],
            "text/markdown": [
              "24.558907556462"
            ],
            "text/plain": [
              "[1] 24.55891"
            ]
          },
          "metadata": {},
          "output_type": "display_data"
        }
      ],
      "source": [
        "T2new<-n*mahalanobis(ybar,mu0h0,cov(M))\n",
        "T2new"
      ]
    },
    {
      "cell_type": "markdown",
      "id": "54d957f0",
      "metadata": {
        "id": "54d957f0"
      },
      "source": [
        "Тепер обчислимо   перетворення $F$:\n",
        "$$\n",
        "F= \\frac{n-p}{(n-1)p}T^2_{p,n-1}\\sim  F_{p,n-p}.\n",
        "$$\n",
        "Тобто випадкова величина $F$ має розподіл Фішера з $p$, $n-p$  ступенями свободи. Відповідно, гіпотеза $H_0$ відхиляється, якщо\n",
        " $F> F_{\\alpha, p,n-p}$,  де $F_{\\alpha, p,n-p}$ - квантіль рівня  $\\alpha$ розподілу  $F_{p,n-p}$. Ми покладемо  $\\alpha =0.95$."
      ]
    },
    {
      "cell_type": "code",
      "execution_count": null,
      "id": "979093e1",
      "metadata": {
        "id": "979093e1",
        "outputId": "1c288255-00e2-415f-b2df-8e9af73c45c5"
      },
      "outputs": [
        {
          "data": {
            "text/html": [
              "<table>\n",
              "<tbody>\n",
              "\t<tr><td>6.367124</td></tr>\n",
              "</tbody>\n",
              "</table>\n"
            ],
            "text/latex": [
              "\\begin{tabular}{l}\n",
              "\t 6.367124\\\\\n",
              "\\end{tabular}\n"
            ],
            "text/markdown": [
              "\n",
              "| 6.367124 |\n",
              "\n"
            ],
            "text/plain": [
              "     [,1]    \n",
              "[1,] 6.367124"
            ]
          },
          "metadata": {},
          "output_type": "display_data"
        }
      ],
      "source": [
        "F<- T2* (n-p)/((n-1)*p)\n",
        "F"
      ]
    },
    {
      "cell_type": "markdown",
      "id": "0571cc47",
      "metadata": {
        "id": "0571cc47"
      },
      "source": [
        "Обчислюємо квантіль рівня 0.05 розподілу $F(3,10-3)=F(3,7)$."
      ]
    },
    {
      "cell_type": "code",
      "execution_count": null,
      "id": "43d3b94e",
      "metadata": {
        "id": "43d3b94e",
        "outputId": "e9da4a6a-ef8e-4bcd-e586-d4ac1437f072"
      },
      "outputs": [
        {
          "data": {
            "text/html": [
              "4.34683139990782"
            ],
            "text/latex": [
              "4.34683139990782"
            ],
            "text/markdown": [
              "4.34683139990782"
            ],
            "text/plain": [
              "[1] 4.346831"
            ]
          },
          "metadata": {},
          "output_type": "display_data"
        }
      ],
      "source": [
        "qf(0.95, p, n-p,  lower.tail = TRUE, log.p = FALSE)"
      ]
    },
    {
      "cell_type": "markdown",
      "id": "55f8e9e4",
      "metadata": {
        "id": "55f8e9e4"
      },
      "source": [
        "Відхиляємо, оскільки $F$ більша за $qf(....)$"
      ]
    },
    {
      "cell_type": "markdown",
      "id": "452e60e4",
      "metadata": {
        "id": "452e60e4"
      },
      "source": [
        "Щоб  скористатися статистикою Хотеллінга, яку вбудовано в  $R$, потрібно встановити наступні пакет ICSNP і завантажити бібліотеку."
      ]
    },
    {
      "cell_type": "code",
      "execution_count": null,
      "id": "87313514",
      "metadata": {
        "id": "87313514",
        "outputId": "3477357e-e294-41e2-af06-90579ab4d296"
      },
      "outputs": [
        {
          "name": "stderr",
          "output_type": "stream",
          "text": [
            "Warning message:\n",
            "\"package 'ICSNP' was built under R version 3.6.3\"Loading required package: mvtnorm\n",
            "Warning message:\n",
            "\"package 'mvtnorm' was built under R version 3.6.3\"Loading required package: ICS\n",
            "Warning message:\n",
            "\"package 'ICS' was built under R version 3.6.3\""
          ]
        }
      ],
      "source": [
        "#install.packages(\"ICSNP\")\n",
        "library(ICSNP)"
      ]
    },
    {
      "cell_type": "markdown",
      "id": "6ffc3163",
      "metadata": {
        "id": "6ffc3163"
      },
      "source": [
        "Рахуємо статистику Хотеллінга $Т2$  (chi означає, що ми використовуємо  саме $Т2$, а не розподіл Фішера."
      ]
    },
    {
      "cell_type": "code",
      "execution_count": null,
      "id": "f8b3f397",
      "metadata": {
        "id": "f8b3f397",
        "outputId": "c36c9024-0aff-4187-e012-fd9f9d9aa7b0"
      },
      "outputs": [
        {
          "data": {
            "text/plain": [
              "\n",
              "\tHotelling's one sample T2-test\n",
              "\n",
              "data:  M\n",
              "T.2 = 24.559, df = 3, p-value = 1.909e-05\n",
              "alternative hypothesis: true location is not equal to c(15,6,2.85)\n"
            ]
          },
          "metadata": {},
          "output_type": "display_data"
        }
      ],
      "source": [
        "HotellingsT2(M, Y = NULL, mu = mu0h0, test = \"chi\", na.action = na.fail)"
      ]
    },
    {
      "cell_type": "markdown",
      "id": "4c4e457f",
      "metadata": {
        "id": "4c4e457f"
      },
      "source": [
        "А тепер обчислюємо те саме, але використовуючи розподіл Фішера:"
      ]
    },
    {
      "cell_type": "code",
      "execution_count": null,
      "id": "edcce952",
      "metadata": {
        "id": "edcce952",
        "outputId": "12260a2c-88a0-458d-f774-235c0f810f32"
      },
      "outputs": [
        {
          "data": {
            "text/plain": [
              "\n",
              "\tHotelling's one sample T2-test\n",
              "\n",
              "data:  M\n",
              "T.2 = 6.3671, df1 = 3, df2 = 7, p-value = 0.02068\n",
              "alternative hypothesis: true location is not equal to c(15,6,2.85)\n"
            ]
          },
          "metadata": {},
          "output_type": "display_data"
        }
      ],
      "source": [
        "HotellingsT2(M, Y = NULL, mu = mu0h0, test = \"f\", na.action = na.fail)"
      ]
    },
    {
      "cell_type": "markdown",
      "id": "ee509122",
      "metadata": {
        "id": "ee509122"
      },
      "source": [
        "## Приклад 3. Гіпотеза про рівність середніх у 2х вибірках"
      ]
    },
    {
      "cell_type": "markdown",
      "id": "e6e903e0",
      "metadata": {
        "id": "e6e903e0"
      },
      "source": [
        "Зчитуємо таблицю 5.1  (див. Rencher, Chapter 5, p.124 (стор. 140 у  файлі)."
      ]
    },
    {
      "cell_type": "code",
      "execution_count": null,
      "id": "cc8086f7",
      "metadata": {
        "id": "cc8086f7"
      },
      "outputs": [],
      "source": [
        "Ma = as.matrix(Tab_5_1[1:32,2:5])"
      ]
    },
    {
      "cell_type": "code",
      "execution_count": null,
      "id": "a724dc89",
      "metadata": {
        "id": "a724dc89",
        "outputId": "89a611a4-444e-4bba-b6fd-c40a415363db"
      },
      "outputs": [
        {
          "data": {
            "text/html": [
              "<table>\n",
              "<thead><tr><th scope=col>V1</th><th scope=col>V2</th><th scope=col>V3</th><th scope=col>V4</th><th scope=col>V5</th></tr></thead>\n",
              "<tbody>\n",
              "\t<tr><td>1 </td><td>15</td><td>17</td><td>24</td><td>14</td></tr>\n",
              "\t<tr><td>1 </td><td>17</td><td>15</td><td>32</td><td>26</td></tr>\n",
              "\t<tr><td>1 </td><td>15</td><td>14</td><td>29</td><td>23</td></tr>\n",
              "\t<tr><td>1 </td><td>13</td><td>12</td><td>10</td><td>16</td></tr>\n",
              "\t<tr><td>1 </td><td>20</td><td>17</td><td>26</td><td>28</td></tr>\n",
              "\t<tr><td>1 </td><td>15</td><td>21</td><td>26</td><td>21</td></tr>\n",
              "</tbody>\n",
              "</table>\n"
            ],
            "text/latex": [
              "\\begin{tabular}{r|lllll}\n",
              " V1 & V2 & V3 & V4 & V5\\\\\n",
              "\\hline\n",
              "\t 1  & 15 & 17 & 24 & 14\\\\\n",
              "\t 1  & 17 & 15 & 32 & 26\\\\\n",
              "\t 1  & 15 & 14 & 29 & 23\\\\\n",
              "\t 1  & 13 & 12 & 10 & 16\\\\\n",
              "\t 1  & 20 & 17 & 26 & 28\\\\\n",
              "\t 1  & 15 & 21 & 26 & 21\\\\\n",
              "\\end{tabular}\n"
            ],
            "text/markdown": [
              "\n",
              "| V1 | V2 | V3 | V4 | V5 |\n",
              "|---|---|---|---|---|\n",
              "| 1  | 15 | 17 | 24 | 14 |\n",
              "| 1  | 17 | 15 | 32 | 26 |\n",
              "| 1  | 15 | 14 | 29 | 23 |\n",
              "| 1  | 13 | 12 | 10 | 16 |\n",
              "| 1  | 20 | 17 | 26 | 28 |\n",
              "| 1  | 15 | 21 | 26 | 21 |\n",
              "\n"
            ],
            "text/plain": [
              "  V1 V2 V3 V4 V5\n",
              "1 1  15 17 24 14\n",
              "2 1  17 15 32 26\n",
              "3 1  15 14 29 23\n",
              "4 1  13 12 10 16\n",
              "5 1  20 17 26 28\n",
              "6 1  15 21 26 21"
            ]
          },
          "metadata": {},
          "output_type": "display_data"
        }
      ],
      "source": [
        "Tab_5_1<-read.table(\"T5_1_PSYCH.DAT\")\n",
        "head(Tab_5_1)"
      ]
    },
    {
      "cell_type": "code",
      "execution_count": null,
      "id": "cd9ddf6c",
      "metadata": {
        "id": "cd9ddf6c",
        "outputId": "fa10f37a-c576-4f3a-8877-ed24fa9754df"
      },
      "outputs": [
        {
          "data": {
            "text/html": [
              "<table>\n",
              "<thead><tr><th scope=col>V2</th><th scope=col>V3</th><th scope=col>V4</th><th scope=col>V5</th></tr></thead>\n",
              "<tbody>\n",
              "\t<tr><td>15</td><td>17</td><td>24</td><td>14</td></tr>\n",
              "\t<tr><td>17</td><td>15</td><td>32</td><td>26</td></tr>\n",
              "\t<tr><td>15</td><td>14</td><td>29</td><td>23</td></tr>\n",
              "\t<tr><td>13</td><td>12</td><td>10</td><td>16</td></tr>\n",
              "\t<tr><td>20</td><td>17</td><td>26</td><td>28</td></tr>\n",
              "\t<tr><td>15</td><td>21</td><td>26</td><td>21</td></tr>\n",
              "</tbody>\n",
              "</table>\n"
            ],
            "text/latex": [
              "\\begin{tabular}{r|llll}\n",
              " V2 & V3 & V4 & V5\\\\\n",
              "\\hline\n",
              "\t 15 & 17 & 24 & 14\\\\\n",
              "\t 17 & 15 & 32 & 26\\\\\n",
              "\t 15 & 14 & 29 & 23\\\\\n",
              "\t 13 & 12 & 10 & 16\\\\\n",
              "\t 20 & 17 & 26 & 28\\\\\n",
              "\t 15 & 21 & 26 & 21\\\\\n",
              "\\end{tabular}\n"
            ],
            "text/markdown": [
              "\n",
              "| V2 | V3 | V4 | V5 |\n",
              "|---|---|---|---|\n",
              "| 15 | 17 | 24 | 14 |\n",
              "| 17 | 15 | 32 | 26 |\n",
              "| 15 | 14 | 29 | 23 |\n",
              "| 13 | 12 | 10 | 16 |\n",
              "| 20 | 17 | 26 | 28 |\n",
              "| 15 | 21 | 26 | 21 |\n",
              "\n"
            ],
            "text/plain": [
              "  V2 V3 V4 V5\n",
              "1 15 17 24 14\n",
              "2 17 15 32 26\n",
              "3 15 14 29 23\n",
              "4 13 12 10 16\n",
              "5 20 17 26 28\n",
              "6 15 21 26 21"
            ]
          },
          "metadata": {},
          "output_type": "display_data"
        }
      ],
      "source": [
        "Male<- cbind.data.frame(Tab_5_1[1:32,2:5])\n",
        "head(Male)"
      ]
    },
    {
      "cell_type": "code",
      "execution_count": null,
      "id": "cbc97f93",
      "metadata": {
        "id": "cbc97f93"
      },
      "outputs": [],
      "source": [
        "Female<- cbind.data.frame(Tab_5_1[33:64,2:5])"
      ]
    },
    {
      "cell_type": "markdown",
      "id": "0c686130",
      "metadata": {
        "id": "0c686130"
      },
      "source": [
        "Ще простіше - одразу зчитати у вигляді матриці:"
      ]
    },
    {
      "cell_type": "code",
      "execution_count": null,
      "id": "f4f6c6c8",
      "metadata": {
        "id": "f4f6c6c8"
      },
      "outputs": [],
      "source": [
        "Male <- as.matrix(Tab_5_1[1:32,2:5])\n",
        "Female <- as.matrix(Tab_5_1[33:64,2:5])"
      ]
    },
    {
      "cell_type": "markdown",
      "id": "49a84b76",
      "metadata": {
        "id": "49a84b76"
      },
      "source": [
        "Будуємо вектори середніх значень та коваріації.  Функція  colMeans дозволяє знайти середнє по стовбчикам. Знайдемо також матриці коваріацій."
      ]
    },
    {
      "cell_type": "code",
      "execution_count": null,
      "id": "b8b1bd6a",
      "metadata": {
        "id": "b8b1bd6a"
      },
      "outputs": [],
      "source": [
        "Fmean = colMeans(Female)\n",
        "Mmean = colMeans(Male)"
      ]
    },
    {
      "cell_type": "code",
      "execution_count": null,
      "id": "46fb2771",
      "metadata": {
        "id": "46fb2771",
        "outputId": "3dfcaec0-d427-4e9f-ede5-51014cbf3963"
      },
      "outputs": [
        {
          "data": {
            "text/html": [
              "<table>\n",
              "<thead><tr><th></th><th scope=col>V2</th><th scope=col>V3</th><th scope=col>V4</th><th scope=col>V5</th></tr></thead>\n",
              "<tbody>\n",
              "\t<tr><th scope=row>V2</th><td>5.192540 </td><td> 4.545363</td><td> 6.522177</td><td> 5.250000</td></tr>\n",
              "\t<tr><th scope=row>V3</th><td>4.545363 </td><td>13.184476</td><td> 6.760081</td><td> 6.266129</td></tr>\n",
              "\t<tr><th scope=row>V4</th><td>6.522177 </td><td> 6.760081</td><td>28.673387</td><td>14.467742</td></tr>\n",
              "\t<tr><th scope=row>V5</th><td>5.250000 </td><td> 6.266129</td><td>14.467742</td><td>16.645161</td></tr>\n",
              "</tbody>\n",
              "</table>\n"
            ],
            "text/latex": [
              "\\begin{tabular}{r|llll}\n",
              "  & V2 & V3 & V4 & V5\\\\\n",
              "\\hline\n",
              "\tV2 & 5.192540  &  4.545363 &  6.522177 &  5.250000\\\\\n",
              "\tV3 & 4.545363  & 13.184476 &  6.760081 &  6.266129\\\\\n",
              "\tV4 & 6.522177  &  6.760081 & 28.673387 & 14.467742\\\\\n",
              "\tV5 & 5.250000  &  6.266129 & 14.467742 & 16.645161\\\\\n",
              "\\end{tabular}\n"
            ],
            "text/markdown": [
              "\n",
              "| <!--/--> | V2 | V3 | V4 | V5 |\n",
              "|---|---|---|---|---|\n",
              "| V2 | 5.192540  |  4.545363 |  6.522177 |  5.250000 |\n",
              "| V3 | 4.545363  | 13.184476 |  6.760081 |  6.266129 |\n",
              "| V4 | 6.522177  |  6.760081 | 28.673387 | 14.467742 |\n",
              "| V5 | 5.250000  |  6.266129 | 14.467742 | 16.645161 |\n",
              "\n"
            ],
            "text/plain": [
              "   V2       V3        V4        V5       \n",
              "V2 5.192540  4.545363  6.522177  5.250000\n",
              "V3 4.545363 13.184476  6.760081  6.266129\n",
              "V4 6.522177  6.760081 28.673387 14.467742\n",
              "V5 5.250000  6.266129 14.467742 16.645161"
            ]
          },
          "metadata": {},
          "output_type": "display_data"
        }
      ],
      "source": [
        "S1<-cov(Male)\n",
        "S2<-cov(Female)\n",
        "S1"
      ]
    },
    {
      "cell_type": "markdown",
      "id": "8282c28b",
      "metadata": {
        "id": "8282c28b"
      },
      "source": [
        "Знайдмо кількість елементів у вибірці $F$ та $M$. Знайдемо  pooled covariance."
      ]
    },
    {
      "cell_type": "code",
      "execution_count": null,
      "id": "0f9be408",
      "metadata": {
        "id": "0f9be408"
      },
      "outputs": [],
      "source": [
        "n1<-dim(Male)[1]\n",
        "n2<-dim(Female)[1]\n",
        "p<-dim(Female)[2]"
      ]
    },
    {
      "cell_type": "code",
      "execution_count": null,
      "id": "4dadd4d8",
      "metadata": {
        "id": "4dadd4d8",
        "outputId": "d6b47933-8e0b-4c83-e717-61fb582a9edf"
      },
      "outputs": [
        {
          "data": {
            "text/html": [
              "32"
            ],
            "text/latex": [
              "32"
            ],
            "text/markdown": [
              "32"
            ],
            "text/plain": [
              "[1] 32"
            ]
          },
          "metadata": {},
          "output_type": "display_data"
        }
      ],
      "source": [
        "n1"
      ]
    },
    {
      "cell_type": "code",
      "execution_count": null,
      "id": "0b3a9b8c",
      "metadata": {
        "id": "0b3a9b8c",
        "outputId": "5bafc812-b975-49dc-aa33-e2965e954fa9"
      },
      "outputs": [
        {
          "data": {
            "text/html": [
              "4"
            ],
            "text/latex": [
              "4"
            ],
            "text/markdown": [
              "4"
            ],
            "text/plain": [
              "[1] 4"
            ]
          },
          "metadata": {},
          "output_type": "display_data"
        }
      ],
      "source": [
        "p"
      ]
    },
    {
      "cell_type": "code",
      "execution_count": null,
      "id": "52789538",
      "metadata": {
        "id": "52789538",
        "outputId": "990b86bc-b5ff-4458-e137-92263383d684"
      },
      "outputs": [
        {
          "data": {
            "text/html": [
              "<table>\n",
              "<thead><tr><th></th><th scope=col>V2</th><th scope=col>V3</th><th scope=col>V4</th><th scope=col>V5</th></tr></thead>\n",
              "<tbody>\n",
              "\t<tr><th scope=row>V2</th><td>7.164315 </td><td> 6.047379</td><td> 5.693044</td><td> 4.700605</td></tr>\n",
              "\t<tr><th scope=row>V3</th><td>6.047379 </td><td>15.894153</td><td> 8.492440</td><td> 5.855847</td></tr>\n",
              "\t<tr><th scope=row>V4</th><td>5.693044 </td><td> 8.492440</td><td>29.356351</td><td>13.980847</td></tr>\n",
              "\t<tr><th scope=row>V5</th><td>4.700605 </td><td> 5.855847</td><td>13.980847</td><td>22.320565</td></tr>\n",
              "</tbody>\n",
              "</table>\n"
            ],
            "text/latex": [
              "\\begin{tabular}{r|llll}\n",
              "  & V2 & V3 & V4 & V5\\\\\n",
              "\\hline\n",
              "\tV2 & 7.164315  &  6.047379 &  5.693044 &  4.700605\\\\\n",
              "\tV3 & 6.047379  & 15.894153 &  8.492440 &  5.855847\\\\\n",
              "\tV4 & 5.693044  &  8.492440 & 29.356351 & 13.980847\\\\\n",
              "\tV5 & 4.700605  &  5.855847 & 13.980847 & 22.320565\\\\\n",
              "\\end{tabular}\n"
            ],
            "text/markdown": [
              "\n",
              "| <!--/--> | V2 | V3 | V4 | V5 |\n",
              "|---|---|---|---|---|\n",
              "| V2 | 7.164315  |  6.047379 |  5.693044 |  4.700605 |\n",
              "| V3 | 6.047379  | 15.894153 |  8.492440 |  5.855847 |\n",
              "| V4 | 5.693044  |  8.492440 | 29.356351 | 13.980847 |\n",
              "| V5 | 4.700605  |  5.855847 | 13.980847 | 22.320565 |\n",
              "\n"
            ],
            "text/plain": [
              "   V2       V3        V4        V5       \n",
              "V2 7.164315  6.047379  5.693044  4.700605\n",
              "V3 6.047379 15.894153  8.492440  5.855847\n",
              "V4 5.693044  8.492440 29.356351 13.980847\n",
              "V5 4.700605  5.855847 13.980847 22.320565"
            ]
          },
          "metadata": {},
          "output_type": "display_data"
        }
      ],
      "source": [
        "Spl<-((n1-1)*S1+ (n2-1)*S2)/(n1+n2-2)  # pooled covariance\n",
        "Spl"
      ]
    },
    {
      "cell_type": "markdown",
      "id": "3ab2920a",
      "metadata": {
        "id": "3ab2920a"
      },
      "source": [
        "Обчислимо тепер\n",
        "$$\n",
        "T^2 = \\frac{n_1 n_2}{n_1+n_2} (F_{mean} - M_{mean})'S_{pl}^{-1}(F_{mean} - M_{mean})\n",
        "$$"
      ]
    },
    {
      "cell_type": "code",
      "execution_count": null,
      "id": "77d5e11a",
      "metadata": {
        "id": "77d5e11a",
        "outputId": "aa9b3892-e03b-46e0-800b-80231550699b"
      },
      "outputs": [
        {
          "data": {
            "text/html": [
              "97.6014965277689"
            ],
            "text/latex": [
              "97.6014965277689"
            ],
            "text/markdown": [
              "97.6014965277689"
            ],
            "text/plain": [
              "[1] 97.6015"
            ]
          },
          "metadata": {},
          "output_type": "display_data"
        }
      ],
      "source": [
        "T2<-((n1*n2)/(n1+n2))*mahalanobis(Mmean,Fmean,Spl)\n",
        "T2"
      ]
    },
    {
      "cell_type": "markdown",
      "id": "0b2b9595",
      "metadata": {
        "id": "0b2b9595"
      },
      "source": [
        "Рахуємо $F$ статистику:\n",
        "$$\n",
        "F:= \\frac{n_1+n_2-p-1}{(n_1+n_2-2)p}T^2_{p,n_1+n_2-2}\\sim  F_{p,n_1+n_2-p-1}\n",
        "$$"
      ]
    },
    {
      "cell_type": "code",
      "execution_count": null,
      "id": "e56655b7",
      "metadata": {
        "id": "e56655b7",
        "outputId": "3719569b-38c8-4d63-912a-e52fcd3f7515"
      },
      "outputs": [
        {
          "data": {
            "text/html": [
              "23.2197108674934"
            ],
            "text/latex": [
              "23.2197108674934"
            ],
            "text/markdown": [
              "23.2197108674934"
            ],
            "text/plain": [
              "[1] 23.21971"
            ]
          },
          "metadata": {},
          "output_type": "display_data"
        }
      ],
      "source": [
        "F<-T2*(n1+n2-p-1)/((n1+n2-2)*p)\n",
        "F"
      ]
    },
    {
      "cell_type": "markdown",
      "id": "12869435",
      "metadata": {
        "id": "12869435"
      },
      "source": [
        "Обчислюємо квантіль розподілу $F_{p, n_1+n_2-p-1}$  рівня $0.95$:"
      ]
    },
    {
      "cell_type": "code",
      "execution_count": null,
      "id": "467e6f6f",
      "metadata": {
        "id": "467e6f6f",
        "outputId": "492b84c1-e10a-4364-c781-78d59cbe83b7"
      },
      "outputs": [
        {
          "data": {
            "text/html": [
              "2.52790656557987"
            ],
            "text/latex": [
              "2.52790656557987"
            ],
            "text/markdown": [
              "2.52790656557987"
            ],
            "text/plain": [
              "[1] 2.527907"
            ]
          },
          "metadata": {},
          "output_type": "display_data"
        }
      ],
      "source": [
        "qf(0.95, p, n1+n2-p-1,  lower.tail = TRUE, log.p = FALSE)"
      ]
    },
    {
      "cell_type": "markdown",
      "id": "80354f2a",
      "metadata": {
        "id": "80354f2a"
      },
      "source": [
        "Відхиляємо, оскільки $F$ більша за $qf(....)$.\n",
        "\n",
        "Можна також зробити тест Хотеллінга для двох виборок. У перщому випадку ми використовували тест $\\chi^2$, у другому- тест Фішера.\n",
        "Насправді, треба ще перевірити, що коваріаційні матриці однакові, оскільки це умова використання тесту!"
      ]
    },
    {
      "cell_type": "code",
      "execution_count": null,
      "id": "8a59777d",
      "metadata": {
        "id": "8a59777d",
        "outputId": "04e7c148-f39e-4411-8bbe-5de885e0252e"
      },
      "outputs": [
        {
          "data": {
            "text/plain": [
              "\n",
              "\tHotelling's two sample T2-test\n",
              "\n",
              "data:  Male and Female\n",
              "T.2 = 97.601, df = 4, p-value < 2.2e-16\n",
              "alternative hypothesis: true location difference is not equal to c(0,0,0,0)\n"
            ]
          },
          "metadata": {},
          "output_type": "display_data"
        }
      ],
      "source": [
        "HotellingsT2(Male, Female,  test = \"chi\", na.action = na.fail)"
      ]
    },
    {
      "cell_type": "code",
      "execution_count": null,
      "id": "d9d06cbd",
      "metadata": {
        "id": "d9d06cbd",
        "outputId": "d50cbe1e-f3f8-41b0-efbc-64e910c6c52f"
      },
      "outputs": [
        {
          "data": {
            "text/plain": [
              "\n",
              "\tHotelling's two sample T2-test\n",
              "\n",
              "data:  Male and Female\n",
              "T.2 = 23.22, df1 = 4, df2 = 59, p-value = 1.464e-11\n",
              "alternative hypothesis: true location difference is not equal to c(0,0,0,0)\n"
            ]
          },
          "metadata": {},
          "output_type": "display_data"
        }
      ],
      "source": [
        "HotellingsT2(Male, Female,  test = \"f\", na.action = na.fail)"
      ]
    },
    {
      "cell_type": "code",
      "execution_count": null,
      "id": "45aee61d",
      "metadata": {
        "id": "45aee61d"
      },
      "outputs": [],
      "source": []
    }
  ],
  "metadata": {
    "kernelspec": {
      "display_name": "Python 3",
      "name": "python3"
    },
    "language_info": {
      "name": "python"
    },
    "colab": {
      "provenance": []
    }
  },
  "nbformat": 4,
  "nbformat_minor": 5
}