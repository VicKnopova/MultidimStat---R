{
 "cells": [
  {
   "cell_type": "markdown",
   "id": "b7936e34",
   "metadata": {},
   "source": [
    "## Практика 8: Класифікація. \n",
    "\n",
    "### Приклад 1. \n",
    "\n",
    "Див. посилання [тут](https://duttashi.github.io/blog/splitting-a-data-frame-into-training-and-testing-sets-in-r/) і \n",
    "[тут](https://www.analyticsvidhya.com/blog/2021/08/a-brief-introduction-to-linear-discriminant-analysis/). \n",
    "\n",
    "Якщо ще не встановлені, встановимо наступні пакети та завантажимо бібліотеки. "
   ]
  },
  {
   "cell_type": "code",
   "execution_count": 1,
   "id": "e21a078f",
   "metadata": {},
   "outputs": [
    {
     "name": "stderr",
     "output_type": "stream",
     "text": [
      "Warning message:\n",
      "\"package 'MASS' was built under R version 3.6.3\""
     ]
    }
   ],
   "source": [
    "library(MASS)"
   ]
  },
  {
   "cell_type": "code",
   "execution_count": 2,
   "id": "64e820f7",
   "metadata": {},
   "outputs": [],
   "source": [
    "# install.packages(\"e1071\")\n",
    "# install.packages(\"caTools\")\n",
    "# install.packages(\"caret\")"
   ]
  },
  {
   "cell_type": "code",
   "execution_count": 3,
   "id": "23bdf612",
   "metadata": {},
   "outputs": [
    {
     "name": "stderr",
     "output_type": "stream",
     "text": [
      "Warning message:\n",
      "\"package 'e1071' was built under R version 3.6.3\"Warning message:\n",
      "\"package 'caTools' was built under R version 3.6.3\""
     ]
    }
   ],
   "source": [
    "library(e1071)\n",
    "library(caTools)\n",
    "# library(caret)"
   ]
  },
  {
   "cell_type": "code",
   "execution_count": 4,
   "id": "66e0883a",
   "metadata": {},
   "outputs": [
    {
     "name": "stderr",
     "output_type": "stream",
     "text": [
      "Registered S3 methods overwritten by 'ggplot2':\n",
      "  method         from \n",
      "  [.quosures     rlang\n",
      "  c.quosures     rlang\n",
      "  print.quosures rlang\n"
     ]
    }
   ],
   "source": [
    "library(ggplot2)"
   ]
  },
  {
   "cell_type": "markdown",
   "id": "da7d4987",
   "metadata": {},
   "source": [
    "### Приклад 1. \n",
    "\n",
    "Завантажимо таблицю, в якій наведені вимірювання 2х типів жуків (для простоти позначимо вимірювання через колонки V3--V6)."
   ]
  },
  {
   "cell_type": "code",
   "execution_count": 5,
   "id": "9ee5b397",
   "metadata": {},
   "outputs": [
    {
     "data": {
      "text/html": [
       "<table>\n",
       "<thead><tr><th scope=col>Measurement.Number</th><th scope=col>Species</th><th scope=col>V3</th><th scope=col>V4</th><th scope=col>V5</th><th scope=col>V6</th></tr></thead>\n",
       "<tbody>\n",
       "\t<tr><td>1  </td><td>1  </td><td>189</td><td>245</td><td>137</td><td>163</td></tr>\n",
       "\t<tr><td>2  </td><td>1  </td><td>192</td><td>260</td><td>132</td><td>217</td></tr>\n",
       "\t<tr><td>3  </td><td>1  </td><td>217</td><td>276</td><td>141</td><td>192</td></tr>\n",
       "\t<tr><td>4  </td><td>1  </td><td>221</td><td>299</td><td>142</td><td>213</td></tr>\n",
       "\t<tr><td>5  </td><td>1  </td><td>171</td><td>239</td><td>128</td><td>158</td></tr>\n",
       "\t<tr><td>6  </td><td>1  </td><td>192</td><td>262</td><td>147</td><td>173</td></tr>\n",
       "</tbody>\n",
       "</table>\n"
      ],
      "text/latex": [
       "\\begin{tabular}{r|llllll}\n",
       " Measurement.Number & Species & V3 & V4 & V5 & V6\\\\\n",
       "\\hline\n",
       "\t 1   & 1   & 189 & 245 & 137 & 163\\\\\n",
       "\t 2   & 1   & 192 & 260 & 132 & 217\\\\\n",
       "\t 3   & 1   & 217 & 276 & 141 & 192\\\\\n",
       "\t 4   & 1   & 221 & 299 & 142 & 213\\\\\n",
       "\t 5   & 1   & 171 & 239 & 128 & 158\\\\\n",
       "\t 6   & 1   & 192 & 262 & 147 & 173\\\\\n",
       "\\end{tabular}\n"
      ],
      "text/markdown": [
       "\n",
       "| Measurement.Number | Species | V3 | V4 | V5 | V6 |\n",
       "|---|---|---|---|---|---|\n",
       "| 1   | 1   | 189 | 245 | 137 | 163 |\n",
       "| 2   | 1   | 192 | 260 | 132 | 217 |\n",
       "| 3   | 1   | 217 | 276 | 141 | 192 |\n",
       "| 4   | 1   | 221 | 299 | 142 | 213 |\n",
       "| 5   | 1   | 171 | 239 | 128 | 158 |\n",
       "| 6   | 1   | 192 | 262 | 147 | 173 |\n",
       "\n"
      ],
      "text/plain": [
       "  Measurement.Number Species V3  V4  V5  V6 \n",
       "1 1                  1       189 245 137 163\n",
       "2 2                  1       192 260 132 217\n",
       "3 3                  1       217 276 141 192\n",
       "4 4                  1       221 299 142 213\n",
       "5 5                  1       171 239 128 158\n",
       "6 6                  1       192 262 147 173"
      ]
     },
     "metadata": {},
     "output_type": "display_data"
    }
   ],
   "source": [
    "beetles <- read.table('T5_5_FBEETLES.DAT', \t\n",
    "   col.names = c('Measurement.Number','Species','V3','V4','V5','V6'))\n",
    "head(beetles)"
   ]
  },
  {
   "cell_type": "markdown",
   "id": "ac084d38",
   "metadata": {},
   "source": [
    "Розділимо цю таблиці на 2 за принципом: якщо  Species = 1, то це перша група, якщо  Species = 2- то друга. "
   ]
  },
  {
   "cell_type": "code",
   "execution_count": 6,
   "id": "b30d69b5",
   "metadata": {},
   "outputs": [],
   "source": [
    "beetle1 <- beetles[beetles$Species == 1,][,3:6]\n",
    "beetle2 <- beetles[beetles$Species == 2,][,3:6]"
   ]
  },
  {
   "cell_type": "markdown",
   "id": "9c9afe4d",
   "metadata": {},
   "source": [
    "Знайдемо середні значення $\\hat{\\mu}_1, \\hat{\\mu}_2$ та зважену коваріацію  \n",
    "$$\n",
    "S_{pl} = \\frac{(n_1-1)S_1 + (n_2-1)S_2}{n_1+n_2-2}. \n",
    "$$\n",
    "Нагадаємо,  що 2 в функції apply означає, що ми сумуємо по стовбчикам. "
   ]
  },
  {
   "cell_type": "code",
   "execution_count": 7,
   "id": "af806cb1",
   "metadata": {},
   "outputs": [],
   "source": [
    "n1 <- nrow(beetle1)\n",
    "n2 <- nrow(beetle2)\n",
    "\n",
    "beetle1.means <- apply(beetle1, 2, mean)\n",
    "beetle2.means <- apply(beetle2, 2, mean)\n",
    "\n",
    "w1 <- (n1 - 1) * var(beetle1)\n",
    "w2 <- (n2 - 1) * var(beetle2)\n",
    "\n",
    "sp1 <- (w1 + w2)/(n1 + n2 - 2)"
   ]
  },
  {
   "cell_type": "markdown",
   "id": "123df19f",
   "metadata": {},
   "source": [
    "Позначимо через   cutoff середнє значення, за допомогою якого ми будемо визначати, до якої групи належить  випробування:\n",
    "$(a'(y_1-y_2))^2/|a|^2$\n",
    "$z_i = a' y_i$\n",
    "$$\n",
    "cutoff = \\frac{1}{2} (\\hat{\\mu}_1- \\hat{\\mu}_2)' S_{pl}^{-1}(\\hat{\\mu}_1+\\hat{\\mu}_2)= \\frac12 (a' (\\hat{\\mu}_1+ \\hat{\\mu}_2)).\n",
    "$$"
   ]
  },
  {
   "cell_type": "code",
   "execution_count": 8,
   "id": "7f29d44d",
   "metadata": {},
   "outputs": [
    {
     "data": {
      "text/html": [
       "<table>\n",
       "<tbody>\n",
       "\t<tr><td>-15.80538</td></tr>\n",
       "</tbody>\n",
       "</table>\n"
      ],
      "text/latex": [
       "\\begin{tabular}{l}\n",
       "\t -15.80538\\\\\n",
       "\\end{tabular}\n"
      ],
      "text/markdown": [
       "\n",
       "| -15.80538 |\n",
       "\n"
      ],
      "text/plain": [
       "     [,1]     \n",
       "[1,] -15.80538"
      ]
     },
     "metadata": {},
     "output_type": "display_data"
    }
   ],
   "source": [
    "cutoff <- 0.5 * (beetle1.means - beetle2.means) %*% solve(sp1) %*% (beetle1.means + beetle2.means)\n",
    "cutoff"
   ]
  },
  {
   "cell_type": "markdown",
   "id": "5a09e358",
   "metadata": {},
   "source": [
    "Обчислюємо \n",
    "$$\n",
    "z = (\\hat{\\mu}_1- \\hat{\\mu}_2)' S_{pl}^{-1}y. \n",
    "$$"
   ]
  },
  {
   "cell_type": "code",
   "execution_count": 9,
   "id": "8cde4253",
   "metadata": {},
   "outputs": [
    {
     "data": {
      "text/html": [
       "<table>\n",
       "<tbody>\n",
       "\t<tr><td>-8.955378</td></tr>\n",
       "</tbody>\n",
       "</table>\n"
      ],
      "text/latex": [
       "\\begin{tabular}{l}\n",
       "\t -8.955378\\\\\n",
       "\\end{tabular}\n"
      ],
      "text/markdown": [
       "\n",
       "| -8.955378 |\n",
       "\n"
      ],
      "text/plain": [
       "     [,1]     \n",
       "[1,] -8.955378"
      ]
     },
     "metadata": {},
     "output_type": "display_data"
    }
   ],
   "source": [
    "(beetle1.means - beetle2.means) %*% solve(sp1) %*% beetle1.means"
   ]
  },
  {
   "cell_type": "code",
   "execution_count": 10,
   "id": "f05fe633",
   "metadata": {},
   "outputs": [
    {
     "data": {
      "text/html": [
       "<table>\n",
       "<tbody>\n",
       "\t<tr><td>-22.65539</td></tr>\n",
       "</tbody>\n",
       "</table>\n"
      ],
      "text/latex": [
       "\\begin{tabular}{l}\n",
       "\t -22.65539\\\\\n",
       "\\end{tabular}\n"
      ],
      "text/markdown": [
       "\n",
       "| -22.65539 |\n",
       "\n"
      ],
      "text/plain": [
       "     [,1]     \n",
       "[1,] -22.65539"
      ]
     },
     "metadata": {},
     "output_type": "display_data"
    }
   ],
   "source": [
    "(beetle1.means - beetle2.means) %*% solve(sp1) %*% beetle2.means"
   ]
  },
  {
   "cell_type": "markdown",
   "id": "10625110",
   "metadata": {},
   "source": [
    "Якщо  z>cutoff= - 15.81,  то ми класифікуємо спостереження до першої групи, якшо ні- то до другої (якщо $a'\\mu_1>a'\\mu_2$, як у нащому випадку)"
   ]
  },
  {
   "cell_type": "code",
   "execution_count": 11,
   "id": "ecba9667",
   "metadata": {},
   "outputs": [],
   "source": [
    "species.prediction <- apply(beetles[,3:6], 1, function(y) \n",
    "    {z <- (beetle1.means - beetle2.means) %*% solve(sp1) %*% y \n",
    "     ifelse(z > cutoff, 1, 2)})"
   ]
  },
  {
   "cell_type": "markdown",
   "id": "72027ff9",
   "metadata": {},
   "source": [
    "Розглянемо матрицю змішування (confusion matrix), яка показує, наскільки якісно ми віднесли елементи до тієї чи іншої групи. "
   ]
  },
  {
   "cell_type": "code",
   "execution_count": 12,
   "id": "42607a6b",
   "metadata": {},
   "outputs": [
    {
     "data": {
      "text/plain": [
       "            Predicted Group\n",
       "Actual Group  1  2\n",
       "           1 19  0\n",
       "           2  1 19"
      ]
     },
     "metadata": {},
     "output_type": "display_data"
    }
   ],
   "source": [
    "table(beetles$Species, species.prediction, dnn = c('Actual Group','Predicted Group'))"
   ]
  },
  {
   "cell_type": "markdown",
   "id": "716a7451",
   "metadata": {},
   "source": [
    "Ми класифікували вірно всі спостереження, які відносяться до першої групи, але помилково класифікували одне спостереження з другої групи.  Похибка класифікації- це кількість хибних класифікацій поділити на кількість елементів у вибірці.  "
   ]
  },
  {
   "cell_type": "code",
   "execution_count": 13,
   "id": "f67e241a",
   "metadata": {},
   "outputs": [
    {
     "data": {
      "text/html": [
       "39"
      ],
      "text/latex": [
       "39"
      ],
      "text/markdown": [
       "39"
      ],
      "text/plain": [
       "[1] 39"
      ]
     },
     "metadata": {},
     "output_type": "display_data"
    }
   ],
   "source": [
    "n <- dim(beetles)[1]\n",
    "n"
   ]
  },
  {
   "cell_type": "markdown",
   "id": "855f089f",
   "metadata": {},
   "source": [
    "Тобто $1 / n= 0.02564103$. Як ми бачимо, навіть при малому об'ємі виборки похибка невірної класифікації 2ї групи  є досить малою. "
   ]
  },
  {
   "cell_type": "markdown",
   "id": "e2fec912",
   "metadata": {},
   "source": [
    "Для того, щоб зробити класифікацію за допомогою вбудованої функції, використаємо функцію lda() з пакету  MASS. "
   ]
  },
  {
   "cell_type": "code",
   "execution_count": 14,
   "id": "83fdab54",
   "metadata": {},
   "outputs": [
    {
     "data": {
      "text/plain": [
       "            Predicted Group\n",
       "Actual Group  1  2\n",
       "           1 19  0\n",
       "           2  1 19"
      ]
     },
     "metadata": {},
     "output_type": "display_data"
    }
   ],
   "source": [
    "beetle.lda <- lda(Species ~ .-Measurement.Number, data = beetles)\n",
    "lda.pred <- predict(beetle.lda)$class\n",
    "table(beetles$Species, lda.pred, dnn = c('Actual Group','Predicted Group'))"
   ]
  },
  {
   "cell_type": "code",
   "execution_count": 15,
   "id": "e58b894a",
   "metadata": {},
   "outputs": [
    {
     "data": {
      "text/html": [
       "<ol class=list-inline>\n",
       "\t<li>1</li>\n",
       "\t<li>1</li>\n",
       "\t<li>1</li>\n",
       "\t<li>1</li>\n",
       "\t<li>1</li>\n",
       "\t<li>1</li>\n",
       "\t<li>1</li>\n",
       "\t<li>1</li>\n",
       "\t<li>1</li>\n",
       "\t<li>1</li>\n",
       "\t<li>1</li>\n",
       "\t<li>1</li>\n",
       "\t<li>1</li>\n",
       "\t<li>1</li>\n",
       "\t<li>1</li>\n",
       "\t<li>1</li>\n",
       "\t<li>1</li>\n",
       "\t<li>1</li>\n",
       "\t<li>1</li>\n",
       "\t<li>2</li>\n",
       "\t<li>2</li>\n",
       "\t<li>2</li>\n",
       "\t<li>2</li>\n",
       "\t<li>2</li>\n",
       "\t<li>2</li>\n",
       "\t<li>2</li>\n",
       "\t<li>1</li>\n",
       "\t<li>2</li>\n",
       "\t<li>2</li>\n",
       "\t<li>2</li>\n",
       "\t<li>2</li>\n",
       "\t<li>2</li>\n",
       "\t<li>2</li>\n",
       "\t<li>2</li>\n",
       "\t<li>2</li>\n",
       "\t<li>2</li>\n",
       "\t<li>2</li>\n",
       "\t<li>2</li>\n",
       "\t<li>2</li>\n",
       "</ol>\n",
       "\n",
       "<details>\n",
       "\t<summary style=display:list-item;cursor:pointer>\n",
       "\t\t<strong>Levels</strong>:\n",
       "\t</summary>\n",
       "\t<ol class=list-inline>\n",
       "\t\t<li>'1'</li>\n",
       "\t\t<li>'2'</li>\n",
       "\t</ol>\n",
       "</details>"
      ],
      "text/latex": [
       "\\begin{enumerate*}\n",
       "\\item 1\n",
       "\\item 1\n",
       "\\item 1\n",
       "\\item 1\n",
       "\\item 1\n",
       "\\item 1\n",
       "\\item 1\n",
       "\\item 1\n",
       "\\item 1\n",
       "\\item 1\n",
       "\\item 1\n",
       "\\item 1\n",
       "\\item 1\n",
       "\\item 1\n",
       "\\item 1\n",
       "\\item 1\n",
       "\\item 1\n",
       "\\item 1\n",
       "\\item 1\n",
       "\\item 2\n",
       "\\item 2\n",
       "\\item 2\n",
       "\\item 2\n",
       "\\item 2\n",
       "\\item 2\n",
       "\\item 2\n",
       "\\item 1\n",
       "\\item 2\n",
       "\\item 2\n",
       "\\item 2\n",
       "\\item 2\n",
       "\\item 2\n",
       "\\item 2\n",
       "\\item 2\n",
       "\\item 2\n",
       "\\item 2\n",
       "\\item 2\n",
       "\\item 2\n",
       "\\item 2\n",
       "\\end{enumerate*}\n",
       "\n",
       "\\emph{Levels}: \\begin{enumerate*}\n",
       "\\item '1'\n",
       "\\item '2'\n",
       "\\end{enumerate*}\n"
      ],
      "text/markdown": [
       "1. 1\n",
       "2. 1\n",
       "3. 1\n",
       "4. 1\n",
       "5. 1\n",
       "6. 1\n",
       "7. 1\n",
       "8. 1\n",
       "9. 1\n",
       "10. 1\n",
       "11. 1\n",
       "12. 1\n",
       "13. 1\n",
       "14. 1\n",
       "15. 1\n",
       "16. 1\n",
       "17. 1\n",
       "18. 1\n",
       "19. 1\n",
       "20. 2\n",
       "21. 2\n",
       "22. 2\n",
       "23. 2\n",
       "24. 2\n",
       "25. 2\n",
       "26. 2\n",
       "27. 1\n",
       "28. 2\n",
       "29. 2\n",
       "30. 2\n",
       "31. 2\n",
       "32. 2\n",
       "33. 2\n",
       "34. 2\n",
       "35. 2\n",
       "36. 2\n",
       "37. 2\n",
       "38. 2\n",
       "39. 2\n",
       "\n",
       "\n",
       "\n",
       "**Levels**: 1. '1'\n",
       "2. '2'\n",
       "\n",
       "\n"
      ],
      "text/plain": [
       " [1] 1 1 1 1 1 1 1 1 1 1 1 1 1 1 1 1 1 1 1 2 2 2 2 2 2 2 1 2 2 2 2 2 2 2 2 2 2 2\n",
       "[39] 2\n",
       "Levels: 1 2"
      ]
     },
     "metadata": {},
     "output_type": "display_data"
    }
   ],
   "source": [
    "lda.pred"
   ]
  },
  {
   "cell_type": "markdown",
   "id": "4e20e412",
   "metadata": {},
   "source": [
    "Матриця змішання демонструє співвідношення результату  класифікації  та фактичної належності до тієї чи іншої групи. "
   ]
  },
  {
   "cell_type": "markdown",
   "id": "01c6c95b",
   "metadata": {},
   "source": [
    "Виконаємо тепер байєсівську класифікацію. Введемо апріорні ймовірності наступним чином: використаємое відності частоти, тобто  $p1= 19/39$, $p2 = 20/39$. "
   ]
  },
  {
   "cell_type": "code",
   "execution_count": 16,
   "id": "5ea8c776",
   "metadata": {},
   "outputs": [],
   "source": [
    "p1 <- 19/39\n",
    "p2 <- 20/39"
   ]
  },
  {
   "cell_type": "markdown",
   "id": "aca33b6b",
   "metadata": {},
   "source": [
    "Визначимо лінійну дискримінантну функцію\n",
    "$$\n",
    "L(y) := (\\boldsymbol{\\mu}_1 -\\boldsymbol{\\mu}_2)'\\Sigma^{-1}\\boldsymbol{y}-  \\frac{1}{2} (\\boldsymbol{\\mu}_1 -\\boldsymbol{\\mu}_2)' \\Sigma^{-1} (\\boldsymbol{\\mu}_1+\\boldsymbol{\\mu}_2) + \\ln \\frac{p_2}{p_1}.\n",
    "$$\n",
    "За гіпотези $H_0$ :  спостереження у 1й групі. Тоді  $L(y)>0$. "
   ]
  },
  {
   "cell_type": "code",
   "execution_count": 17,
   "id": "1d715ddb",
   "metadata": {},
   "outputs": [],
   "source": [
    "L <- function(y){ t(beetle1.means-beetle2.means) %*% solve(sp1) %*% y \n",
    "                 - 0.5* t(beetle1.means-beetle2.means) %*% solve(sp1) %*% (beetle1.means+beetle2.means) + log(p2/p1)}"
   ]
  },
  {
   "cell_type": "markdown",
   "id": "f909b84a",
   "metadata": {},
   "source": [
    "Введемо тепер вектор і спробуємо його класифікувати: "
   ]
  },
  {
   "cell_type": "code",
   "execution_count": 18,
   "id": "fd5f15a9",
   "metadata": {},
   "outputs": [],
   "source": [
    "y <- c(180,230,140,170)"
   ]
  },
  {
   "cell_type": "markdown",
   "id": "8dd4da5a",
   "metadata": {},
   "source": [
    "Обчислимо $L(y)$ (замість $\\mu_1$, $\\mu_2$, $\\Sigma$ підставимо їх оцінки). "
   ]
  },
  {
   "cell_type": "code",
   "execution_count": 19,
   "id": "d2991db7",
   "metadata": {},
   "outputs": [
    {
     "data": {
      "text/html": [
       "<table>\n",
       "<tbody>\n",
       "\t<tr><td>15.85668</td></tr>\n",
       "</tbody>\n",
       "</table>\n"
      ],
      "text/latex": [
       "\\begin{tabular}{l}\n",
       "\t 15.85668\\\\\n",
       "\\end{tabular}\n"
      ],
      "text/markdown": [
       "\n",
       "| 15.85668 |\n",
       "\n"
      ],
      "text/plain": [
       "     [,1]    \n",
       "[1,] 15.85668"
      ]
     },
     "metadata": {},
     "output_type": "display_data"
    }
   ],
   "source": [
    "L(y)"
   ]
  },
  {
   "cell_type": "markdown",
   "id": "6df82839",
   "metadata": {},
   "source": [
    "Оскільки $L(y)>0$, то ви відносимо наше спостеореження до 1ї групи. Зауважимо, що класифікація за допомогої дискримінантної функції дає такий самий результат. "
   ]
  },
  {
   "cell_type": "markdown",
   "id": "0e283efd",
   "metadata": {},
   "source": [
    "### Приклад 2.\n",
    "\n",
    "Байєсівська класифікація, Iris"
   ]
  },
  {
   "cell_type": "markdown",
   "id": "15193e3c",
   "metadata": {},
   "source": [
    "Продемонструємо, як виконати класифікацію на прикладі  Iris dataset. Цей датасет містить три різновиди квітів  (setosa,viriginica,versicolor) \n",
    "та  4 їх показники (довжина стебла, ширина стебла, довжина пелюстака, ширина пелюстка) (англійсьокою: Sepal.Length, Sepal.Width, Petal.Length, Petal.Width). Ці показники виміряно для кожної квітки. "
   ]
  },
  {
   "cell_type": "code",
   "execution_count": 20,
   "id": "6789f5dc",
   "metadata": {},
   "outputs": [
    {
     "data": {
      "text/html": [
       "<table>\n",
       "<thead><tr><th scope=col>Sepal.Length</th><th scope=col>Sepal.Width</th><th scope=col>Petal.Length</th><th scope=col>Petal.Width</th><th scope=col>Species</th></tr></thead>\n",
       "<tbody>\n",
       "\t<tr><td>5.1   </td><td>3.5   </td><td>1.4   </td><td>0.2   </td><td>setosa</td></tr>\n",
       "\t<tr><td>4.9   </td><td>3.0   </td><td>1.4   </td><td>0.2   </td><td>setosa</td></tr>\n",
       "\t<tr><td>4.7   </td><td>3.2   </td><td>1.3   </td><td>0.2   </td><td>setosa</td></tr>\n",
       "\t<tr><td>4.6   </td><td>3.1   </td><td>1.5   </td><td>0.2   </td><td>setosa</td></tr>\n",
       "\t<tr><td>5.0   </td><td>3.6   </td><td>1.4   </td><td>0.2   </td><td>setosa</td></tr>\n",
       "\t<tr><td>5.4   </td><td>3.9   </td><td>1.7   </td><td>0.4   </td><td>setosa</td></tr>\n",
       "</tbody>\n",
       "</table>\n"
      ],
      "text/latex": [
       "\\begin{tabular}{r|lllll}\n",
       " Sepal.Length & Sepal.Width & Petal.Length & Petal.Width & Species\\\\\n",
       "\\hline\n",
       "\t 5.1    & 3.5    & 1.4    & 0.2    & setosa\\\\\n",
       "\t 4.9    & 3.0    & 1.4    & 0.2    & setosa\\\\\n",
       "\t 4.7    & 3.2    & 1.3    & 0.2    & setosa\\\\\n",
       "\t 4.6    & 3.1    & 1.5    & 0.2    & setosa\\\\\n",
       "\t 5.0    & 3.6    & 1.4    & 0.2    & setosa\\\\\n",
       "\t 5.4    & 3.9    & 1.7    & 0.4    & setosa\\\\\n",
       "\\end{tabular}\n"
      ],
      "text/markdown": [
       "\n",
       "| Sepal.Length | Sepal.Width | Petal.Length | Petal.Width | Species |\n",
       "|---|---|---|---|---|\n",
       "| 5.1    | 3.5    | 1.4    | 0.2    | setosa |\n",
       "| 4.9    | 3.0    | 1.4    | 0.2    | setosa |\n",
       "| 4.7    | 3.2    | 1.3    | 0.2    | setosa |\n",
       "| 4.6    | 3.1    | 1.5    | 0.2    | setosa |\n",
       "| 5.0    | 3.6    | 1.4    | 0.2    | setosa |\n",
       "| 5.4    | 3.9    | 1.7    | 0.4    | setosa |\n",
       "\n"
      ],
      "text/plain": [
       "  Sepal.Length Sepal.Width Petal.Length Petal.Width Species\n",
       "1 5.1          3.5         1.4          0.2         setosa \n",
       "2 4.9          3.0         1.4          0.2         setosa \n",
       "3 4.7          3.2         1.3          0.2         setosa \n",
       "4 4.6          3.1         1.5          0.2         setosa \n",
       "5 5.0          3.6         1.4          0.2         setosa \n",
       "6 5.4          3.9         1.7          0.4         setosa "
      ]
     },
     "metadata": {},
     "output_type": "display_data"
    }
   ],
   "source": [
    "data(iris)\n",
    "head(iris)"
   ]
  },
  {
   "cell_type": "markdown",
   "id": "6f899b5f",
   "metadata": {},
   "source": [
    "Розіб'ємо дані на дві групи: тренувальну та тестову множини. Пропорцію розбиття (SplitRatio) візьмемо \n",
    " 0.7, тобто з 150 квіток у нас $70\\%$ квітів знаходиться в тренувальній множині, а  $30\\%$ в тестовій. "
   ]
  },
  {
   "cell_type": "code",
   "execution_count": 21,
   "id": "cc93e60c",
   "metadata": {},
   "outputs": [
    {
     "data": {
      "text/html": [
       "<ol class=list-inline>\n",
       "\t<li>TRUE</li>\n",
       "\t<li>TRUE</li>\n",
       "\t<li>FALSE</li>\n",
       "\t<li>FALSE</li>\n",
       "\t<li>TRUE</li>\n",
       "\t<li>TRUE</li>\n",
       "\t<li>TRUE</li>\n",
       "\t<li>FALSE</li>\n",
       "\t<li>FALSE</li>\n",
       "\t<li>TRUE</li>\n",
       "\t<li>TRUE</li>\n",
       "\t<li>TRUE</li>\n",
       "\t<li>FALSE</li>\n",
       "\t<li>FALSE</li>\n",
       "\t<li>TRUE</li>\n",
       "\t<li>TRUE</li>\n",
       "\t<li>TRUE</li>\n",
       "\t<li>FALSE</li>\n",
       "\t<li>FALSE</li>\n",
       "\t<li>TRUE</li>\n",
       "\t<li>TRUE</li>\n",
       "\t<li>TRUE</li>\n",
       "\t<li>FALSE</li>\n",
       "\t<li>FALSE</li>\n",
       "\t<li>TRUE</li>\n",
       "\t<li>TRUE</li>\n",
       "\t<li>TRUE</li>\n",
       "\t<li>FALSE</li>\n",
       "\t<li>FALSE</li>\n",
       "\t<li>TRUE</li>\n",
       "\t<li>TRUE</li>\n",
       "\t<li>TRUE</li>\n",
       "\t<li>FALSE</li>\n",
       "\t<li>FALSE</li>\n",
       "\t<li>TRUE</li>\n",
       "\t<li>TRUE</li>\n",
       "\t<li>TRUE</li>\n",
       "\t<li>FALSE</li>\n",
       "\t<li>FALSE</li>\n",
       "\t<li>TRUE</li>\n",
       "\t<li>TRUE</li>\n",
       "\t<li>TRUE</li>\n",
       "\t<li>FALSE</li>\n",
       "\t<li>FALSE</li>\n",
       "\t<li>TRUE</li>\n",
       "\t<li>TRUE</li>\n",
       "\t<li>TRUE</li>\n",
       "\t<li>FALSE</li>\n",
       "\t<li>FALSE</li>\n",
       "\t<li>TRUE</li>\n",
       "\t<li>TRUE</li>\n",
       "\t<li>TRUE</li>\n",
       "\t<li>FALSE</li>\n",
       "\t<li>FALSE</li>\n",
       "\t<li>TRUE</li>\n",
       "\t<li>TRUE</li>\n",
       "\t<li>TRUE</li>\n",
       "\t<li>FALSE</li>\n",
       "\t<li>FALSE</li>\n",
       "\t<li>TRUE</li>\n",
       "\t<li>TRUE</li>\n",
       "\t<li>TRUE</li>\n",
       "\t<li>FALSE</li>\n",
       "\t<li>FALSE</li>\n",
       "\t<li>TRUE</li>\n",
       "\t<li>TRUE</li>\n",
       "\t<li>TRUE</li>\n",
       "\t<li>FALSE</li>\n",
       "\t<li>FALSE</li>\n",
       "\t<li>TRUE</li>\n",
       "\t<li>TRUE</li>\n",
       "\t<li>TRUE</li>\n",
       "\t<li>FALSE</li>\n",
       "\t<li>FALSE</li>\n",
       "\t<li>TRUE</li>\n",
       "\t<li>TRUE</li>\n",
       "\t<li>TRUE</li>\n",
       "\t<li>FALSE</li>\n",
       "\t<li>FALSE</li>\n",
       "\t<li>TRUE</li>\n",
       "\t<li>TRUE</li>\n",
       "\t<li>TRUE</li>\n",
       "\t<li>FALSE</li>\n",
       "\t<li>FALSE</li>\n",
       "\t<li>TRUE</li>\n",
       "\t<li>TRUE</li>\n",
       "\t<li>TRUE</li>\n",
       "\t<li>FALSE</li>\n",
       "\t<li>FALSE</li>\n",
       "\t<li>TRUE</li>\n",
       "\t<li>TRUE</li>\n",
       "\t<li>TRUE</li>\n",
       "\t<li>FALSE</li>\n",
       "\t<li>FALSE</li>\n",
       "\t<li>TRUE</li>\n",
       "\t<li>TRUE</li>\n",
       "\t<li>TRUE</li>\n",
       "\t<li>FALSE</li>\n",
       "\t<li>FALSE</li>\n",
       "\t<li>TRUE</li>\n",
       "\t<li>TRUE</li>\n",
       "\t<li>TRUE</li>\n",
       "\t<li>FALSE</li>\n",
       "\t<li>FALSE</li>\n",
       "\t<li>TRUE</li>\n",
       "\t<li>TRUE</li>\n",
       "\t<li>TRUE</li>\n",
       "\t<li>FALSE</li>\n",
       "\t<li>FALSE</li>\n",
       "\t<li>TRUE</li>\n",
       "\t<li>TRUE</li>\n",
       "\t<li>TRUE</li>\n",
       "\t<li>FALSE</li>\n",
       "\t<li>FALSE</li>\n",
       "\t<li>TRUE</li>\n",
       "\t<li>TRUE</li>\n",
       "\t<li>TRUE</li>\n",
       "\t<li>FALSE</li>\n",
       "\t<li>FALSE</li>\n",
       "\t<li>TRUE</li>\n",
       "\t<li>TRUE</li>\n",
       "\t<li>TRUE</li>\n",
       "\t<li>FALSE</li>\n",
       "\t<li>FALSE</li>\n",
       "\t<li>TRUE</li>\n",
       "\t<li>TRUE</li>\n",
       "\t<li>TRUE</li>\n",
       "\t<li>FALSE</li>\n",
       "\t<li>FALSE</li>\n",
       "\t<li>TRUE</li>\n",
       "\t<li>TRUE</li>\n",
       "\t<li>TRUE</li>\n",
       "\t<li>FALSE</li>\n",
       "\t<li>FALSE</li>\n",
       "\t<li>TRUE</li>\n",
       "\t<li>TRUE</li>\n",
       "\t<li>TRUE</li>\n",
       "\t<li>FALSE</li>\n",
       "\t<li>FALSE</li>\n",
       "\t<li>TRUE</li>\n",
       "\t<li>TRUE</li>\n",
       "\t<li>TRUE</li>\n",
       "\t<li>FALSE</li>\n",
       "\t<li>FALSE</li>\n",
       "\t<li>TRUE</li>\n",
       "\t<li>TRUE</li>\n",
       "\t<li>TRUE</li>\n",
       "\t<li>FALSE</li>\n",
       "\t<li>FALSE</li>\n",
       "\t<li>TRUE</li>\n",
       "</ol>\n"
      ],
      "text/latex": [
       "\\begin{enumerate*}\n",
       "\\item TRUE\n",
       "\\item TRUE\n",
       "\\item FALSE\n",
       "\\item FALSE\n",
       "\\item TRUE\n",
       "\\item TRUE\n",
       "\\item TRUE\n",
       "\\item FALSE\n",
       "\\item FALSE\n",
       "\\item TRUE\n",
       "\\item TRUE\n",
       "\\item TRUE\n",
       "\\item FALSE\n",
       "\\item FALSE\n",
       "\\item TRUE\n",
       "\\item TRUE\n",
       "\\item TRUE\n",
       "\\item FALSE\n",
       "\\item FALSE\n",
       "\\item TRUE\n",
       "\\item TRUE\n",
       "\\item TRUE\n",
       "\\item FALSE\n",
       "\\item FALSE\n",
       "\\item TRUE\n",
       "\\item TRUE\n",
       "\\item TRUE\n",
       "\\item FALSE\n",
       "\\item FALSE\n",
       "\\item TRUE\n",
       "\\item TRUE\n",
       "\\item TRUE\n",
       "\\item FALSE\n",
       "\\item FALSE\n",
       "\\item TRUE\n",
       "\\item TRUE\n",
       "\\item TRUE\n",
       "\\item FALSE\n",
       "\\item FALSE\n",
       "\\item TRUE\n",
       "\\item TRUE\n",
       "\\item TRUE\n",
       "\\item FALSE\n",
       "\\item FALSE\n",
       "\\item TRUE\n",
       "\\item TRUE\n",
       "\\item TRUE\n",
       "\\item FALSE\n",
       "\\item FALSE\n",
       "\\item TRUE\n",
       "\\item TRUE\n",
       "\\item TRUE\n",
       "\\item FALSE\n",
       "\\item FALSE\n",
       "\\item TRUE\n",
       "\\item TRUE\n",
       "\\item TRUE\n",
       "\\item FALSE\n",
       "\\item FALSE\n",
       "\\item TRUE\n",
       "\\item TRUE\n",
       "\\item TRUE\n",
       "\\item FALSE\n",
       "\\item FALSE\n",
       "\\item TRUE\n",
       "\\item TRUE\n",
       "\\item TRUE\n",
       "\\item FALSE\n",
       "\\item FALSE\n",
       "\\item TRUE\n",
       "\\item TRUE\n",
       "\\item TRUE\n",
       "\\item FALSE\n",
       "\\item FALSE\n",
       "\\item TRUE\n",
       "\\item TRUE\n",
       "\\item TRUE\n",
       "\\item FALSE\n",
       "\\item FALSE\n",
       "\\item TRUE\n",
       "\\item TRUE\n",
       "\\item TRUE\n",
       "\\item FALSE\n",
       "\\item FALSE\n",
       "\\item TRUE\n",
       "\\item TRUE\n",
       "\\item TRUE\n",
       "\\item FALSE\n",
       "\\item FALSE\n",
       "\\item TRUE\n",
       "\\item TRUE\n",
       "\\item TRUE\n",
       "\\item FALSE\n",
       "\\item FALSE\n",
       "\\item TRUE\n",
       "\\item TRUE\n",
       "\\item TRUE\n",
       "\\item FALSE\n",
       "\\item FALSE\n",
       "\\item TRUE\n",
       "\\item TRUE\n",
       "\\item TRUE\n",
       "\\item FALSE\n",
       "\\item FALSE\n",
       "\\item TRUE\n",
       "\\item TRUE\n",
       "\\item TRUE\n",
       "\\item FALSE\n",
       "\\item FALSE\n",
       "\\item TRUE\n",
       "\\item TRUE\n",
       "\\item TRUE\n",
       "\\item FALSE\n",
       "\\item FALSE\n",
       "\\item TRUE\n",
       "\\item TRUE\n",
       "\\item TRUE\n",
       "\\item FALSE\n",
       "\\item FALSE\n",
       "\\item TRUE\n",
       "\\item TRUE\n",
       "\\item TRUE\n",
       "\\item FALSE\n",
       "\\item FALSE\n",
       "\\item TRUE\n",
       "\\item TRUE\n",
       "\\item TRUE\n",
       "\\item FALSE\n",
       "\\item FALSE\n",
       "\\item TRUE\n",
       "\\item TRUE\n",
       "\\item TRUE\n",
       "\\item FALSE\n",
       "\\item FALSE\n",
       "\\item TRUE\n",
       "\\item TRUE\n",
       "\\item TRUE\n",
       "\\item FALSE\n",
       "\\item FALSE\n",
       "\\item TRUE\n",
       "\\item TRUE\n",
       "\\item TRUE\n",
       "\\item FALSE\n",
       "\\item FALSE\n",
       "\\item TRUE\n",
       "\\item TRUE\n",
       "\\item TRUE\n",
       "\\item FALSE\n",
       "\\item FALSE\n",
       "\\item TRUE\n",
       "\\end{enumerate*}\n"
      ],
      "text/markdown": [
       "1. TRUE\n",
       "2. TRUE\n",
       "3. FALSE\n",
       "4. FALSE\n",
       "5. TRUE\n",
       "6. TRUE\n",
       "7. TRUE\n",
       "8. FALSE\n",
       "9. FALSE\n",
       "10. TRUE\n",
       "11. TRUE\n",
       "12. TRUE\n",
       "13. FALSE\n",
       "14. FALSE\n",
       "15. TRUE\n",
       "16. TRUE\n",
       "17. TRUE\n",
       "18. FALSE\n",
       "19. FALSE\n",
       "20. TRUE\n",
       "21. TRUE\n",
       "22. TRUE\n",
       "23. FALSE\n",
       "24. FALSE\n",
       "25. TRUE\n",
       "26. TRUE\n",
       "27. TRUE\n",
       "28. FALSE\n",
       "29. FALSE\n",
       "30. TRUE\n",
       "31. TRUE\n",
       "32. TRUE\n",
       "33. FALSE\n",
       "34. FALSE\n",
       "35. TRUE\n",
       "36. TRUE\n",
       "37. TRUE\n",
       "38. FALSE\n",
       "39. FALSE\n",
       "40. TRUE\n",
       "41. TRUE\n",
       "42. TRUE\n",
       "43. FALSE\n",
       "44. FALSE\n",
       "45. TRUE\n",
       "46. TRUE\n",
       "47. TRUE\n",
       "48. FALSE\n",
       "49. FALSE\n",
       "50. TRUE\n",
       "51. TRUE\n",
       "52. TRUE\n",
       "53. FALSE\n",
       "54. FALSE\n",
       "55. TRUE\n",
       "56. TRUE\n",
       "57. TRUE\n",
       "58. FALSE\n",
       "59. FALSE\n",
       "60. TRUE\n",
       "61. TRUE\n",
       "62. TRUE\n",
       "63. FALSE\n",
       "64. FALSE\n",
       "65. TRUE\n",
       "66. TRUE\n",
       "67. TRUE\n",
       "68. FALSE\n",
       "69. FALSE\n",
       "70. TRUE\n",
       "71. TRUE\n",
       "72. TRUE\n",
       "73. FALSE\n",
       "74. FALSE\n",
       "75. TRUE\n",
       "76. TRUE\n",
       "77. TRUE\n",
       "78. FALSE\n",
       "79. FALSE\n",
       "80. TRUE\n",
       "81. TRUE\n",
       "82. TRUE\n",
       "83. FALSE\n",
       "84. FALSE\n",
       "85. TRUE\n",
       "86. TRUE\n",
       "87. TRUE\n",
       "88. FALSE\n",
       "89. FALSE\n",
       "90. TRUE\n",
       "91. TRUE\n",
       "92. TRUE\n",
       "93. FALSE\n",
       "94. FALSE\n",
       "95. TRUE\n",
       "96. TRUE\n",
       "97. TRUE\n",
       "98. FALSE\n",
       "99. FALSE\n",
       "100. TRUE\n",
       "101. TRUE\n",
       "102. TRUE\n",
       "103. FALSE\n",
       "104. FALSE\n",
       "105. TRUE\n",
       "106. TRUE\n",
       "107. TRUE\n",
       "108. FALSE\n",
       "109. FALSE\n",
       "110. TRUE\n",
       "111. TRUE\n",
       "112. TRUE\n",
       "113. FALSE\n",
       "114. FALSE\n",
       "115. TRUE\n",
       "116. TRUE\n",
       "117. TRUE\n",
       "118. FALSE\n",
       "119. FALSE\n",
       "120. TRUE\n",
       "121. TRUE\n",
       "122. TRUE\n",
       "123. FALSE\n",
       "124. FALSE\n",
       "125. TRUE\n",
       "126. TRUE\n",
       "127. TRUE\n",
       "128. FALSE\n",
       "129. FALSE\n",
       "130. TRUE\n",
       "131. TRUE\n",
       "132. TRUE\n",
       "133. FALSE\n",
       "134. FALSE\n",
       "135. TRUE\n",
       "136. TRUE\n",
       "137. TRUE\n",
       "138. FALSE\n",
       "139. FALSE\n",
       "140. TRUE\n",
       "141. TRUE\n",
       "142. TRUE\n",
       "143. FALSE\n",
       "144. FALSE\n",
       "145. TRUE\n",
       "146. TRUE\n",
       "147. TRUE\n",
       "148. FALSE\n",
       "149. FALSE\n",
       "150. TRUE\n",
       "\n",
       "\n"
      ],
      "text/plain": [
       "  [1]  TRUE  TRUE FALSE FALSE  TRUE  TRUE  TRUE FALSE FALSE  TRUE  TRUE  TRUE\n",
       " [13] FALSE FALSE  TRUE  TRUE  TRUE FALSE FALSE  TRUE  TRUE  TRUE FALSE FALSE\n",
       " [25]  TRUE  TRUE  TRUE FALSE FALSE  TRUE  TRUE  TRUE FALSE FALSE  TRUE  TRUE\n",
       " [37]  TRUE FALSE FALSE  TRUE  TRUE  TRUE FALSE FALSE  TRUE  TRUE  TRUE FALSE\n",
       " [49] FALSE  TRUE  TRUE  TRUE FALSE FALSE  TRUE  TRUE  TRUE FALSE FALSE  TRUE\n",
       " [61]  TRUE  TRUE FALSE FALSE  TRUE  TRUE  TRUE FALSE FALSE  TRUE  TRUE  TRUE\n",
       " [73] FALSE FALSE  TRUE  TRUE  TRUE FALSE FALSE  TRUE  TRUE  TRUE FALSE FALSE\n",
       " [85]  TRUE  TRUE  TRUE FALSE FALSE  TRUE  TRUE  TRUE FALSE FALSE  TRUE  TRUE\n",
       " [97]  TRUE FALSE FALSE  TRUE  TRUE  TRUE FALSE FALSE  TRUE  TRUE  TRUE FALSE\n",
       "[109] FALSE  TRUE  TRUE  TRUE FALSE FALSE  TRUE  TRUE  TRUE FALSE FALSE  TRUE\n",
       "[121]  TRUE  TRUE FALSE FALSE  TRUE  TRUE  TRUE FALSE FALSE  TRUE  TRUE  TRUE\n",
       "[133] FALSE FALSE  TRUE  TRUE  TRUE FALSE FALSE  TRUE  TRUE  TRUE FALSE FALSE\n",
       "[145]  TRUE  TRUE  TRUE FALSE FALSE  TRUE"
      ]
     },
     "metadata": {},
     "output_type": "display_data"
    }
   ],
   "source": [
    "iris$spl=sample.split(iris,SplitRatio=0.7) \n",
    "iris$spl"
   ]
  },
  {
   "cell_type": "markdown",
   "id": "a061d8d8",
   "metadata": {},
   "source": [
    "Визначимо тепер ці тестові і тренувальні множини. "
   ]
  },
  {
   "cell_type": "code",
   "execution_count": 22,
   "id": "d5019ec0",
   "metadata": {},
   "outputs": [
    {
     "data": {
      "text/html": [
       "<table>\n",
       "<thead><tr><th></th><th scope=col>Sepal.Length</th><th scope=col>Sepal.Width</th><th scope=col>Petal.Length</th><th scope=col>Petal.Width</th><th scope=col>Species</th><th scope=col>spl</th></tr></thead>\n",
       "<tbody>\n",
       "\t<tr><th scope=row>1</th><td>5.1   </td><td>3.5   </td><td>1.4   </td><td>0.2   </td><td>setosa</td><td>TRUE  </td></tr>\n",
       "\t<tr><th scope=row>2</th><td>4.9   </td><td>3.0   </td><td>1.4   </td><td>0.2   </td><td>setosa</td><td>TRUE  </td></tr>\n",
       "\t<tr><th scope=row>5</th><td>5.0   </td><td>3.6   </td><td>1.4   </td><td>0.2   </td><td>setosa</td><td>TRUE  </td></tr>\n",
       "\t<tr><th scope=row>6</th><td>5.4   </td><td>3.9   </td><td>1.7   </td><td>0.4   </td><td>setosa</td><td>TRUE  </td></tr>\n",
       "\t<tr><th scope=row>7</th><td>4.6   </td><td>3.4   </td><td>1.4   </td><td>0.3   </td><td>setosa</td><td>TRUE  </td></tr>\n",
       "\t<tr><th scope=row>10</th><td>4.9   </td><td>3.1   </td><td>1.5   </td><td>0.1   </td><td>setosa</td><td>TRUE  </td></tr>\n",
       "</tbody>\n",
       "</table>\n"
      ],
      "text/latex": [
       "\\begin{tabular}{r|llllll}\n",
       "  & Sepal.Length & Sepal.Width & Petal.Length & Petal.Width & Species & spl\\\\\n",
       "\\hline\n",
       "\t1 & 5.1    & 3.5    & 1.4    & 0.2    & setosa & TRUE  \\\\\n",
       "\t2 & 4.9    & 3.0    & 1.4    & 0.2    & setosa & TRUE  \\\\\n",
       "\t5 & 5.0    & 3.6    & 1.4    & 0.2    & setosa & TRUE  \\\\\n",
       "\t6 & 5.4    & 3.9    & 1.7    & 0.4    & setosa & TRUE  \\\\\n",
       "\t7 & 4.6    & 3.4    & 1.4    & 0.3    & setosa & TRUE  \\\\\n",
       "\t10 & 4.9    & 3.1    & 1.5    & 0.1    & setosa & TRUE  \\\\\n",
       "\\end{tabular}\n"
      ],
      "text/markdown": [
       "\n",
       "| <!--/--> | Sepal.Length | Sepal.Width | Petal.Length | Petal.Width | Species | spl |\n",
       "|---|---|---|---|---|---|---|\n",
       "| 1 | 5.1    | 3.5    | 1.4    | 0.2    | setosa | TRUE   |\n",
       "| 2 | 4.9    | 3.0    | 1.4    | 0.2    | setosa | TRUE   |\n",
       "| 5 | 5.0    | 3.6    | 1.4    | 0.2    | setosa | TRUE   |\n",
       "| 6 | 5.4    | 3.9    | 1.7    | 0.4    | setosa | TRUE   |\n",
       "| 7 | 4.6    | 3.4    | 1.4    | 0.3    | setosa | TRUE   |\n",
       "| 10 | 4.9    | 3.1    | 1.5    | 0.1    | setosa | TRUE   |\n",
       "\n"
      ],
      "text/plain": [
       "   Sepal.Length Sepal.Width Petal.Length Petal.Width Species spl \n",
       "1  5.1          3.5         1.4          0.2         setosa  TRUE\n",
       "2  4.9          3.0         1.4          0.2         setosa  TRUE\n",
       "5  5.0          3.6         1.4          0.2         setosa  TRUE\n",
       "6  5.4          3.9         1.7          0.4         setosa  TRUE\n",
       "7  4.6          3.4         1.4          0.3         setosa  TRUE\n",
       "10 4.9          3.1         1.5          0.1         setosa  TRUE"
      ]
     },
     "metadata": {},
     "output_type": "display_data"
    },
    {
     "data": {
      "text/html": [
       "<table>\n",
       "<thead><tr><th></th><th scope=col>Sepal.Length</th><th scope=col>Sepal.Width</th><th scope=col>Petal.Length</th><th scope=col>Petal.Width</th><th scope=col>Species</th><th scope=col>spl</th></tr></thead>\n",
       "<tbody>\n",
       "\t<tr><th scope=row>3</th><td>4.7   </td><td>3.2   </td><td>1.3   </td><td>0.2   </td><td>setosa</td><td>FALSE </td></tr>\n",
       "\t<tr><th scope=row>4</th><td>4.6   </td><td>3.1   </td><td>1.5   </td><td>0.2   </td><td>setosa</td><td>FALSE </td></tr>\n",
       "\t<tr><th scope=row>8</th><td>5.0   </td><td>3.4   </td><td>1.5   </td><td>0.2   </td><td>setosa</td><td>FALSE </td></tr>\n",
       "\t<tr><th scope=row>9</th><td>4.4   </td><td>2.9   </td><td>1.4   </td><td>0.2   </td><td>setosa</td><td>FALSE </td></tr>\n",
       "\t<tr><th scope=row>13</th><td>4.8   </td><td>3.0   </td><td>1.4   </td><td>0.1   </td><td>setosa</td><td>FALSE </td></tr>\n",
       "\t<tr><th scope=row>14</th><td>4.3   </td><td>3.0   </td><td>1.1   </td><td>0.1   </td><td>setosa</td><td>FALSE </td></tr>\n",
       "</tbody>\n",
       "</table>\n"
      ],
      "text/latex": [
       "\\begin{tabular}{r|llllll}\n",
       "  & Sepal.Length & Sepal.Width & Petal.Length & Petal.Width & Species & spl\\\\\n",
       "\\hline\n",
       "\t3 & 4.7    & 3.2    & 1.3    & 0.2    & setosa & FALSE \\\\\n",
       "\t4 & 4.6    & 3.1    & 1.5    & 0.2    & setosa & FALSE \\\\\n",
       "\t8 & 5.0    & 3.4    & 1.5    & 0.2    & setosa & FALSE \\\\\n",
       "\t9 & 4.4    & 2.9    & 1.4    & 0.2    & setosa & FALSE \\\\\n",
       "\t13 & 4.8    & 3.0    & 1.4    & 0.1    & setosa & FALSE \\\\\n",
       "\t14 & 4.3    & 3.0    & 1.1    & 0.1    & setosa & FALSE \\\\\n",
       "\\end{tabular}\n"
      ],
      "text/markdown": [
       "\n",
       "| <!--/--> | Sepal.Length | Sepal.Width | Petal.Length | Petal.Width | Species | spl |\n",
       "|---|---|---|---|---|---|---|\n",
       "| 3 | 4.7    | 3.2    | 1.3    | 0.2    | setosa | FALSE  |\n",
       "| 4 | 4.6    | 3.1    | 1.5    | 0.2    | setosa | FALSE  |\n",
       "| 8 | 5.0    | 3.4    | 1.5    | 0.2    | setosa | FALSE  |\n",
       "| 9 | 4.4    | 2.9    | 1.4    | 0.2    | setosa | FALSE  |\n",
       "| 13 | 4.8    | 3.0    | 1.4    | 0.1    | setosa | FALSE  |\n",
       "| 14 | 4.3    | 3.0    | 1.1    | 0.1    | setosa | FALSE  |\n",
       "\n"
      ],
      "text/plain": [
       "   Sepal.Length Sepal.Width Petal.Length Petal.Width Species spl  \n",
       "3  4.7          3.2         1.3          0.2         setosa  FALSE\n",
       "4  4.6          3.1         1.5          0.2         setosa  FALSE\n",
       "8  5.0          3.4         1.5          0.2         setosa  FALSE\n",
       "9  4.4          2.9         1.4          0.2         setosa  FALSE\n",
       "13 4.8          3.0         1.4          0.1         setosa  FALSE\n",
       "14 4.3          3.0         1.1          0.1         setosa  FALSE"
      ]
     },
     "metadata": {},
     "output_type": "display_data"
    }
   ],
   "source": [
    "train=subset(iris, iris$spl==TRUE) \n",
    "head(train) \n",
    "\n",
    "test=subset(iris, iris$spl==FALSE)\n",
    "head(test)"
   ]
  },
  {
   "cell_type": "markdown",
   "id": "f3c7fc0f",
   "metadata": {},
   "source": [
    "Цю ж поцедуру можна було зробити наступним чином: "
   ]
  },
  {
   "cell_type": "code",
   "execution_count": 23,
   "id": "a21a5e3e",
   "metadata": {},
   "outputs": [
    {
     "data": {
      "text/html": [
       "<ol class=list-inline>\n",
       "\t<li>FALSE</li>\n",
       "\t<li>FALSE</li>\n",
       "\t<li>TRUE</li>\n",
       "\t<li>TRUE</li>\n",
       "\t<li>TRUE</li>\n",
       "\t<li>TRUE</li>\n",
       "</ol>\n"
      ],
      "text/latex": [
       "\\begin{enumerate*}\n",
       "\\item FALSE\n",
       "\\item FALSE\n",
       "\\item TRUE\n",
       "\\item TRUE\n",
       "\\item TRUE\n",
       "\\item TRUE\n",
       "\\end{enumerate*}\n"
      ],
      "text/markdown": [
       "1. FALSE\n",
       "2. FALSE\n",
       "3. TRUE\n",
       "4. TRUE\n",
       "5. TRUE\n",
       "6. TRUE\n",
       "\n",
       "\n"
      ],
      "text/plain": [
       "[1] FALSE FALSE  TRUE  TRUE  TRUE  TRUE"
      ]
     },
     "metadata": {},
     "output_type": "display_data"
    }
   ],
   "source": [
    "split <- sample.split(iris, SplitRatio = 0.7)\n",
    "split\n",
    "train_cl <- subset(iris, split == \"TRUE\")\n",
    "test_cl <- subset(iris, split == \"FALSE\")"
   ]
  },
  {
   "cell_type": "markdown",
   "id": "6941487a",
   "metadata": {},
   "source": [
    "Застосуємо тепер байєсівську модель класифікації. Якщо не визначено окремо, ми припускаємо, що дані нормально розподілені. \n",
    "Спочатку ми навчаємо нашу модель на тренувальній множині. "
   ]
  },
  {
   "cell_type": "code",
   "execution_count": 24,
   "id": "53ec11a6",
   "metadata": {},
   "outputs": [
    {
     "data": {
      "text/plain": [
       "\n",
       "Naive Bayes Classifier for Discrete Predictors\n",
       "\n",
       "Call:\n",
       "naiveBayes.default(x = X, y = Y, laplace = laplace)\n",
       "\n",
       "A-priori probabilities:\n",
       "Y\n",
       "    setosa versicolor  virginica \n",
       "      0.32       0.34       0.34 \n",
       "\n",
       "Conditional probabilities:\n",
       "            Sepal.Length\n",
       "Y                [,1]      [,2]\n",
       "  setosa     5.021875 0.3553593\n",
       "  versicolor 5.979412 0.5709001\n",
       "  virginica  6.650000 0.7016215\n",
       "\n",
       "            Sepal.Width\n",
       "Y                [,1]      [,2]\n",
       "  setosa     3.462500 0.4286137\n",
       "  versicolor 2.752941 0.3221474\n",
       "  virginica  2.967647 0.3522401\n",
       "\n",
       "            Petal.Length\n",
       "Y                [,1]      [,2]\n",
       "  setosa     1.456250 0.1758619\n",
       "  versicolor 4.220588 0.5055926\n",
       "  virginica  5.638235 0.5913594\n",
       "\n",
       "            Petal.Width\n",
       "Y                [,1]       [,2]\n",
       "  setosa     0.253125 0.09832263\n",
       "  versicolor 1.323529 0.19856885\n",
       "  virginica  2.002941 0.26341038\n",
       "\n",
       "            spl\n",
       "Y                FALSE      TRUE\n",
       "  setosa     0.3750000 0.6250000\n",
       "  versicolor 0.4411765 0.5588235\n",
       "  virginica  0.3823529 0.6176471\n"
      ]
     },
     "metadata": {},
     "output_type": "display_data"
    }
   ],
   "source": [
    "set.seed(120) \n",
    "classifier_cl <- naiveBayes(Species ~ ., data = train_cl)\n",
    "classifier_cl"
   ]
  },
  {
   "cell_type": "markdown",
   "id": "d57148d0",
   "metadata": {},
   "source": [
    "Насправді, те, що називається умовними ймовірностями (conditional probabilities)- це середні значення (перша колонка) та стандартні \n",
    "відхилення (друга колонка). За відсутності інших припущень, модель розраховується за припущенням, того що дані нормально розподілені. \n",
    "\n",
    "Обчислимо матрицю невідповідностей: "
   ]
  },
  {
   "cell_type": "code",
   "execution_count": 25,
   "id": "319cf1ae",
   "metadata": {},
   "outputs": [
    {
     "data": {
      "text/plain": [
       "            y_pred1\n",
       "             setosa versicolor virginica\n",
       "  setosa         18          0         0\n",
       "  versicolor      0         16         0\n",
       "  virginica       0          1        15"
      ]
     },
     "metadata": {},
     "output_type": "display_data"
    }
   ],
   "source": [
    "y_pred1 <- predict(classifier_cl, newdata = test_cl)\n",
    "cm1 <- table(test_cl$Species, y_pred1)\n",
    "cm1"
   ]
  },
  {
   "cell_type": "markdown",
   "id": "e3cca03f",
   "metadata": {},
   "source": [
    "Отже, майже всі спостереження  класифіковані правильно. "
   ]
  },
  {
   "cell_type": "markdown",
   "id": "f9409a11",
   "metadata": {},
   "source": [
    "Якщо ми не знаємо розподіл, то ми можемо застостовувати ядерні оцінки щільності для того, щоб оцінити ці щільності. Оберемо, наприклад, трикутне ядро. "
   ]
  },
  {
   "cell_type": "code",
   "execution_count": 26,
   "id": "0c2b3d14",
   "metadata": {},
   "outputs": [
    {
     "data": {
      "text/plain": [
       "\n",
       "Naive Bayes Classifier for Discrete Predictors\n",
       "\n",
       "Call:\n",
       "naiveBayes.default(x = X, y = Y, laplace = laplace, usekernel = TRUE, \n",
       "    kernel = \"triangular\")\n",
       "\n",
       "A-priori probabilities:\n",
       "Y\n",
       "    setosa versicolor  virginica \n",
       "      0.32       0.34       0.34 \n",
       "\n",
       "Conditional probabilities:\n",
       "            Sepal.Length\n",
       "Y                [,1]      [,2]\n",
       "  setosa     5.021875 0.3553593\n",
       "  versicolor 5.979412 0.5709001\n",
       "  virginica  6.650000 0.7016215\n",
       "\n",
       "            Sepal.Width\n",
       "Y                [,1]      [,2]\n",
       "  setosa     3.462500 0.4286137\n",
       "  versicolor 2.752941 0.3221474\n",
       "  virginica  2.967647 0.3522401\n",
       "\n",
       "            Petal.Length\n",
       "Y                [,1]      [,2]\n",
       "  setosa     1.456250 0.1758619\n",
       "  versicolor 4.220588 0.5055926\n",
       "  virginica  5.638235 0.5913594\n",
       "\n",
       "            Petal.Width\n",
       "Y                [,1]       [,2]\n",
       "  setosa     0.253125 0.09832263\n",
       "  versicolor 1.323529 0.19856885\n",
       "  virginica  2.002941 0.26341038\n",
       "\n",
       "            spl\n",
       "Y                FALSE      TRUE\n",
       "  setosa     0.3750000 0.6250000\n",
       "  versicolor 0.4411765 0.5588235\n",
       "  virginica  0.3823529 0.6176471\n"
      ]
     },
     "metadata": {},
     "output_type": "display_data"
    }
   ],
   "source": [
    "classifier2_cl <- naiveBayes(Species ~ ., data = train_cl,usekernel=TRUE, \n",
    "                            kernel=\"triangular\" )\n",
    "classifier2_cl"
   ]
  },
  {
   "cell_type": "markdown",
   "id": "b18da83e",
   "metadata": {},
   "source": [
    "Зробимо прогноз, використовуючи теству частину, і порівняємо з (тобто з тими фактичними належностями до класу). "
   ]
  },
  {
   "cell_type": "code",
   "execution_count": 27,
   "id": "19651843",
   "metadata": {},
   "outputs": [
    {
     "data": {
      "text/html": [
       "<ol class=list-inline>\n",
       "\t<li>setosa</li>\n",
       "\t<li>setosa</li>\n",
       "\t<li>setosa</li>\n",
       "\t<li>setosa</li>\n",
       "\t<li>setosa</li>\n",
       "\t<li>setosa</li>\n",
       "\t<li>setosa</li>\n",
       "\t<li>setosa</li>\n",
       "\t<li>setosa</li>\n",
       "\t<li>setosa</li>\n",
       "\t<li>setosa</li>\n",
       "\t<li>setosa</li>\n",
       "\t<li>setosa</li>\n",
       "\t<li>setosa</li>\n",
       "\t<li>setosa</li>\n",
       "\t<li>setosa</li>\n",
       "\t<li>setosa</li>\n",
       "\t<li>setosa</li>\n",
       "\t<li>versicolor</li>\n",
       "\t<li>versicolor</li>\n",
       "\t<li>versicolor</li>\n",
       "\t<li>versicolor</li>\n",
       "\t<li>versicolor</li>\n",
       "\t<li>versicolor</li>\n",
       "\t<li>versicolor</li>\n",
       "\t<li>versicolor</li>\n",
       "\t<li>versicolor</li>\n",
       "\t<li>versicolor</li>\n",
       "\t<li>versicolor</li>\n",
       "\t<li>versicolor</li>\n",
       "\t<li>versicolor</li>\n",
       "\t<li>versicolor</li>\n",
       "\t<li>versicolor</li>\n",
       "\t<li>versicolor</li>\n",
       "\t<li>virginica</li>\n",
       "\t<li>virginica</li>\n",
       "\t<li>virginica</li>\n",
       "\t<li>virginica</li>\n",
       "\t<li>virginica</li>\n",
       "\t<li>virginica</li>\n",
       "\t<li>virginica</li>\n",
       "\t<li>virginica</li>\n",
       "\t<li>virginica</li>\n",
       "\t<li>virginica</li>\n",
       "\t<li>virginica</li>\n",
       "\t<li>versicolor</li>\n",
       "\t<li>virginica</li>\n",
       "\t<li>virginica</li>\n",
       "\t<li>virginica</li>\n",
       "\t<li>virginica</li>\n",
       "</ol>\n",
       "\n",
       "<details>\n",
       "\t<summary style=display:list-item;cursor:pointer>\n",
       "\t\t<strong>Levels</strong>:\n",
       "\t</summary>\n",
       "\t<ol class=list-inline>\n",
       "\t\t<li>'setosa'</li>\n",
       "\t\t<li>'versicolor'</li>\n",
       "\t\t<li>'virginica'</li>\n",
       "\t</ol>\n",
       "</details>"
      ],
      "text/latex": [
       "\\begin{enumerate*}\n",
       "\\item setosa\n",
       "\\item setosa\n",
       "\\item setosa\n",
       "\\item setosa\n",
       "\\item setosa\n",
       "\\item setosa\n",
       "\\item setosa\n",
       "\\item setosa\n",
       "\\item setosa\n",
       "\\item setosa\n",
       "\\item setosa\n",
       "\\item setosa\n",
       "\\item setosa\n",
       "\\item setosa\n",
       "\\item setosa\n",
       "\\item setosa\n",
       "\\item setosa\n",
       "\\item setosa\n",
       "\\item versicolor\n",
       "\\item versicolor\n",
       "\\item versicolor\n",
       "\\item versicolor\n",
       "\\item versicolor\n",
       "\\item versicolor\n",
       "\\item versicolor\n",
       "\\item versicolor\n",
       "\\item versicolor\n",
       "\\item versicolor\n",
       "\\item versicolor\n",
       "\\item versicolor\n",
       "\\item versicolor\n",
       "\\item versicolor\n",
       "\\item versicolor\n",
       "\\item versicolor\n",
       "\\item virginica\n",
       "\\item virginica\n",
       "\\item virginica\n",
       "\\item virginica\n",
       "\\item virginica\n",
       "\\item virginica\n",
       "\\item virginica\n",
       "\\item virginica\n",
       "\\item virginica\n",
       "\\item virginica\n",
       "\\item virginica\n",
       "\\item versicolor\n",
       "\\item virginica\n",
       "\\item virginica\n",
       "\\item virginica\n",
       "\\item virginica\n",
       "\\end{enumerate*}\n",
       "\n",
       "\\emph{Levels}: \\begin{enumerate*}\n",
       "\\item 'setosa'\n",
       "\\item 'versicolor'\n",
       "\\item 'virginica'\n",
       "\\end{enumerate*}\n"
      ],
      "text/markdown": [
       "1. setosa\n",
       "2. setosa\n",
       "3. setosa\n",
       "4. setosa\n",
       "5. setosa\n",
       "6. setosa\n",
       "7. setosa\n",
       "8. setosa\n",
       "9. setosa\n",
       "10. setosa\n",
       "11. setosa\n",
       "12. setosa\n",
       "13. setosa\n",
       "14. setosa\n",
       "15. setosa\n",
       "16. setosa\n",
       "17. setosa\n",
       "18. setosa\n",
       "19. versicolor\n",
       "20. versicolor\n",
       "21. versicolor\n",
       "22. versicolor\n",
       "23. versicolor\n",
       "24. versicolor\n",
       "25. versicolor\n",
       "26. versicolor\n",
       "27. versicolor\n",
       "28. versicolor\n",
       "29. versicolor\n",
       "30. versicolor\n",
       "31. versicolor\n",
       "32. versicolor\n",
       "33. versicolor\n",
       "34. versicolor\n",
       "35. virginica\n",
       "36. virginica\n",
       "37. virginica\n",
       "38. virginica\n",
       "39. virginica\n",
       "40. virginica\n",
       "41. virginica\n",
       "42. virginica\n",
       "43. virginica\n",
       "44. virginica\n",
       "45. virginica\n",
       "46. versicolor\n",
       "47. virginica\n",
       "48. virginica\n",
       "49. virginica\n",
       "50. virginica\n",
       "\n",
       "\n",
       "\n",
       "**Levels**: 1. 'setosa'\n",
       "2. 'versicolor'\n",
       "3. 'virginica'\n",
       "\n",
       "\n"
      ],
      "text/plain": [
       " [1] setosa     setosa     setosa     setosa     setosa     setosa    \n",
       " [7] setosa     setosa     setosa     setosa     setosa     setosa    \n",
       "[13] setosa     setosa     setosa     setosa     setosa     setosa    \n",
       "[19] versicolor versicolor versicolor versicolor versicolor versicolor\n",
       "[25] versicolor versicolor versicolor versicolor versicolor versicolor\n",
       "[31] versicolor versicolor versicolor versicolor virginica  virginica \n",
       "[37] virginica  virginica  virginica  virginica  virginica  virginica \n",
       "[43] virginica  virginica  virginica  versicolor virginica  virginica \n",
       "[49] virginica  virginica \n",
       "Levels: setosa versicolor virginica"
      ]
     },
     "metadata": {},
     "output_type": "display_data"
    }
   ],
   "source": [
    "y_pred2 <- predict(classifier_cl, newdata = test_cl)\n",
    "y_pred2"
   ]
  },
  {
   "cell_type": "markdown",
   "id": "c8cfe7f1",
   "metadata": {},
   "source": [
    "Побудуємо матрицю невідповідностей. "
   ]
  },
  {
   "cell_type": "code",
   "execution_count": 28,
   "id": "387cfd87",
   "metadata": {},
   "outputs": [
    {
     "data": {
      "text/plain": [
       "            y_pred2\n",
       "             setosa versicolor virginica\n",
       "  setosa         18          0         0\n",
       "  versicolor      0         16         0\n",
       "  virginica       0          1        15"
      ]
     },
     "metadata": {},
     "output_type": "display_data"
    }
   ],
   "source": [
    "cm2 <- table(test_cl$Species, y_pred2)\n",
    "cm2"
   ]
  },
  {
   "cell_type": "markdown",
   "id": "94089ab0",
   "metadata": {},
   "source": [
    "Як ми бачимо, ми правильно класифікували setosa, але 2 квітки versicolor ми помилково класифікували до virginica, і \n",
    "2 квітки virginica-- до versicolor. \n",
    "\n",
    "Розглянемо ще питання, як апроксимувати ймовірнісну щільність (див. також Додатокв кінці файлу). Для цього розглянемо приклад даних про шоломи гравців в футбол і візьмемо одну координату. "
   ]
  },
  {
   "cell_type": "code",
   "execution_count": 29,
   "id": "f28fdc52",
   "metadata": {},
   "outputs": [
    {
     "data": {
      "text/html": [
       "<table>\n",
       "<thead><tr><th scope=col>Group</th><th scope=col>V2</th><th scope=col>V3</th><th scope=col>V4</th><th scope=col>V5</th><th scope=col>V6</th><th scope=col>V7</th></tr></thead>\n",
       "<tbody>\n",
       "\t<tr><td>1    </td><td>13.5 </td><td>57.15</td><td>19.5 </td><td>12.5 </td><td>14.0 </td><td>11   </td></tr>\n",
       "\t<tr><td>1    </td><td>15.5 </td><td>58.42</td><td>21.0 </td><td>12.0 </td><td>16.0 </td><td>12   </td></tr>\n",
       "\t<tr><td>1    </td><td>14.5 </td><td>55.88</td><td>19.0 </td><td>10.0 </td><td>13.0 </td><td>12   </td></tr>\n",
       "\t<tr><td>1    </td><td>15.5 </td><td>58.42</td><td>20.0 </td><td>13.5 </td><td>15.0 </td><td>12   </td></tr>\n",
       "\t<tr><td>1    </td><td>14.5 </td><td>58.42</td><td>20.0 </td><td>13.0 </td><td>15.5 </td><td>12   </td></tr>\n",
       "\t<tr><td>1    </td><td>14.0 </td><td>60.96</td><td>21.0 </td><td>12.0 </td><td>14.0 </td><td>13   </td></tr>\n",
       "</tbody>\n",
       "</table>\n"
      ],
      "text/latex": [
       "\\begin{tabular}{r|lllllll}\n",
       " Group & V2 & V3 & V4 & V5 & V6 & V7\\\\\n",
       "\\hline\n",
       "\t 1     & 13.5  & 57.15 & 19.5  & 12.5  & 14.0  & 11   \\\\\n",
       "\t 1     & 15.5  & 58.42 & 21.0  & 12.0  & 16.0  & 12   \\\\\n",
       "\t 1     & 14.5  & 55.88 & 19.0  & 10.0  & 13.0  & 12   \\\\\n",
       "\t 1     & 15.5  & 58.42 & 20.0  & 13.5  & 15.0  & 12   \\\\\n",
       "\t 1     & 14.5  & 58.42 & 20.0  & 13.0  & 15.5  & 12   \\\\\n",
       "\t 1     & 14.0  & 60.96 & 21.0  & 12.0  & 14.0  & 13   \\\\\n",
       "\\end{tabular}\n"
      ],
      "text/markdown": [
       "\n",
       "| Group | V2 | V3 | V4 | V5 | V6 | V7 |\n",
       "|---|---|---|---|---|---|---|\n",
       "| 1     | 13.5  | 57.15 | 19.5  | 12.5  | 14.0  | 11    |\n",
       "| 1     | 15.5  | 58.42 | 21.0  | 12.0  | 16.0  | 12    |\n",
       "| 1     | 14.5  | 55.88 | 19.0  | 10.0  | 13.0  | 12    |\n",
       "| 1     | 15.5  | 58.42 | 20.0  | 13.5  | 15.0  | 12    |\n",
       "| 1     | 14.5  | 58.42 | 20.0  | 13.0  | 15.5  | 12    |\n",
       "| 1     | 14.0  | 60.96 | 21.0  | 12.0  | 14.0  | 13    |\n",
       "\n"
      ],
      "text/plain": [
       "  Group V2   V3    V4   V5   V6   V7\n",
       "1 1     13.5 57.15 19.5 12.5 14.0 11\n",
       "2 1     15.5 58.42 21.0 12.0 16.0 12\n",
       "3 1     14.5 55.88 19.0 10.0 13.0 12\n",
       "4 1     15.5 58.42 20.0 13.5 15.0 12\n",
       "5 1     14.5 58.42 20.0 13.0 15.5 12\n",
       "6 1     14.0 60.96 21.0 12.0 14.0 13"
      ]
     },
     "metadata": {},
     "output_type": "display_data"
    },
    {
     "data": {
      "text/html": [
       "<ol class=list-inline>\n",
       "\t<li>13.5</li>\n",
       "\t<li>15.5</li>\n",
       "\t<li>14.5</li>\n",
       "\t<li>15.5</li>\n",
       "\t<li>14.5</li>\n",
       "\t<li>14</li>\n",
       "</ol>\n"
      ],
      "text/latex": [
       "\\begin{enumerate*}\n",
       "\\item 13.5\n",
       "\\item 15.5\n",
       "\\item 14.5\n",
       "\\item 15.5\n",
       "\\item 14.5\n",
       "\\item 14\n",
       "\\end{enumerate*}\n"
      ],
      "text/markdown": [
       "1. 13.5\n",
       "2. 15.5\n",
       "3. 14.5\n",
       "4. 15.5\n",
       "5. 14.5\n",
       "6. 14\n",
       "\n",
       "\n"
      ],
      "text/plain": [
       "[1] 13.5 15.5 14.5 15.5 14.5 14.0"
      ]
     },
     "metadata": {},
     "output_type": "display_data"
    }
   ],
   "source": [
    "Foot<-read.table('T8_3_FOOTBALL.DAT', col.names = c('Group', 'V2', 'V3', 'V4', 'V5', 'V6','V7') )\n",
    "head(Foot)  \n",
    "x<- Foot$V2\n",
    "head(x)\n"
   ]
  },
  {
   "cell_type": "markdown",
   "id": "001b5d38",
   "metadata": {},
   "source": [
    "Див. https://www.rdocumentation.org/packages/stats/versions/3.6.2/topics/density"
   ]
  },
  {
   "cell_type": "code",
   "execution_count": 30,
   "id": "832858b5",
   "metadata": {},
   "outputs": [
    {
     "data": {
      "image/png": "[encoded data removed]",
      "text/plain": [
       "Plot with title \"density.default(x = x, kernel = c(\"gaussian\"))\""
      ]
     },
     "metadata": {},
     "output_type": "display_data"
    }
   ],
   "source": [
    "options(repr.plot.width=7, repr.plot.height=4)\n",
    "den<-density(x,  kernel = c(\"gaussian\"))\n",
    "plot(den)"
   ]
  },
  {
   "cell_type": "markdown",
   "id": "d911ff0c",
   "metadata": {},
   "source": [
    "Ми обрали \"gaussian\", але можна обрати і будь-який з множини \"gaussian\", \"epanechnikov\", \"rectangular\",\"triangular\", \"biweight\",  \"cosine\", \"optcosine\". Як ми бачимо, гаусівське ядро непогано апроксимує щільінсть. Наприклад, оберемо \n",
    "\"rectangular\". "
   ]
  },
  {
   "cell_type": "code",
   "execution_count": 31,
   "id": "4eca9812",
   "metadata": {},
   "outputs": [
    {
     "data": {
      "image/png": "[encoded data removed]",
      "text/plain": [
       "Plot with title \"density.default(x = x, kernel = \"rectangular\")\""
      ]
     },
     "metadata": {},
     "output_type": "display_data"
    }
   ],
   "source": [
    "den2<-density(x,  kernel = \"rectangular\")\n",
    "\n",
    "plot(den2)"
   ]
  },
  {
   "cell_type": "markdown",
   "id": "17b577a1",
   "metadata": {},
   "source": [
    "Перше наближення було явно кращим. \n",
    "\n",
    "Детальніше про  те, як будувати оцінку щільності \"вручну\",  можна почитати [тут](https://stackoverflow.com/questions/28077500/find-the-probability-density-of-a-new-data-point-using-density-function-in-r). "
   ]
  },
  {
   "cell_type": "markdown",
   "id": "59ad14b6",
   "metadata": {},
   "source": [
    "## Додаток. "
   ]
  },
  {
   "cell_type": "markdown",
   "id": "d9f10e90",
   "metadata": {},
   "source": [
    "\n",
    "Нехай \n",
    "$\\xi$ має щільність розподілу $f(y)$, та нехай  $N(y_0)$- кількість спостережень, що попали в інтервал  $(y_0-h, y_0+h)$.   Оскільки \n",
    "$$\n",
    "\\int_{y_0-h}^{y_0+h}  f(z)dz= \n",
    "P( y_0-h<\\xi\\leq y_0+h) \\asymp \\frac{N(y_0)}{n},\n",
    "$$\n",
    "то  \n",
    "$$\n",
    "\\hat{f}(y_0) \\asymp  \\frac{N(y_0)}{2hn}.\n",
    "$$\n",
    "Наша задача- оцінити  \n",
    "$N(y)$ за допомогою ядра $K(y)$, тому такі оцінки щільності називаються ядерними. \n",
    "\n",
    "Нехай \n",
    "$$\n",
    "K(u) =\n",
    "\\begin{cases}\n",
    "\t\\frac{1}{2}, & |u|\\leq 1; \\\\\n",
    "\t0, & |u|>1. \n",
    "\\end{cases}\n",
    "$$\n",
    " Тоді \n",
    " $$\n",
    " N(y_0)= 2 \\sum_{i=1}^n K \\left(\\frac{y_0-y_i}{h}\\right)\n",
    " $$\n",
    " підраховує кількість точок, які попали в інтервал $y_0-h\\leq y_i \\leq y_0+h$\n",
    " (якщо $|y_i-y_0|\\leq h$, то це як раз і означає, що точка $y_i$ попала в інтервал $y_0-h\\leq y_i \\leq y_0+h$). \n",
    "Тоді \n",
    "$$\n",
    "\\hat{f} (y_0)= \\frac{1}{nh} \\sum_{i=1}^n K \\left(\\frac{y_0-y_i}{h}\\right). \n",
    "$$\n",
    "Можні обирати і інші ядра. Наведемо кілька прикладів. \n",
    "\n",
    "Ядро Єпанчикова: \n",
    "$$\n",
    "K(u)= \\frac{3}{4} (1-x^2)1_{|x|\\leq 1}; \n",
    "$$\n",
    "Трикутне ядро: \n",
    "$$\n",
    "K(u)= (1-|u|) 1_{|u|\\leq 1}. \n",
    "$$\n",
    "Гаусівске ядро: \n",
    "$$\n",
    " K(u) = \\frac{e^{-u^2/2}}{\\sqrt{2\\pi}}. \n",
    "$$\n",
    "І ще одне ядро:\n",
    "$$\n",
    "K(u)= \\frac{1}{\\pi} \\frac{\\sin^2 u}{u^2}. \n",
    "$$\n",
    "\n",
    "У багатовимірному випадку оцінка щільності виглядає наступним чином: \n",
    "$$\n",
    "\\hat{f}(y_0)= \\frac{1}{n h_1 h_2\\dots h_p}  \\sum_{i=1}^n K \\left(\n",
    "\\frac{y_{01}- y_{i1}}{h_1}, \\frac{y_{02}- y_{i2}}{h_1}, \\dots, \\frac{y_{0p}- y_{ip}}{h_1}\\right). \n",
    "$$"
   ]
  },
  {
   "cell_type": "code",
   "execution_count": null,
   "id": "a4ff7ab8",
   "metadata": {},
   "outputs": [],
   "source": []
  }
 ],
 "metadata": {
  "kernelspec": {
   "display_name": "R",
   "language": "R",
   "name": "ir"
  },
  "language_info": {
   "codemirror_mode": "r",
   "file_extension": ".r",
   "mimetype": "text/x-r-source",
   "name": "R",
   "pygments_lexer": "r",
   "version": "3.6.1"
  }
 },
 "nbformat": 4,
 "nbformat_minor": 5
}
