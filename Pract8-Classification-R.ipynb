{
  "cells": [
    {
      "cell_type": "code",
      "source": [],
      "metadata": {
        "id": "vAvMx9v1QmyN"
      },
      "id": "vAvMx9v1QmyN",
      "execution_count": null,
      "outputs": []
    },
    {
      "cell_type": "markdown",
      "id": "b7936e34",
      "metadata": {
        "id": "b7936e34"
      },
      "source": [
        "## Практика 8: Класифікація.\n",
        "\n",
        "### Приклад 1.\n",
        "\n",
        "Див. посилання [тут](https://duttashi.github.io/blog/splitting-a-data-frame-into-training-and-testing-sets-in-r/) і\n",
        "[тут](https://www.analyticsvidhya.com/blog/2021/08/a-brief-introduction-to-linear-discriminant-analysis/).\n",
        "\n",
        "Якщо ще не встановлені, встановимо наступні пакети та завантажимо бібліотеки."
      ]
    },
    {
      "cell_type": "code",
      "execution_count": null,
      "id": "e21a078f",
      "metadata": {
        "id": "e21a078f"
      },
      "outputs": [],
      "source": [
        "library(MASS)"
      ]
    },
    {
      "cell_type": "code",
      "source": [
        "from google.colab import drive\n",
        "drive.mount('/content/drive')"
      ],
      "metadata": {
        "id": "HTPjpfD-RAKU",
        "outputId": "74484dc6-522c-4dd6-effe-d5923d6edee8",
        "colab": {
          "base_uri": "https://localhost:8080/"
        }
      },
      "id": "HTPjpfD-RAKU",
      "execution_count": null,
      "outputs": [
        {
          "output_type": "stream",
          "name": "stdout",
          "text": [
            "Mounted at /content/drive\n"
          ]
        }
      ]
    },
    {
      "cell_type": "code",
      "execution_count": null,
      "id": "64e820f7",
      "metadata": {
        "id": "64e820f7",
        "outputId": "38bd0f97-c1d6-4cf6-fb09-0128ecccde1e",
        "colab": {
          "base_uri": "https://localhost:8080/"
        }
      },
      "outputs": [
        {
          "output_type": "stream",
          "name": "stderr",
          "text": [
            "Installing package into ‘/usr/local/lib/R/site-library’\n",
            "(as ‘lib’ is unspecified)\n",
            "\n",
            "also installing the dependency ‘proxy’\n",
            "\n",
            "\n",
            "Installing package into ‘/usr/local/lib/R/site-library’\n",
            "(as ‘lib’ is unspecified)\n",
            "\n",
            "also installing the dependency ‘bitops’\n",
            "\n",
            "\n",
            "Installing package into ‘/usr/local/lib/R/site-library’\n",
            "(as ‘lib’ is unspecified)\n",
            "\n",
            "also installing the dependencies ‘listenv’, ‘parallelly’, ‘future’, ‘globals’, ‘shape’, ‘future.apply’, ‘numDeriv’, ‘progressr’, ‘SQUAREM’, ‘diagram’, ‘lava’, ‘prodlim’, ‘iterators’, ‘Rcpp’, ‘clock’, ‘gower’, ‘hardhat’, ‘ipred’, ‘timeDate’, ‘foreach’, ‘ModelMetrics’, ‘plyr’, ‘pROC’, ‘recipes’, ‘reshape2’\n",
            "\n",
            "\n"
          ]
        }
      ],
      "source": [
        "install.packages(\"e1071\")\n",
        "install.packages(\"caTools\")\n",
        "install.packages(\"caret\")"
      ]
    },
    {
      "cell_type": "code",
      "execution_count": null,
      "id": "23bdf612",
      "metadata": {
        "id": "23bdf612"
      },
      "outputs": [],
      "source": [
        "library(e1071)\n",
        "library(caTools)\n",
        "# library(caret)"
      ]
    },
    {
      "cell_type": "code",
      "execution_count": null,
      "id": "66e0883a",
      "metadata": {
        "id": "66e0883a"
      },
      "outputs": [],
      "source": [
        "library(ggplot2)"
      ]
    },
    {
      "cell_type": "markdown",
      "id": "da7d4987",
      "metadata": {
        "id": "da7d4987"
      },
      "source": [
        "### Приклад 1.\n",
        "\n",
        "Завантажимо таблицю, в якій наведені вимірювання 2х типів жуків (для простоти позначимо вимірювання через колонки V3--V6)."
      ]
    },
    {
      "cell_type": "code",
      "execution_count": null,
      "id": "9ee5b397",
      "metadata": {
        "id": "9ee5b397",
        "outputId": "8bdadc24-c324-421d-f60e-29d3f7f8e620",
        "colab": {
          "base_uri": "https://localhost:8080/",
          "height": 286
        }
      },
      "outputs": [
        {
          "output_type": "display_data",
          "data": {
            "text/html": [
              "<table class=\"dataframe\">\n",
              "<caption>A data.frame: 6 × 6</caption>\n",
              "<thead>\n",
              "\t<tr><th></th><th scope=col>Measurement.Number</th><th scope=col>Species</th><th scope=col>V3</th><th scope=col>V4</th><th scope=col>V5</th><th scope=col>V6</th></tr>\n",
              "\t<tr><th></th><th scope=col>&lt;int&gt;</th><th scope=col>&lt;int&gt;</th><th scope=col>&lt;int&gt;</th><th scope=col>&lt;int&gt;</th><th scope=col>&lt;int&gt;</th><th scope=col>&lt;int&gt;</th></tr>\n",
              "</thead>\n",
              "<tbody>\n",
              "\t<tr><th scope=row>1</th><td>1</td><td>1</td><td>189</td><td>245</td><td>137</td><td>163</td></tr>\n",
              "\t<tr><th scope=row>2</th><td>2</td><td>1</td><td>192</td><td>260</td><td>132</td><td>217</td></tr>\n",
              "\t<tr><th scope=row>3</th><td>3</td><td>1</td><td>217</td><td>276</td><td>141</td><td>192</td></tr>\n",
              "\t<tr><th scope=row>4</th><td>4</td><td>1</td><td>221</td><td>299</td><td>142</td><td>213</td></tr>\n",
              "\t<tr><th scope=row>5</th><td>5</td><td>1</td><td>171</td><td>239</td><td>128</td><td>158</td></tr>\n",
              "\t<tr><th scope=row>6</th><td>6</td><td>1</td><td>192</td><td>262</td><td>147</td><td>173</td></tr>\n",
              "</tbody>\n",
              "</table>\n"
            ],
            "text/markdown": "\nA data.frame: 6 × 6\n\n| <!--/--> | Measurement.Number &lt;int&gt; | Species &lt;int&gt; | V3 &lt;int&gt; | V4 &lt;int&gt; | V5 &lt;int&gt; | V6 &lt;int&gt; |\n|---|---|---|---|---|---|---|\n| 1 | 1 | 1 | 189 | 245 | 137 | 163 |\n| 2 | 2 | 1 | 192 | 260 | 132 | 217 |\n| 3 | 3 | 1 | 217 | 276 | 141 | 192 |\n| 4 | 4 | 1 | 221 | 299 | 142 | 213 |\n| 5 | 5 | 1 | 171 | 239 | 128 | 158 |\n| 6 | 6 | 1 | 192 | 262 | 147 | 173 |\n\n",
            "text/latex": "A data.frame: 6 × 6\n\\begin{tabular}{r|llllll}\n  & Measurement.Number & Species & V3 & V4 & V5 & V6\\\\\n  & <int> & <int> & <int> & <int> & <int> & <int>\\\\\n\\hline\n\t1 & 1 & 1 & 189 & 245 & 137 & 163\\\\\n\t2 & 2 & 1 & 192 & 260 & 132 & 217\\\\\n\t3 & 3 & 1 & 217 & 276 & 141 & 192\\\\\n\t4 & 4 & 1 & 221 & 299 & 142 & 213\\\\\n\t5 & 5 & 1 & 171 & 239 & 128 & 158\\\\\n\t6 & 6 & 1 & 192 & 262 & 147 & 173\\\\\n\\end{tabular}\n",
            "text/plain": [
              "  Measurement.Number Species V3  V4  V5  V6 \n",
              "1 1                  1       189 245 137 163\n",
              "2 2                  1       192 260 132 217\n",
              "3 3                  1       217 276 141 192\n",
              "4 4                  1       221 299 142 213\n",
              "5 5                  1       171 239 128 158\n",
              "6 6                  1       192 262 147 173"
            ]
          },
          "metadata": {}
        }
      ],
      "source": [
        "beetles <- read.table('/content/drive/MyDrive/RScripts/T5_5_FBEETLES.DAT',\n",
        "   col.names = c('Measurement.Number','Species','V3','V4','V5','V6'))\n",
        "head(beetles)"
      ]
    },
    {
      "cell_type": "markdown",
      "id": "ac084d38",
      "metadata": {
        "id": "ac084d38"
      },
      "source": [
        "Розділимо цю таблиці на 2 за принципом: якщо  Species = 1, то це перша група, якщо  Species = 2- то друга."
      ]
    },
    {
      "cell_type": "code",
      "execution_count": null,
      "id": "b30d69b5",
      "metadata": {
        "id": "b30d69b5"
      },
      "outputs": [],
      "source": [
        "beetle1 <- beetles[beetles$Species == 1,][,3:6]\n",
        "beetle2 <- beetles[beetles$Species == 2,][,3:6]"
      ]
    },
    {
      "cell_type": "markdown",
      "id": "9c9afe4d",
      "metadata": {
        "id": "9c9afe4d"
      },
      "source": [
        "Знайдемо середні значення $\\hat{\\mu}_1, \\hat{\\mu}_2$ та зважену коваріацію  \n",
        "$$\n",
        "S_{pl} = \\frac{(n_1-1)S_1 + (n_2-1)S_2}{n_1+n_2-2}.\n",
        "$$\n",
        "Нагадаємо,  що 2 в функції apply означає, що ми сумуємо по стовбчикам."
      ]
    },
    {
      "cell_type": "code",
      "execution_count": null,
      "id": "af806cb1",
      "metadata": {
        "id": "af806cb1"
      },
      "outputs": [],
      "source": [
        "n1 <- nrow(beetle1)\n",
        "n2 <- nrow(beetle2)\n",
        "\n",
        "beetle1.means <- apply(beetle1, 2, mean)\n",
        "beetle2.means <- apply(beetle2, 2, mean)\n",
        "\n",
        "w1 <- (n1 - 1) * var(beetle1)\n",
        "w2 <- (n2 - 1) * var(beetle2)\n",
        "\n",
        "sp1 <- (w1 + w2)/(n1 + n2 - 2)"
      ]
    },
    {
      "cell_type": "markdown",
      "id": "123df19f",
      "metadata": {
        "id": "123df19f"
      },
      "source": [
        "Позначимо через   cutoff середнє значення, за допомогою якого ми будемо визначати, до якої групи належить  випробування:\n",
        "$(a'(y_1-y_2))^2/|a|^2$\n",
        "$z_i = a' y_i$\n",
        "$$\n",
        "cutoff = \\frac{1}{2} (\\hat{\\mu}_1- \\hat{\\mu}_2)' S_{pl}^{-1}(\\hat{\\mu}_1+\\hat{\\mu}_2)= \\frac12 (a' (\\hat{\\mu}_1+ \\hat{\\mu}_2)).\n",
        "$$"
      ]
    },
    {
      "cell_type": "code",
      "execution_count": null,
      "id": "7f29d44d",
      "metadata": {
        "id": "7f29d44d",
        "outputId": "29bcc9b3-ee7f-4d34-e48a-420256f36992",
        "colab": {
          "base_uri": "https://localhost:8080/",
          "height": 100
        }
      },
      "outputs": [
        {
          "output_type": "display_data",
          "data": {
            "text/html": [
              "<table class=\"dataframe\">\n",
              "<caption>A matrix: 1 × 1 of type dbl</caption>\n",
              "<tbody>\n",
              "\t<tr><td>-15.80538</td></tr>\n",
              "</tbody>\n",
              "</table>\n"
            ],
            "text/markdown": "\nA matrix: 1 × 1 of type dbl\n\n| -15.80538 |\n\n",
            "text/latex": "A matrix: 1 × 1 of type dbl\n\\begin{tabular}{l}\n\t -15.80538\\\\\n\\end{tabular}\n",
            "text/plain": [
              "     [,1]     \n",
              "[1,] -15.80538"
            ]
          },
          "metadata": {}
        }
      ],
      "source": [
        "cutoff <- 0.5 * (beetle1.means - beetle2.means) %*% solve(sp1) %*% (beetle1.means + beetle2.means)\n",
        "cutoff"
      ]
    },
    {
      "cell_type": "markdown",
      "id": "5a09e358",
      "metadata": {
        "id": "5a09e358"
      },
      "source": [
        "Обчислюємо\n",
        "$$\n",
        "z = (\\hat{\\mu}_1- \\hat{\\mu}_2)' S_{pl}^{-1}y.\n",
        "$$"
      ]
    },
    {
      "cell_type": "code",
      "execution_count": null,
      "id": "8cde4253",
      "metadata": {
        "id": "8cde4253",
        "outputId": "309cbf3c-47f4-41d9-fee2-6945581a85a2",
        "colab": {
          "base_uri": "https://localhost:8080/",
          "height": 100
        }
      },
      "outputs": [
        {
          "output_type": "display_data",
          "data": {
            "text/html": [
              "<table class=\"dataframe\">\n",
              "<caption>A matrix: 1 × 1 of type dbl</caption>\n",
              "<tbody>\n",
              "\t<tr><td>-8.955378</td></tr>\n",
              "</tbody>\n",
              "</table>\n"
            ],
            "text/markdown": "\nA matrix: 1 × 1 of type dbl\n\n| -8.955378 |\n\n",
            "text/latex": "A matrix: 1 × 1 of type dbl\n\\begin{tabular}{l}\n\t -8.955378\\\\\n\\end{tabular}\n",
            "text/plain": [
              "     [,1]     \n",
              "[1,] -8.955378"
            ]
          },
          "metadata": {}
        }
      ],
      "source": [
        "(beetle1.means - beetle2.means) %*% solve(sp1) %*% beetle1.means"
      ]
    },
    {
      "cell_type": "code",
      "execution_count": null,
      "id": "f05fe633",
      "metadata": {
        "id": "f05fe633",
        "outputId": "c59061f7-13e5-4cec-b439-e851e7d7db1f",
        "colab": {
          "base_uri": "https://localhost:8080/",
          "height": 100
        }
      },
      "outputs": [
        {
          "output_type": "display_data",
          "data": {
            "text/html": [
              "<table class=\"dataframe\">\n",
              "<caption>A matrix: 1 × 1 of type dbl</caption>\n",
              "<tbody>\n",
              "\t<tr><td>-22.65539</td></tr>\n",
              "</tbody>\n",
              "</table>\n"
            ],
            "text/markdown": "\nA matrix: 1 × 1 of type dbl\n\n| -22.65539 |\n\n",
            "text/latex": "A matrix: 1 × 1 of type dbl\n\\begin{tabular}{l}\n\t -22.65539\\\\\n\\end{tabular}\n",
            "text/plain": [
              "     [,1]     \n",
              "[1,] -22.65539"
            ]
          },
          "metadata": {}
        }
      ],
      "source": [
        "(beetle1.means - beetle2.means) %*% solve(sp1) %*% beetle2.means"
      ]
    },
    {
      "cell_type": "markdown",
      "id": "10625110",
      "metadata": {
        "id": "10625110"
      },
      "source": [
        "Якщо  z>cutoff= - 15.81,  то ми класифікуємо спостереження до першої групи, якшо ні- то до другої (якщо $a'\\mu_1>a'\\mu_2$, як у нащому випадку)"
      ]
    },
    {
      "cell_type": "code",
      "execution_count": null,
      "id": "ecba9667",
      "metadata": {
        "id": "ecba9667"
      },
      "outputs": [],
      "source": [
        "species.prediction <- apply(beetles[,3:6], 1, function(y)\n",
        "    {z <- (beetle1.means - beetle2.means) %*% solve(sp1) %*% y\n",
        "     ifelse(z > cutoff, 1, 2)})"
      ]
    },
    {
      "cell_type": "markdown",
      "id": "72027ff9",
      "metadata": {
        "id": "72027ff9"
      },
      "source": [
        "Розглянемо матрицю змішування (confusion matrix), яка показує, наскільки якісно ми віднесли елементи до тієї чи іншої групи."
      ]
    },
    {
      "cell_type": "code",
      "execution_count": null,
      "id": "42607a6b",
      "metadata": {
        "id": "42607a6b",
        "outputId": "f3231655-b61f-42c7-b548-f331335cfd22",
        "colab": {
          "base_uri": "https://localhost:8080/",
          "height": 89
        }
      },
      "outputs": [
        {
          "output_type": "display_data",
          "data": {
            "text/plain": [
              "            Predicted Group\n",
              "Actual Group  1  2\n",
              "           1 19  0\n",
              "           2  1 19"
            ]
          },
          "metadata": {}
        }
      ],
      "source": [
        "table(beetles$Species, species.prediction, dnn = c('Actual Group','Predicted Group'))"
      ]
    },
    {
      "cell_type": "markdown",
      "id": "716a7451",
      "metadata": {
        "id": "716a7451"
      },
      "source": [
        "Ми класифікували вірно всі спостереження, які відносяться до першої групи, але помилково класифікували одне спостереження з другої групи.  Похибка класифікації- це кількість хибних класифікацій поділити на кількість елементів у вибірці.  "
      ]
    },
    {
      "cell_type": "code",
      "execution_count": null,
      "id": "f67e241a",
      "metadata": {
        "id": "f67e241a",
        "outputId": "d7b7302c-c391-4f2a-f427-f1f4ec82f635",
        "colab": {
          "base_uri": "https://localhost:8080/",
          "height": 34
        }
      },
      "outputs": [
        {
          "output_type": "display_data",
          "data": {
            "text/html": [
              "39"
            ],
            "text/markdown": "39",
            "text/latex": "39",
            "text/plain": [
              "[1] 39"
            ]
          },
          "metadata": {}
        }
      ],
      "source": [
        "n <- dim(beetles)[1]\n",
        "n"
      ]
    },
    {
      "cell_type": "markdown",
      "id": "855f089f",
      "metadata": {
        "id": "855f089f"
      },
      "source": [
        "Тобто $1 / n= 0.02564103$. Як ми бачимо, навіть при малому об'ємі виборки похибка невірної класифікації 2ї групи  є досить малою."
      ]
    },
    {
      "cell_type": "markdown",
      "id": "e2fec912",
      "metadata": {
        "id": "e2fec912"
      },
      "source": [
        "Для того, щоб зробити класифікацію за допомогою вбудованої функції, використаємо функцію lda() з пакету  MASS."
      ]
    },
    {
      "cell_type": "code",
      "execution_count": null,
      "id": "83fdab54",
      "metadata": {
        "id": "83fdab54",
        "outputId": "e7c49b3f-cb9a-4389-99b0-17da59db1cf7",
        "colab": {
          "base_uri": "https://localhost:8080/",
          "height": 89
        }
      },
      "outputs": [
        {
          "output_type": "display_data",
          "data": {
            "text/plain": [
              "            Predicted Group\n",
              "Actual Group  1  2\n",
              "           1 19  0\n",
              "           2  1 19"
            ]
          },
          "metadata": {}
        }
      ],
      "source": [
        "beetle.lda <- lda(Species ~ .-Measurement.Number, data = beetles)\n",
        "lda.pred <- predict(beetle.lda)$class\n",
        "table(beetles$Species, lda.pred, dnn = c('Actual Group','Predicted Group'))"
      ]
    },
    {
      "cell_type": "code",
      "execution_count": null,
      "id": "e58b894a",
      "metadata": {
        "id": "e58b894a",
        "outputId": "099d7551-a73a-44b3-c06e-c900738e6fa3",
        "colab": {
          "base_uri": "https://localhost:8080/",
          "height": 69
        }
      },
      "outputs": [
        {
          "output_type": "display_data",
          "data": {
            "text/html": [
              "<style>\n",
              ".list-inline {list-style: none; margin:0; padding: 0}\n",
              ".list-inline>li {display: inline-block}\n",
              ".list-inline>li:not(:last-child)::after {content: \"\\00b7\"; padding: 0 .5ex}\n",
              "</style>\n",
              "<ol class=list-inline><li>1</li><li>1</li><li>1</li><li>1</li><li>1</li><li>1</li><li>1</li><li>1</li><li>1</li><li>1</li><li>1</li><li>1</li><li>1</li><li>1</li><li>1</li><li>1</li><li>1</li><li>1</li><li>1</li><li>2</li><li>2</li><li>2</li><li>2</li><li>2</li><li>2</li><li>2</li><li>1</li><li>2</li><li>2</li><li>2</li><li>2</li><li>2</li><li>2</li><li>2</li><li>2</li><li>2</li><li>2</li><li>2</li><li>2</li></ol>\n",
              "\n",
              "<details>\n",
              "\t<summary style=display:list-item;cursor:pointer>\n",
              "\t\t<strong>Levels</strong>:\n",
              "\t</summary>\n",
              "\t<style>\n",
              "\t.list-inline {list-style: none; margin:0; padding: 0}\n",
              "\t.list-inline>li {display: inline-block}\n",
              "\t.list-inline>li:not(:last-child)::after {content: \"\\00b7\"; padding: 0 .5ex}\n",
              "\t</style>\n",
              "\t<ol class=list-inline><li>'1'</li><li>'2'</li></ol>\n",
              "</details>"
            ],
            "text/markdown": "1. 1\n2. 1\n3. 1\n4. 1\n5. 1\n6. 1\n7. 1\n8. 1\n9. 1\n10. 1\n11. 1\n12. 1\n13. 1\n14. 1\n15. 1\n16. 1\n17. 1\n18. 1\n19. 1\n20. 2\n21. 2\n22. 2\n23. 2\n24. 2\n25. 2\n26. 2\n27. 1\n28. 2\n29. 2\n30. 2\n31. 2\n32. 2\n33. 2\n34. 2\n35. 2\n36. 2\n37. 2\n38. 2\n39. 2\n\n\n\n**Levels**: 1. '1'\n2. '2'\n\n\n",
            "text/latex": "\\begin{enumerate*}\n\\item 1\n\\item 1\n\\item 1\n\\item 1\n\\item 1\n\\item 1\n\\item 1\n\\item 1\n\\item 1\n\\item 1\n\\item 1\n\\item 1\n\\item 1\n\\item 1\n\\item 1\n\\item 1\n\\item 1\n\\item 1\n\\item 1\n\\item 2\n\\item 2\n\\item 2\n\\item 2\n\\item 2\n\\item 2\n\\item 2\n\\item 1\n\\item 2\n\\item 2\n\\item 2\n\\item 2\n\\item 2\n\\item 2\n\\item 2\n\\item 2\n\\item 2\n\\item 2\n\\item 2\n\\item 2\n\\end{enumerate*}\n\n\\emph{Levels}: \\begin{enumerate*}\n\\item '1'\n\\item '2'\n\\end{enumerate*}\n",
            "text/plain": [
              " [1] 1 1 1 1 1 1 1 1 1 1 1 1 1 1 1 1 1 1 1 2 2 2 2 2 2 2 1 2 2 2 2 2 2 2 2 2 2 2\n",
              "[39] 2\n",
              "Levels: 1 2"
            ]
          },
          "metadata": {}
        }
      ],
      "source": [
        "lda.pred"
      ]
    },
    {
      "cell_type": "markdown",
      "id": "4e20e412",
      "metadata": {
        "id": "4e20e412"
      },
      "source": [
        "Матриця змішання демонструє співвідношення результату  класифікації  та фактичної належності до тієї чи іншої групи."
      ]
    },
    {
      "cell_type": "markdown",
      "id": "01c6c95b",
      "metadata": {
        "id": "01c6c95b"
      },
      "source": [
        "Виконаємо тепер байєсівську класифікацію. Введемо апріорні ймовірності наступним чином: використаємое відності частоти, тобто  $p1= 19/39$, $p2 = 20/39$."
      ]
    },
    {
      "cell_type": "code",
      "execution_count": null,
      "id": "5ea8c776",
      "metadata": {
        "id": "5ea8c776"
      },
      "outputs": [],
      "source": [
        "p1 <- 19/39\n",
        "p2 <- 20/39"
      ]
    },
    {
      "cell_type": "markdown",
      "id": "aca33b6b",
      "metadata": {
        "id": "aca33b6b"
      },
      "source": [
        "Визначимо лінійну дискримінантну функцію\n",
        "$$\n",
        "L(y) := (\\boldsymbol{\\mu}_1 -\\boldsymbol{\\mu}_2)'\\Sigma^{-1}\\boldsymbol{y}-  \\frac{1}{2} (\\boldsymbol{\\mu}_1 -\\boldsymbol{\\mu}_2)' \\Sigma^{-1} (\\boldsymbol{\\mu}_1+\\boldsymbol{\\mu}_2) + \\ln \\frac{p_2}{p_1}.\n",
        "$$\n",
        "За гіпотези $H_0$ :  спостереження у 1й групі. Тоді  $L(y)>0$."
      ]
    },
    {
      "cell_type": "code",
      "execution_count": null,
      "id": "1d715ddb",
      "metadata": {
        "id": "1d715ddb"
      },
      "outputs": [],
      "source": [
        "L <- function(y){ t(beetle1.means-beetle2.means) %*% solve(sp1) %*% y\n",
        "                 - 0.5* t(beetle1.means-beetle2.means) %*% solve(sp1) %*% (beetle1.means+beetle2.means) + log(p2/p1)}"
      ]
    },
    {
      "cell_type": "markdown",
      "id": "f909b84a",
      "metadata": {
        "id": "f909b84a"
      },
      "source": [
        "Введемо тепер вектор і спробуємо його класифікувати:"
      ]
    },
    {
      "cell_type": "code",
      "execution_count": null,
      "id": "fd5f15a9",
      "metadata": {
        "id": "fd5f15a9"
      },
      "outputs": [],
      "source": [
        "y <- c(180,230,140,170)"
      ]
    },
    {
      "cell_type": "markdown",
      "id": "8dd4da5a",
      "metadata": {
        "id": "8dd4da5a"
      },
      "source": [
        "Обчислимо $L(y)$ (замість $\\mu_1$, $\\mu_2$, $\\Sigma$ підставимо їх оцінки)."
      ]
    },
    {
      "cell_type": "code",
      "execution_count": null,
      "id": "d2991db7",
      "metadata": {
        "id": "d2991db7",
        "outputId": "60824827-fbb4-48dd-a800-2d911f31683a",
        "colab": {
          "base_uri": "https://localhost:8080/",
          "height": 100
        }
      },
      "outputs": [
        {
          "output_type": "display_data",
          "data": {
            "text/html": [
              "<table class=\"dataframe\">\n",
              "<caption>A matrix: 1 × 1 of type dbl</caption>\n",
              "<tbody>\n",
              "\t<tr><td>15.85668</td></tr>\n",
              "</tbody>\n",
              "</table>\n"
            ],
            "text/markdown": "\nA matrix: 1 × 1 of type dbl\n\n| 15.85668 |\n\n",
            "text/latex": "A matrix: 1 × 1 of type dbl\n\\begin{tabular}{l}\n\t 15.85668\\\\\n\\end{tabular}\n",
            "text/plain": [
              "     [,1]    \n",
              "[1,] 15.85668"
            ]
          },
          "metadata": {}
        }
      ],
      "source": [
        "L(y)"
      ]
    },
    {
      "cell_type": "markdown",
      "id": "6df82839",
      "metadata": {
        "id": "6df82839"
      },
      "source": [
        "Оскільки $L(y)>0$, то ви відносимо наше спостеореження до 1ї групи. Зауважимо, що класифікація за допомогої дискримінантної функції дає такий самий результат."
      ]
    },
    {
      "cell_type": "markdown",
      "id": "0e283efd",
      "metadata": {
        "id": "0e283efd"
      },
      "source": [
        "### Приклад 2.\n",
        "\n",
        "Байєсівська класифікація, Iris"
      ]
    },
    {
      "cell_type": "markdown",
      "id": "15193e3c",
      "metadata": {
        "id": "15193e3c"
      },
      "source": [
        "Продемонструємо, як виконати класифікацію на прикладі  Iris dataset. Цей датасет містить три різновиди квітів  (setosa,viriginica,versicolor)\n",
        "та  4 їх показники (довжина стебла, ширина стебла, довжина пелюстака, ширина пелюстка) (англійсьокою: Sepal.Length, Sepal.Width, Petal.Length, Petal.Width). Ці показники виміряно для кожної квітки."
      ]
    },
    {
      "cell_type": "code",
      "execution_count": null,
      "id": "6789f5dc",
      "metadata": {
        "id": "6789f5dc",
        "outputId": "32bc3a30-c033-4897-aa6f-13ed1d6a6400",
        "colab": {
          "base_uri": "https://localhost:8080/",
          "height": 286
        }
      },
      "outputs": [
        {
          "output_type": "display_data",
          "data": {
            "text/html": [
              "<table class=\"dataframe\">\n",
              "<caption>A data.frame: 6 × 5</caption>\n",
              "<thead>\n",
              "\t<tr><th></th><th scope=col>Sepal.Length</th><th scope=col>Sepal.Width</th><th scope=col>Petal.Length</th><th scope=col>Petal.Width</th><th scope=col>Species</th></tr>\n",
              "\t<tr><th></th><th scope=col>&lt;dbl&gt;</th><th scope=col>&lt;dbl&gt;</th><th scope=col>&lt;dbl&gt;</th><th scope=col>&lt;dbl&gt;</th><th scope=col>&lt;fct&gt;</th></tr>\n",
              "</thead>\n",
              "<tbody>\n",
              "\t<tr><th scope=row>1</th><td>5.1</td><td>3.5</td><td>1.4</td><td>0.2</td><td>setosa</td></tr>\n",
              "\t<tr><th scope=row>2</th><td>4.9</td><td>3.0</td><td>1.4</td><td>0.2</td><td>setosa</td></tr>\n",
              "\t<tr><th scope=row>3</th><td>4.7</td><td>3.2</td><td>1.3</td><td>0.2</td><td>setosa</td></tr>\n",
              "\t<tr><th scope=row>4</th><td>4.6</td><td>3.1</td><td>1.5</td><td>0.2</td><td>setosa</td></tr>\n",
              "\t<tr><th scope=row>5</th><td>5.0</td><td>3.6</td><td>1.4</td><td>0.2</td><td>setosa</td></tr>\n",
              "\t<tr><th scope=row>6</th><td>5.4</td><td>3.9</td><td>1.7</td><td>0.4</td><td>setosa</td></tr>\n",
              "</tbody>\n",
              "</table>\n"
            ],
            "text/markdown": "\nA data.frame: 6 × 5\n\n| <!--/--> | Sepal.Length &lt;dbl&gt; | Sepal.Width &lt;dbl&gt; | Petal.Length &lt;dbl&gt; | Petal.Width &lt;dbl&gt; | Species &lt;fct&gt; |\n|---|---|---|---|---|---|\n| 1 | 5.1 | 3.5 | 1.4 | 0.2 | setosa |\n| 2 | 4.9 | 3.0 | 1.4 | 0.2 | setosa |\n| 3 | 4.7 | 3.2 | 1.3 | 0.2 | setosa |\n| 4 | 4.6 | 3.1 | 1.5 | 0.2 | setosa |\n| 5 | 5.0 | 3.6 | 1.4 | 0.2 | setosa |\n| 6 | 5.4 | 3.9 | 1.7 | 0.4 | setosa |\n\n",
            "text/latex": "A data.frame: 6 × 5\n\\begin{tabular}{r|lllll}\n  & Sepal.Length & Sepal.Width & Petal.Length & Petal.Width & Species\\\\\n  & <dbl> & <dbl> & <dbl> & <dbl> & <fct>\\\\\n\\hline\n\t1 & 5.1 & 3.5 & 1.4 & 0.2 & setosa\\\\\n\t2 & 4.9 & 3.0 & 1.4 & 0.2 & setosa\\\\\n\t3 & 4.7 & 3.2 & 1.3 & 0.2 & setosa\\\\\n\t4 & 4.6 & 3.1 & 1.5 & 0.2 & setosa\\\\\n\t5 & 5.0 & 3.6 & 1.4 & 0.2 & setosa\\\\\n\t6 & 5.4 & 3.9 & 1.7 & 0.4 & setosa\\\\\n\\end{tabular}\n",
            "text/plain": [
              "  Sepal.Length Sepal.Width Petal.Length Petal.Width Species\n",
              "1 5.1          3.5         1.4          0.2         setosa \n",
              "2 4.9          3.0         1.4          0.2         setosa \n",
              "3 4.7          3.2         1.3          0.2         setosa \n",
              "4 4.6          3.1         1.5          0.2         setosa \n",
              "5 5.0          3.6         1.4          0.2         setosa \n",
              "6 5.4          3.9         1.7          0.4         setosa "
            ]
          },
          "metadata": {}
        }
      ],
      "source": [
        "data(iris)\n",
        "head(iris)"
      ]
    },
    {
      "cell_type": "markdown",
      "id": "6f899b5f",
      "metadata": {
        "id": "6f899b5f"
      },
      "source": [
        "Розіб'ємо дані на дві групи: тренувальну та тестову множини. Пропорцію розбиття (SplitRatio) візьмемо\n",
        " 0.7, тобто з 150 квіток у нас $70\\%$ квітів знаходиться в тренувальній множині, а  $30\\%$ в тестовій."
      ]
    },
    {
      "cell_type": "code",
      "execution_count": null,
      "id": "cc93e60c",
      "metadata": {
        "id": "cc93e60c",
        "outputId": "1d8e8510-8149-4c9d-8155-49841064ae61",
        "colab": {
          "base_uri": "https://localhost:8080/",
          "height": 225
        }
      },
      "outputs": [
        {
          "output_type": "display_data",
          "data": {
            "text/html": [
              "<style>\n",
              ".list-inline {list-style: none; margin:0; padding: 0}\n",
              ".list-inline>li {display: inline-block}\n",
              ".list-inline>li:not(:last-child)::after {content: \"\\00b7\"; padding: 0 .5ex}\n",
              "</style>\n",
              "<ol class=list-inline><li>TRUE</li><li>FALSE</li><li>TRUE</li><li>TRUE</li><li>FALSE</li><li>TRUE</li><li>FALSE</li><li>TRUE</li><li>TRUE</li><li>FALSE</li><li>TRUE</li><li>FALSE</li><li>TRUE</li><li>TRUE</li><li>FALSE</li><li>TRUE</li><li>FALSE</li><li>TRUE</li><li>TRUE</li><li>FALSE</li><li>TRUE</li><li>FALSE</li><li>TRUE</li><li>TRUE</li><li>FALSE</li><li>TRUE</li><li>FALSE</li><li>TRUE</li><li>TRUE</li><li>FALSE</li><li>TRUE</li><li>FALSE</li><li>TRUE</li><li>TRUE</li><li>FALSE</li><li>TRUE</li><li>FALSE</li><li>TRUE</li><li>TRUE</li><li>FALSE</li><li>TRUE</li><li>FALSE</li><li>TRUE</li><li>TRUE</li><li>FALSE</li><li>TRUE</li><li>FALSE</li><li>TRUE</li><li>TRUE</li><li>FALSE</li><li>TRUE</li><li>FALSE</li><li>TRUE</li><li>TRUE</li><li>FALSE</li><li>TRUE</li><li>FALSE</li><li>TRUE</li><li>TRUE</li><li>FALSE</li><li>TRUE</li><li>FALSE</li><li>TRUE</li><li>TRUE</li><li>FALSE</li><li>TRUE</li><li>FALSE</li><li>TRUE</li><li>TRUE</li><li>FALSE</li><li>TRUE</li><li>FALSE</li><li>TRUE</li><li>TRUE</li><li>FALSE</li><li>TRUE</li><li>FALSE</li><li>TRUE</li><li>TRUE</li><li>FALSE</li><li>TRUE</li><li>FALSE</li><li>TRUE</li><li>TRUE</li><li>FALSE</li><li>TRUE</li><li>FALSE</li><li>TRUE</li><li>TRUE</li><li>FALSE</li><li>TRUE</li><li>FALSE</li><li>TRUE</li><li>TRUE</li><li>FALSE</li><li>TRUE</li><li>FALSE</li><li>TRUE</li><li>TRUE</li><li>FALSE</li><li>TRUE</li><li>FALSE</li><li>TRUE</li><li>TRUE</li><li>FALSE</li><li>TRUE</li><li>FALSE</li><li>TRUE</li><li>TRUE</li><li>FALSE</li><li>TRUE</li><li>FALSE</li><li>TRUE</li><li>TRUE</li><li>FALSE</li><li>TRUE</li><li>FALSE</li><li>TRUE</li><li>TRUE</li><li>FALSE</li><li>TRUE</li><li>FALSE</li><li>TRUE</li><li>TRUE</li><li>FALSE</li><li>TRUE</li><li>FALSE</li><li>TRUE</li><li>TRUE</li><li>FALSE</li><li>TRUE</li><li>FALSE</li><li>TRUE</li><li>TRUE</li><li>FALSE</li><li>TRUE</li><li>FALSE</li><li>TRUE</li><li>TRUE</li><li>FALSE</li><li>TRUE</li><li>FALSE</li><li>TRUE</li><li>TRUE</li><li>FALSE</li><li>TRUE</li><li>FALSE</li><li>TRUE</li><li>TRUE</li><li>FALSE</li></ol>\n"
            ],
            "text/markdown": "1. TRUE\n2. FALSE\n3. TRUE\n4. TRUE\n5. FALSE\n6. TRUE\n7. FALSE\n8. TRUE\n9. TRUE\n10. FALSE\n11. TRUE\n12. FALSE\n13. TRUE\n14. TRUE\n15. FALSE\n16. TRUE\n17. FALSE\n18. TRUE\n19. TRUE\n20. FALSE\n21. TRUE\n22. FALSE\n23. TRUE\n24. TRUE\n25. FALSE\n26. TRUE\n27. FALSE\n28. TRUE\n29. TRUE\n30. FALSE\n31. TRUE\n32. FALSE\n33. TRUE\n34. TRUE\n35. FALSE\n36. TRUE\n37. FALSE\n38. TRUE\n39. TRUE\n40. FALSE\n41. TRUE\n42. FALSE\n43. TRUE\n44. TRUE\n45. FALSE\n46. TRUE\n47. FALSE\n48. TRUE\n49. TRUE\n50. FALSE\n51. TRUE\n52. FALSE\n53. TRUE\n54. TRUE\n55. FALSE\n56. TRUE\n57. FALSE\n58. TRUE\n59. TRUE\n60. FALSE\n61. TRUE\n62. FALSE\n63. TRUE\n64. TRUE\n65. FALSE\n66. TRUE\n67. FALSE\n68. TRUE\n69. TRUE\n70. FALSE\n71. TRUE\n72. FALSE\n73. TRUE\n74. TRUE\n75. FALSE\n76. TRUE\n77. FALSE\n78. TRUE\n79. TRUE\n80. FALSE\n81. TRUE\n82. FALSE\n83. TRUE\n84. TRUE\n85. FALSE\n86. TRUE\n87. FALSE\n88. TRUE\n89. TRUE\n90. FALSE\n91. TRUE\n92. FALSE\n93. TRUE\n94. TRUE\n95. FALSE\n96. TRUE\n97. FALSE\n98. TRUE\n99. TRUE\n100. FALSE\n101. TRUE\n102. FALSE\n103. TRUE\n104. TRUE\n105. FALSE\n106. TRUE\n107. FALSE\n108. TRUE\n109. TRUE\n110. FALSE\n111. TRUE\n112. FALSE\n113. TRUE\n114. TRUE\n115. FALSE\n116. TRUE\n117. FALSE\n118. TRUE\n119. TRUE\n120. FALSE\n121. TRUE\n122. FALSE\n123. TRUE\n124. TRUE\n125. FALSE\n126. TRUE\n127. FALSE\n128. TRUE\n129. TRUE\n130. FALSE\n131. TRUE\n132. FALSE\n133. TRUE\n134. TRUE\n135. FALSE\n136. TRUE\n137. FALSE\n138. TRUE\n139. TRUE\n140. FALSE\n141. TRUE\n142. FALSE\n143. TRUE\n144. TRUE\n145. FALSE\n146. TRUE\n147. FALSE\n148. TRUE\n149. TRUE\n150. FALSE\n\n\n",
            "text/latex": "\\begin{enumerate*}\n\\item TRUE\n\\item FALSE\n\\item TRUE\n\\item TRUE\n\\item FALSE\n\\item TRUE\n\\item FALSE\n\\item TRUE\n\\item TRUE\n\\item FALSE\n\\item TRUE\n\\item FALSE\n\\item TRUE\n\\item TRUE\n\\item FALSE\n\\item TRUE\n\\item FALSE\n\\item TRUE\n\\item TRUE\n\\item FALSE\n\\item TRUE\n\\item FALSE\n\\item TRUE\n\\item TRUE\n\\item FALSE\n\\item TRUE\n\\item FALSE\n\\item TRUE\n\\item TRUE\n\\item FALSE\n\\item TRUE\n\\item FALSE\n\\item TRUE\n\\item TRUE\n\\item FALSE\n\\item TRUE\n\\item FALSE\n\\item TRUE\n\\item TRUE\n\\item FALSE\n\\item TRUE\n\\item FALSE\n\\item TRUE\n\\item TRUE\n\\item FALSE\n\\item TRUE\n\\item FALSE\n\\item TRUE\n\\item TRUE\n\\item FALSE\n\\item TRUE\n\\item FALSE\n\\item TRUE\n\\item TRUE\n\\item FALSE\n\\item TRUE\n\\item FALSE\n\\item TRUE\n\\item TRUE\n\\item FALSE\n\\item TRUE\n\\item FALSE\n\\item TRUE\n\\item TRUE\n\\item FALSE\n\\item TRUE\n\\item FALSE\n\\item TRUE\n\\item TRUE\n\\item FALSE\n\\item TRUE\n\\item FALSE\n\\item TRUE\n\\item TRUE\n\\item FALSE\n\\item TRUE\n\\item FALSE\n\\item TRUE\n\\item TRUE\n\\item FALSE\n\\item TRUE\n\\item FALSE\n\\item TRUE\n\\item TRUE\n\\item FALSE\n\\item TRUE\n\\item FALSE\n\\item TRUE\n\\item TRUE\n\\item FALSE\n\\item TRUE\n\\item FALSE\n\\item TRUE\n\\item TRUE\n\\item FALSE\n\\item TRUE\n\\item FALSE\n\\item TRUE\n\\item TRUE\n\\item FALSE\n\\item TRUE\n\\item FALSE\n\\item TRUE\n\\item TRUE\n\\item FALSE\n\\item TRUE\n\\item FALSE\n\\item TRUE\n\\item TRUE\n\\item FALSE\n\\item TRUE\n\\item FALSE\n\\item TRUE\n\\item TRUE\n\\item FALSE\n\\item TRUE\n\\item FALSE\n\\item TRUE\n\\item TRUE\n\\item FALSE\n\\item TRUE\n\\item FALSE\n\\item TRUE\n\\item TRUE\n\\item FALSE\n\\item TRUE\n\\item FALSE\n\\item TRUE\n\\item TRUE\n\\item FALSE\n\\item TRUE\n\\item FALSE\n\\item TRUE\n\\item TRUE\n\\item FALSE\n\\item TRUE\n\\item FALSE\n\\item TRUE\n\\item TRUE\n\\item FALSE\n\\item TRUE\n\\item FALSE\n\\item TRUE\n\\item TRUE\n\\item FALSE\n\\item TRUE\n\\item FALSE\n\\item TRUE\n\\item TRUE\n\\item FALSE\n\\end{enumerate*}\n",
            "text/plain": [
              "  [1]  TRUE FALSE  TRUE  TRUE FALSE  TRUE FALSE  TRUE  TRUE FALSE  TRUE FALSE\n",
              " [13]  TRUE  TRUE FALSE  TRUE FALSE  TRUE  TRUE FALSE  TRUE FALSE  TRUE  TRUE\n",
              " [25] FALSE  TRUE FALSE  TRUE  TRUE FALSE  TRUE FALSE  TRUE  TRUE FALSE  TRUE\n",
              " [37] FALSE  TRUE  TRUE FALSE  TRUE FALSE  TRUE  TRUE FALSE  TRUE FALSE  TRUE\n",
              " [49]  TRUE FALSE  TRUE FALSE  TRUE  TRUE FALSE  TRUE FALSE  TRUE  TRUE FALSE\n",
              " [61]  TRUE FALSE  TRUE  TRUE FALSE  TRUE FALSE  TRUE  TRUE FALSE  TRUE FALSE\n",
              " [73]  TRUE  TRUE FALSE  TRUE FALSE  TRUE  TRUE FALSE  TRUE FALSE  TRUE  TRUE\n",
              " [85] FALSE  TRUE FALSE  TRUE  TRUE FALSE  TRUE FALSE  TRUE  TRUE FALSE  TRUE\n",
              " [97] FALSE  TRUE  TRUE FALSE  TRUE FALSE  TRUE  TRUE FALSE  TRUE FALSE  TRUE\n",
              "[109]  TRUE FALSE  TRUE FALSE  TRUE  TRUE FALSE  TRUE FALSE  TRUE  TRUE FALSE\n",
              "[121]  TRUE FALSE  TRUE  TRUE FALSE  TRUE FALSE  TRUE  TRUE FALSE  TRUE FALSE\n",
              "[133]  TRUE  TRUE FALSE  TRUE FALSE  TRUE  TRUE FALSE  TRUE FALSE  TRUE  TRUE\n",
              "[145] FALSE  TRUE FALSE  TRUE  TRUE FALSE"
            ]
          },
          "metadata": {}
        }
      ],
      "source": [
        "iris$spl=sample.split(iris,SplitRatio=0.7)\n",
        "iris$spl"
      ]
    },
    {
      "cell_type": "markdown",
      "id": "a061d8d8",
      "metadata": {
        "id": "a061d8d8"
      },
      "source": [
        "Визначимо тепер ці тестові і тренувальні множини."
      ]
    },
    {
      "cell_type": "code",
      "execution_count": null,
      "id": "d5019ec0",
      "metadata": {
        "id": "d5019ec0",
        "outputId": "8043d6b2-bdf1-4efa-a054-17e1f88ae087",
        "colab": {
          "base_uri": "https://localhost:8080/",
          "height": 554
        }
      },
      "outputs": [
        {
          "output_type": "display_data",
          "data": {
            "text/html": [
              "<table class=\"dataframe\">\n",
              "<caption>A data.frame: 6 × 6</caption>\n",
              "<thead>\n",
              "\t<tr><th></th><th scope=col>Sepal.Length</th><th scope=col>Sepal.Width</th><th scope=col>Petal.Length</th><th scope=col>Petal.Width</th><th scope=col>Species</th><th scope=col>spl</th></tr>\n",
              "\t<tr><th></th><th scope=col>&lt;dbl&gt;</th><th scope=col>&lt;dbl&gt;</th><th scope=col>&lt;dbl&gt;</th><th scope=col>&lt;dbl&gt;</th><th scope=col>&lt;fct&gt;</th><th scope=col>&lt;lgl&gt;</th></tr>\n",
              "</thead>\n",
              "<tbody>\n",
              "\t<tr><th scope=row>1</th><td>5.1</td><td>3.5</td><td>1.4</td><td>0.2</td><td>setosa</td><td>TRUE</td></tr>\n",
              "\t<tr><th scope=row>3</th><td>4.7</td><td>3.2</td><td>1.3</td><td>0.2</td><td>setosa</td><td>TRUE</td></tr>\n",
              "\t<tr><th scope=row>4</th><td>4.6</td><td>3.1</td><td>1.5</td><td>0.2</td><td>setosa</td><td>TRUE</td></tr>\n",
              "\t<tr><th scope=row>6</th><td>5.4</td><td>3.9</td><td>1.7</td><td>0.4</td><td>setosa</td><td>TRUE</td></tr>\n",
              "\t<tr><th scope=row>8</th><td>5.0</td><td>3.4</td><td>1.5</td><td>0.2</td><td>setosa</td><td>TRUE</td></tr>\n",
              "\t<tr><th scope=row>9</th><td>4.4</td><td>2.9</td><td>1.4</td><td>0.2</td><td>setosa</td><td>TRUE</td></tr>\n",
              "</tbody>\n",
              "</table>\n"
            ],
            "text/markdown": "\nA data.frame: 6 × 6\n\n| <!--/--> | Sepal.Length &lt;dbl&gt; | Sepal.Width &lt;dbl&gt; | Petal.Length &lt;dbl&gt; | Petal.Width &lt;dbl&gt; | Species &lt;fct&gt; | spl &lt;lgl&gt; |\n|---|---|---|---|---|---|---|\n| 1 | 5.1 | 3.5 | 1.4 | 0.2 | setosa | TRUE |\n| 3 | 4.7 | 3.2 | 1.3 | 0.2 | setosa | TRUE |\n| 4 | 4.6 | 3.1 | 1.5 | 0.2 | setosa | TRUE |\n| 6 | 5.4 | 3.9 | 1.7 | 0.4 | setosa | TRUE |\n| 8 | 5.0 | 3.4 | 1.5 | 0.2 | setosa | TRUE |\n| 9 | 4.4 | 2.9 | 1.4 | 0.2 | setosa | TRUE |\n\n",
            "text/latex": "A data.frame: 6 × 6\n\\begin{tabular}{r|llllll}\n  & Sepal.Length & Sepal.Width & Petal.Length & Petal.Width & Species & spl\\\\\n  & <dbl> & <dbl> & <dbl> & <dbl> & <fct> & <lgl>\\\\\n\\hline\n\t1 & 5.1 & 3.5 & 1.4 & 0.2 & setosa & TRUE\\\\\n\t3 & 4.7 & 3.2 & 1.3 & 0.2 & setosa & TRUE\\\\\n\t4 & 4.6 & 3.1 & 1.5 & 0.2 & setosa & TRUE\\\\\n\t6 & 5.4 & 3.9 & 1.7 & 0.4 & setosa & TRUE\\\\\n\t8 & 5.0 & 3.4 & 1.5 & 0.2 & setosa & TRUE\\\\\n\t9 & 4.4 & 2.9 & 1.4 & 0.2 & setosa & TRUE\\\\\n\\end{tabular}\n",
            "text/plain": [
              "  Sepal.Length Sepal.Width Petal.Length Petal.Width Species spl \n",
              "1 5.1          3.5         1.4          0.2         setosa  TRUE\n",
              "3 4.7          3.2         1.3          0.2         setosa  TRUE\n",
              "4 4.6          3.1         1.5          0.2         setosa  TRUE\n",
              "6 5.4          3.9         1.7          0.4         setosa  TRUE\n",
              "8 5.0          3.4         1.5          0.2         setosa  TRUE\n",
              "9 4.4          2.9         1.4          0.2         setosa  TRUE"
            ]
          },
          "metadata": {}
        },
        {
          "output_type": "display_data",
          "data": {
            "text/html": [
              "<table class=\"dataframe\">\n",
              "<caption>A data.frame: 6 × 6</caption>\n",
              "<thead>\n",
              "\t<tr><th></th><th scope=col>Sepal.Length</th><th scope=col>Sepal.Width</th><th scope=col>Petal.Length</th><th scope=col>Petal.Width</th><th scope=col>Species</th><th scope=col>spl</th></tr>\n",
              "\t<tr><th></th><th scope=col>&lt;dbl&gt;</th><th scope=col>&lt;dbl&gt;</th><th scope=col>&lt;dbl&gt;</th><th scope=col>&lt;dbl&gt;</th><th scope=col>&lt;fct&gt;</th><th scope=col>&lt;lgl&gt;</th></tr>\n",
              "</thead>\n",
              "<tbody>\n",
              "\t<tr><th scope=row>2</th><td>4.9</td><td>3.0</td><td>1.4</td><td>0.2</td><td>setosa</td><td>FALSE</td></tr>\n",
              "\t<tr><th scope=row>5</th><td>5.0</td><td>3.6</td><td>1.4</td><td>0.2</td><td>setosa</td><td>FALSE</td></tr>\n",
              "\t<tr><th scope=row>7</th><td>4.6</td><td>3.4</td><td>1.4</td><td>0.3</td><td>setosa</td><td>FALSE</td></tr>\n",
              "\t<tr><th scope=row>10</th><td>4.9</td><td>3.1</td><td>1.5</td><td>0.1</td><td>setosa</td><td>FALSE</td></tr>\n",
              "\t<tr><th scope=row>12</th><td>4.8</td><td>3.4</td><td>1.6</td><td>0.2</td><td>setosa</td><td>FALSE</td></tr>\n",
              "\t<tr><th scope=row>15</th><td>5.8</td><td>4.0</td><td>1.2</td><td>0.2</td><td>setosa</td><td>FALSE</td></tr>\n",
              "</tbody>\n",
              "</table>\n"
            ],
            "text/markdown": "\nA data.frame: 6 × 6\n\n| <!--/--> | Sepal.Length &lt;dbl&gt; | Sepal.Width &lt;dbl&gt; | Petal.Length &lt;dbl&gt; | Petal.Width &lt;dbl&gt; | Species &lt;fct&gt; | spl &lt;lgl&gt; |\n|---|---|---|---|---|---|---|\n| 2 | 4.9 | 3.0 | 1.4 | 0.2 | setosa | FALSE |\n| 5 | 5.0 | 3.6 | 1.4 | 0.2 | setosa | FALSE |\n| 7 | 4.6 | 3.4 | 1.4 | 0.3 | setosa | FALSE |\n| 10 | 4.9 | 3.1 | 1.5 | 0.1 | setosa | FALSE |\n| 12 | 4.8 | 3.4 | 1.6 | 0.2 | setosa | FALSE |\n| 15 | 5.8 | 4.0 | 1.2 | 0.2 | setosa | FALSE |\n\n",
            "text/latex": "A data.frame: 6 × 6\n\\begin{tabular}{r|llllll}\n  & Sepal.Length & Sepal.Width & Petal.Length & Petal.Width & Species & spl\\\\\n  & <dbl> & <dbl> & <dbl> & <dbl> & <fct> & <lgl>\\\\\n\\hline\n\t2 & 4.9 & 3.0 & 1.4 & 0.2 & setosa & FALSE\\\\\n\t5 & 5.0 & 3.6 & 1.4 & 0.2 & setosa & FALSE\\\\\n\t7 & 4.6 & 3.4 & 1.4 & 0.3 & setosa & FALSE\\\\\n\t10 & 4.9 & 3.1 & 1.5 & 0.1 & setosa & FALSE\\\\\n\t12 & 4.8 & 3.4 & 1.6 & 0.2 & setosa & FALSE\\\\\n\t15 & 5.8 & 4.0 & 1.2 & 0.2 & setosa & FALSE\\\\\n\\end{tabular}\n",
            "text/plain": [
              "   Sepal.Length Sepal.Width Petal.Length Petal.Width Species spl  \n",
              "2  4.9          3.0         1.4          0.2         setosa  FALSE\n",
              "5  5.0          3.6         1.4          0.2         setosa  FALSE\n",
              "7  4.6          3.4         1.4          0.3         setosa  FALSE\n",
              "10 4.9          3.1         1.5          0.1         setosa  FALSE\n",
              "12 4.8          3.4         1.6          0.2         setosa  FALSE\n",
              "15 5.8          4.0         1.2          0.2         setosa  FALSE"
            ]
          },
          "metadata": {}
        }
      ],
      "source": [
        "train=subset(iris, iris$spl==TRUE)\n",
        "head(train)\n",
        "\n",
        "test=subset(iris, iris$spl==FALSE)\n",
        "head(test)"
      ]
    },
    {
      "cell_type": "markdown",
      "id": "f3c7fc0f",
      "metadata": {
        "id": "f3c7fc0f"
      },
      "source": [
        "Цю ж поцедуру можна було зробити наступним чином:"
      ]
    },
    {
      "cell_type": "code",
      "execution_count": null,
      "id": "a21a5e3e",
      "metadata": {
        "id": "a21a5e3e",
        "outputId": "ca04c40d-002a-478f-e120-ac2ddec01ef3",
        "colab": {
          "base_uri": "https://localhost:8080/",
          "height": 34
        }
      },
      "outputs": [
        {
          "output_type": "display_data",
          "data": {
            "text/html": [
              "<style>\n",
              ".list-inline {list-style: none; margin:0; padding: 0}\n",
              ".list-inline>li {display: inline-block}\n",
              ".list-inline>li:not(:last-child)::after {content: \"\\00b7\"; padding: 0 .5ex}\n",
              "</style>\n",
              "<ol class=list-inline><li>TRUE</li><li>TRUE</li><li>TRUE</li><li>FALSE</li><li>FALSE</li><li>TRUE</li></ol>\n"
            ],
            "text/markdown": "1. TRUE\n2. TRUE\n3. TRUE\n4. FALSE\n5. FALSE\n6. TRUE\n\n\n",
            "text/latex": "\\begin{enumerate*}\n\\item TRUE\n\\item TRUE\n\\item TRUE\n\\item FALSE\n\\item FALSE\n\\item TRUE\n\\end{enumerate*}\n",
            "text/plain": [
              "[1]  TRUE  TRUE  TRUE FALSE FALSE  TRUE"
            ]
          },
          "metadata": {}
        }
      ],
      "source": [
        "split <- sample.split(iris, SplitRatio = 0.7)\n",
        "split\n",
        "train_cl <- subset(iris, split == \"TRUE\")\n",
        "test_cl <- subset(iris, split == \"FALSE\")"
      ]
    },
    {
      "cell_type": "markdown",
      "id": "6941487a",
      "metadata": {
        "id": "6941487a"
      },
      "source": [
        "Застосуємо тепер байєсівську модель класифікації. Якщо не визначено окремо, ми припускаємо, що дані нормально розподілені.\n",
        "Спочатку ми навчаємо нашу модель на тренувальній множині."
      ]
    },
    {
      "cell_type": "code",
      "execution_count": null,
      "id": "53ec11a6",
      "metadata": {
        "id": "53ec11a6",
        "outputId": "05783c59-f5fa-4f6e-c213-a16018fd3a23",
        "colab": {
          "base_uri": "https://localhost:8080/",
          "height": 753
        }
      },
      "outputs": [
        {
          "output_type": "display_data",
          "data": {
            "text/plain": [
              "\n",
              "Naive Bayes Classifier for Discrete Predictors\n",
              "\n",
              "Call:\n",
              "naiveBayes.default(x = X, y = Y, laplace = laplace)\n",
              "\n",
              "A-priori probabilities:\n",
              "Y\n",
              "    setosa versicolor  virginica \n",
              "      0.34       0.33       0.33 \n",
              "\n",
              "Conditional probabilities:\n",
              "            Sepal.Length\n",
              "Y                [,1]      [,2]\n",
              "  setosa     4.964706 0.3691779\n",
              "  versicolor 5.936364 0.4827125\n",
              "  virginica  6.515152 0.5534670\n",
              "\n",
              "            Sepal.Width\n",
              "Y                [,1]      [,2]\n",
              "  setosa     3.364706 0.3600356\n",
              "  versicolor 2.769697 0.3254659\n",
              "  virginica  2.951515 0.3153581\n",
              "\n",
              "            Petal.Length\n",
              "Y                [,1]      [,2]\n",
              "  setosa     1.479412 0.1871305\n",
              "  versicolor 4.296970 0.4496421\n",
              "  virginica  5.487879 0.4846117\n",
              "\n",
              "            Petal.Width\n",
              "Y                 [,1]      [,2]\n",
              "  setosa     0.2470588 0.1134455\n",
              "  versicolor 1.3393939 0.1951592\n",
              "  virginica  1.9969697 0.2833779\n",
              "\n",
              "            spl\n",
              "Y                FALSE      TRUE\n",
              "  setosa     0.3823529 0.6176471\n",
              "  versicolor 0.3939394 0.6060606\n",
              "  virginica  0.4242424 0.5757576\n"
            ]
          },
          "metadata": {}
        }
      ],
      "source": [
        "set.seed(120)\n",
        "classifier_cl <- naiveBayes(Species ~ ., data = train_cl)\n",
        "classifier_cl"
      ]
    },
    {
      "cell_type": "markdown",
      "id": "d57148d0",
      "metadata": {
        "id": "d57148d0"
      },
      "source": [
        "Насправді, те, що називається умовними ймовірностями (conditional probabilities)- це середні значення (перша колонка) та стандартні\n",
        "відхилення (друга колонка). За відсутності інших припущень, модель розраховується за припущенням, того що дані нормально розподілені.\n",
        "\n",
        "Обчислимо матрицю невідповідностей:"
      ]
    },
    {
      "cell_type": "code",
      "execution_count": null,
      "id": "319cf1ae",
      "metadata": {
        "id": "319cf1ae",
        "outputId": "b41fe859-747f-42fd-9458-080df05feb73"
      },
      "outputs": [
        {
          "data": {
            "text/plain": [
              "            y_pred1\n",
              "             setosa versicolor virginica\n",
              "  setosa         18          0         0\n",
              "  versicolor      0         16         0\n",
              "  virginica       0          1        15"
            ]
          },
          "metadata": {},
          "output_type": "display_data"
        }
      ],
      "source": [
        "y_pred1 <- predict(classifier_cl, newdata = test_cl)\n",
        "cm1 <- table(test_cl$Species, y_pred1)\n",
        "cm1"
      ]
    },
    {
      "cell_type": "markdown",
      "id": "e3cca03f",
      "metadata": {
        "id": "e3cca03f"
      },
      "source": [
        "Отже, майже всі спостереження  класифіковані правильно."
      ]
    },
    {
      "cell_type": "markdown",
      "id": "f9409a11",
      "metadata": {
        "id": "f9409a11"
      },
      "source": [
        "Якщо ми не знаємо розподіл, то ми можемо застостовувати ядерні оцінки щільності для того, щоб оцінити ці щільності. Оберемо, наприклад, трикутне ядро."
      ]
    },
    {
      "cell_type": "code",
      "execution_count": null,
      "id": "0c2b3d14",
      "metadata": {
        "id": "0c2b3d14",
        "outputId": "8858cb50-1f01-4bb4-c521-9dfb7c5cc232",
        "colab": {
          "base_uri": "https://localhost:8080/",
          "height": 771
        }
      },
      "outputs": [
        {
          "output_type": "display_data",
          "data": {
            "text/plain": [
              "\n",
              "Naive Bayes Classifier for Discrete Predictors\n",
              "\n",
              "Call:\n",
              "naiveBayes.default(x = X, y = Y, laplace = laplace, usekernel = TRUE, \n",
              "    kernel = \"triangular\")\n",
              "\n",
              "A-priori probabilities:\n",
              "Y\n",
              "    setosa versicolor  virginica \n",
              "      0.34       0.33       0.33 \n",
              "\n",
              "Conditional probabilities:\n",
              "            Sepal.Length\n",
              "Y                [,1]      [,2]\n",
              "  setosa     4.964706 0.3691779\n",
              "  versicolor 5.936364 0.4827125\n",
              "  virginica  6.515152 0.5534670\n",
              "\n",
              "            Sepal.Width\n",
              "Y                [,1]      [,2]\n",
              "  setosa     3.364706 0.3600356\n",
              "  versicolor 2.769697 0.3254659\n",
              "  virginica  2.951515 0.3153581\n",
              "\n",
              "            Petal.Length\n",
              "Y                [,1]      [,2]\n",
              "  setosa     1.479412 0.1871305\n",
              "  versicolor 4.296970 0.4496421\n",
              "  virginica  5.487879 0.4846117\n",
              "\n",
              "            Petal.Width\n",
              "Y                 [,1]      [,2]\n",
              "  setosa     0.2470588 0.1134455\n",
              "  versicolor 1.3393939 0.1951592\n",
              "  virginica  1.9969697 0.2833779\n",
              "\n",
              "            spl\n",
              "Y                FALSE      TRUE\n",
              "  setosa     0.3823529 0.6176471\n",
              "  versicolor 0.3939394 0.6060606\n",
              "  virginica  0.4242424 0.5757576\n"
            ]
          },
          "metadata": {}
        }
      ],
      "source": [
        "classifier2_cl <- naiveBayes(Species ~ ., data = train_cl,usekernel=TRUE,\n",
        "                            kernel=\"triangular\" )\n",
        "classifier2_cl"
      ]
    },
    {
      "cell_type": "markdown",
      "id": "b18da83e",
      "metadata": {
        "id": "b18da83e"
      },
      "source": [
        "Зробимо прогноз, використовуючи теству частину, і порівняємо з (тобто з тими фактичними належностями до класу)."
      ]
    },
    {
      "cell_type": "code",
      "execution_count": null,
      "id": "19651843",
      "metadata": {
        "id": "19651843",
        "outputId": "45511d70-4dc9-488e-9962-775db1bcd9d0",
        "colab": {
          "base_uri": "https://localhost:8080/",
          "height": 121
        }
      },
      "outputs": [
        {
          "output_type": "display_data",
          "data": {
            "text/html": [
              "<style>\n",
              ".list-inline {list-style: none; margin:0; padding: 0}\n",
              ".list-inline>li {display: inline-block}\n",
              ".list-inline>li:not(:last-child)::after {content: \"\\00b7\"; padding: 0 .5ex}\n",
              "</style>\n",
              "<ol class=list-inline><li>setosa</li><li>setosa</li><li>setosa</li><li>setosa</li><li>setosa</li><li>setosa</li><li>setosa</li><li>setosa</li><li>setosa</li><li>setosa</li><li>setosa</li><li>setosa</li><li>setosa</li><li>setosa</li><li>setosa</li><li>setosa</li><li>versicolor</li><li>virginica</li><li>versicolor</li><li>versicolor</li><li>versicolor</li><li>versicolor</li><li>versicolor</li><li>virginica</li><li>versicolor</li><li>versicolor</li><li>versicolor</li><li>versicolor</li><li>versicolor</li><li>versicolor</li><li>versicolor</li><li>versicolor</li><li>versicolor</li><li>virginica</li><li>virginica</li><li>versicolor</li><li>virginica</li><li>virginica</li><li>virginica</li><li>virginica</li><li>virginica</li><li>virginica</li><li>virginica</li><li>virginica</li><li>virginica</li><li>virginica</li><li>virginica</li><li>virginica</li><li>virginica</li><li>virginica</li></ol>\n",
              "\n",
              "<details>\n",
              "\t<summary style=display:list-item;cursor:pointer>\n",
              "\t\t<strong>Levels</strong>:\n",
              "\t</summary>\n",
              "\t<style>\n",
              "\t.list-inline {list-style: none; margin:0; padding: 0}\n",
              "\t.list-inline>li {display: inline-block}\n",
              "\t.list-inline>li:not(:last-child)::after {content: \"\\00b7\"; padding: 0 .5ex}\n",
              "\t</style>\n",
              "\t<ol class=list-inline><li>'setosa'</li><li>'versicolor'</li><li>'virginica'</li></ol>\n",
              "</details>"
            ],
            "text/markdown": "1. setosa\n2. setosa\n3. setosa\n4. setosa\n5. setosa\n6. setosa\n7. setosa\n8. setosa\n9. setosa\n10. setosa\n11. setosa\n12. setosa\n13. setosa\n14. setosa\n15. setosa\n16. setosa\n17. versicolor\n18. virginica\n19. versicolor\n20. versicolor\n21. versicolor\n22. versicolor\n23. versicolor\n24. virginica\n25. versicolor\n26. versicolor\n27. versicolor\n28. versicolor\n29. versicolor\n30. versicolor\n31. versicolor\n32. versicolor\n33. versicolor\n34. virginica\n35. virginica\n36. versicolor\n37. virginica\n38. virginica\n39. virginica\n40. virginica\n41. virginica\n42. virginica\n43. virginica\n44. virginica\n45. virginica\n46. virginica\n47. virginica\n48. virginica\n49. virginica\n50. virginica\n\n\n\n**Levels**: 1. 'setosa'\n2. 'versicolor'\n3. 'virginica'\n\n\n",
            "text/latex": "\\begin{enumerate*}\n\\item setosa\n\\item setosa\n\\item setosa\n\\item setosa\n\\item setosa\n\\item setosa\n\\item setosa\n\\item setosa\n\\item setosa\n\\item setosa\n\\item setosa\n\\item setosa\n\\item setosa\n\\item setosa\n\\item setosa\n\\item setosa\n\\item versicolor\n\\item virginica\n\\item versicolor\n\\item versicolor\n\\item versicolor\n\\item versicolor\n\\item versicolor\n\\item virginica\n\\item versicolor\n\\item versicolor\n\\item versicolor\n\\item versicolor\n\\item versicolor\n\\item versicolor\n\\item versicolor\n\\item versicolor\n\\item versicolor\n\\item virginica\n\\item virginica\n\\item versicolor\n\\item virginica\n\\item virginica\n\\item virginica\n\\item virginica\n\\item virginica\n\\item virginica\n\\item virginica\n\\item virginica\n\\item virginica\n\\item virginica\n\\item virginica\n\\item virginica\n\\item virginica\n\\item virginica\n\\end{enumerate*}\n\n\\emph{Levels}: \\begin{enumerate*}\n\\item 'setosa'\n\\item 'versicolor'\n\\item 'virginica'\n\\end{enumerate*}\n",
            "text/plain": [
              " [1] setosa     setosa     setosa     setosa     setosa     setosa    \n",
              " [7] setosa     setosa     setosa     setosa     setosa     setosa    \n",
              "[13] setosa     setosa     setosa     setosa     versicolor virginica \n",
              "[19] versicolor versicolor versicolor versicolor versicolor virginica \n",
              "[25] versicolor versicolor versicolor versicolor versicolor versicolor\n",
              "[31] versicolor versicolor versicolor virginica  virginica  versicolor\n",
              "[37] virginica  virginica  virginica  virginica  virginica  virginica \n",
              "[43] virginica  virginica  virginica  virginica  virginica  virginica \n",
              "[49] virginica  virginica \n",
              "Levels: setosa versicolor virginica"
            ]
          },
          "metadata": {}
        }
      ],
      "source": [
        "y_pred2 <- predict(classifier_cl, newdata = test_cl)\n",
        "y_pred2"
      ]
    },
    {
      "cell_type": "markdown",
      "id": "c8cfe7f1",
      "metadata": {
        "id": "c8cfe7f1"
      },
      "source": [
        "Побудуємо матрицю невідповідностей."
      ]
    },
    {
      "cell_type": "code",
      "execution_count": null,
      "id": "387cfd87",
      "metadata": {
        "id": "387cfd87",
        "outputId": "ddd0e6c4-d1a9-4255-99c3-7ef6be022de8",
        "colab": {
          "base_uri": "https://localhost:8080/",
          "height": 107
        }
      },
      "outputs": [
        {
          "output_type": "display_data",
          "data": {
            "text/plain": [
              "            y_pred2\n",
              "             setosa versicolor virginica\n",
              "  setosa         16          0         0\n",
              "  versicolor      0         15         2\n",
              "  virginica       0          1        16"
            ]
          },
          "metadata": {}
        }
      ],
      "source": [
        "cm2 <- table(test_cl$Species, y_pred2)\n",
        "cm2"
      ]
    },
    {
      "cell_type": "markdown",
      "id": "94089ab0",
      "metadata": {
        "id": "94089ab0"
      },
      "source": [
        "Як ми бачимо, ми правильно класифікували setosa, але 2 квітки versicolor ми помилково класифікували до virginica, і\n",
        "2 квітки virginica-- до versicolor.\n",
        "\n",
        "Розглянемо ще питання, як апроксимувати ймовірнісну щільність (див. також Додатокв кінці файлу). Для цього розглянемо приклад даних про шоломи гравців в футбол і візьмемо одну координату."
      ]
    },
    {
      "cell_type": "code",
      "execution_count": null,
      "id": "f28fdc52",
      "metadata": {
        "id": "f28fdc52",
        "outputId": "da2133e1-d5ec-4681-aa36-ec7e362ebeee",
        "colab": {
          "base_uri": "https://localhost:8080/",
          "height": 303
        }
      },
      "outputs": [
        {
          "output_type": "display_data",
          "data": {
            "text/html": [
              "<table class=\"dataframe\">\n",
              "<caption>A data.frame: 6 × 7</caption>\n",
              "<thead>\n",
              "\t<tr><th></th><th scope=col>Group</th><th scope=col>V2</th><th scope=col>V3</th><th scope=col>V4</th><th scope=col>V5</th><th scope=col>V6</th><th scope=col>V7</th></tr>\n",
              "\t<tr><th></th><th scope=col>&lt;int&gt;</th><th scope=col>&lt;dbl&gt;</th><th scope=col>&lt;dbl&gt;</th><th scope=col>&lt;dbl&gt;</th><th scope=col>&lt;dbl&gt;</th><th scope=col>&lt;dbl&gt;</th><th scope=col>&lt;dbl&gt;</th></tr>\n",
              "</thead>\n",
              "<tbody>\n",
              "\t<tr><th scope=row>1</th><td>1</td><td>13.5</td><td>57.15</td><td>19.5</td><td>12.5</td><td>14.0</td><td>11</td></tr>\n",
              "\t<tr><th scope=row>2</th><td>1</td><td>15.5</td><td>58.42</td><td>21.0</td><td>12.0</td><td>16.0</td><td>12</td></tr>\n",
              "\t<tr><th scope=row>3</th><td>1</td><td>14.5</td><td>55.88</td><td>19.0</td><td>10.0</td><td>13.0</td><td>12</td></tr>\n",
              "\t<tr><th scope=row>4</th><td>1</td><td>15.5</td><td>58.42</td><td>20.0</td><td>13.5</td><td>15.0</td><td>12</td></tr>\n",
              "\t<tr><th scope=row>5</th><td>1</td><td>14.5</td><td>58.42</td><td>20.0</td><td>13.0</td><td>15.5</td><td>12</td></tr>\n",
              "\t<tr><th scope=row>6</th><td>1</td><td>14.0</td><td>60.96</td><td>21.0</td><td>12.0</td><td>14.0</td><td>13</td></tr>\n",
              "</tbody>\n",
              "</table>\n"
            ],
            "text/markdown": "\nA data.frame: 6 × 7\n\n| <!--/--> | Group &lt;int&gt; | V2 &lt;dbl&gt; | V3 &lt;dbl&gt; | V4 &lt;dbl&gt; | V5 &lt;dbl&gt; | V6 &lt;dbl&gt; | V7 &lt;dbl&gt; |\n|---|---|---|---|---|---|---|---|\n| 1 | 1 | 13.5 | 57.15 | 19.5 | 12.5 | 14.0 | 11 |\n| 2 | 1 | 15.5 | 58.42 | 21.0 | 12.0 | 16.0 | 12 |\n| 3 | 1 | 14.5 | 55.88 | 19.0 | 10.0 | 13.0 | 12 |\n| 4 | 1 | 15.5 | 58.42 | 20.0 | 13.5 | 15.0 | 12 |\n| 5 | 1 | 14.5 | 58.42 | 20.0 | 13.0 | 15.5 | 12 |\n| 6 | 1 | 14.0 | 60.96 | 21.0 | 12.0 | 14.0 | 13 |\n\n",
            "text/latex": "A data.frame: 6 × 7\n\\begin{tabular}{r|lllllll}\n  & Group & V2 & V3 & V4 & V5 & V6 & V7\\\\\n  & <int> & <dbl> & <dbl> & <dbl> & <dbl> & <dbl> & <dbl>\\\\\n\\hline\n\t1 & 1 & 13.5 & 57.15 & 19.5 & 12.5 & 14.0 & 11\\\\\n\t2 & 1 & 15.5 & 58.42 & 21.0 & 12.0 & 16.0 & 12\\\\\n\t3 & 1 & 14.5 & 55.88 & 19.0 & 10.0 & 13.0 & 12\\\\\n\t4 & 1 & 15.5 & 58.42 & 20.0 & 13.5 & 15.0 & 12\\\\\n\t5 & 1 & 14.5 & 58.42 & 20.0 & 13.0 & 15.5 & 12\\\\\n\t6 & 1 & 14.0 & 60.96 & 21.0 & 12.0 & 14.0 & 13\\\\\n\\end{tabular}\n",
            "text/plain": [
              "  Group V2   V3    V4   V5   V6   V7\n",
              "1 1     13.5 57.15 19.5 12.5 14.0 11\n",
              "2 1     15.5 58.42 21.0 12.0 16.0 12\n",
              "3 1     14.5 55.88 19.0 10.0 13.0 12\n",
              "4 1     15.5 58.42 20.0 13.5 15.0 12\n",
              "5 1     14.5 58.42 20.0 13.0 15.5 12\n",
              "6 1     14.0 60.96 21.0 12.0 14.0 13"
            ]
          },
          "metadata": {}
        },
        {
          "output_type": "display_data",
          "data": {
            "text/html": [
              "<style>\n",
              ".list-inline {list-style: none; margin:0; padding: 0}\n",
              ".list-inline>li {display: inline-block}\n",
              ".list-inline>li:not(:last-child)::after {content: \"\\00b7\"; padding: 0 .5ex}\n",
              "</style>\n",
              "<ol class=list-inline><li>13.5</li><li>15.5</li><li>14.5</li><li>15.5</li><li>14.5</li><li>14</li></ol>\n"
            ],
            "text/markdown": "1. 13.5\n2. 15.5\n3. 14.5\n4. 15.5\n5. 14.5\n6. 14\n\n\n",
            "text/latex": "\\begin{enumerate*}\n\\item 13.5\n\\item 15.5\n\\item 14.5\n\\item 15.5\n\\item 14.5\n\\item 14\n\\end{enumerate*}\n",
            "text/plain": [
              "[1] 13.5 15.5 14.5 15.5 14.5 14.0"
            ]
          },
          "metadata": {}
        }
      ],
      "source": [
        "Foot<-read.table('/content/drive/MyDrive/RScripts/T8_3_FOOTBALL.DAT', col.names = c('Group', 'V2', 'V3', 'V4', 'V5', 'V6','V7') )\n",
        "head(Foot)\n",
        "x<- Foot$V2\n",
        "head(x)\n"
      ]
    },
    {
      "cell_type": "markdown",
      "id": "001b5d38",
      "metadata": {
        "id": "001b5d38"
      },
      "source": [
        "Див. https://www.rdocumentation.org/packages/stats/versions/3.6.2/topics/density"
      ]
    },
    {
      "cell_type": "code",
      "execution_count": null,
      "id": "832858b5",
      "metadata": {
        "id": "832858b5",
        "outputId": "a1e3dc07-3626-4258-8675-7a3efcf8f617",
        "colab": {
          "base_uri": "https://localhost:8080/",
          "height": 257
        }
      },
      "outputs": [
        {
          "output_type": "display_data",
          "data": {
            "text/plain": [
              "Plot with title “density(x = x, kernel = c(\"gaussian\"))”"
            ],
            "image/png": "[encoded data removed]"
          },
          "metadata": {
            "image/png": {
              "width": 420,
              "height": 240
            }
          }
        }
      ],
      "source": [
        "options(repr.plot.width=7, repr.plot.height=4)\n",
        "den<-density(x,  kernel = c(\"gaussian\"))\n",
        "plot(den)"
      ]
    },
    {
      "cell_type": "markdown",
      "id": "d911ff0c",
      "metadata": {
        "id": "d911ff0c"
      },
      "source": [
        "Ми обрали \"gaussian\", але можна обрати і будь-який з множини \"gaussian\", \"epanechnikov\", \"rectangular\",\"triangular\", \"biweight\",  \"cosine\", \"optcosine\". Як ми бачимо, гаусівське ядро непогано апроксимує щільінсть. Наприклад, оберемо\n",
        "\"rectangular\"."
      ]
    },
    {
      "cell_type": "code",
      "execution_count": null,
      "id": "4eca9812",
      "metadata": {
        "id": "4eca9812",
        "outputId": "cbd31a2b-f47a-4ace-e404-e5922242aa6f"
      },
      "outputs": [
        {
          "data": {
            "image/png": "[encoded data removed]",
            "text/plain": [
              "Plot with title \"density.default(x = x, kernel = \"rectangular\")\""
            ]
          },
          "metadata": {},
          "output_type": "display_data"
        }
      ],
      "source": [
        "den2<-density(x,  kernel = \"rectangular\")\n",
        "\n",
        "plot(den2)"
      ]
    },
    {
      "cell_type": "markdown",
      "id": "17b577a1",
      "metadata": {
        "id": "17b577a1"
      },
      "source": [
        "Перше наближення було явно кращим.\n",
        "\n",
        "Детальніше про  те, як будувати оцінку щільності \"вручну\",  можна почитати [тут](https://stackoverflow.com/questions/28077500/find-the-probability-density-of-a-new-data-point-using-density-function-in-r)."
      ]
    },
    {
      "cell_type": "markdown",
      "id": "59ad14b6",
      "metadata": {
        "id": "59ad14b6"
      },
      "source": [
        "## Додаток."
      ]
    },
    {
      "cell_type": "markdown",
      "id": "d9f10e90",
      "metadata": {
        "id": "d9f10e90"
      },
      "source": [
        "\n",
        "Нехай\n",
        "$\\xi$ має щільність розподілу $f(y)$, та нехай  $N(y_0)$- кількість спостережень, що попали в інтервал  $(y_0-h, y_0+h)$.   Оскільки\n",
        "$$\n",
        "\\int_{y_0-h}^{y_0+h}  f(z)dz=\n",
        "P( y_0-h<\\xi\\leq y_0+h) \\asymp \\frac{N(y_0)}{n},\n",
        "$$\n",
        "то  \n",
        "$$\n",
        "\\hat{f}(y_0) \\asymp  \\frac{N(y_0)}{2hn}.\n",
        "$$\n",
        "Наша задача- оцінити  \n",
        "$N(y)$ за допомогою ядра $K(y)$, тому такі оцінки щільності називаються ядерними.\n",
        "\n",
        "Нехай\n",
        "$$\n",
        "K(u) =\n",
        "\\begin{cases}\n",
        "\t\\frac{1}{2}, & |u|\\leq 1; \\\\\n",
        "\t0, & |u|>1.\n",
        "\\end{cases}\n",
        "$$\n",
        " Тоді\n",
        " $$\n",
        " N(y_0)= 2 \\sum_{i=1}^n K \\left(\\frac{y_0-y_i}{h}\\right)\n",
        " $$\n",
        " підраховує кількість точок, які попали в інтервал $y_0-h\\leq y_i \\leq y_0+h$\n",
        " (якщо $|y_i-y_0|\\leq h$, то це як раз і означає, що точка $y_i$ попала в інтервал $y_0-h\\leq y_i \\leq y_0+h$).\n",
        "Тоді\n",
        "$$\n",
        "\\hat{f} (y_0)= \\frac{1}{nh} \\sum_{i=1}^n K \\left(\\frac{y_0-y_i}{h}\\right).\n",
        "$$\n",
        "Можні обирати і інші ядра. Наведемо кілька прикладів.\n",
        "\n",
        "Ядро Єпанчикова:\n",
        "$$\n",
        "K(u)= \\frac{3}{4} (1-x^2)1_{|x|\\leq 1};\n",
        "$$\n",
        "Трикутне ядро:\n",
        "$$\n",
        "K(u)= (1-|u|) 1_{|u|\\leq 1}.\n",
        "$$\n",
        "Гаусівске ядро:\n",
        "$$\n",
        " K(u) = \\frac{e^{-u^2/2}}{\\sqrt{2\\pi}}.\n",
        "$$\n",
        "І ще одне ядро:\n",
        "$$\n",
        "K(u)= \\frac{1}{\\pi} \\frac{\\sin^2 u}{u^2}.\n",
        "$$\n",
        "\n",
        "У багатовимірному випадку оцінка щільності виглядає наступним чином:\n",
        "$$\n",
        "\\hat{f}(y_0)= \\frac{1}{n h_1 h_2\\dots h_p}  \\sum_{i=1}^n K \\left(\n",
        "\\frac{y_{01}- y_{i1}}{h_1}, \\frac{y_{02}- y_{i2}}{h_1}, \\dots, \\frac{y_{0p}- y_{ip}}{h_1}\\right).\n",
        "$$"
      ]
    },
    {
      "cell_type": "code",
      "execution_count": null,
      "id": "a4ff7ab8",
      "metadata": {
        "id": "a4ff7ab8"
      },
      "outputs": [],
      "source": []
    }
  ],
  "metadata": {
    "kernelspec": {
      "display_name": "R",
      "name": "ir"
    },
    "language_info": {
      "name": "R"
    },
    "colab": {
      "provenance": []
    }
  },
  "nbformat": 4,
  "nbformat_minor": 5
}
