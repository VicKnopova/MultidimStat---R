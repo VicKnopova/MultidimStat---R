{
 "cells": [
  {
   "cell_type": "markdown",
   "id": "c467805f",
   "metadata": {},
   "source": [
    "## Практика 10: Факторний аналіз\n",
    "\n",
    "Посилання: \n",
    "\n",
    "https://rpubs.com/aaronsc32/factor-analysis-introduction\n",
    "\n",
    "https://rpubs.com/aaronsc32/factor-analysis-part-two\n",
    "\n",
    "https://rpubs.com/aaronsc32/factor-analysis-iterated-principal-factor \n",
    "\n",
    "http://web.stanford.edu/class/psych253/tutorials/FactorAnalysis.html\n",
    "\n",
    "http://www.yorku.ca/ptryfos/f1400.pdf\n",
    "\n",
    "https://m-clark.github.io/posts/2020-04-10-psych-explained/ "
   ]
  },
  {
   "cell_type": "code",
   "execution_count": 54,
   "id": "f59814d9",
   "metadata": {},
   "outputs": [
    {
     "name": "stderr",
     "output_type": "stream",
     "text": [
      "Warning message:\n",
      "\"unable to access index for repository https://mirrors.nics.utk.edu/cran/src/contrib/psych_1.9.12.31.tar.gz/src/contrib:\n",
      "  kann URL 'https://mirrors.nics.utk.edu/cran/src/contrib/psych_1.9.12.31.tar.gz/src/contrib/PACKAGES' nicht öffnen\"Warning message:\n",
      "\"package 'psych' is not available (for R version 3.6.1)\"Warning message:\n",
      "\"unable to access index for repository https://mirrors.nics.utk.edu/cran/src/contrib/psych_1.9.12.31.tar.gz/bin/windows/contrib/3.6:\n",
      "  kann URL 'https://mirrors.nics.utk.edu/cran/src/contrib/psych_1.9.12.31.tar.gz/bin/windows/contrib/3.6/PACKAGES' nicht öffnen\""
     ]
    }
   ],
   "source": [
    "library(car)\n",
    "library(ggplot2)\n",
    "install.packages(\"psych\", dependencies=TRUE,  repos = \"https://mirrors.nics.utk.edu/cran/src/contrib/psych_1.9.12.31.tar.gz\")\n",
    "# library('psych')\n"
   ]
  },
  {
   "cell_type": "code",
   "execution_count": 45,
   "id": "0e3a340a",
   "metadata": {},
   "outputs": [
    {
     "ename": "ERROR",
     "evalue": "Error in parse(text = x, srcfile = src): <text>:1:6: unerwartetes Symbol\n1: !pip install\n         ^\n",
     "output_type": "error",
     "traceback": [
      "Error in parse(text = x, srcfile = src): <text>:1:6: unerwartetes Symbol\n1: !pip install\n         ^\nTraceback:\n"
     ]
    }
   ],
   "source": [
    "!pip install psych "
   ]
  },
  {
   "cell_type": "code",
   "execution_count": 5,
   "id": "8750ab6a",
   "metadata": {},
   "outputs": [],
   "source": [
    "options(repr.plot.width=3.5, repr.plot.height=3.5)"
   ]
  },
  {
   "cell_type": "code",
   "execution_count": 2,
   "id": "e9e4afe5",
   "metadata": {},
   "outputs": [],
   "source": [
    "root <- read.table('T6_2_ROOT.DAT',col.names = c('V1', 'V2', 'V3', 'V4', 'V5'))"
   ]
  },
  {
   "cell_type": "markdown",
   "id": "95acdc33",
   "metadata": {},
   "source": [
    "Обчислимо коваріаційну матрицю та  її власні числа. "
   ]
  },
  {
   "cell_type": "code",
   "execution_count": 3,
   "id": "77bc0f50",
   "metadata": {},
   "outputs": [
    {
     "data": {
      "text/plain": [
       "eigen() decomposition\n",
       "$values\n",
       "[1] 0.495986813 0.162680761 0.006924035 0.001565068\n",
       "\n",
       "$vectors\n",
       "           [,1]        [,2]        [,3]       [,4]\n",
       "[1,] -0.1011191  0.09661363 -0.21551730  0.9664332\n",
       "[2,] -0.7516463  0.64386366  0.06099466 -0.1294103\n",
       "[3,] -0.5600279 -0.62651631 -0.52992316 -0.1141384\n",
       "[4,] -0.3334239 -0.42846553  0.81793239  0.1903481\n"
      ]
     },
     "metadata": {},
     "output_type": "display_data"
    }
   ],
   "source": [
    "S<- cov(root[,2:5])\n",
    "S.eigen <- eigen(S)\n",
    "S.eigen "
   ]
  },
  {
   "cell_type": "markdown",
   "id": "6de2721d",
   "metadata": {},
   "source": [
    "Останні 2 власних числа близьці до 0. Тому досить обрати кількість факторів   $m=2$.  Можна також зобразити власні числа  графічно:"
   ]
  },
  {
   "cell_type": "code",
   "execution_count": 6,
   "id": "2029dcbf",
   "metadata": {},
   "outputs": [
    {
     "data": {
      "image/png": "[encoded data removed]",
      "text/plain": [
       "Plot with title \"Eigenvalues Size\""
      ]
     },
     "metadata": {},
     "output_type": "display_data"
    }
   ],
   "source": [
    "plot(S.eigen$values, xlab = 'Eigenvalue Number', ylab = 'Eigenvalue Size', main = 'Eigenvalues Size', \n",
    "     type = 'b', xaxt = 'n')  \n",
    "axis(1, at = seq(1, 4, by = 1))"
   ]
  },
  {
   "cell_type": "markdown",
   "id": "906501c3",
   "metadata": {},
   "source": [
    "Тут  type = b означає, що ми малюємо і лінії і відповідні точки;   xaxt= n означає, що ми самі задаємо, що саме буде відображатися по осі OX, а саме, ми обираємо   axis(1, at = seq(1, 4, by = 1), тобто кількість власних чисел.\n",
    "\n",
    "Запишимо  матрицю  коваріацій $S$ у вигляді $S = CD^{1/2}D^{1/2}C'$, та знайдемо $C$ та  $D$. Для того, щоб зобразити матрицю  $C$, візьмемо перші 2 власних вектори. Для того, щоб отримати матрицю $D$, ми спочатку створюємо порожню матрицю (але відповідного розміру!), а потім додаємо в неї власні числа. "
   ]
  },
  {
   "cell_type": "code",
   "execution_count": 7,
   "id": "75c40f6d",
   "metadata": {},
   "outputs": [],
   "source": [
    "C <- as.matrix(S.eigen$vectors[,1:2])\n",
    "D <- matrix(0, dim(C)[2], dim(C)[2])\n",
    "diag(D) <- S.eigen$values[1:2]"
   ]
  },
  {
   "cell_type": "markdown",
   "id": "8edb7083",
   "metadata": {},
   "source": [
    "Запишемо тепер  $\\hat{\\Lambda} = CD^{1/2}$:"
   ]
  },
  {
   "cell_type": "code",
   "execution_count": 8,
   "id": "64eeed9c",
   "metadata": {},
   "outputs": [
    {
     "data": {
      "text/html": [
       "<table>\n",
       "<tbody>\n",
       "\t<tr><td>-0.07121445</td><td> 0.03896785</td></tr>\n",
       "\t<tr><td>-0.52935694</td><td> 0.25969406</td></tr>\n",
       "\t<tr><td>-0.39440707</td><td>-0.25269723</td></tr>\n",
       "\t<tr><td>-0.23481824</td><td>-0.17281602</td></tr>\n",
       "</tbody>\n",
       "</table>\n"
      ],
      "text/latex": [
       "\\begin{tabular}{ll}\n",
       "\t -0.07121445 &  0.03896785\\\\\n",
       "\t -0.52935694 &  0.25969406\\\\\n",
       "\t -0.39440707 & -0.25269723\\\\\n",
       "\t -0.23481824 & -0.17281602\\\\\n",
       "\\end{tabular}\n"
      ],
      "text/markdown": [
       "\n",
       "| -0.07121445 |  0.03896785 |\n",
       "| -0.52935694 |  0.25969406 |\n",
       "| -0.39440707 | -0.25269723 |\n",
       "| -0.23481824 | -0.17281602 |\n",
       "\n"
      ],
      "text/plain": [
       "     [,1]        [,2]       \n",
       "[1,] -0.07121445  0.03896785\n",
       "[2,] -0.52935694  0.25969406\n",
       "[3,] -0.39440707 -0.25269723\n",
       "[4,] -0.23481824 -0.17281602"
      ]
     },
     "metadata": {},
     "output_type": "display_data"
    }
   ],
   "source": [
    "S.loadings <- C %*% sqrt(D)\n",
    "S.loadings"
   ]
  },
  {
   "cell_type": "markdown",
   "id": "99e08796",
   "metadata": {},
   "source": [
    "Ці вектори не нормовані: "
   ]
  },
  {
   "cell_type": "code",
   "execution_count": 17,
   "id": "cff1997b",
   "metadata": {},
   "outputs": [
    {
     "data": {
      "text/html": [
       "0.704263312509484"
      ],
      "text/latex": [
       "0.704263312509484"
      ],
      "text/markdown": [
       "0.704263312509484"
      ],
      "text/plain": [
       "[1] 0.7042633"
      ]
     },
     "metadata": {},
     "output_type": "display_data"
    }
   ],
   "source": [
    "sqrt(sum(S.loadings[,1]**2))"
   ]
  },
  {
   "cell_type": "code",
   "execution_count": 18,
   "id": "aead0556",
   "metadata": {},
   "outputs": [
    {
     "data": {
      "text/html": [
       "<ol class=list-inline>\n",
       "\t<li>-0.101119073547273</li>\n",
       "\t<li>-0.751646339443175</li>\n",
       "\t<li>-0.560027857459779</li>\n",
       "\t<li>-0.333423922710454</li>\n",
       "</ol>\n"
      ],
      "text/latex": [
       "\\begin{enumerate*}\n",
       "\\item -0.101119073547273\n",
       "\\item -0.751646339443175\n",
       "\\item -0.560027857459779\n",
       "\\item -0.333423922710454\n",
       "\\end{enumerate*}\n"
      ],
      "text/markdown": [
       "1. -0.101119073547273\n",
       "2. -0.751646339443175\n",
       "3. -0.560027857459779\n",
       "4. -0.333423922710454\n",
       "\n",
       "\n"
      ],
      "text/plain": [
       "[1] -0.1011191 -0.7516463 -0.5600279 -0.3334239"
      ]
     },
     "metadata": {},
     "output_type": "display_data"
    }
   ],
   "source": [
    "S.loadings[,1]/ sqrt(sum(S.loadings[,1]**2))"
   ]
  },
  {
   "cell_type": "markdown",
   "id": "495b864e",
   "metadata": {},
   "source": [
    "Все, що ми проробили вище, можна зробити за допомоги вбудованої функції prcomp:"
   ]
  },
  {
   "cell_type": "code",
   "execution_count": 9,
   "id": "51d98812",
   "metadata": {},
   "outputs": [
    {
     "data": {
      "text/html": [
       "<table>\n",
       "<thead><tr><th></th><th scope=col>PC1</th><th scope=col>PC2</th></tr></thead>\n",
       "<tbody>\n",
       "\t<tr><th scope=row>V2</th><td>-0.1011191 </td><td> 0.09661363</td></tr>\n",
       "\t<tr><th scope=row>V3</th><td>-0.7516463 </td><td> 0.64386366</td></tr>\n",
       "\t<tr><th scope=row>V4</th><td>-0.5600279 </td><td>-0.62651631</td></tr>\n",
       "\t<tr><th scope=row>V5</th><td>-0.3334239 </td><td>-0.42846553</td></tr>\n",
       "</tbody>\n",
       "</table>\n"
      ],
      "text/latex": [
       "\\begin{tabular}{r|ll}\n",
       "  & PC1 & PC2\\\\\n",
       "\\hline\n",
       "\tV2 & -0.1011191  &  0.09661363\\\\\n",
       "\tV3 & -0.7516463  &  0.64386366\\\\\n",
       "\tV4 & -0.5600279  & -0.62651631\\\\\n",
       "\tV5 & -0.3334239  & -0.42846553\\\\\n",
       "\\end{tabular}\n"
      ],
      "text/markdown": [
       "\n",
       "| <!--/--> | PC1 | PC2 |\n",
       "|---|---|---|\n",
       "| V2 | -0.1011191  |  0.09661363 |\n",
       "| V3 | -0.7516463  |  0.64386366 |\n",
       "| V4 | -0.5600279  | -0.62651631 |\n",
       "| V5 | -0.3334239  | -0.42846553 |\n",
       "\n"
      ],
      "text/plain": [
       "   PC1        PC2        \n",
       "V2 -0.1011191  0.09661363\n",
       "V3 -0.7516463  0.64386366\n",
       "V4 -0.5600279 -0.62651631\n",
       "V5 -0.3334239 -0.42846553"
      ]
     },
     "metadata": {},
     "output_type": "display_data"
    }
   ],
   "source": [
    "root.pca <- prcomp(root[,2:5])$rotation[,1:2]\n",
    "root.pca"
   ]
  },
  {
   "cell_type": "markdown",
   "id": "1c5a93ba",
   "metadata": {},
   "source": [
    "Ці вектори нормовані: "
   ]
  },
  {
   "cell_type": "code",
   "execution_count": 14,
   "id": "e1cff837",
   "metadata": {},
   "outputs": [
    {
     "data": {
      "text/html": [
       "1"
      ],
      "text/latex": [
       "1"
      ],
      "text/markdown": [
       "1"
      ],
      "text/plain": [
       "[1] 1"
      ]
     },
     "metadata": {},
     "output_type": "display_data"
    }
   ],
   "source": [
    "sum(root.pca[,1]**2)"
   ]
  },
  {
   "cell_type": "markdown",
   "id": "765c1d48",
   "metadata": {},
   "source": [
    "Операція  $\\$ $rotation  повертає значення власних векторів матриці  $S$ (порівняйте з  застосуванням S.eigen$\\$$vectors[,1:2]). \tОперація \n",
    "\\$sdev  повертає стандартне відхилення компонент: "
   ]
  },
  {
   "cell_type": "code",
   "execution_count": 22,
   "id": "ba225eb8",
   "metadata": {},
   "outputs": [
    {
     "data": {
      "text/html": [
       "<ol class=list-inline>\n",
       "\t<li>0.704</li>\n",
       "\t<li>0.403</li>\n",
       "\t<li>0.083</li>\n",
       "\t<li>0.04</li>\n",
       "</ol>\n"
      ],
      "text/latex": [
       "\\begin{enumerate*}\n",
       "\\item 0.704\n",
       "\\item 0.403\n",
       "\\item 0.083\n",
       "\\item 0.04\n",
       "\\end{enumerate*}\n"
      ],
      "text/markdown": [
       "1. 0.704\n",
       "2. 0.403\n",
       "3. 0.083\n",
       "4. 0.04\n",
       "\n",
       "\n"
      ],
      "text/plain": [
       "[1] 0.704 0.403 0.083 0.040"
      ]
     },
     "metadata": {},
     "output_type": "display_data"
    }
   ],
   "source": [
    "root.pca2 <- prcomp(root[,2:5])$sdev\n",
    "round(root.pca2,3)"
   ]
  },
  {
   "cell_type": "markdown",
   "id": "84862f81",
   "metadata": {},
   "source": [
    "Обчислимо спільні дисперсії: $\\hat{h}_i^2=\\sum_{j=1}^m \\hat{\\lambda}_{ij}^2$:"
   ]
  },
  {
   "cell_type": "code",
   "execution_count": 23,
   "id": "204569af",
   "metadata": {},
   "outputs": [
    {
     "data": {
      "text/html": [
       "<ol class=list-inline>\n",
       "\t<li>0.007</li>\n",
       "\t<li>0.348</li>\n",
       "\t<li>0.219</li>\n",
       "\t<li>0.085</li>\n",
       "</ol>\n"
      ],
      "text/latex": [
       "\\begin{enumerate*}\n",
       "\\item 0.007\n",
       "\\item 0.348\n",
       "\\item 0.219\n",
       "\\item 0.085\n",
       "\\end{enumerate*}\n"
      ],
      "text/markdown": [
       "1. 0.007\n",
       "2. 0.348\n",
       "3. 0.219\n",
       "4. 0.085\n",
       "\n",
       "\n"
      ],
      "text/plain": [
       "[1] 0.007 0.348 0.219 0.085"
      ]
     },
     "metadata": {},
     "output_type": "display_data"
    }
   ],
   "source": [
    "S.h2 <- rowSums(S.loadings^2)\n",
    "round(S.h2,3)"
   ]
  },
  {
   "cell_type": "markdown",
   "id": "68b70650",
   "metadata": {},
   "source": [
    "Тепер знайдемо залишкові дисперсії  $\\psi_i = s_{ii}- \\hat{h}_i^2$. "
   ]
  },
  {
   "cell_type": "code",
   "execution_count": 25,
   "id": "4a7ff30d",
   "metadata": {},
   "outputs": [
    {
     "data": {
      "text/html": [
       "<dl class=dl-horizontal>\n",
       "\t<dt>V2</dt>\n",
       "\t\t<dd>0.00178336785915666</dd>\n",
       "\t<dt>V3</dt>\n",
       "\t\t<dd>5.19700425896663e-05</dd>\n",
       "\t<dt>V4</dt>\n",
       "\t\t<dd>0.00196478641000913</dd>\n",
       "\t<dt>V5</dt>\n",
       "\t\t<dd>0.00468897807293685</dd>\n",
       "</dl>\n"
      ],
      "text/latex": [
       "\\begin{description*}\n",
       "\\item[V2] 0.00178336785915666\n",
       "\\item[V3] 5.19700425896663e-05\n",
       "\\item[V4] 0.00196478641000913\n",
       "\\item[V5] 0.00468897807293685\n",
       "\\end{description*}\n"
      ],
      "text/markdown": [
       "V2\n",
       ":   0.00178336785915666V3\n",
       ":   5.19700425896663e-05V4\n",
       ":   0.00196478641000913V5\n",
       ":   0.00468897807293685\n",
       "\n"
      ],
      "text/plain": [
       "          V2           V3           V4           V5 \n",
       "1.783368e-03 5.197004e-05 1.964786e-03 4.688978e-03 "
      ]
     },
     "metadata": {},
     "output_type": "display_data"
    }
   ],
   "source": [
    "S.u2 <- diag(S) - S.h2\n",
    "S.u2"
   ]
  },
  {
   "cell_type": "markdown",
   "id": "bfaf509c",
   "metadata": {},
   "source": [
    "Знайдемо пропорції власних чисел: "
   ]
  },
  {
   "cell_type": "code",
   "execution_count": 27,
   "id": "7f4e9c0f",
   "metadata": {},
   "outputs": [
    {
     "data": {
      "text/html": [
       "<table>\n",
       "<tbody>\n",
       "\t<tr><td>0.743</td><td>0.244</td></tr>\n",
       "</tbody>\n",
       "</table>\n"
      ],
      "text/latex": [
       "\\begin{tabular}{ll}\n",
       "\t 0.743 & 0.244\\\\\n",
       "\\end{tabular}\n"
      ],
      "text/markdown": [
       "\n",
       "| 0.743 | 0.244 |\n",
       "\n"
      ],
      "text/plain": [
       "     [,1]  [,2] \n",
       "[1,] 0.743 0.244"
      ]
     },
     "metadata": {},
     "output_type": "display_data"
    }
   ],
   "source": [
    "prop.loadings <- colSums(S.loadings^2)\n",
    "prop.var <- cbind(prop.loadings[1] / sum(S.eigen$values), prop.loadings[2] / sum(S.eigen$values))\n",
    "round(prop.var,3)"
   ]
  },
  {
   "cell_type": "markdown",
   "id": "e7d50b89",
   "metadata": {},
   "source": [
    "Тобто, перше власне значення має внесок  0.743 в загальну суму власних значень, а друге  0.244 (з точністю до округлення). Зауважимо, що сума цих двох власних чисел (sum(prop.var)) менша за 1 (sum(prop.var)). \n",
    "\n",
    "Якщо виключити інші власні числа, то отримаємо наступні внески: "
   ]
  },
  {
   "cell_type": "code",
   "execution_count": 28,
   "id": "81325324",
   "metadata": {},
   "outputs": [
    {
     "data": {
      "text/html": [
       "<table>\n",
       "<tbody>\n",
       "\t<tr><td>0.753</td><td>0.247</td></tr>\n",
       "</tbody>\n",
       "</table>\n"
      ],
      "text/latex": [
       "\\begin{tabular}{ll}\n",
       "\t 0.753 & 0.247\\\\\n",
       "\\end{tabular}\n"
      ],
      "text/markdown": [
       "\n",
       "| 0.753 | 0.247 |\n",
       "\n"
      ],
      "text/plain": [
       "     [,1]  [,2] \n",
       "[1,] 0.753 0.247"
      ]
     },
     "metadata": {},
     "output_type": "display_data"
    }
   ],
   "source": [
    "prop.exp <- cbind(prop.loadings[1] / sum(prop.loadings),\n",
    "prop.loadings[2] / sum(prop.loadings))\n",
    "round(prop.exp,3)"
   ]
  },
  {
   "cell_type": "markdown",
   "id": "09b4be7f",
   "metadata": {},
   "source": [
    "З іншого боку, можна застосувати  вбудовану функцію  fa()  з пакету psych. Для цього треба встановити пакет  psych та завантажити бібліотеку.  Проблема ще в тому, що пакет не встановлюється в jupyter, але все працює в RStudio. \n",
    "\n",
    "Функція  principal()  виконує факторний аналіз за допомоги методу головних компонент.  Поки що ми не використовуємо ротацію факторів, тому поставили  rotate = 'none'. Єдине що- для аналізу використовується матриці кореляцій, а  не матриця коваріацій\n",
    "\n",
    "https://m-clark.github.io/posts/2020-04-10-psych-explained/\n",
    "\n",
    " "
   ]
  },
  {
   "cell_type": "code",
   "execution_count": 36,
   "id": "3a3fb8c1",
   "metadata": {},
   "outputs": [
    {
     "ename": "ERROR",
     "evalue": "Error in principal(root[, 2:5], nfactors = 2, rotate = \"none\", covar = TRUE): konnte Funktion \"principal\" nicht finden\n",
     "output_type": "error",
     "traceback": [
      "Error in principal(root[, 2:5], nfactors = 2, rotate = \"none\", covar = TRUE): konnte Funktion \"principal\" nicht finden\nTraceback:\n"
     ]
    }
   ],
   "source": [
    "root.fa.covar <- principal(root[,2:5], nfactors = 2, rotate = 'none', covar = TRUE)\n",
    "root.fa.covar"
   ]
  },
  {
   "cell_type": "markdown",
   "id": "b7734837",
   "metadata": {},
   "source": [
    "ці результати ми отримаємо, якщо використаємо кореляційну матрицю у попередніх обчисленнях. "
   ]
  },
  {
   "cell_type": "code",
   "execution_count": 82,
   "id": "447c81fd",
   "metadata": {},
   "outputs": [
    {
     "data": {
      "text/plain": [
       "eigen() decomposition\n",
       "$values\n",
       "[1] 2.78462702 1.05412174 0.11733950 0.04391174\n",
       "\n",
       "$vectors\n",
       "           [,1]       [,2]       [,3]       [,4]\n",
       "[1,] -0.4713465  0.5600120  0.6431731  0.2248274\n",
       "[2,] -0.5089667  0.4544775 -0.7142114 -0.1559013\n",
       "[3,] -0.5243109 -0.4431448  0.2413716 -0.6859012\n",
       "[4,] -0.4938456 -0.5324091 -0.1340527  0.6743048\n"
      ]
     },
     "metadata": {},
     "output_type": "display_data"
    },
    {
     "data": {
      "image/png": "[encoded data removed]",
      "text/plain": [
       "Plot with title \"Eigenvalues Size\""
      ]
     },
     "metadata": {},
     "output_type": "display_data"
    }
   ],
   "source": [
    "R<- cor(root[,2:5])\n",
    "R.eigen <- eigen(R)\n",
    "R.eigen\n",
    "plot(R.eigen$values, xlab = 'Eigenvalue Number', ylab = 'Eigenvalue Size', main = 'Eigenvalues Size', \n",
    "type = 'b', xaxt = 'n')\n",
    "axis(1, at = seq(1, 4, by = 1))"
   ]
  },
  {
   "cell_type": "code",
   "execution_count": 79,
   "id": "87c8dd77",
   "metadata": {},
   "outputs": [
    {
     "data": {
      "text/plain": [
       "eigen() decomposition\n",
       "$values\n",
       "[1] 2.78462702 1.05412174 0.11733950 0.04391174\n",
       "\n",
       "$vectors\n",
       "           [,1]       [,2]       [,3]       [,4]\n",
       "[1,] -0.4713465  0.5600120  0.6431731  0.2248274\n",
       "[2,] -0.5089667  0.4544775 -0.7142114 -0.1559013\n",
       "[3,] -0.5243109 -0.4431448  0.2413716 -0.6859012\n",
       "[4,] -0.4938456 -0.5324091 -0.1340527  0.6743048\n"
      ]
     },
     "metadata": {},
     "output_type": "display_data"
    }
   ],
   "source": [
    "R.eigen"
   ]
  },
  {
   "cell_type": "code",
   "execution_count": 61,
   "id": "78875c73",
   "metadata": {},
   "outputs": [
    {
     "data": {
      "text/html": [
       "1"
      ],
      "text/latex": [
       "1"
      ],
      "text/markdown": [
       "1"
      ],
      "text/plain": [
       "[1] 1"
      ]
     },
     "metadata": {},
     "output_type": "display_data"
    }
   ],
   "source": [
    "sqrt(sum(R.eigen$vectors[,1]**2))"
   ]
  },
  {
   "cell_type": "markdown",
   "id": "db0bc89d",
   "metadata": {},
   "source": [
    "Нормовані! Вектори, отримані за допомогою - fa() ні. "
   ]
  },
  {
   "cell_type": "markdown",
   "id": "d8d8f040",
   "metadata": {},
   "source": [
    "Зобразимо  $R$  у вигляді $R = CR (DR)^{1/2} (DR)^{1/2}CR'$ та знайдемо  $CR$ та $DR$."
   ]
  },
  {
   "cell_type": "code",
   "execution_count": 63,
   "id": "beef3da3",
   "metadata": {},
   "outputs": [
    {
     "data": {
      "text/html": [
       "<table>\n",
       "<tbody>\n",
       "\t<tr><td>-0.7865453</td><td> 0.5749668</td></tr>\n",
       "\t<tr><td>-0.8493229</td><td> 0.4666140</td></tr>\n",
       "\t<tr><td>-0.8749282</td><td>-0.4549787</td></tr>\n",
       "\t<tr><td>-0.8240901</td><td>-0.5466267</td></tr>\n",
       "</tbody>\n",
       "</table>\n"
      ],
      "text/latex": [
       "\\begin{tabular}{ll}\n",
       "\t -0.7865453 &  0.5749668\\\\\n",
       "\t -0.8493229 &  0.4666140\\\\\n",
       "\t -0.8749282 & -0.4549787\\\\\n",
       "\t -0.8240901 & -0.5466267\\\\\n",
       "\\end{tabular}\n"
      ],
      "text/markdown": [
       "\n",
       "| -0.7865453 |  0.5749668 |\n",
       "| -0.8493229 |  0.4666140 |\n",
       "| -0.8749282 | -0.4549787 |\n",
       "| -0.8240901 | -0.5466267 |\n",
       "\n"
      ],
      "text/plain": [
       "     [,1]       [,2]      \n",
       "[1,] -0.7865453  0.5749668\n",
       "[2,] -0.8493229  0.4666140\n",
       "[3,] -0.8749282 -0.4549787\n",
       "[4,] -0.8240901 -0.5466267"
      ]
     },
     "metadata": {},
     "output_type": "display_data"
    }
   ],
   "source": [
    "CR <- as.matrix(R.eigen$vectors[,1:2])\n",
    "DR <- matrix(0, dim(CR)[2], dim(CR)[2])\n",
    "diag(DR) <- R.eigen$values[1:2]\n",
    "R.loadings <- CR %*% sqrt(DR)\n",
    "R.loadings"
   ]
  },
  {
   "cell_type": "markdown",
   "id": "cf668141",
   "metadata": {},
   "source": [
    "R.loadings - це як раз  вектори $PC1$, $PC2$, які знайдено функцією principal(). \n",
    "\n",
    "Обчислимо тепер  $\\hat{h}_i^2= \\sum_{j=1}^m \\hat{\\lambda}_{ij}^2$  та $\\psi_i = r_{ii}-\\hat{h}_i^2$"
   ]
  },
  {
   "cell_type": "code",
   "execution_count": 66,
   "id": "63676acf",
   "metadata": {},
   "outputs": [
    {
     "data": {
      "text/html": [
       "<ol class=list-inline>\n",
       "\t<li>0.95</li>\n",
       "\t<li>0.94</li>\n",
       "\t<li>0.97</li>\n",
       "\t<li>0.98</li>\n",
       "</ol>\n"
      ],
      "text/latex": [
       "\\begin{enumerate*}\n",
       "\\item 0.95\n",
       "\\item 0.94\n",
       "\\item 0.97\n",
       "\\item 0.98\n",
       "\\end{enumerate*}\n"
      ],
      "text/markdown": [
       "1. 0.95\n",
       "2. 0.94\n",
       "3. 0.97\n",
       "4. 0.98\n",
       "\n",
       "\n"
      ],
      "text/plain": [
       "[1] 0.95 0.94 0.97 0.98"
      ]
     },
     "metadata": {},
     "output_type": "display_data"
    }
   ],
   "source": [
    "R.h2 <- rowSums(R.loadings^2)\n",
    "round(R.h2,2)"
   ]
  },
  {
   "cell_type": "markdown",
   "id": "50c8cead",
   "metadata": {},
   "source": [
    "Обчислимо SS loadings: "
   ]
  },
  {
   "cell_type": "code",
   "execution_count": 68,
   "id": "2cd34caf",
   "metadata": {},
   "outputs": [
    {
     "data": {
      "text/html": [
       "<ol class=list-inline>\n",
       "\t<li>2.78462702217048</li>\n",
       "\t<li>1.05412173728874</li>\n",
       "</ol>\n"
      ],
      "text/latex": [
       "\\begin{enumerate*}\n",
       "\\item 2.78462702217048\n",
       "\\item 1.05412173728874\n",
       "\\end{enumerate*}\n"
      ],
      "text/markdown": [
       "1. 2.78462702217048\n",
       "2. 1.05412173728874\n",
       "\n",
       "\n"
      ],
      "text/plain": [
       "[1] 2.784627 1.054122"
      ]
     },
     "metadata": {},
     "output_type": "display_data"
    }
   ],
   "source": [
    "R.eigen$values[1:2]"
   ]
  },
  {
   "cell_type": "markdown",
   "id": "ffedcc38",
   "metadata": {},
   "source": [
    "Далі, залишкова дисперсія:"
   ]
  },
  {
   "cell_type": "code",
   "execution_count": 70,
   "id": "44ed6445",
   "metadata": {},
   "outputs": [
    {
     "data": {
      "text/html": [
       "<dl class=dl-horizontal>\n",
       "\t<dt>V2</dt>\n",
       "\t\t<dd>0.051</dd>\n",
       "\t<dt>V3</dt>\n",
       "\t\t<dd>0.061</dd>\n",
       "\t<dt>V4</dt>\n",
       "\t\t<dd>0.027</dd>\n",
       "\t<dt>V5</dt>\n",
       "\t\t<dd>0.022</dd>\n",
       "</dl>\n"
      ],
      "text/latex": [
       "\\begin{description*}\n",
       "\\item[V2] 0.051\n",
       "\\item[V3] 0.061\n",
       "\\item[V4] 0.027\n",
       "\\item[V5] 0.022\n",
       "\\end{description*}\n"
      ],
      "text/markdown": [
       "V2\n",
       ":   0.051V3\n",
       ":   0.061V4\n",
       ":   0.027V5\n",
       ":   0.022\n",
       "\n"
      ],
      "text/plain": [
       "   V2    V3    V4    V5 \n",
       "0.051 0.061 0.027 0.022 "
      ]
     },
     "metadata": {},
     "output_type": "display_data"
    }
   ],
   "source": [
    "R.u2 <- diag(R) - R.h2\n",
    "round(R.u2,3)"
   ]
  },
  {
   "cell_type": "markdown",
   "id": "d7bf9d66",
   "metadata": {},
   "source": [
    "Середню дисперсію можна обчислити наступним чином: "
   ]
  },
  {
   "cell_type": "code",
   "execution_count": 73,
   "id": "2777d3e7",
   "metadata": {},
   "outputs": [
    {
     "data": {
      "text/html": [
       "<ol class=list-inline>\n",
       "\t<li>1.8</li>\n",
       "\t<li>1.6</li>\n",
       "\t<li>1.5</li>\n",
       "\t<li>1.7</li>\n",
       "</ol>\n"
      ],
      "text/latex": [
       "\\begin{enumerate*}\n",
       "\\item 1.8\n",
       "\\item 1.6\n",
       "\\item 1.5\n",
       "\\item 1.7\n",
       "\\end{enumerate*}\n"
      ],
      "text/markdown": [
       "1. 1.8\n",
       "2. 1.6\n",
       "3. 1.5\n",
       "4. 1.7\n",
       "\n",
       "\n"
      ],
      "text/plain": [
       "[1] 1.8 1.6 1.5 1.7"
      ]
     },
     "metadata": {},
     "output_type": "display_data"
    }
   ],
   "source": [
    "comR <- rowSums(R.loadings^2)^2 / rowSums(R.loadings^4)\n",
    "round(comR,1)"
   ]
  },
  {
   "cell_type": "markdown",
   "id": "e417be7b",
   "metadata": {},
   "source": [
    "Чим ближчі ці значення до 1, тим краще обрані фактори пояснюють модель. "
   ]
  },
  {
   "cell_type": "markdown",
   "id": "4ea2c4a2",
   "metadata": {},
   "source": [
    "\n",
    "Функція varimax()  дозволяє знайти найкращу комбінацію факторів (тобто здійснити ''поворот'' осей) для того, щоб знайти найкращі навантаження.  Найкращим розв'язком був би такий, в якому складність була б близькою до 1, що в свою чергу означає, що одна змінна найкраще пояснюється одним фактором. \n",
    "\n",
    "А саме  (метод Кайзера),  шукаємо таку ортогональну  матрицю $T$, яка б максимізувала   таку різницю моментів: \n",
    "$$\n",
    "\\frac1p \\sum_{j=1}^k \\sum_{i=1}^p (\\Lambda T)_{ij}^4 - \\sum_{j=1}^k \\left(\\frac1p \\sum_{i=1}^p (\\Lambda T)_{ij}^2 \\right)^2\\Longrightarrow  \\max.\n",
    "$$ \n",
    "Фактично, ми при цьому змінюємо базис, та знаходимо нову матрицю навантажень $\\Lambda$. Елементи цієї матриці називаються loadings. \n",
    "\n",
    "В результати ми отримали б $\\Lambda^* = \\Lambda T$, де матриця  $T$ є ортогональною та такою, що максимізує дисперсії  навантажень в кожному стовбчику матриці  $\\Lambda^*$.\n",
    "Зауважимо, що при цьому середні дисперсії не змінюються: ортогональне перетворення не змінює власні числа. "
   ]
  },
  {
   "cell_type": "code",
   "execution_count": 74,
   "id": "71caf0e1",
   "metadata": {},
   "outputs": [
    {
     "ename": "ERROR",
     "evalue": "Error in principal(root[, 2:5], nfactors = 2, rotate = \"varimax\"): konnte Funktion \"principal\" nicht finden\n",
     "output_type": "error",
     "traceback": [
      "Error in principal(root[, 2:5], nfactors = 2, rotate = \"varimax\"): konnte Funktion \"principal\" nicht finden\nTraceback:\n"
     ]
    }
   ],
   "source": [
    "root.fa2 <- principal(root[,2:5], nfactors = 2, rotate = 'varimax')\n",
    "root.fa2"
   ]
  },
  {
   "cell_type": "markdown",
   "id": "378f228a",
   "metadata": {},
   "source": [
    "Розглянемо аналіз методом головних факторів.  Для цього оцінимо \n",
    "$$\n",
    "\\hat{h}_i^2 = 1- \\frac{1}{r_{ii}}.\n",
    "$$\n",
    "Потім ми замінимо  діагональні елементи $R$ на R.smc (R.smc  - це squared multiple correlation): "
   ]
  },
  {
   "cell_type": "code",
   "execution_count": 83,
   "id": "0834e268",
   "metadata": {},
   "outputs": [
    {
     "name": "stdout",
     "output_type": "stream",
     "text": [
      "  V2   V3   V4   V5 \n",
      "0.80 0.81 0.91 0.91 \n"
     ]
    },
    {
     "data": {
      "text/html": [
       "<table>\n",
       "<thead><tr><th></th><th scope=col>V2</th><th scope=col>V3</th><th scope=col>V4</th><th scope=col>V5</th></tr></thead>\n",
       "<tbody>\n",
       "\t<tr><th scope=row>V2</th><td>0.80</td><td>0.88</td><td>0.44</td><td>0.33</td></tr>\n",
       "\t<tr><th scope=row>V3</th><td>0.88</td><td>0.81</td><td>0.52</td><td>0.45</td></tr>\n",
       "\t<tr><th scope=row>V4</th><td>0.44</td><td>0.52</td><td>0.91</td><td>0.95</td></tr>\n",
       "\t<tr><th scope=row>V5</th><td>0.33</td><td>0.45</td><td>0.95</td><td>0.91</td></tr>\n",
       "</tbody>\n",
       "</table>\n"
      ],
      "text/latex": [
       "\\begin{tabular}{r|llll}\n",
       "  & V2 & V3 & V4 & V5\\\\\n",
       "\\hline\n",
       "\tV2 & 0.80 & 0.88 & 0.44 & 0.33\\\\\n",
       "\tV3 & 0.88 & 0.81 & 0.52 & 0.45\\\\\n",
       "\tV4 & 0.44 & 0.52 & 0.91 & 0.95\\\\\n",
       "\tV5 & 0.33 & 0.45 & 0.95 & 0.91\\\\\n",
       "\\end{tabular}\n"
      ],
      "text/markdown": [
       "\n",
       "| <!--/--> | V2 | V3 | V4 | V5 |\n",
       "|---|---|---|---|---|\n",
       "| V2 | 0.80 | 0.88 | 0.44 | 0.33 |\n",
       "| V3 | 0.88 | 0.81 | 0.52 | 0.45 |\n",
       "| V4 | 0.44 | 0.52 | 0.91 | 0.95 |\n",
       "| V5 | 0.33 | 0.45 | 0.95 | 0.91 |\n",
       "\n"
      ],
      "text/plain": [
       "   V2   V3   V4   V5  \n",
       "V2 0.80 0.88 0.44 0.33\n",
       "V3 0.88 0.81 0.52 0.45\n",
       "V4 0.44 0.52 0.91 0.95\n",
       "V5 0.33 0.45 0.95 0.91"
      ]
     },
     "metadata": {},
     "output_type": "display_data"
    }
   ],
   "source": [
    "R.smc <- (1 - 1 / diag(solve(R)))\n",
    "diag(R) <- R.smc\n",
    "print(round(R.smc,2))\n",
    "round(R, 2)"
   ]
  },
  {
   "cell_type": "markdown",
   "id": "8139949f",
   "metadata": {},
   "source": [
    "Тепер знайдемо власні числа та власні вектори матриці \n",
    "$R-\\hat{\\Psi}$. "
   ]
  },
  {
   "cell_type": "code",
   "execution_count": 85,
   "id": "08a4bd69",
   "metadata": {},
   "outputs": [
    {
     "name": "stdout",
     "output_type": "stream",
     "text": [
      "[1]  2.65  0.91 -0.03 -0.09\n"
     ]
    }
   ],
   "source": [
    "r.eigen <- eigen(R)\n",
    "print(round(r.eigen$values,2))"
   ]
  },
  {
   "cell_type": "markdown",
   "id": "e68ab438",
   "metadata": {},
   "source": [
    "Матриця $R$  вже не є додатньо визначеною, оскільки ми вже замінили елементи на діагоналі їх оцінками. Отже, можуть бути декільки від'ємних власних чисел. \n",
    "Оскільки від'ємні власні числа не використовуються для оцінки $\\lambda$, оберемо  $m=2$."
   ]
  },
  {
   "cell_type": "code",
   "execution_count": 86,
   "id": "a8e26632",
   "metadata": {},
   "outputs": [
    {
     "data": {
      "text/html": [
       "<table>\n",
       "<tbody>\n",
       "\t<tr><td>-0.74</td><td> 0.54</td></tr>\n",
       "\t<tr><td>-0.80</td><td> 0.45</td></tr>\n",
       "\t<tr><td>-0.88</td><td>-0.41</td></tr>\n",
       "\t<tr><td>-0.83</td><td>-0.50</td></tr>\n",
       "</tbody>\n",
       "</table>\n"
      ],
      "text/latex": [
       "\\begin{tabular}{ll}\n",
       "\t -0.74 &  0.54\\\\\n",
       "\t -0.80 &  0.45\\\\\n",
       "\t -0.88 & -0.41\\\\\n",
       "\t -0.83 & -0.50\\\\\n",
       "\\end{tabular}\n"
      ],
      "text/markdown": [
       "\n",
       "| -0.74 |  0.54 |\n",
       "| -0.80 |  0.45 |\n",
       "| -0.88 | -0.41 |\n",
       "| -0.83 | -0.50 |\n",
       "\n"
      ],
      "text/plain": [
       "     [,1]  [,2] \n",
       "[1,] -0.74  0.54\n",
       "[2,] -0.80  0.45\n",
       "[3,] -0.88 -0.41\n",
       "[4,] -0.83 -0.50"
      ]
     },
     "metadata": {},
     "output_type": "display_data"
    }
   ],
   "source": [
    "r.lambda <- as.matrix(r.eigen$vectors[,1:2]) %*% diag(sqrt(r.eigen$values[1:2]))\n",
    "round(r.lambda,2)"
   ]
  },
  {
   "cell_type": "markdown",
   "id": "9cb7ccad",
   "metadata": {},
   "source": [
    "Обчислимо середні дисперсії (communalities),  (specific variances) та складність навантажень: "
   ]
  },
  {
   "cell_type": "code",
   "execution_count": 87,
   "id": "5cc172e1",
   "metadata": {},
   "outputs": [],
   "source": [
    "r.h2 <- rowSums(r.lambda^2)\n",
    "r.u2 <- 1 - r.h2\n",
    "com <- rowSums(r.lambda^2)^2 / rowSums(r.lambda^4)"
   ]
  },
  {
   "cell_type": "markdown",
   "id": "9e97e225",
   "metadata": {},
   "source": [
    "Зберемо результати в наступну  data.frame."
   ]
  },
  {
   "cell_type": "code",
   "execution_count": 88,
   "id": "6372e893",
   "metadata": {},
   "outputs": [
    {
     "data": {
      "text/html": [
       "<table>\n",
       "<thead><tr><th scope=col>PA1</th><th scope=col>PA2</th><th scope=col>h2</th><th scope=col>u2</th><th scope=col>com</th></tr></thead>\n",
       "<tbody>\n",
       "\t<tr><td>-0.74</td><td> 0.54</td><td>0.84 </td><td>0.158</td><td>1.8  </td></tr>\n",
       "\t<tr><td>-0.80</td><td> 0.45</td><td>0.85 </td><td>0.150</td><td>1.6  </td></tr>\n",
       "\t<tr><td>-0.88</td><td>-0.41</td><td>0.93 </td><td>0.067</td><td>1.4  </td></tr>\n",
       "\t<tr><td>-0.83</td><td>-0.50</td><td>0.93 </td><td>0.072</td><td>1.6  </td></tr>\n",
       "</tbody>\n",
       "</table>\n"
      ],
      "text/latex": [
       "\\begin{tabular}{r|lllll}\n",
       " PA1 & PA2 & h2 & u2 & com\\\\\n",
       "\\hline\n",
       "\t -0.74 &  0.54 & 0.84  & 0.158 & 1.8  \\\\\n",
       "\t -0.80 &  0.45 & 0.85  & 0.150 & 1.6  \\\\\n",
       "\t -0.88 & -0.41 & 0.93  & 0.067 & 1.4  \\\\\n",
       "\t -0.83 & -0.50 & 0.93  & 0.072 & 1.6  \\\\\n",
       "\\end{tabular}\n"
      ],
      "text/markdown": [
       "\n",
       "| PA1 | PA2 | h2 | u2 | com |\n",
       "|---|---|---|---|---|\n",
       "| -0.74 |  0.54 | 0.84  | 0.158 | 1.8   |\n",
       "| -0.80 |  0.45 | 0.85  | 0.150 | 1.6   |\n",
       "| -0.88 | -0.41 | 0.93  | 0.067 | 1.4   |\n",
       "| -0.83 | -0.50 | 0.93  | 0.072 | 1.6   |\n",
       "\n"
      ],
      "text/plain": [
       "  PA1   PA2   h2   u2    com\n",
       "1 -0.74  0.54 0.84 0.158 1.8\n",
       "2 -0.80  0.45 0.85 0.150 1.6\n",
       "3 -0.88 -0.41 0.93 0.067 1.4\n",
       "4 -0.83 -0.50 0.93 0.072 1.6"
      ]
     },
     "metadata": {},
     "output_type": "display_data"
    }
   ],
   "source": [
    "cor.pa <- data.frame(cbind(round(r.lambda, 2), \n",
    "round(r.h2, 2), round(r.u2, 3), round(com, 1)))\n",
    "colnames(cor.pa) <- c('PA1', 'PA2', 'h2', 'u2', 'com')\n",
    "cor.pa"
   ]
  },
  {
   "cell_type": "markdown",
   "id": "c103b7e9",
   "metadata": {},
   "source": [
    "Застосуємо тепер вбудовану функцію fa().  Функція  fa()  може застосовувати  ітеративно метод головних факторів до тих пір, поки ми не отримуємо задовільний результат.  "
   ]
  },
  {
   "cell_type": "code",
   "execution_count": null,
   "id": "7c7f174b",
   "metadata": {},
   "outputs": [],
   "source": [
    "#root.cor.fa <- fa(root[,2:5], nfactors = 2, rotate = 'none', \n",
    "#fm = 'pa', max.iter = 1)\n",
    "#root.cor.fa"
   ]
  }
 ],
 "metadata": {
  "kernelspec": {
   "display_name": "R",
   "language": "R",
   "name": "ir"
  },
  "language_info": {
   "codemirror_mode": "r",
   "file_extension": ".r",
   "mimetype": "text/x-r-source",
   "name": "R",
   "pygments_lexer": "r",
   "version": "3.6.1"
  }
 },
 "nbformat": 4,
 "nbformat_minor": 5
}
