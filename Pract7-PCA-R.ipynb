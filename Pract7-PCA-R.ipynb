{
 "cells": [
  {
   "cell_type": "markdown",
   "id": "976a032f",
   "metadata": {},
   "source": [
    "## Практика 7: Метод головних компонент\n",
    "\n",
    "### Приклад 12.2.1 Rencher. \n",
    "\n",
    "В  таблиці наведені вимірювання параметрів голови (довжина та ширина щелепа) для першого (колонки $V1$ та $V2$) та другого  (відповідно, колонки $V3$ та  $V4$)  синів в родині. "
   ]
  },
  {
   "cell_type": "code",
   "execution_count": 1,
   "id": "96468cf2",
   "metadata": {},
   "outputs": [
    {
     "name": "stderr",
     "output_type": "stream",
     "text": [
      "also installing the dependencies 'cli', 'lifecycle', 'rlang', 'scales', 'vctrs'\n",
      "\n"
     ]
    },
    {
     "name": "stdout",
     "output_type": "stream",
     "text": [
      "\n",
      "  There are binary versions available but the source versions are later:\n",
      "          binary source needs_compilation\n",
      "cli        2.5.0  3.6.1              TRUE\n",
      "lifecycle  1.0.0  1.0.3             FALSE\n",
      "rlang     0.4.11  1.1.0              TRUE\n",
      "scales     1.1.1  1.2.1             FALSE\n",
      "vctrs      0.3.8  0.6.2              TRUE\n",
      "ggplot2    3.3.3  3.4.2             FALSE\n",
      "\n",
      "  Binaries will be installed\n",
      "package 'cli' successfully unpacked and MD5 sums checked\n",
      "package 'rlang' successfully unpacked and MD5 sums checked\n"
     ]
    },
    {
     "name": "stderr",
     "output_type": "stream",
     "text": [
      "Warning message:\n",
      "\"cannot remove prior installation of package 'rlang'\"Warning message in file.copy(savedcopy, lib, recursive = TRUE):\n",
      "\"Problem C:\\Users\\vica\\anaconda3\\envs\\EnvironmentVica\\Lib\\R\\library\\00LOCK\\rlang\\libs\\x64\\rlang.dll nach C:\\Users\\vica\\anaconda3\\envs\\EnvironmentVica\\Lib\\R\\library\\rlang\\libs\\x64\\rlang.dll zu kopieren: Permission denied\"Warning message:\n",
      "\"restored 'rlang'\""
     ]
    },
    {
     "name": "stdout",
     "output_type": "stream",
     "text": [
      "package 'vctrs' successfully unpacked and MD5 sums checked\n"
     ]
    },
    {
     "name": "stderr",
     "output_type": "stream",
     "text": [
      "Warning message:\n",
      "\"cannot remove prior installation of package 'vctrs'\"Warning message in file.copy(savedcopy, lib, recursive = TRUE):\n",
      "\"Problem C:\\Users\\vica\\anaconda3\\envs\\EnvironmentVica\\Lib\\R\\library\\00LOCK\\vctrs\\libs\\x64\\vctrs.dll nach C:\\Users\\vica\\anaconda3\\envs\\EnvironmentVica\\Lib\\R\\library\\vctrs\\libs\\x64\\vctrs.dll zu kopieren: Permission denied\"Warning message:\n",
      "\"restored 'vctrs'\""
     ]
    },
    {
     "name": "stdout",
     "output_type": "stream",
     "text": [
      "\n",
      "The downloaded binary packages are in\n",
      "\tC:\\Users\\vica\\AppData\\Local\\Temp\\Rtmpe0Cotx\\downloaded_packages\n"
     ]
    },
    {
     "name": "stderr",
     "output_type": "stream",
     "text": [
      "installing the source packages 'lifecycle', 'scales', 'ggplot2'\n",
      "\n",
      "Warning message in install.packages(\"ggplot2\"):\n",
      "\"installation of package 'lifecycle' had non-zero exit status\"Warning message in install.packages(\"ggplot2\"):\n",
      "\"installation of package 'scales' had non-zero exit status\"Warning message in install.packages(\"ggplot2\"):\n",
      "\"installation of package 'ggplot2' had non-zero exit status\"Registered S3 methods overwritten by 'ggplot2':\n",
      "  method         from \n",
      "  [.quosures     rlang\n",
      "  c.quosures     rlang\n",
      "  print.quosures rlang\n"
     ]
    }
   ],
   "source": [
    "# install.packages(\"ggplot2\")\n",
    "library('ggplot2')"
   ]
  },
  {
   "cell_type": "code",
   "execution_count": 2,
   "id": "06d4e90a",
   "metadata": {},
   "outputs": [],
   "source": [
    "library(ggfortify)"
   ]
  },
  {
   "cell_type": "code",
   "execution_count": 3,
   "id": "e292799e",
   "metadata": {},
   "outputs": [],
   "source": [
    "options(repr.plot.width=3.5, repr.plot.height=3.5)"
   ]
  },
  {
   "cell_type": "code",
   "execution_count": 4,
   "id": "f929bbb6",
   "metadata": {},
   "outputs": [
    {
     "data": {
      "text/html": [
       "<table>\n",
       "<thead><tr><th scope=col>V1</th><th scope=col>V2</th><th scope=col>V3</th><th scope=col>V4</th></tr></thead>\n",
       "<tbody>\n",
       "\t<tr><td>191</td><td>155</td><td>179</td><td>145</td></tr>\n",
       "\t<tr><td>195</td><td>149</td><td>201</td><td>152</td></tr>\n",
       "\t<tr><td>181</td><td>148</td><td>185</td><td>149</td></tr>\n",
       "\t<tr><td>183</td><td>153</td><td>188</td><td>149</td></tr>\n",
       "\t<tr><td>176</td><td>144</td><td>171</td><td>142</td></tr>\n",
       "\t<tr><td>208</td><td>157</td><td>192</td><td>152</td></tr>\n",
       "</tbody>\n",
       "</table>\n"
      ],
      "text/latex": [
       "\\begin{tabular}{r|llll}\n",
       " V1 & V2 & V3 & V4\\\\\n",
       "\\hline\n",
       "\t 191 & 155 & 179 & 145\\\\\n",
       "\t 195 & 149 & 201 & 152\\\\\n",
       "\t 181 & 148 & 185 & 149\\\\\n",
       "\t 183 & 153 & 188 & 149\\\\\n",
       "\t 176 & 144 & 171 & 142\\\\\n",
       "\t 208 & 157 & 192 & 152\\\\\n",
       "\\end{tabular}\n"
      ],
      "text/markdown": [
       "\n",
       "| V1 | V2 | V3 | V4 |\n",
       "|---|---|---|---|\n",
       "| 191 | 155 | 179 | 145 |\n",
       "| 195 | 149 | 201 | 152 |\n",
       "| 181 | 148 | 185 | 149 |\n",
       "| 183 | 153 | 188 | 149 |\n",
       "| 176 | 144 | 171 | 142 |\n",
       "| 208 | 157 | 192 | 152 |\n",
       "\n"
      ],
      "text/plain": [
       "  V1  V2  V3  V4 \n",
       "1 191 155 179 145\n",
       "2 195 149 201 152\n",
       "3 181 148 185 149\n",
       "4 183 153 188 149\n",
       "5 176 144 171 142\n",
       "6 208 157 192 152"
      ]
     },
     "metadata": {},
     "output_type": "display_data"
    }
   ],
   "source": [
    "sons <- read.table('T3_7_SONS.DAT')\n",
    "head(sons)\n"
   ]
  },
  {
   "cell_type": "markdown",
   "id": "dc0cdd75",
   "metadata": {},
   "source": [
    "Щоб проілюструвати, що знаходження головних компонент - це фактично ротація  осей координат, наведемо дані для першого сина в координатах та в нових координатах, які являють собою власні вектори коваріаційної матриці.  "
   ]
  },
  {
   "cell_type": "markdown",
   "id": "bf7ea137",
   "metadata": {},
   "source": [
    "Знайдемо вектор середніх: "
   ]
  },
  {
   "cell_type": "code",
   "execution_count": 5,
   "id": "336d8c83",
   "metadata": {},
   "outputs": [],
   "source": [
    "son1<-matrix(cbind(sons$V1,sons$V2), nrow = 25, byrow = FALSE)"
   ]
  },
  {
   "cell_type": "code",
   "execution_count": 6,
   "id": "51562c92",
   "metadata": {},
   "outputs": [],
   "source": [
    "m1<-mean(sons$V1)\n",
    "m2<-mean(sons$V2)\n",
    "ybar<-c(m1,m2)"
   ]
  },
  {
   "cell_type": "markdown",
   "id": "9147b7f3",
   "metadata": {},
   "source": [
    "Тепер знайдемо коваріаційну матрицю, її власні вектори та власні числа: "
   ]
  },
  {
   "cell_type": "code",
   "execution_count": 7,
   "id": "f4136f90",
   "metadata": {},
   "outputs": [
    {
     "data": {
      "text/html": [
       "<ol class=list-inline>\n",
       "\t<li>131.518333725317</li>\n",
       "\t<li>18.1349996080161</li>\n",
       "</ol>\n"
      ],
      "text/latex": [
       "\\begin{enumerate*}\n",
       "\\item 131.518333725317\n",
       "\\item 18.1349996080161\n",
       "\\end{enumerate*}\n"
      ],
      "text/markdown": [
       "1. 131.518333725317\n",
       "2. 18.1349996080161\n",
       "\n",
       "\n"
      ],
      "text/plain": [
       "[1] 131.5183  18.1350"
      ]
     },
     "metadata": {},
     "output_type": "display_data"
    },
    {
     "data": {
      "text/html": [
       "<table>\n",
       "<tbody>\n",
       "\t<tr><td>-0.8249295</td><td> 0.5652357</td></tr>\n",
       "\t<tr><td>-0.5652357</td><td>-0.8249295</td></tr>\n",
       "</tbody>\n",
       "</table>\n"
      ],
      "text/latex": [
       "\\begin{tabular}{ll}\n",
       "\t -0.8249295 &  0.5652357\\\\\n",
       "\t -0.5652357 & -0.8249295\\\\\n",
       "\\end{tabular}\n"
      ],
      "text/markdown": [
       "\n",
       "| -0.8249295 |  0.5652357 |\n",
       "| -0.5652357 | -0.8249295 |\n",
       "\n"
      ],
      "text/plain": [
       "     [,1]       [,2]      \n",
       "[1,] -0.8249295  0.5652357\n",
       "[2,] -0.5652357 -0.8249295"
      ]
     },
     "metadata": {},
     "output_type": "display_data"
    }
   ],
   "source": [
    "Sson1<-cov(son1)      \n",
    "eigen(Sson1)$values    \n",
    "eigen(Sson1)$vectors  \n",
    "a1<- -eigen(Sson1)$vectors[,1]  \n",
    "a2<- -eigen(Sson1)$vectors[,2]"
   ]
  },
  {
   "cell_type": "markdown",
   "id": "ba9fec8d",
   "metadata": {},
   "source": [
    "Ми центруємо та запишемо дискримінантні функції для центрованих даних: "
   ]
  },
  {
   "cell_type": "code",
   "execution_count": 8,
   "id": "23e016ef",
   "metadata": {},
   "outputs": [],
   "source": [
    "son1_cntr<-matrix(c(son1[,1]-m1,son1[,2]-m2), nrow = 25, byrow = FALSE)\n",
    "z1<- son1_cntr%*% a1\n",
    "z2<-son1_cntr%*% a2"
   ]
  },
  {
   "cell_type": "markdown",
   "id": "2e009f8b",
   "metadata": {},
   "source": [
    "Зобразимо графічно дані в старих і нових координатах (ми завантажили library(repr) для того, щоб обрати розмір картинки): "
   ]
  },
  {
   "cell_type": "code",
   "execution_count": 9,
   "id": "23fa623a",
   "metadata": {},
   "outputs": [
    {
     "data": {
      "image/png": "[encoded data removed]",
      "text/plain": [
       "plot without title"
      ]
     },
     "metadata": {},
     "output_type": "display_data"
    }
   ],
   "source": [
    "library(repr)\n",
    "options(repr.plot.width=5, repr.plot.height=4)\n",
    "\n",
    "plot(sons$V1-m1,sons$V2-m2, col=\"green\")\n",
    "points(z1,z2, col=\"red\")"
   ]
  },
  {
   "cell_type": "markdown",
   "id": "0297cd67",
   "metadata": {},
   "source": [
    "### Exercise  12.7  Rencher. \n",
    "Див. також повний код [тут](https://rpubs.com/aaronsc32/principal-component-analysis)\n",
    "В наступній таблиці наведено результати  6 тестів   20 інженерів-студентів та 20 пілотів. Ми наведемо перші 6 значень таблиці; тут 1 означає, що мова йде про студента, а 2-про пілота. Тому ми зробимо групування данних за принципом, чи є людина, що бере участь в експерименті, студентом чи пілотом."
   ]
  },
  {
   "cell_type": "code",
   "execution_count": 10,
   "id": "244b848b",
   "metadata": {},
   "outputs": [
    {
     "data": {
      "text/html": [
       "<table>\n",
       "<thead><tr><th scope=col>Group</th><th scope=col>V1</th><th scope=col>V2</th><th scope=col>V3</th><th scope=col>V4</th><th scope=col>V5</th><th scope=col>V6</th></tr></thead>\n",
       "<tbody>\n",
       "\t<tr><td>1  </td><td>121</td><td>22 </td><td>74 </td><td>223</td><td>54 </td><td>254</td></tr>\n",
       "\t<tr><td>1  </td><td>108</td><td>30 </td><td>80 </td><td>175</td><td>40 </td><td>300</td></tr>\n",
       "\t<tr><td>1  </td><td>122</td><td>49 </td><td>87 </td><td>266</td><td>41 </td><td>223</td></tr>\n",
       "\t<tr><td>1  </td><td> 77</td><td>37 </td><td>66 </td><td>178</td><td>80 </td><td>209</td></tr>\n",
       "\t<tr><td>1  </td><td>140</td><td>35 </td><td>71 </td><td>175</td><td>38 </td><td>261</td></tr>\n",
       "\t<tr><td>1  </td><td>108</td><td>37 </td><td>57 </td><td>241</td><td>59 </td><td>245</td></tr>\n",
       "</tbody>\n",
       "</table>\n"
      ],
      "text/latex": [
       "\\begin{tabular}{r|lllllll}\n",
       " Group & V1 & V2 & V3 & V4 & V5 & V6\\\\\n",
       "\\hline\n",
       "\t 1   & 121 & 22  & 74  & 223 & 54  & 254\\\\\n",
       "\t 1   & 108 & 30  & 80  & 175 & 40  & 300\\\\\n",
       "\t 1   & 122 & 49  & 87  & 266 & 41  & 223\\\\\n",
       "\t 1   &  77 & 37  & 66  & 178 & 80  & 209\\\\\n",
       "\t 1   & 140 & 35  & 71  & 175 & 38  & 261\\\\\n",
       "\t 1   & 108 & 37  & 57  & 241 & 59  & 245\\\\\n",
       "\\end{tabular}\n"
      ],
      "text/markdown": [
       "\n",
       "| Group | V1 | V2 | V3 | V4 | V5 | V6 |\n",
       "|---|---|---|---|---|---|---|\n",
       "| 1   | 121 | 22  | 74  | 223 | 54  | 254 |\n",
       "| 1   | 108 | 30  | 80  | 175 | 40  | 300 |\n",
       "| 1   | 122 | 49  | 87  | 266 | 41  | 223 |\n",
       "| 1   |  77 | 37  | 66  | 178 | 80  | 209 |\n",
       "| 1   | 140 | 35  | 71  | 175 | 38  | 261 |\n",
       "| 1   | 108 | 37  | 57  | 241 | 59  | 245 |\n",
       "\n"
      ],
      "text/plain": [
       "  Group V1  V2 V3 V4  V5 V6 \n",
       "1 1     121 22 74 223 54 254\n",
       "2 1     108 30 80 175 40 300\n",
       "3 1     122 49 87 266 41 223\n",
       "4 1      77 37 66 178 80 209\n",
       "5 1     140 35 71 175 38 261\n",
       "6 1     108 37 57 241 59 245"
      ]
     },
     "metadata": {},
     "output_type": "display_data"
    }
   ],
   "source": [
    "pilots <- read.table('T5_6_PILOT.DAT', \n",
    "        col.names =  c('Group', 'V1', 'V2','V3', 'V4', 'V5','V6'))\n",
    "head(pilots)"
   ]
  },
  {
   "cell_type": "markdown",
   "id": "4b259404",
   "metadata": {},
   "source": [
    "За допомогою функції  eigen отримаємо інфомацію про власті числа та власні вектори матриці коваріацій. Тут sum(diag(S)) це сумарна дисперсія, тобто сума власних значень. "
   ]
  },
  {
   "cell_type": "code",
   "execution_count": 11,
   "id": "de44fab8",
   "metadata": {},
   "outputs": [
    {
     "data": {
      "text/html": [
       "3442.19935897436"
      ],
      "text/latex": [
       "3442.19935897436"
      ],
      "text/markdown": [
       "3442.19935897436"
      ],
      "text/plain": [
       "[1] 3442.199"
      ]
     },
     "metadata": {},
     "output_type": "display_data"
    },
    {
     "data": {
      "text/plain": [
       "eigen() decomposition\n",
       "$values\n",
       "[1] 1722.0424  878.3578  401.4386  261.0769  128.9051   50.3785\n",
       "\n",
       "$vectors\n",
       "            [,1]        [,2]        [,3]        [,4]        [,5]        [,6]\n",
       "[1,] -0.21165160 -0.38949336  0.88819049  0.03082062 -0.04760343  0.10677164\n",
       "[2,]  0.03883125 -0.06379320  0.09571590 -0.19128493 -0.14793191 -0.96269790\n",
       "[3,] -0.08012946  0.06602004  0.08145863 -0.12854488  0.97505667 -0.12379748\n",
       "[4,] -0.77552673  0.60795970  0.08071120  0.08125631 -0.10891968 -0.06295166\n",
       "[5,]  0.09593926 -0.01046493  0.01494473  0.96813856  0.10919120 -0.20309559\n",
       "[6,] -0.58019734 -0.68566916 -0.43426141  0.04518327  0.03644629 -0.03572141\n"
      ]
     },
     "metadata": {},
     "output_type": "display_data"
    }
   ],
   "source": [
    "S <- cov(pilots[,2:7])\n",
    "sum(diag(S))  \n",
    "s.eigen <- eigen(S)\n",
    "s.eigen"
   ]
  },
  {
   "cell_type": "markdown",
   "id": "ff7f4d38",
   "metadata": {},
   "source": [
    "Обчислимо пропорцію власних чисел до сумарної дисперсії $ \\lambda_i/(\\sum \\lambda_i)$:"
   ]
  },
  {
   "cell_type": "code",
   "execution_count": 12,
   "id": "99cf32f6",
   "metadata": {},
   "outputs": [
    {
     "name": "stdout",
     "output_type": "stream",
     "text": [
      "[1] 0.50027387 0.25517343 0.11662269 0.07584597 0.03744848 0.01463556\n"
     ]
    }
   ],
   "source": [
    "x<-c()\n",
    "for (s in s.eigen$values) {\n",
    "    x<-c(x,s / sum(s.eigen$values))\n",
    "} \n",
    "print(x)"
   ]
  },
  {
   "cell_type": "markdown",
   "id": "75f145f9",
   "metadata": {},
   "source": [
    "Намалюємо scree plot: "
   ]
  },
  {
   "cell_type": "code",
   "execution_count": 13,
   "id": "f072498f",
   "metadata": {},
   "outputs": [
    {
     "data": {
      "image/png": "[encoded data removed]",
      "text/plain": [
       "plot without title"
      ]
     },
     "metadata": {},
     "output_type": "display_data"
    }
   ],
   "source": [
    "plot(s.eigen$values, xlab = 'eigenvalue number', ylab = 'eigenvalues')\n",
    "lines(s.eigen$values)"
   ]
  },
  {
   "cell_type": "markdown",
   "id": "2b597596",
   "metadata": {},
   "source": [
    "З іншого боку, щоб отримати стандартні відхилення (тобто корені з власних чисел), можна застосувати фунції princomp та  prcomp до pilots[,2:7]. Отримаємо: "
   ]
  },
  {
   "cell_type": "code",
   "execution_count": 14,
   "id": "a3dc4ed5",
   "metadata": {},
   "outputs": [
    {
     "data": {
      "text/plain": [
       "Call:\n",
       "princomp(x = pilots[, 2:7])\n",
       "\n",
       "Standard deviations:\n",
       "   Comp.1    Comp.2    Comp.3    Comp.4    Comp.5    Comp.6 \n",
       "40.975497 29.264294 19.783897 15.954623 11.210822  7.008498 \n",
       "\n",
       " 6  variables and  40 observations."
      ]
     },
     "metadata": {},
     "output_type": "display_data"
    }
   ],
   "source": [
    "princomp(pilots[,2:7])"
   ]
  },
  {
   "cell_type": "markdown",
   "id": "d0600265",
   "metadata": {},
   "source": [
    "Функція prcomp() дає більш  повну інформацію, а саме: "
   ]
  },
  {
   "cell_type": "code",
   "execution_count": 15,
   "id": "05d0d431",
   "metadata": {},
   "outputs": [
    {
     "data": {
      "text/plain": [
       "Standard deviations (1, .., p=6):\n",
       "[1] 41.497499 29.637102 20.035932 16.157875 11.353640  7.097781\n",
       "\n",
       "Rotation (n x k) = (6 x 6):\n",
       "           PC1         PC2         PC3         PC4         PC5         PC6\n",
       "V1  0.21165160 -0.38949336  0.88819049 -0.03082062 -0.04760343 -0.10677164\n",
       "V2 -0.03883125 -0.06379320  0.09571590  0.19128493 -0.14793191  0.96269790\n",
       "V3  0.08012946  0.06602004  0.08145863  0.12854488  0.97505667  0.12379748\n",
       "V4  0.77552673  0.60795970  0.08071120 -0.08125631 -0.10891968  0.06295166\n",
       "V5 -0.09593926 -0.01046493  0.01494473 -0.96813856  0.10919120  0.20309559\n",
       "V6  0.58019734 -0.68566916 -0.43426141 -0.04518327  0.03644629  0.03572141"
      ]
     },
     "metadata": {},
     "output_type": "display_data"
    }
   ],
   "source": [
    "prcomp(pilots[,2:7])"
   ]
  },
  {
   "cell_type": "markdown",
   "id": "6387b417",
   "metadata": {},
   "source": [
    "Зауважимо, що наведені PC відрізняються від власних векторів знаком!\n",
    "\n",
    "Для того, щоб отримати повну інформацію і про стандартні відхтлення, і про стандартні відхилення, можна використати функцію  summary():"
   ]
  },
  {
   "cell_type": "code",
   "execution_count": 16,
   "id": "70b4220a",
   "metadata": {},
   "outputs": [
    {
     "data": {
      "text/plain": [
       "Importance of components:\n",
       "                           PC1     PC2     PC3      PC4      PC5     PC6\n",
       "Standard deviation     41.4975 29.6371 20.0359 16.15788 11.35364 7.09778\n",
       "Proportion of Variance  0.5003  0.2552  0.1166  0.07585  0.03745 0.01464\n",
       "Cumulative Proportion   0.5003  0.7554  0.8721  0.94792  0.98536 1.00000"
      ]
     },
     "metadata": {},
     "output_type": "display_data"
    }
   ],
   "source": [
    "pilots.pca <- prcomp(pilots[,2:7])\n",
    "summary(pilots.pca)"
   ]
  },
  {
   "cell_type": "markdown",
   "id": "5cd44689",
   "metadata": {},
   "source": [
    "Виконаємо візуалізацію даних. Для цього спочатку зробимо нормування. "
   ]
  },
  {
   "cell_type": "code",
   "execution_count": 17,
   "id": "23cd9b33",
   "metadata": {},
   "outputs": [
    {
     "data": {
      "text/html": [
       "6.32455532033676"
      ],
      "text/latex": [
       "6.32455532033676"
      ],
      "text/markdown": [
       "6.32455532033676"
      ],
      "text/plain": [
       "[1] 6.324555"
      ]
     },
     "metadata": {},
     "output_type": "display_data"
    },
    {
     "data": {
      "text/html": [
       "<ol class=list-inline>\n",
       "\t<li>41.4974985267784</li>\n",
       "\t<li>29.6371022709612</li>\n",
       "</ol>\n"
      ],
      "text/latex": [
       "\\begin{enumerate*}\n",
       "\\item 41.4974985267784\n",
       "\\item 29.6371022709612\n",
       "\\end{enumerate*}\n"
      ],
      "text/markdown": [
       "1. 41.4974985267784\n",
       "2. 29.6371022709612\n",
       "\n",
       "\n"
      ],
      "text/plain": [
       "[1] 41.4975 29.6371"
      ]
     },
     "metadata": {},
     "output_type": "display_data"
    }
   ],
   "source": [
    "sqrt(nrow(pilots))  # square root form the number of rows (experiments), i.e. \n",
    "pilots.pca$sdev[1:2]   #first 2 eigenvalues \n",
    "scaling <- pilots.pca$sdev[1:2] * sqrt(nrow(pilots)) "
   ]
  },
  {
   "cell_type": "markdown",
   "id": "e630686a",
   "metadata": {},
   "source": [
    "Знайдемо $ z_1 = (X- bar{X})' PC1/\\sqrt{\\lambda_1 n}$ та  $ z_2 = (X- bar{X})' PC2/\\sqrt{\\lambda_2 n}$: "
   ]
  },
  {
   "cell_type": "code",
   "execution_count": 18,
   "id": "77fc986c",
   "metadata": {},
   "outputs": [],
   "source": [
    "z1 <- rowSums(t(t(sweep(pilots[,2:7], 2 ,colMeans(pilots[,2:7]))) * s.eigen$vectors[,1] *(-1)) / scaling[1])\n",
    "z2 <- rowSums(t(t(sweep(pilots[,2:7], 2, colMeans(pilots[,2:7]))) * s.eigen$vectors[,2]) / scaling[2])\n"
   ]
  },
  {
   "cell_type": "code",
   "execution_count": 19,
   "id": "dbfcab03",
   "metadata": {},
   "outputs": [
    {
     "data": {
      "image/png": "[encoded data removed]",
      "text/plain": [
       "plot without title"
      ]
     },
     "metadata": {},
     "output_type": "display_data"
    }
   ],
   "source": [
    "df <- data.frame(z1, z2, c(rep('Student', 20), rep('Pilot', 20)))\n",
    "colnames(df) <- c('PC1', 'PC2', 'Group')\n",
    "\n",
    "ggplot(df, aes(x=PC1, y=PC2, color=Group)) + \n",
    "  geom_point()"
   ]
  },
  {
   "cell_type": "markdown",
   "id": "8d873030",
   "metadata": {},
   "source": [
    "Як ми бачимо, дані більш-менш чітко розпадаються на дві групи. \n",
    "\n",
    "Саме такий результат можна отримати, використавши функцію autoplot"
   ]
  },
  {
   "cell_type": "code",
   "execution_count": 20,
   "id": "18c94270",
   "metadata": {},
   "outputs": [
    {
     "data": {
      "image/png": "[encoded data removed]",
      "text/plain": [
       "plot without title"
      ]
     },
     "metadata": {},
     "output_type": "display_data"
    }
   ],
   "source": [
    "pca.plot <- autoplot(pilots.pca, data = pilots, colour = 'Group')\n",
    "pca.plot"
   ]
  }
 ],
 "metadata": {
  "kernelspec": {
   "display_name": "R",
   "language": "R",
   "name": "ir"
  },
  "language_info": {
   "codemirror_mode": "r",
   "file_extension": ".r",
   "mimetype": "text/x-r-source",
   "name": "R",
   "pygments_lexer": "r",
   "version": "3.6.1"
  }
 },
 "nbformat": 4,
 "nbformat_minor": 5
}
