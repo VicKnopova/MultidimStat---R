{
  "cells": [
    {
      "cell_type": "markdown",
      "id": "41ea37f1",
      "metadata": {
        "id": "41ea37f1"
      },
      "source": [
        "## **Практичне заняття 1, робота в R**\n",
        "\n",
        "\n",
        "Пригадаємо спочатку деякі базові операціх в $R$.\n",
        "\n",
        "Задомо вектор $X$ та присвоємо $x$ значення цього вектора:"
      ]
    },
    {
      "cell_type": "code",
      "execution_count": 1,
      "id": "b03ad32e",
      "metadata": {
        "scrolled": true,
        "id": "b03ad32e",
        "outputId": "7bd1125e-4945-4c76-ced6-758a4e544660",
        "colab": {
          "base_uri": "https://localhost:8080/",
          "height": 52
        }
      },
      "outputs": [
        {
          "output_type": "display_data",
          "data": {
            "text/html": [
              "<style>\n",
              ".list-inline {list-style: none; margin:0; padding: 0}\n",
              ".list-inline>li {display: inline-block}\n",
              ".list-inline>li:not(:last-child)::after {content: \"\\00b7\"; padding: 0 .5ex}\n",
              "</style>\n",
              "<ol class=list-inline><li>1</li><li>2</li><li>3</li><li>4</li><li>5</li><li>6</li><li>7</li><li>8</li><li>9</li></ol>\n"
            ],
            "text/markdown": "1. 1\n2. 2\n3. 3\n4. 4\n5. 5\n6. 6\n7. 7\n8. 8\n9. 9\n\n\n",
            "text/latex": "\\begin{enumerate*}\n\\item 1\n\\item 2\n\\item 3\n\\item 4\n\\item 5\n\\item 6\n\\item 7\n\\item 8\n\\item 9\n\\end{enumerate*}\n",
            "text/plain": [
              "[1] 1 2 3 4 5 6 7 8 9"
            ]
          },
          "metadata": {}
        },
        {
          "output_type": "display_data",
          "data": {
            "text/html": [
              "<style>\n",
              ".list-inline {list-style: none; margin:0; padding: 0}\n",
              ".list-inline>li {display: inline-block}\n",
              ".list-inline>li:not(:last-child)::after {content: \"\\00b7\"; padding: 0 .5ex}\n",
              "</style>\n",
              "<ol class=list-inline><li>1</li><li>2</li><li>3</li><li>4</li><li>5</li><li>6</li><li>7</li><li>8</li><li>9</li></ol>\n"
            ],
            "text/markdown": "1. 1\n2. 2\n3. 3\n4. 4\n5. 5\n6. 6\n7. 7\n8. 8\n9. 9\n\n\n",
            "text/latex": "\\begin{enumerate*}\n\\item 1\n\\item 2\n\\item 3\n\\item 4\n\\item 5\n\\item 6\n\\item 7\n\\item 8\n\\item 9\n\\end{enumerate*}\n",
            "text/plain": [
              "[1] 1 2 3 4 5 6 7 8 9"
            ]
          },
          "metadata": {}
        }
      ],
      "source": [
        "c(1,2,3,4,5,6,7,8,9)\n",
        "x<-c(1,2,3,4,5,6,7,8,9)\n",
        "x"
      ]
    },
    {
      "cell_type": "markdown",
      "id": "1c776b89",
      "metadata": {
        "id": "1c776b89"
      },
      "source": [
        "Задавати матрицю можна, заповнюючи елементи по  стовбчикам, або вказавши  byrow= TRUE  -- по рядкам. У першому випадку ми вказуємо кількість рядків, а по стовбчикам матриця заповнюється автоматично.  "
      ]
    },
    {
      "cell_type": "code",
      "execution_count": null,
      "id": "8591d4de",
      "metadata": {
        "id": "8591d4de",
        "outputId": "ac6f0f49-86a6-4a94-aa3c-c34b9f63e7ff"
      },
      "outputs": [
        {
          "data": {
            "text/html": [
              "<table>\n",
              "<tbody>\n",
              "\t<tr><td>1</td><td>4</td><td>7</td></tr>\n",
              "\t<tr><td>2</td><td>5</td><td>8</td></tr>\n",
              "\t<tr><td>3</td><td>6</td><td>9</td></tr>\n",
              "</tbody>\n",
              "</table>\n"
            ],
            "text/latex": [
              "\\begin{tabular}{lll}\n",
              "\t 1 & 4 & 7\\\\\n",
              "\t 2 & 5 & 8\\\\\n",
              "\t 3 & 6 & 9\\\\\n",
              "\\end{tabular}\n"
            ],
            "text/markdown": [
              "\n",
              "| 1 | 4 | 7 |\n",
              "| 2 | 5 | 8 |\n",
              "| 3 | 6 | 9 |\n",
              "\n"
            ],
            "text/plain": [
              "     [,1] [,2] [,3]\n",
              "[1,] 1    4    7   \n",
              "[2,] 2    5    8   \n",
              "[3,] 3    6    9   "
            ]
          },
          "metadata": {},
          "output_type": "display_data"
        },
        {
          "data": {
            "text/html": [
              "<table>\n",
              "<tbody>\n",
              "\t<tr><td>1</td><td>2</td><td>3</td></tr>\n",
              "\t<tr><td>4</td><td>5</td><td>6</td></tr>\n",
              "\t<tr><td>7</td><td>8</td><td>9</td></tr>\n",
              "</tbody>\n",
              "</table>\n"
            ],
            "text/latex": [
              "\\begin{tabular}{lll}\n",
              "\t 1 & 2 & 3\\\\\n",
              "\t 4 & 5 & 6\\\\\n",
              "\t 7 & 8 & 9\\\\\n",
              "\\end{tabular}\n"
            ],
            "text/markdown": [
              "\n",
              "| 1 | 2 | 3 |\n",
              "| 4 | 5 | 6 |\n",
              "| 7 | 8 | 9 |\n",
              "\n"
            ],
            "text/plain": [
              "     [,1] [,2] [,3]\n",
              "[1,] 1    2    3   \n",
              "[2,] 4    5    6   \n",
              "[3,] 7    8    9   "
            ]
          },
          "metadata": {},
          "output_type": "display_data"
        }
      ],
      "source": [
        "matrix(x,nrow=3)\n",
        "matrix(x,nrow=3,byrow= TRUE)"
      ]
    },
    {
      "cell_type": "markdown",
      "id": "014ae540",
      "metadata": {
        "id": "014ae540"
      },
      "source": [
        "Задамо тепер матрицю та порахуємо її детермінант:"
      ]
    },
    {
      "cell_type": "code",
      "execution_count": null,
      "id": "3f1f4dbb",
      "metadata": {
        "id": "3f1f4dbb",
        "outputId": "eb57045f-1406-4ccd-f51f-066b7233f336"
      },
      "outputs": [
        {
          "data": {
            "text/html": [
              "0"
            ],
            "text/latex": [
              "0"
            ],
            "text/markdown": [
              "0"
            ],
            "text/plain": [
              "[1] 0"
            ]
          },
          "metadata": {},
          "output_type": "display_data"
        }
      ],
      "source": [
        "A<-matrix(x,nrow=3)\n",
        "det(A)"
      ]
    },
    {
      "cell_type": "markdown",
      "id": "5e3f5c6f",
      "metadata": {
        "id": "5e3f5c6f"
      },
      "source": [
        "Вийшло 0, тому  змінимо матрицю (для подальших обчислень)."
      ]
    },
    {
      "cell_type": "code",
      "execution_count": null,
      "id": "fce88439",
      "metadata": {
        "id": "fce88439",
        "outputId": "b7cdca02-8438-4aba-c2c6-ec1b0d1be61a"
      },
      "outputs": [
        {
          "data": {
            "text/html": [
              "3"
            ],
            "text/latex": [
              "3"
            ],
            "text/markdown": [
              "3"
            ],
            "text/plain": [
              "[1] 3"
            ]
          },
          "metadata": {},
          "output_type": "display_data"
        }
      ],
      "source": [
        "x<-c(1,2,3,4,5,6,7,8,8)\n",
        "B<-matrix(x,nrow=3)\n",
        "det(B)"
      ]
    },
    {
      "cell_type": "markdown",
      "id": "2f664599",
      "metadata": {
        "id": "2f664599"
      },
      "source": [
        "Наступні функції означають, відповідно, транспоновану матрицю та  слід матриці $B$:"
      ]
    },
    {
      "cell_type": "code",
      "execution_count": null,
      "id": "ef63f48c",
      "metadata": {
        "id": "ef63f48c",
        "outputId": "42828d64-0c3d-438f-e7ef-8ea34fb3517b"
      },
      "outputs": [
        {
          "data": {
            "text/html": [
              "<table>\n",
              "<tbody>\n",
              "\t<tr><td>1</td><td>2</td><td>3</td></tr>\n",
              "\t<tr><td>4</td><td>5</td><td>6</td></tr>\n",
              "\t<tr><td>7</td><td>8</td><td>8</td></tr>\n",
              "</tbody>\n",
              "</table>\n"
            ],
            "text/latex": [
              "\\begin{tabular}{lll}\n",
              "\t 1 & 2 & 3\\\\\n",
              "\t 4 & 5 & 6\\\\\n",
              "\t 7 & 8 & 8\\\\\n",
              "\\end{tabular}\n"
            ],
            "text/markdown": [
              "\n",
              "| 1 | 2 | 3 |\n",
              "| 4 | 5 | 6 |\n",
              "| 7 | 8 | 8 |\n",
              "\n"
            ],
            "text/plain": [
              "     [,1] [,2] [,3]\n",
              "[1,] 1    2    3   \n",
              "[2,] 4    5    6   \n",
              "[3,] 7    8    8   "
            ]
          },
          "metadata": {},
          "output_type": "display_data"
        }
      ],
      "source": [
        "t(B)"
      ]
    },
    {
      "cell_type": "markdown",
      "id": "d34d1d73",
      "metadata": {
        "id": "d34d1d73"
      },
      "source": [
        "В RStudio є вбудована функція tr(B) для обчислення сліду матриці. Для цього треба встановити пакет psych і завантажити бібліотеку:\n",
        "\n",
        "install.packages(\"psych\")\n",
        "\n",
        "library(\"psych\")\n",
        "\n",
        "В Jupyter Notebook цей пакет, на жаль, не становиться:) Тому будемо обчислювати слід наступним чином:"
      ]
    },
    {
      "cell_type": "code",
      "execution_count": null,
      "id": "05377040",
      "metadata": {
        "id": "05377040",
        "outputId": "2bd60913-2f5d-4956-df1b-ad1cc82f6638"
      },
      "outputs": [
        {
          "data": {
            "text/html": [
              "14"
            ],
            "text/latex": [
              "14"
            ],
            "text/markdown": [
              "14"
            ],
            "text/plain": [
              "[1] 14"
            ]
          },
          "metadata": {},
          "output_type": "display_data"
        }
      ],
      "source": [
        "TrB<-sum(diag(B))\n",
        "TrB"
      ]
    },
    {
      "cell_type": "markdown",
      "id": "8af78fc8",
      "metadata": {
        "id": "8af78fc8"
      },
      "source": [
        "Добуток матриць та обернена матриця:"
      ]
    },
    {
      "cell_type": "code",
      "execution_count": null,
      "id": "baf6fd99",
      "metadata": {
        "id": "baf6fd99",
        "outputId": "9f9f1cc0-de68-4296-afa3-bbcc44afeb87"
      },
      "outputs": [
        {
          "data": {
            "text/html": [
              "<table>\n",
              "<tbody>\n",
              "\t<tr><td>30 </td><td>66 </td><td> 95</td></tr>\n",
              "\t<tr><td>36 </td><td>81 </td><td>118</td></tr>\n",
              "\t<tr><td>42 </td><td>96 </td><td>141</td></tr>\n",
              "</tbody>\n",
              "</table>\n"
            ],
            "text/latex": [
              "\\begin{tabular}{lll}\n",
              "\t 30  & 66  &  95\\\\\n",
              "\t 36  & 81  & 118\\\\\n",
              "\t 42  & 96  & 141\\\\\n",
              "\\end{tabular}\n"
            ],
            "text/markdown": [
              "\n",
              "| 30  | 66  |  95 |\n",
              "| 36  | 81  | 118 |\n",
              "| 42  | 96  | 141 |\n",
              "\n"
            ],
            "text/plain": [
              "     [,1] [,2] [,3]\n",
              "[1,] 30   66    95 \n",
              "[2,] 36   81   118 \n",
              "[3,] 42   96   141 "
            ]
          },
          "metadata": {},
          "output_type": "display_data"
        },
        {
          "data": {
            "text/html": [
              "<table>\n",
              "<tbody>\n",
              "\t<tr><td>-2.666667</td><td> 3.333333</td><td>-1       </td></tr>\n",
              "\t<tr><td> 2.666667</td><td>-4.333333</td><td> 2       </td></tr>\n",
              "\t<tr><td>-1.000000</td><td> 2.000000</td><td>-1       </td></tr>\n",
              "</tbody>\n",
              "</table>\n"
            ],
            "text/latex": [
              "\\begin{tabular}{lll}\n",
              "\t -2.666667 &  3.333333 & -1       \\\\\n",
              "\t  2.666667 & -4.333333 &  2       \\\\\n",
              "\t -1.000000 &  2.000000 & -1       \\\\\n",
              "\\end{tabular}\n"
            ],
            "text/markdown": [
              "\n",
              "| -2.666667 |  3.333333 | -1        |\n",
              "|  2.666667 | -4.333333 |  2        |\n",
              "| -1.000000 |  2.000000 | -1        |\n",
              "\n"
            ],
            "text/plain": [
              "     [,1]      [,2]      [,3]\n",
              "[1,] -2.666667  3.333333 -1  \n",
              "[2,]  2.666667 -4.333333  2  \n",
              "[3,] -1.000000  2.000000 -1  "
            ]
          },
          "metadata": {},
          "output_type": "display_data"
        }
      ],
      "source": [
        "A%*%B\n",
        "solve(B)"
      ]
    },
    {
      "cell_type": "markdown",
      "id": "eadb7842",
      "metadata": {
        "id": "eadb7842"
      },
      "source": [
        "Тепер нагадаємо, як згенерувати виборку з нормальним розподілом. Нагадаємо, що можна також викликати справку наступним чином:  "
      ]
    },
    {
      "cell_type": "code",
      "execution_count": null,
      "id": "dfa846b2",
      "metadata": {
        "id": "dfa846b2"
      },
      "outputs": [],
      "source": [
        "?dnorm"
      ]
    },
    {
      "cell_type": "markdown",
      "id": "aabba263",
      "metadata": {
        "id": "aabba263"
      },
      "source": [
        "**dnorm**: density, **pnorm**: cumulative density (probbaility distribution), **qnorm**: quantile, **rnorm**: random variable"
      ]
    },
    {
      "cell_type": "code",
      "execution_count": null,
      "id": "64b68376",
      "metadata": {
        "id": "64b68376",
        "outputId": "6ece676b-641e-4f5e-88ca-36b31ed53e53"
      },
      "outputs": [
        {
          "data": {
            "text/html": [
              "0.241970724519143"
            ],
            "text/latex": [
              "0.241970724519143"
            ],
            "text/markdown": [
              "0.241970724519143"
            ],
            "text/plain": [
              "[1] 0.2419707"
            ]
          },
          "metadata": {},
          "output_type": "display_data"
        },
        {
          "data": {
            "text/html": [
              "0.841344746068543"
            ],
            "text/latex": [
              "0.841344746068543"
            ],
            "text/markdown": [
              "0.841344746068543"
            ],
            "text/plain": [
              "[1] 0.8413447"
            ]
          },
          "metadata": {},
          "output_type": "display_data"
        },
        {
          "data": {
            "text/html": [
              "1.64485362695147"
            ],
            "text/latex": [
              "1.64485362695147"
            ],
            "text/markdown": [
              "1.64485362695147"
            ],
            "text/plain": [
              "[1] 1.644854"
            ]
          },
          "metadata": {},
          "output_type": "display_data"
        },
        {
          "data": {
            "text/html": [
              "-1.64485362695147"
            ],
            "text/latex": [
              "-1.64485362695147"
            ],
            "text/markdown": [
              "-1.64485362695147"
            ],
            "text/plain": [
              "[1] -1.644854"
            ]
          },
          "metadata": {},
          "output_type": "display_data"
        }
      ],
      "source": [
        "dnorm(1,0,1,log=FALSE)\n",
        "\n",
        "pnorm(1,0,1,log=FALSE)\n",
        "\n",
        "qnorm(0.05,0,1,lower.tail = FALSE)\n",
        "\n",
        "qnorm(0.05,0,1,lower.tail = TRUE)\n"
      ]
    },
    {
      "cell_type": "markdown",
      "id": "a6fa014e",
      "metadata": {
        "id": "a6fa014e"
      },
      "source": [
        "Згеренуємо вибірку з 1000 н.о.р.в.в. з параметрами 0 та 1. Виведемо при цьому на екран пеші 6:"
      ]
    },
    {
      "cell_type": "code",
      "execution_count": null,
      "id": "f12a7be7",
      "metadata": {
        "id": "f12a7be7",
        "outputId": "3f316665-9d6b-4927-e5eb-7cefc1abf690"
      },
      "outputs": [
        {
          "data": {
            "text/html": [
              "<ol class=list-inline>\n",
              "\t<li>-2.08422376842302</li>\n",
              "\t<li>-0.137462980629593</li>\n",
              "\t<li>2.22656230577733</li>\n",
              "\t<li>1.29314807356647</li>\n",
              "\t<li>0.411973688075998</li>\n",
              "\t<li>0.253064050524012</li>\n",
              "</ol>\n"
            ],
            "text/latex": [
              "\\begin{enumerate*}\n",
              "\\item -2.08422376842302\n",
              "\\item -0.137462980629593\n",
              "\\item 2.22656230577733\n",
              "\\item 1.29314807356647\n",
              "\\item 0.411973688075998\n",
              "\\item 0.253064050524012\n",
              "\\end{enumerate*}\n"
            ],
            "text/markdown": [
              "1. -2.08422376842302\n",
              "2. -0.137462980629593\n",
              "3. 2.22656230577733\n",
              "4. 1.29314807356647\n",
              "5. 0.411973688075998\n",
              "6. 0.253064050524012\n",
              "\n",
              "\n"
            ],
            "text/plain": [
              "[1] -2.0842238 -0.1374630  2.2265623  1.2931481  0.4119737  0.2530641"
            ]
          },
          "metadata": {},
          "output_type": "display_data"
        }
      ],
      "source": [
        "N<-rnorm(1000, 0, 1)\n",
        "head(N)"
      ]
    },
    {
      "cell_type": "markdown",
      "id": "2d18bcd3",
      "metadata": {
        "id": "2d18bcd3"
      },
      "source": [
        "Побудуємо тепер гістограму. Обравши freq=FALSE, ми побудуємо графік щільності.  Для зручності, зробимо картинку заданого розміру.  Досить це зробити 1 раз у файлі."
      ]
    },
    {
      "cell_type": "code",
      "execution_count": null,
      "id": "41440125",
      "metadata": {
        "id": "41440125",
        "outputId": "4e785dfb-0d28-4e74-a123-269346a2044e"
      },
      "outputs": [
        {
          "data": {
            "image/png": "[encoded data removed]",
            "text/plain": [
              "Plot with title \"Histogram of x\""
            ]
          },
          "metadata": {},
          "output_type": "display_data"
        }
      ],
      "source": [
        "options(repr.plot.width=4, repr.plot.height=3)\n",
        "x<-rnorm(1000,mean=10, sd=2)\n",
        "hist(x,breaks=150,xlim=c(0,20),freq=FALSE)"
      ]
    },
    {
      "cell_type": "markdown",
      "id": "f41940d4",
      "metadata": {
        "id": "f41940d4"
      },
      "source": [
        "Для того, щоб побудувати графік  абсолютних частот, задамо  freq=TRUE:"
      ]
    },
    {
      "cell_type": "code",
      "execution_count": null,
      "id": "6123c827",
      "metadata": {
        "id": "6123c827",
        "outputId": "d49af8a9-d0cd-47e6-d820-530c0ae6860e"
      },
      "outputs": [
        {
          "data": {
            "image/png": "[encoded data removed]",
            "text/plain": [
              "Plot with title \"Histogram of x\""
            ]
          },
          "metadata": {},
          "output_type": "display_data"
        }
      ],
      "source": [
        "hist(x,breaks=150,xlim=c(0,20),freq=TRUE)"
      ]
    },
    {
      "cell_type": "markdown",
      "id": "005c21e3",
      "metadata": {
        "id": "005c21e3"
      },
      "source": [
        "Більше можна почитати _[тут](https://www.rdocumentation.org/packages/graphics/versions/3.6.2/topics/hist)_.\n",
        "\n",
        "Пригадаємо також графік розподілу $\\chi^2$.   Детальніше -  _[тут](https://www.rdocumentation.org/packages/stats/versions/3.6.2/topics/Chisquare)_ та _[тут](https://cran.r-project.org/web/packages/DPQ/vignettes/Noncentral-Chisq.pdf)_"
      ]
    },
    {
      "cell_type": "code",
      "execution_count": null,
      "id": "2af9e3d8",
      "metadata": {
        "id": "2af9e3d8",
        "outputId": "bd9df7f6-aa47-4239-c18f-f23ad685a3e6"
      },
      "outputs": [
        {
          "data": {
            "text/html": [
              "0.000789753463167492"
            ],
            "text/latex": [
              "0.000789753463167492"
            ],
            "text/markdown": [
              "0.000789753463167492"
            ],
            "text/plain": [
              "[1] 0.0007897535"
            ]
          },
          "metadata": {},
          "output_type": "display_data"
        },
        {
          "data": {
            "text/html": [
              "3.94029913611906"
            ],
            "text/latex": [
              "3.94029913611906"
            ],
            "text/markdown": [
              "3.94029913611906"
            ],
            "text/plain": [
              "[1] 3.940299"
            ]
          },
          "metadata": {},
          "output_type": "display_data"
        },
        {
          "data": {
            "text/html": [
              "3.94029913611906"
            ],
            "text/latex": [
              "3.94029913611906"
            ],
            "text/markdown": [
              "3.94029913611906"
            ],
            "text/plain": [
              "[1] 3.940299"
            ]
          },
          "metadata": {},
          "output_type": "display_data"
        },
        {
          "data": {
            "image/png": "[encoded data removed]",
            "text/plain": [
              "Plot with title \"Histogram of chi\""
            ]
          },
          "metadata": {},
          "output_type": "display_data"
        }
      ],
      "source": [
        "chi<-rchisq(10000,df=10)\n",
        "hist(chi,breaks=150,xlim=c(0,20),freq=FALSE)\n",
        "dchisq(1, 10, ncp = 0, log= FALSE)\n",
        "qchisq(0.05,10,lower.tail = TRUE)\n",
        "qchisq(0.95,10,lower.tail = FALSE)"
      ]
    },
    {
      "cell_type": "markdown",
      "id": "6b0f0344",
      "metadata": {
        "id": "6b0f0344"
      },
      "source": [
        "Для того, щоб вивчати багатовимірний нормальний розподіл, нам знадобляться наступні пакети і бібліотеки. Якщо у Вас  R version 3.6.3 та вище, то ці бібліотеки вже є вбудованими, тобто спеціальна інсталяція не потрібна.   "
      ]
    },
    {
      "cell_type": "code",
      "execution_count": 2,
      "id": "632a3c76",
      "metadata": {
        "id": "632a3c76",
        "outputId": "daf1d851-c157-48b6-b6e3-17d0f545c1ca",
        "colab": {
          "base_uri": "https://localhost:8080/"
        }
      },
      "outputs": [
        {
          "output_type": "stream",
          "name": "stderr",
          "text": [
            "Installing package into ‘/usr/local/lib/R/site-library’\n",
            "(as ‘lib’ is unspecified)\n",
            "\n",
            "Installing package into ‘/usr/local/lib/R/site-library’\n",
            "(as ‘lib’ is unspecified)\n",
            "\n"
          ]
        }
      ],
      "source": [
        " install.packages(\"mvtnorm\")\n",
        " install.packages(\"MASS\")\n",
        " library(mvtnorm)\n",
        " library(MASS)"
      ]
    },
    {
      "cell_type": "markdown",
      "id": "7f9b0461",
      "metadata": {
        "id": "7f9b0461"
      },
      "source": [
        "Введемо вектор середніх і коваріаційну матрицю."
      ]
    },
    {
      "cell_type": "code",
      "execution_count": null,
      "id": "e5c623f2",
      "metadata": {
        "id": "e5c623f2",
        "outputId": "e3a5c62a-dcfb-48a4-d5af-f780ac837440"
      },
      "outputs": [
        {
          "data": {
            "text/html": [
              "<ol class=list-inline>\n",
              "\t<li>0</li>\n",
              "\t<li>0</li>\n",
              "</ol>\n"
            ],
            "text/latex": [
              "\\begin{enumerate*}\n",
              "\\item 0\n",
              "\\item 0\n",
              "\\end{enumerate*}\n"
            ],
            "text/markdown": [
              "1. 0\n",
              "2. 0\n",
              "\n",
              "\n"
            ],
            "text/plain": [
              "[1] 0 0"
            ]
          },
          "metadata": {},
          "output_type": "display_data"
        },
        {
          "data": {
            "text/html": [
              "<table>\n",
              "<tbody>\n",
              "\t<tr><td> 1.0</td><td>-0.5</td></tr>\n",
              "\t<tr><td>-0.5</td><td> 1.0</td></tr>\n",
              "</tbody>\n",
              "</table>\n"
            ],
            "text/latex": [
              "\\begin{tabular}{ll}\n",
              "\t  1.0 & -0.5\\\\\n",
              "\t -0.5 &  1.0\\\\\n",
              "\\end{tabular}\n"
            ],
            "text/markdown": [
              "\n",
              "|  1.0 | -0.5 |\n",
              "| -0.5 |  1.0 |\n",
              "\n"
            ],
            "text/plain": [
              "     [,1] [,2]\n",
              "[1,]  1.0 -0.5\n",
              "[2,] -0.5  1.0"
            ]
          },
          "metadata": {},
          "output_type": "display_data"
        }
      ],
      "source": [
        "mean<-c(0,0)\n",
        "mean\n",
        "sig<-matrix(c(1, -.5, -.5, 1), nrow =2, byrow= FALSE)\n",
        "sig"
      ]
    },
    {
      "cell_type": "markdown",
      "id": "a624f2b5",
      "metadata": {
        "id": "a624f2b5"
      },
      "source": [
        "Генеруємо нормальний розподіл з цими середнім і коваріацією:"
      ]
    },
    {
      "cell_type": "code",
      "execution_count": null,
      "id": "7541f64d",
      "metadata": {
        "id": "7541f64d",
        "outputId": "8bb1824a-087c-4d89-c5fc-c52cce16ed64"
      },
      "outputs": [
        {
          "data": {
            "text/html": [
              "<table>\n",
              "<tbody>\n",
              "\t<tr><td>-0.2535362</td><td> 0.6144471</td></tr>\n",
              "\t<tr><td>-0.4026575</td><td>-0.5308184</td></tr>\n",
              "\t<tr><td> 0.9214590</td><td>-0.4443151</td></tr>\n",
              "\t<tr><td> 0.4365837</td><td>-1.5347665</td></tr>\n",
              "\t<tr><td> 0.1986861</td><td>-1.4300227</td></tr>\n",
              "\t<tr><td>-1.0546721</td><td> 2.1094684</td></tr>\n",
              "</tbody>\n",
              "</table>\n"
            ],
            "text/latex": [
              "\\begin{tabular}{ll}\n",
              "\t -0.2535362 &  0.6144471\\\\\n",
              "\t -0.4026575 & -0.5308184\\\\\n",
              "\t  0.9214590 & -0.4443151\\\\\n",
              "\t  0.4365837 & -1.5347665\\\\\n",
              "\t  0.1986861 & -1.4300227\\\\\n",
              "\t -1.0546721 &  2.1094684\\\\\n",
              "\\end{tabular}\n"
            ],
            "text/markdown": [
              "\n",
              "| -0.2535362 |  0.6144471 |\n",
              "| -0.4026575 | -0.5308184 |\n",
              "|  0.9214590 | -0.4443151 |\n",
              "|  0.4365837 | -1.5347665 |\n",
              "|  0.1986861 | -1.4300227 |\n",
              "| -1.0546721 |  2.1094684 |\n",
              "\n"
            ],
            "text/plain": [
              "     [,1]       [,2]      \n",
              "[1,] -0.2535362  0.6144471\n",
              "[2,] -0.4026575 -0.5308184\n",
              "[3,]  0.9214590 -0.4443151\n",
              "[4,]  0.4365837 -1.5347665\n",
              "[5,]  0.1986861 -1.4300227\n",
              "[6,] -1.0546721  2.1094684"
            ]
          },
          "metadata": {},
          "output_type": "display_data"
        }
      ],
      "source": [
        "mv<-rmvnorm(1000, mean, sig)\n",
        "head(mv)"
      ]
    },
    {
      "cell_type": "markdown",
      "id": "30fe2d42",
      "metadata": {
        "id": "30fe2d42"
      },
      "source": [
        "Згенеруємо тепер проекцію  щільності  на ХОY (kde = kernel density estimation) в точках вибірки.  Ми додаємо контур до графіку. Функція box()  добавляє \"бокс\" навколо малюнку."
      ]
    },
    {
      "cell_type": "code",
      "execution_count": null,
      "id": "a89e61e5",
      "metadata": {
        "scrolled": true,
        "id": "a89e61e5",
        "outputId": "833f0109-300d-49f5-c088-f07a4afb0408"
      },
      "outputs": [
        {
          "data": {
            "image/png": "[encoded data removed]",
            "text/plain": [
              "Plot with title \"Projection on XOY\""
            ]
          },
          "metadata": {},
          "output_type": "display_data"
        }
      ],
      "source": [
        "mv.kde <- kde2d(mv[,1], mv[,2], n = 50)\n",
        "image(mv.kde)\n",
        "contour(mv.kde, add = TRUE)\n",
        "box()\n",
        "title(main = \"Projection on XOY\", font.main = 4)"
      ]
    },
    {
      "cell_type": "code",
      "execution_count": 3,
      "id": "40b6b445",
      "metadata": {
        "id": "40b6b445",
        "outputId": "430eae0f-f1a6-4528-a456-fc7472a7f426",
        "colab": {
          "base_uri": "https://localhost:8080/"
        }
      },
      "outputs": [
        {
          "output_type": "stream",
          "name": "stderr",
          "text": [
            "Installing package into ‘/usr/local/lib/R/site-library’\n",
            "(as ‘lib’ is unspecified)\n",
            "\n",
            "\n",
            "Attaching package: ‘ellipse’\n",
            "\n",
            "\n",
            "The following object is masked from ‘package:graphics’:\n",
            "\n",
            "    pairs\n",
            "\n",
            "\n"
          ]
        }
      ],
      "source": [
        "install.packages('ellipse')\n",
        "library(ellipse)"
      ]
    },
    {
      "cell_type": "markdown",
      "id": "143af065",
      "metadata": {
        "id": "143af065"
      },
      "source": [
        "Тепер намалюємо 'довірчі еліпси' рівня 0.95, 0.99, 0.90. Також, побудуємо регресію на цьому ж малюнку графіки регресії $x$ на $y$ та $y$ на $x$."
      ]
    },
    {
      "cell_type": "code",
      "execution_count": null,
      "id": "c883a808",
      "metadata": {
        "id": "c883a808"
      },
      "outputs": [],
      "source": [
        "y_on_x <- lm(mv[,2] ~ mv[,1])\n",
        "x_on_y <- lm(mv[,1] ~ mv[,2])"
      ]
    },
    {
      "cell_type": "code",
      "execution_count": null,
      "id": "fdf1b476",
      "metadata": {
        "id": "fdf1b476",
        "outputId": "426c5f45-867a-41e7-d82a-3f98ffedcb9a"
      },
      "outputs": [
        {
          "data": {
            "image/png": "[encoded data removed]",
            "text/plain": [
              "Plot with title \"2D Normal, Confidence Intervals\""
            ]
          },
          "metadata": {},
          "output_type": "display_data"
        }
      ],
      "source": [
        "rho = cor(mv)\n",
        "plot(mv, xlab = \"X\", ylab = \"Y\",\n",
        "     col = \"dark blue\",\n",
        "     main = \"2D Normal, Confidence Intervals\")\n",
        "lines(ellipse(rho,  level = .95), col=\"red\")\n",
        "lines(ellipse(rho, level = .99), col=\"green\")\n",
        "lines(ellipse(rho, level = .90), col=\"blue\")\n",
        "abline(y_on_x, col=\"magenta\")\n",
        "abline(x_on_y, col=\"blue\")"
      ]
    },
    {
      "cell_type": "markdown",
      "id": "5b5412bf",
      "metadata": {
        "id": "5b5412bf"
      },
      "source": [
        "Пригадаємо, що таке лінійна регресія у баготовимірному випадку.\n",
        "\n",
        "В одновимірному випадку, при $p=q=1$, регресією $Y$ на $X$ є умовне матсподівання $Y$, якщо відоме $X$:\n",
        "$$\n",
        "\\mathbb{E} \\left( Y | X \\right) =\\min_{g}{\\mathbb{E}\\left( Y -g(X) \\right)^{2}},\n",
        "$$\n",
        "де функція $g=g(X)$ - борелева.\n",
        "\n",
        "\n",
        "Функція регресії має вигляд\n",
        "$$\n",
        "Y = \\mu_{y}+\\rho\\frac{\\sigma_{y}}{\\sigma_{x}}\\left(X-\\mu_{x}\\right).\n",
        "$$\n",
        "Аналогічно в $\\mathbb{R}^{p+q}$ регресією $Y$ на $X$ є\n",
        "$$\n",
        "\\mathbb{E} \\left( Y \\vert X \\right) =\\boldsymbol{\\mu}_{y} + \\boldsymbol{\\Sigma}_{xy}\\boldsymbol{\\Sigma}_{xx}^{-1}\\left( X-\\boldsymbol{\\mu}_{x} \\right),\n",
        "$$\n",
        "та регресією $X$ на $Y$ є\n",
        "$$\n",
        "\\mathbb{E} \\left( X \\vert Y \\right) =\\boldsymbol{\\mu}_{x} + \\boldsymbol{\\Sigma}_{xy}\\boldsymbol{\\Sigma}_{yy}^{-1}\\left( Y-\\boldsymbol{\\mu}_{y} \\right).\n",
        "$$\n",
        "Тобто лінії регресії $\\mathbb{E} \\left( Y \\vert X \\right)$ у прикладі вище утворені за допомогою точок випадкової величини  $X\\sim N(\\mu_X, \\sigma_X^2)$ та  $\\mathbb{E} \\left( Y \\vert X \\right)$."
      ]
    },
    {
      "cell_type": "markdown",
      "id": "aef3a258",
      "metadata": {
        "id": "aef3a258"
      },
      "source": [
        "Якщо дані треба зчитати з файлу, то найпростішим шляхом буде скопіювати файл в папку, де знаходиться  ваш ipynb файл і запустити read.table(\"file\"). Можна добавити  header = F, якщо не виводимо назви стовбчиків."
      ]
    },
    {
      "cell_type": "code",
      "execution_count": null,
      "id": "7e3250b9",
      "metadata": {
        "id": "7e3250b9",
        "outputId": "1f1ed5d8-a199-4053-eab1-c8ddb617fb08"
      },
      "outputs": [
        {
          "data": {
            "text/html": [
              "<table>\n",
              "<thead><tr><th scope=col>V1</th><th scope=col>V2</th><th scope=col>V3</th></tr></thead>\n",
              "<tbody>\n",
              "\t<tr><td>1  </td><td>69 </td><td>153</td></tr>\n",
              "\t<tr><td>2  </td><td>74 </td><td>175</td></tr>\n",
              "\t<tr><td>3  </td><td>68 </td><td>155</td></tr>\n",
              "\t<tr><td>4  </td><td>70 </td><td>135</td></tr>\n",
              "\t<tr><td>5  </td><td>72 </td><td>172</td></tr>\n",
              "\t<tr><td>6  </td><td>67 </td><td>150</td></tr>\n",
              "</tbody>\n",
              "</table>\n"
            ],
            "text/latex": [
              "\\begin{tabular}{r|lll}\n",
              " V1 & V2 & V3\\\\\n",
              "\\hline\n",
              "\t 1   & 69  & 153\\\\\n",
              "\t 2   & 74  & 175\\\\\n",
              "\t 3   & 68  & 155\\\\\n",
              "\t 4   & 70  & 135\\\\\n",
              "\t 5   & 72  & 172\\\\\n",
              "\t 6   & 67  & 150\\\\\n",
              "\\end{tabular}\n"
            ],
            "text/markdown": [
              "\n",
              "| V1 | V2 | V3 |\n",
              "|---|---|---|\n",
              "| 1   | 69  | 153 |\n",
              "| 2   | 74  | 175 |\n",
              "| 3   | 68  | 155 |\n",
              "| 4   | 70  | 135 |\n",
              "| 5   | 72  | 172 |\n",
              "| 6   | 67  | 150 |\n",
              "\n"
            ],
            "text/plain": [
              "  V1 V2 V3 \n",
              "1 1  69 153\n",
              "2 2  74 175\n",
              "3 3  68 155\n",
              "4 4  70 135\n",
              "5 5  72 172\n",
              "6 6  67 150"
            ]
          },
          "metadata": {},
          "output_type": "display_data"
        }
      ],
      "source": [
        "dat = read.table(\"T3_1_HEIGHTWT.DAT\", header = F)\n",
        "head(dat)"
      ]
    },
    {
      "cell_type": "markdown",
      "id": "9689de85",
      "metadata": {
        "id": "9689de85"
      },
      "source": [
        "## Перевірка нормальності\n",
        "\n",
        "Як правило ми будемо використовувати вибірки нормального розподілу. Як перевірити на нормальність?\n",
        "\n",
        "### Тест Колмогорова-Смірнова (Kolmogorov-Smirnoff test)}   \n",
        "\n",
        "\n",
        "Тест Колмоговора-Смірнова перевіряє, чи збігається функція розподілу окремих спостережень вибірки $X$ з заданою (неперервною) функцією розподілу $F(x)$ на $\\mathbb{R}$.\n",
        "$$\n",
        "\\hat{F}_n(x)= \\frac{1}{n} \\sum_{k=1}^n I_{\\xi_k<x}.\n",
        "$$\n",
        "Тестова статистика має вигляд\n",
        "$$\n",
        "\\hat{\\kappa}_n(X)= \\sqrt{n} \\sup_{x\\in  \\mathbb{R}}| \\hat{F}_n(x)- F(x)|.\n",
        "$$\n",
        "Перевіряємо нульову гіпотезу\n",
        "$$\n",
        "H_0: \\quad \\mathbb{P}(\\xi_1<x) = F(x) \\quad \\forall x\\in \\mathbb{R},\n",
        "$$\n",
        " проти альтернативної\n",
        " $$\n",
        " H_1: \\quad  \\mathbb{P}(\\xi_1<x) = G(x) \\quad \\forall x\\in \\mathbb{R}, \\quad G(x)\\neq F(x), \\quad G\\in C(\\mathbb{R}).\n",
        " $$\n",
        "За умови гіпотези статистика Колмогорова\n",
        "$\\hat{\\kappa}_n$\n",
        "слабко збігається до випадкової величини $\\kappa$, яка має розподіл Колмогорова, тобто\n",
        "$$\n",
        " \\mathbb{P}(\\kappa<x) = K(x)= \\sum_{k=-\\infty}^\\infty (-1)^k \\exp(-2k^2x^2).  \n",
        "$$\n",
        "\n",
        "Зауважимо, що це одновимірний тест, хоча існують узагальнення на багатовимірний випадок. Причина полягає у складності  визначення у багатовимірному випадку емпіричної функції розподілу $\\hat{F}_n$.\n",
        "\n",
        "\n",
        "В $R$  є вбудована функція, яка перевіряє гіпотезу $H_0$ за допомоги критерію Колмогорова-Смірнова:\n",
        "\n",
        "\n",
        "ks.test(x, y, alternative = c(\"two.sided\", \"less\", \"greater\"))\n",
        "\n",
        "\n",
        "Тут $x$, $y$- вектори даних, причому  $y$ генерується за допомогою функції розподілу $F$.\n",
        "\n",
        "Якщо ми перевіряємо, чи співпадає розподіл   $x$ із заданим розподілом $y$, то вказуємо $y$ явно.\n"
      ]
    },
    {
      "cell_type": "code",
      "execution_count": null,
      "id": "3a1accc4",
      "metadata": {
        "id": "3a1accc4",
        "outputId": "c558573d-dbbd-4d4c-f311-478b370c9405"
      },
      "outputs": [
        {
          "data": {
            "text/plain": [
              "\n",
              "\tTwo-sample Kolmogorov-Smirnov test\n",
              "\n",
              "data:  x and y\n",
              "D^- = 0.32, p-value = 0.005976\n",
              "alternative hypothesis: the CDF of x lies below that of y\n"
            ]
          },
          "metadata": {},
          "output_type": "display_data"
        }
      ],
      "source": [
        "x = rnorm(50, -1, 1)\n",
        "y = rnorm(50, -1, 1)\n",
        "ks.test(x, y, alternative = \"less\")"
      ]
    },
    {
      "cell_type": "markdown",
      "id": "8809b039",
      "metadata": {
        "id": "8809b039"
      },
      "source": [
        "Однобічний тест означає, що ми перевіряємо, де саме лежить вибіркова функція розподілу (CDF). Якщо\n",
        "alternative = \"less\", то за умови виконання альтернативи CDF знаходиться знизу по відношенню до графіку справжньої функції розподілу, якщо alternative = \"less\"-- то зверху."
      ]
    },
    {
      "cell_type": "code",
      "execution_count": null,
      "id": "fcb2017e",
      "metadata": {
        "id": "fcb2017e",
        "outputId": "8479a574-72c7-4c12-8ab6-dafc4b9a2a11"
      },
      "outputs": [
        {
          "data": {
            "text/plain": [
              "\n",
              "\tTwo-sample Kolmogorov-Smirnov test\n",
              "\n",
              "data:  x and y\n",
              "D = 0.08, p-value = 0.9977\n",
              "alternative hypothesis: two-sided\n"
            ]
          },
          "metadata": {},
          "output_type": "display_data"
        }
      ],
      "source": [
        "ks.test(x, y)"
      ]
    },
    {
      "cell_type": "markdown",
      "id": "67d51277",
      "metadata": {
        "id": "67d51277"
      },
      "source": [
        "Тут $D= \\sup_{x\\in  \\mathbb{R}}| \\hat{F}_n(x)- F(x)|$."
      ]
    },
    {
      "cell_type": "code",
      "execution_count": null,
      "id": "9a82c260",
      "metadata": {
        "id": "9a82c260",
        "outputId": "85764f50-9415-41d2-d8b8-31ee5a9e52bb"
      },
      "outputs": [
        {
          "data": {
            "text/plain": [
              "\n",
              "\tOne-sample Kolmogorov-Smirnov test\n",
              "\n",
              "data:  x\n",
              "D = 0.91906, p-value = 8.882e-16\n",
              "alternative hypothesis: two-sided\n"
            ]
          },
          "metadata": {},
          "output_type": "display_data"
        }
      ],
      "source": [
        "ks.test(x, \"pgamma\", 3, 2)"
      ]
    },
    {
      "cell_type": "markdown",
      "id": "925685f5",
      "metadata": {
        "id": "925685f5"
      },
      "source": [
        "## Тест Шапіро-Уілка (Shapiro-Wilk test)}   \n",
        "\n",
        "Розглянемо вектор середніх та коваріаційну матрицю:\n",
        "$$\n",
        "m= \\mathbb{E} X = (m_1,\\dots,m_n), \\quad V=  (cov(x_i,x_j)_{i,j=1}^n.\n",
        "$$\n",
        "Нехай тепер\n",
        "$y= (y_1,\\dots, y_n)$ - інша впорядкована виборка. За умови $y_i \\sim N(\\mu,\\Sigma^2)$,  координати можна зобразити наступним чином:\n",
        "$$\n",
        "y_i= \\mu+\\sigma x_{i}, \\quad i=1,\\dots,n,\n",
        "$$\n",
        "для деяких $\\mu$  та $\\sigma^2$.\n",
        "Оцінимо   $\\mu$  та $\\sigma^2$  методом наймених квадратів, тобто мінімізуємо\n",
        "$$\n",
        "( y- \\mu1- \\sigma m)' V  ( y- \\mu1- \\sigma m) \\mapsto \\min,\n",
        "$$\n",
        "де $1= (1,\\dots,1)$. Отримаємо наступні оцінки:\n",
        "$$\n",
        "\\hat{\\mu}= \\frac{m' V^{-1} (m1'- 1'm) V^{-1}}{ 1' V^{-1}1 m'V^{-1} m- (1'V^{-1} m)^2}, \\quad\n",
        "\\hat{\\sigma} =\\frac{1^TV^{-1}(1m^T-m1^T)V^{-1}y}{1^TV^{-1}1 m^TV^{-1}m - (1^TV^{-1} m)^2}\n",
        "$$\n",
        "За умови симетричности, тобто\n",
        "$1'V^{-1} m=0$, ці оцінки можна спростити та отримати\n",
        "$$\n",
        "\\hat{\\mu}= \\frac{1}{n} \\sum_{i=1}^n y_i, \\quad \\hat{\\sigma}^2= \\frac{m'V^{-1}y}{m'V^{-1} m}.\n",
        "$$\n",
        "Розглянемо $W$-статистику Шапіро-Уілка:  \n",
        "$$\n",
        "W= \\frac{(\\sum_{i=1}^n y_i a_i)^2}{\\sum_{i=1}^n (y_i-\\overline{y})^2},\n",
        "$$\n",
        "де $a= (a_1,\\dots,a_n)= \\frac{m'V^{-1}}{(m'V^{-1} V^{-1} m)^{1/2}}$.\n",
        "За умови нормальності вибірки $X$, розподіл цієї статистики залежить лише від $n$  і є  табульованим (хоча точне аналітичне зображення невідоме). Тому цю статистику можна використовувати для перевірки гіпотези про нормальність. В залежності від того, скільки точок попадає в ''допустимий інтервал'', таке буде значення статистики $W$. Критичними значеннями є такі значення емпіричної  $W$, яка менша за табличне значення. У цьому випадку нульова гіпотеза відхиляється.  Іншими словами,\n",
        "$H_0$ відхиляємо, якщо $W<c_{\\alpha,n}$,\n",
        "де\n",
        "$$\n",
        "\\alpha= \\mathbb{P} (W<c_{\\alpha,n}| H_0).\n",
        "$$\n"
      ]
    },
    {
      "cell_type": "code",
      "execution_count": null,
      "id": "e15a83ab",
      "metadata": {
        "id": "e15a83ab",
        "outputId": "04215b9a-2aa2-43c6-9a3c-520be601caca"
      },
      "outputs": [
        {
          "data": {
            "text/plain": [
              "\n",
              "\tShapiro-Wilk normality test\n",
              "\n",
              "data:  x\n",
              "W = 0.97248, p-value = 0.291\n"
            ]
          },
          "metadata": {},
          "output_type": "display_data"
        }
      ],
      "source": [
        "shapiro.test(x)"
      ]
    },
    {
      "cell_type": "markdown",
      "id": "e7b0fafb",
      "metadata": {
        "id": "e7b0fafb"
      },
      "source": [
        "Існує багатовимірний аналог тесту Шапіро-Уілка. Нехай  $X= (X_1,\\dots,X_n)$ вибірка випадкових векторів з $\\mathbb{R}^p$.\n",
        "\n",
        "Розглядається нульова гіпотеза\n",
        "$H_0$: $X_i \\sim N_p(\\mu,\\Sigma)$, $i=1,\\dots, n$, $\\mu$, $\\Sigma$ - невідомі.\n",
        "\n",
        "Нехай $\\bar{X} = \\frac{1}{n} \\sum_{i=1}^n X_i$,\n",
        "$$\n",
        "S= \\frac{1}{n} \\sum_{i=1}^n (X_i-\\bar{X})(X_i-\\bar{X}).\n",
        "$$\n",
        "Розглянемо нормовані  вектори\n",
        "$$\n",
        "Z_j^* = S^{-1/2} (X_j-\\bar{X}), \\quad Z_j^* = (Z_{1j},\\dots, Z_{pj}).\n",
        "$$\n",
        "В якості узагальненої статистика Шапіро Уілкса можна взяти\n",
        "$$\n",
        "W^*= \\frac{1}{p} \\sum_{i=1}^p W_{Z_i},\n",
        "$$\n",
        "де\n",
        "$W_{Z_i}$- статистика Шапіро-Уілкса для (одновимірних!) спостепежень $ (Z_{i1}, \\dots, Z_{in})$, $i=1,\\dots, p$.\n",
        "Як і в одновимірному випадку, $H_0$ відхиляємо, якщо $W^*<c_{\\alpha, p,n}$,\n",
        "де\n",
        "$$\n",
        "\\alpha= \\mathbb{P} (W^*<c_{\\alpha,p,n}| H_0).\n",
        "$$\n",
        "Для перевірки нормальності випадкових векторів застосовується, наприклад, пакет\n",
        "mvnormtest, який потрібно встановити за завантажити відповідну бібліотеку. Для перевірки нормальності застосовується функція   (тут $DataX$  у форматі матриці.)\n"
      ]
    },
    {
      "cell_type": "code",
      "execution_count": null,
      "id": "02c19da8",
      "metadata": {
        "id": "02c19da8"
      },
      "outputs": [],
      "source": []
    }
  ],
  "metadata": {
    "kernelspec": {
      "display_name": "R",
      "language": "R",
      "name": "ir"
    },
    "language_info": {
      "codemirror_mode": "r",
      "file_extension": ".r",
      "mimetype": "text/x-r-source",
      "name": "R",
      "pygments_lexer": "r",
      "version": "3.6.1"
    },
    "colab": {
      "provenance": []
    }
  },
  "nbformat": 4,
  "nbformat_minor": 5
}