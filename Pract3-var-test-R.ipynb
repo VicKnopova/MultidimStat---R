{
 "cells": [
  {
   "cell_type": "markdown",
   "id": "9d1f3652",
   "metadata": {},
   "source": [
    "#  Практика 3.  Оціновання коваріаційної матриці. \n",
    "\n",
    "##  1. Оцінка матриці коваріацій (Example 7.2.2  (Table 3.5)  Rencher)"
   ]
  },
  {
   "cell_type": "markdown",
   "id": "437468e5",
   "metadata": {},
   "source": [
    "Завантажимо бібліотеку  stats та файл з даними. "
   ]
  },
  {
   "cell_type": "code",
   "execution_count": 1,
   "id": "f92f42c8",
   "metadata": {},
   "outputs": [
    {
     "data": {
      "text/html": [
       "<table>\n",
       "<thead><tr><th scope=col>V1</th><th scope=col>V2</th><th scope=col>V3</th><th scope=col>V4</th><th scope=col>V5</th><th scope=col>V6</th></tr></thead>\n",
       "<tbody>\n",
       "\t<tr><td>1 </td><td>51</td><td>36</td><td>50</td><td>35</td><td>42</td></tr>\n",
       "\t<tr><td>2 </td><td>27</td><td>20</td><td>26</td><td>17</td><td>27</td></tr>\n",
       "\t<tr><td>3 </td><td>37</td><td>22</td><td>41</td><td>37</td><td>30</td></tr>\n",
       "\t<tr><td>4 </td><td>42</td><td>36</td><td>32</td><td>34</td><td>27</td></tr>\n",
       "\t<tr><td>5 </td><td>27</td><td>18</td><td>33</td><td>14</td><td>29</td></tr>\n",
       "\t<tr><td>6 </td><td>43</td><td>32</td><td>43</td><td>35</td><td>40</td></tr>\n",
       "</tbody>\n",
       "</table>\n"
      ],
      "text/latex": [
       "\\begin{tabular}{r|llllll}\n",
       " V1 & V2 & V3 & V4 & V5 & V6\\\\\n",
       "\\hline\n",
       "\t 1  & 51 & 36 & 50 & 35 & 42\\\\\n",
       "\t 2  & 27 & 20 & 26 & 17 & 27\\\\\n",
       "\t 3  & 37 & 22 & 41 & 37 & 30\\\\\n",
       "\t 4  & 42 & 36 & 32 & 34 & 27\\\\\n",
       "\t 5  & 27 & 18 & 33 & 14 & 29\\\\\n",
       "\t 6  & 43 & 32 & 43 & 35 & 40\\\\\n",
       "\\end{tabular}\n"
      ],
      "text/markdown": [
       "\n",
       "| V1 | V2 | V3 | V4 | V5 | V6 |\n",
       "|---|---|---|---|---|---|\n",
       "| 1  | 51 | 36 | 50 | 35 | 42 |\n",
       "| 2  | 27 | 20 | 26 | 17 | 27 |\n",
       "| 3  | 37 | 22 | 41 | 37 | 30 |\n",
       "| 4  | 42 | 36 | 32 | 34 | 27 |\n",
       "| 5  | 27 | 18 | 33 | 14 | 29 |\n",
       "| 6  | 43 | 32 | 43 | 35 | 40 |\n",
       "\n"
      ],
      "text/plain": [
       "  V1 V2 V3 V4 V5 V6\n",
       "1 1  51 36 50 35 42\n",
       "2 2  27 20 26 17 27\n",
       "3 3  37 22 41 37 30\n",
       "4 4  42 36 32 34 27\n",
       "5 5  27 18 33 14 29\n",
       "6 6  43 32 43 35 40"
      ]
     },
     "metadata": {},
     "output_type": "display_data"
    }
   ],
   "source": [
    "library(\"stats\")\n",
    "probe <- read.table('T3_5_PROBE.DAT')\n",
    "head(probe)"
   ]
  },
  {
   "cell_type": "markdown",
   "id": "92d8b6f4",
   "metadata": {},
   "source": [
    "Можна одразу зчитати таблицю у вигляді матриці. Перший стовбчик -це просто пронумеровані дані, тому нам потрібні лише стовбчики 2--6. "
   ]
  },
  {
   "cell_type": "code",
   "execution_count": 2,
   "id": "b8c9eec9",
   "metadata": {},
   "outputs": [
    {
     "data": {
      "text/html": [
       "<table>\n",
       "<thead><tr><th scope=col>V2</th><th scope=col>V3</th><th scope=col>V4</th><th scope=col>V5</th><th scope=col>V6</th></tr></thead>\n",
       "<tbody>\n",
       "\t<tr><td>51</td><td>36</td><td>50</td><td>35</td><td>42</td></tr>\n",
       "\t<tr><td>27</td><td>20</td><td>26</td><td>17</td><td>27</td></tr>\n",
       "\t<tr><td>37</td><td>22</td><td>41</td><td>37</td><td>30</td></tr>\n",
       "\t<tr><td>42</td><td>36</td><td>32</td><td>34</td><td>27</td></tr>\n",
       "\t<tr><td>27</td><td>18</td><td>33</td><td>14</td><td>29</td></tr>\n",
       "\t<tr><td>43</td><td>32</td><td>43</td><td>35</td><td>40</td></tr>\n",
       "\t<tr><td>41</td><td>22</td><td>36</td><td>25</td><td>38</td></tr>\n",
       "\t<tr><td>38</td><td>21</td><td>31</td><td>20</td><td>16</td></tr>\n",
       "\t<tr><td>36</td><td>23</td><td>27</td><td>25</td><td>28</td></tr>\n",
       "\t<tr><td>26</td><td>31</td><td>31</td><td>32</td><td>36</td></tr>\n",
       "\t<tr><td>29</td><td>20</td><td>25</td><td>26</td><td>25</td></tr>\n",
       "</tbody>\n",
       "</table>\n"
      ],
      "text/latex": [
       "\\begin{tabular}{lllll}\n",
       " V2 & V3 & V4 & V5 & V6\\\\\n",
       "\\hline\n",
       "\t 51 & 36 & 50 & 35 & 42\\\\\n",
       "\t 27 & 20 & 26 & 17 & 27\\\\\n",
       "\t 37 & 22 & 41 & 37 & 30\\\\\n",
       "\t 42 & 36 & 32 & 34 & 27\\\\\n",
       "\t 27 & 18 & 33 & 14 & 29\\\\\n",
       "\t 43 & 32 & 43 & 35 & 40\\\\\n",
       "\t 41 & 22 & 36 & 25 & 38\\\\\n",
       "\t 38 & 21 & 31 & 20 & 16\\\\\n",
       "\t 36 & 23 & 27 & 25 & 28\\\\\n",
       "\t 26 & 31 & 31 & 32 & 36\\\\\n",
       "\t 29 & 20 & 25 & 26 & 25\\\\\n",
       "\\end{tabular}\n"
      ],
      "text/markdown": [
       "\n",
       "| V2 | V3 | V4 | V5 | V6 |\n",
       "|---|---|---|---|---|\n",
       "| 51 | 36 | 50 | 35 | 42 |\n",
       "| 27 | 20 | 26 | 17 | 27 |\n",
       "| 37 | 22 | 41 | 37 | 30 |\n",
       "| 42 | 36 | 32 | 34 | 27 |\n",
       "| 27 | 18 | 33 | 14 | 29 |\n",
       "| 43 | 32 | 43 | 35 | 40 |\n",
       "| 41 | 22 | 36 | 25 | 38 |\n",
       "| 38 | 21 | 31 | 20 | 16 |\n",
       "| 36 | 23 | 27 | 25 | 28 |\n",
       "| 26 | 31 | 31 | 32 | 36 |\n",
       "| 29 | 20 | 25 | 26 | 25 |\n",
       "\n"
      ],
      "text/plain": [
       "      V2 V3 V4 V5 V6\n",
       " [1,] 51 36 50 35 42\n",
       " [2,] 27 20 26 17 27\n",
       " [3,] 37 22 41 37 30\n",
       " [4,] 42 36 32 34 27\n",
       " [5,] 27 18 33 14 29\n",
       " [6,] 43 32 43 35 40\n",
       " [7,] 41 22 36 25 38\n",
       " [8,] 38 21 31 20 16\n",
       " [9,] 36 23 27 25 28\n",
       "[10,] 26 31 31 32 36\n",
       "[11,] 29 20 25 26 25"
      ]
     },
     "metadata": {},
     "output_type": "display_data"
    }
   ],
   "source": [
    "probe <- as.matrix(read.table('T3_5_PROBE.DAT'))[,2:6]\n",
    "probe"
   ]
  },
  {
   "cell_type": "code",
   "execution_count": 3,
   "id": "91d3aa71",
   "metadata": {},
   "outputs": [
    {
     "data": {
      "text/html": [
       "<ol class=list-inline>\n",
       "\t<li>11</li>\n",
       "\t<li>5</li>\n",
       "</ol>\n"
      ],
      "text/latex": [
       "\\begin{enumerate*}\n",
       "\\item 11\n",
       "\\item 5\n",
       "\\end{enumerate*}\n"
      ],
      "text/markdown": [
       "1. 11\n",
       "2. 5\n",
       "\n",
       "\n"
      ],
      "text/plain": [
       "[1] 11  5"
      ]
     },
     "metadata": {},
     "output_type": "display_data"
    }
   ],
   "source": [
    "dim(probe)"
   ]
  },
  {
   "cell_type": "markdown",
   "id": "e5fc03f4",
   "metadata": {},
   "source": [
    "Перевіримо гіпотезу $H_0$:  $\\Sigma= \\sigma^2 I$. Для цього порахуємо статистику \n",
    "$$\n",
    "u = \\frac{p^p|S|} {(trace(S))^p}.\n",
    "$$\n",
    "Обчислимо $p$, $S= cov(probe)$,  $det(S)$  та $trace(S)$. "
   ]
  },
  {
   "cell_type": "code",
   "execution_count": 4,
   "id": "c43a8d03",
   "metadata": {},
   "outputs": [
    {
     "data": {
      "text/html": [
       "11"
      ],
      "text/latex": [
       "11"
      ],
      "text/markdown": [
       "11"
      ],
      "text/plain": [
       "[1] 11"
      ]
     },
     "metadata": {},
     "output_type": "display_data"
    },
    {
     "data": {
      "text/html": [
       "5"
      ],
      "text/latex": [
       "5"
      ],
      "text/markdown": [
       "5"
      ],
      "text/plain": [
       "[1] 5"
      ]
     },
     "metadata": {},
     "output_type": "display_data"
    }
   ],
   "source": [
    "n <- dim(probe)[1]\n",
    "p <- dim(probe)[2]\n",
    "n\n",
    "p"
   ]
  },
  {
   "cell_type": "code",
   "execution_count": 5,
   "id": "5a427a4a",
   "metadata": {},
   "outputs": [
    {
     "data": {
      "text/html": [
       "0.039"
      ],
      "text/latex": [
       "0.039"
      ],
      "text/markdown": [
       "0.039"
      ],
      "text/plain": [
       "[1] 0.039"
      ]
     },
     "metadata": {},
     "output_type": "display_data"
    }
   ],
   "source": [
    "S <- cov(probe)\n",
    "u <- round(((p^p)*det(S))/(sum(diag(S)))^p, digits = 3)\n",
    "u"
   ]
  },
  {
   "cell_type": "code",
   "execution_count": 6,
   "id": "a477eed1",
   "metadata": {},
   "outputs": [
    {
     "data": {
      "text/html": [
       "<table>\n",
       "<thead><tr><th></th><th scope=col>V2</th><th scope=col>V3</th><th scope=col>V4</th><th scope=col>V5</th><th scope=col>V6</th></tr></thead>\n",
       "<tbody>\n",
       "\t<tr><th scope=row>V2</th><td>65.09091</td><td>33.64545</td><td>47.59091</td><td>36.77273</td><td>25.42727</td></tr>\n",
       "\t<tr><th scope=row>V3</th><td>33.64545</td><td>46.07273</td><td>28.94545</td><td>40.33636</td><td>28.36364</td></tr>\n",
       "\t<tr><th scope=row>V4</th><td>47.59091</td><td>28.94545</td><td>60.69091</td><td>37.37273</td><td>41.12727</td></tr>\n",
       "\t<tr><th scope=row>V5</th><td>36.77273</td><td>40.33636</td><td>37.37273</td><td>62.81818</td><td>31.68182</td></tr>\n",
       "\t<tr><th scope=row>V6</th><td>25.42727</td><td>28.36364</td><td>41.12727</td><td>31.68182</td><td>58.21818</td></tr>\n",
       "</tbody>\n",
       "</table>\n"
      ],
      "text/latex": [
       "\\begin{tabular}{r|lllll}\n",
       "  & V2 & V3 & V4 & V5 & V6\\\\\n",
       "\\hline\n",
       "\tV2 & 65.09091 & 33.64545 & 47.59091 & 36.77273 & 25.42727\\\\\n",
       "\tV3 & 33.64545 & 46.07273 & 28.94545 & 40.33636 & 28.36364\\\\\n",
       "\tV4 & 47.59091 & 28.94545 & 60.69091 & 37.37273 & 41.12727\\\\\n",
       "\tV5 & 36.77273 & 40.33636 & 37.37273 & 62.81818 & 31.68182\\\\\n",
       "\tV6 & 25.42727 & 28.36364 & 41.12727 & 31.68182 & 58.21818\\\\\n",
       "\\end{tabular}\n"
      ],
      "text/markdown": [
       "\n",
       "| <!--/--> | V2 | V3 | V4 | V5 | V6 |\n",
       "|---|---|---|---|---|---|\n",
       "| V2 | 65.09091 | 33.64545 | 47.59091 | 36.77273 | 25.42727 |\n",
       "| V3 | 33.64545 | 46.07273 | 28.94545 | 40.33636 | 28.36364 |\n",
       "| V4 | 47.59091 | 28.94545 | 60.69091 | 37.37273 | 41.12727 |\n",
       "| V5 | 36.77273 | 40.33636 | 37.37273 | 62.81818 | 31.68182 |\n",
       "| V6 | 25.42727 | 28.36364 | 41.12727 | 31.68182 | 58.21818 |\n",
       "\n"
      ],
      "text/plain": [
       "   V2       V3       V4       V5       V6      \n",
       "V2 65.09091 33.64545 47.59091 36.77273 25.42727\n",
       "V3 33.64545 46.07273 28.94545 40.33636 28.36364\n",
       "V4 47.59091 28.94545 60.69091 37.37273 41.12727\n",
       "V5 36.77273 40.33636 37.37273 62.81818 31.68182\n",
       "V6 25.42727 28.36364 41.12727 31.68182 58.21818"
      ]
     },
     "metadata": {},
     "output_type": "display_data"
    }
   ],
   "source": [
    "S"
   ]
  },
  {
   "cell_type": "code",
   "execution_count": 7,
   "id": "7ce87d57",
   "metadata": {},
   "outputs": [
    {
     "data": {
      "text/html": [
       "35.686"
      ],
      "text/latex": [
       "35.686"
      ],
      "text/markdown": [
       "35.686"
      ],
      "text/plain": [
       "[1] 35.686"
      ]
     },
     "metadata": {},
     "output_type": "display_data"
    }
   ],
   "source": [
    "-round(n * log(u),  digits = 3)"
   ]
  },
  {
   "cell_type": "markdown",
   "id": "47b71418",
   "metadata": {},
   "source": [
    "Ми округлили до третього знаку за допомогою функції round(x, digits = 3). \n",
    "Для середніх $n$ статистика $u'=(n-1 - \\frac{2p^2+2+p}{6p}) \\ln u$  має наближено  $ \\chi^2_{\\frac{p(p+1)}{2}-1}$ розподіл.  Отже, знайдемо квантіль рівня $\\alpha = 0.05$ розподілу $ \\chi^2_{\\frac{p(p+1)}{2}-1}$. "
   ]
  },
  {
   "cell_type": "code",
   "execution_count": 8,
   "id": "320551c4",
   "metadata": {},
   "outputs": [
    {
     "data": {
      "text/html": [
       "26.278"
      ],
      "text/latex": [
       "26.278"
      ],
      "text/markdown": [
       "26.278"
      ],
      "text/plain": [
       "[1] 26.278"
      ]
     },
     "metadata": {},
     "output_type": "display_data"
    }
   ],
   "source": [
    "u1 <- - (n-1 - (2*p^2 +p+2)/(6*p)) * log(u)\n",
    "round(u1, digits = 3)"
   ]
  },
  {
   "cell_type": "code",
   "execution_count": 9,
   "id": "f4eec41b",
   "metadata": {},
   "outputs": [
    {
     "data": {
      "text/html": [
       "23.685"
      ],
      "text/latex": [
       "23.685"
      ],
      "text/markdown": [
       "23.685"
      ],
      "text/plain": [
       "[1] 23.685"
      ]
     },
     "metadata": {},
     "output_type": "display_data"
    }
   ],
   "source": [
    "round(qchisq(0.05, p*(p+1)/2-1, lower.tail=FALSE),digits = 3)"
   ]
  },
  {
   "cell_type": "markdown",
   "id": "ba221d79",
   "metadata": {},
   "source": [
    "Ми відхиляємо $H_0$. "
   ]
  },
  {
   "cell_type": "markdown",
   "id": "dff328fe",
   "metadata": {},
   "source": [
    "Також можна перевірити гіпотезу $H_0$ за допомогою теста Маулчі та вбудованої функції. Для цього 1) утворюємо лінійну модель, 2) знаходимо матрицю дисперсій (SSD). "
   ]
  },
  {
   "cell_type": "code",
   "execution_count": 10,
   "id": "ffe5cd63",
   "metadata": {},
   "outputs": [
    {
     "data": {
      "text/plain": [
       "$SSD\n",
       "         V2       V3       V4       V5       V6\n",
       "V2 650.9091 336.4545 475.9091 367.7273 254.2727\n",
       "V3 336.4545 460.7273 289.4545 403.3636 283.6364\n",
       "V4 475.9091 289.4545 606.9091 373.7273 411.2727\n",
       "V5 367.7273 403.3636 373.7273 628.1818 316.8182\n",
       "V6 254.2727 283.6364 411.2727 316.8182 582.1818\n",
       "\n",
       "$call\n",
       "lm(formula = probe ~ 1)\n",
       "\n",
       "$df\n",
       "[1] 10\n",
       "\n",
       "attr(,\"class\")\n",
       "[1] \"SSD\""
      ]
     },
     "metadata": {},
     "output_type": "display_data"
    },
    {
     "data": {
      "text/plain": [
       "\n",
       "\tMauchly's test of sphericity\n",
       "\n",
       "data:  SSD matrix from lm(formula = probe ~ 1)\n",
       "W = 0.039489, p-value = 0.02986\n"
      ]
     },
     "metadata": {},
     "output_type": "display_data"
    }
   ],
   "source": [
    "mlmfit <- lm(probe ~ 1)  \n",
    "SSD(mlmfit)          \n",
    "mauchly.test(SSD(mlmfit)) "
   ]
  },
  {
   "cell_type": "code",
   "execution_count": 11,
   "id": "ac53f533",
   "metadata": {},
   "outputs": [
    {
     "data": {
      "text/plain": [
       "Response V2 :\n",
       "\n",
       "Call:\n",
       "lm(formula = V2 ~ 1)\n",
       "\n",
       "Residuals:\n",
       "     Min       1Q   Median       3Q      Max \n",
       "-10.0909  -8.0909   0.9091   5.4091  14.9091 \n",
       "\n",
       "Coefficients:\n",
       "            Estimate Std. Error t value Pr(>|t|)    \n",
       "(Intercept)   36.091      2.433   14.84 3.88e-08 ***\n",
       "---\n",
       "Signif. codes:  0 '***' 0.001 '**' 0.01 '*' 0.05 '.' 0.1 ' ' 1\n",
       "\n",
       "Residual standard error: 8.068 on 10 degrees of freedom\n",
       "\n",
       "\n",
       "Response V3 :\n",
       "\n",
       "Call:\n",
       "lm(formula = V3 ~ 1)\n",
       "\n",
       "Residuals:\n",
       "   Min     1Q Median     3Q    Max \n",
       "-7.545 -5.045 -3.546  5.955 10.454 \n",
       "\n",
       "Coefficients:\n",
       "            Estimate Std. Error t value Pr(>|t|)    \n",
       "(Intercept)   25.545      2.047   12.48 2.02e-07 ***\n",
       "---\n",
       "Signif. codes:  0 '***' 0.001 '**' 0.01 '*' 0.05 '.' 0.1 ' ' 1\n",
       "\n",
       "Residual standard error: 6.788 on 10 degrees of freedom\n",
       "\n",
       "\n",
       "Response V4 :\n",
       "\n",
       "Call:\n",
       "lm(formula = V4 ~ 1)\n",
       "\n",
       "Residuals:\n",
       "   Min     1Q Median     3Q    Max \n",
       "-9.091 -5.091 -2.091  4.409 15.909 \n",
       "\n",
       "Coefficients:\n",
       "            Estimate Std. Error t value Pr(>|t|)    \n",
       "(Intercept)   34.091      2.349   14.51  4.8e-08 ***\n",
       "---\n",
       "Signif. codes:  0 '***' 0.001 '**' 0.01 '*' 0.05 '.' 0.1 ' ' 1\n",
       "\n",
       "Residual standard error: 7.79 on 10 degrees of freedom\n",
       "\n",
       "\n",
       "Response V5 :\n",
       "\n",
       "Call:\n",
       "lm(formula = V5 ~ 1)\n",
       "\n",
       "Residuals:\n",
       "    Min      1Q  Median      3Q     Max \n",
       "-13.273  -4.773  -1.273   7.227   9.727 \n",
       "\n",
       "Coefficients:\n",
       "            Estimate Std. Error t value Pr(>|t|)    \n",
       "(Intercept)    27.27       2.39   11.41 4.68e-07 ***\n",
       "---\n",
       "Signif. codes:  0 '***' 0.001 '**' 0.01 '*' 0.05 '.' 0.1 ' ' 1\n",
       "\n",
       "Residual standard error: 7.926 on 10 degrees of freedom\n",
       "\n",
       "\n",
       "Response V6 :\n",
       "\n",
       "Call:\n",
       "lm(formula = V6 ~ 1)\n",
       "\n",
       "Residuals:\n",
       "    Min      1Q  Median      3Q     Max \n",
       "-14.727  -3.727  -1.727   6.273  11.273 \n",
       "\n",
       "Coefficients:\n",
       "            Estimate Std. Error t value Pr(>|t|)    \n",
       "(Intercept)   30.727      2.301   13.36 1.06e-07 ***\n",
       "---\n",
       "Signif. codes:  0 '***' 0.001 '**' 0.01 '*' 0.05 '.' 0.1 ' ' 1\n",
       "\n",
       "Residual standard error: 7.63 on 10 degrees of freedom\n",
       "\n"
      ]
     },
     "metadata": {},
     "output_type": "display_data"
    }
   ],
   "source": [
    "summary(lm(probe ~ 1))"
   ]
  },
  {
   "cell_type": "markdown",
   "id": "3fcda567",
   "metadata": {},
   "source": [
    "Ми отримали те саме значення $u$, що і вище. Оскільки $p-value$ менше 0.05, відхиляємо нульову гіпотезу. "
   ]
  },
  {
   "cell_type": "markdown",
   "id": "a7e131aa",
   "metadata": {},
   "source": [
    "## 2. Box M test, рівність коваріаційних матриць.\n",
    "\n",
    "Розглянемо Таблицю 5.1, результатами якої є дані психологічних тестів для чоловіків і жінок. \n",
    "Встановимо пакет biotools. "
   ]
  },
  {
   "cell_type": "code",
   "execution_count": 12,
   "id": "ff8424ec",
   "metadata": {},
   "outputs": [
    {
     "name": "stderr",
     "output_type": "stream",
     "text": [
      "Loading required package: MASS\n",
      "Warning message:\n",
      "\"package 'MASS' was built under R version 3.6.3\"---\n",
      "biotools version 4.2\n"
     ]
    }
   ],
   "source": [
    "#install.packages(\"biotools\")\n",
    "library(biotools)"
   ]
  },
  {
   "cell_type": "code",
   "execution_count": 13,
   "id": "113efd2d",
   "metadata": {},
   "outputs": [
    {
     "data": {
      "text/html": [
       "<table>\n",
       "<thead><tr><th scope=col>V1</th><th scope=col>V2</th><th scope=col>V3</th><th scope=col>V4</th><th scope=col>V5</th></tr></thead>\n",
       "<tbody>\n",
       "\t<tr><td>1 </td><td>15</td><td>17</td><td>24</td><td>14</td></tr>\n",
       "\t<tr><td>1 </td><td>17</td><td>15</td><td>32</td><td>26</td></tr>\n",
       "\t<tr><td>1 </td><td>15</td><td>14</td><td>29</td><td>23</td></tr>\n",
       "\t<tr><td>1 </td><td>13</td><td>12</td><td>10</td><td>16</td></tr>\n",
       "\t<tr><td>1 </td><td>20</td><td>17</td><td>26</td><td>28</td></tr>\n",
       "\t<tr><td>1 </td><td>15</td><td>21</td><td>26</td><td>21</td></tr>\n",
       "</tbody>\n",
       "</table>\n"
      ],
      "text/latex": [
       "\\begin{tabular}{r|lllll}\n",
       " V1 & V2 & V3 & V4 & V5\\\\\n",
       "\\hline\n",
       "\t 1  & 15 & 17 & 24 & 14\\\\\n",
       "\t 1  & 17 & 15 & 32 & 26\\\\\n",
       "\t 1  & 15 & 14 & 29 & 23\\\\\n",
       "\t 1  & 13 & 12 & 10 & 16\\\\\n",
       "\t 1  & 20 & 17 & 26 & 28\\\\\n",
       "\t 1  & 15 & 21 & 26 & 21\\\\\n",
       "\\end{tabular}\n"
      ],
      "text/markdown": [
       "\n",
       "| V1 | V2 | V3 | V4 | V5 |\n",
       "|---|---|---|---|---|\n",
       "| 1  | 15 | 17 | 24 | 14 |\n",
       "| 1  | 17 | 15 | 32 | 26 |\n",
       "| 1  | 15 | 14 | 29 | 23 |\n",
       "| 1  | 13 | 12 | 10 | 16 |\n",
       "| 1  | 20 | 17 | 26 | 28 |\n",
       "| 1  | 15 | 21 | 26 | 21 |\n",
       "\n"
      ],
      "text/plain": [
       "  V1 V2 V3 V4 V5\n",
       "1 1  15 17 24 14\n",
       "2 1  17 15 32 26\n",
       "3 1  15 14 29 23\n",
       "4 1  13 12 10 16\n",
       "5 1  20 17 26 28\n",
       "6 1  15 21 26 21"
      ]
     },
     "metadata": {},
     "output_type": "display_data"
    }
   ],
   "source": [
    "Psych <- read.table('T5_1_PSYCH.DAT')\n",
    "head(Psych)"
   ]
  },
  {
   "cell_type": "markdown",
   "id": "86abfc97",
   "metadata": {},
   "source": [
    "Застосуємо  вбудований тест Бокса. Для його застосування досить використовувати дані у вигляді таблиці. При цьому першу колонку ми використовуємо в якості індекса. "
   ]
  },
  {
   "cell_type": "code",
   "execution_count": 14,
   "id": "1fce1a97",
   "metadata": {},
   "outputs": [
    {
     "data": {
      "text/plain": [
       "\n",
       "\tBox's M-test for Homogeneity of Covariance Matrices\n",
       "\n",
       "data:  Psych[, 2:5]\n",
       "Chi-Sq (approx.) = 13.551, df = 10, p-value = 0.1945\n"
      ]
     },
     "metadata": {},
     "output_type": "display_data"
    }
   ],
   "source": [
    "boxM(Psych[,2:5],Psych[,1])"
   ]
  },
  {
   "cell_type": "markdown",
   "id": "360d6488",
   "metadata": {},
   "source": [
    "Отже, ми приймаємо нульову гіпотезу про те, що в обох групах коваріаційні матриці однакові. "
   ]
  },
  {
   "cell_type": "markdown",
   "id": "55c28b10",
   "metadata": {},
   "source": [
    "Зробимо тепер ці самі обчислення вручну. \n",
    "Для цього треба дані розбити на 2 матриці по фактору $V1$. Для цього ми використаємо функцію split."
   ]
  },
  {
   "cell_type": "markdown",
   "id": "65b76cc7",
   "metadata": {},
   "source": [
    "V1 - це колонка, яка позначає фактори: 1, якщо учасник тесту чоловік, і 2-- якщо жінка. Зробимо групування по факторам."
   ]
  },
  {
   "cell_type": "code",
   "execution_count": 15,
   "id": "f126f57e",
   "metadata": {},
   "outputs": [
    {
     "data": {
      "text/html": [
       "<dl>\n",
       "\t<dt>$`1`</dt>\n",
       "\t\t<dd><table>\n",
       "<thead><tr><th scope=col>V1</th><th scope=col>V2</th><th scope=col>V3</th><th scope=col>V4</th><th scope=col>V5</th></tr></thead>\n",
       "<tbody>\n",
       "\t<tr><td>1 </td><td>15</td><td>17</td><td>24</td><td>14</td></tr>\n",
       "\t<tr><td>1 </td><td>17</td><td>15</td><td>32</td><td>26</td></tr>\n",
       "\t<tr><td>1 </td><td>15</td><td>14</td><td>29</td><td>23</td></tr>\n",
       "\t<tr><td>1 </td><td>13</td><td>12</td><td>10</td><td>16</td></tr>\n",
       "\t<tr><td>1 </td><td>20</td><td>17</td><td>26</td><td>28</td></tr>\n",
       "\t<tr><td>1 </td><td>15</td><td>21</td><td>26</td><td>21</td></tr>\n",
       "\t<tr><td>1 </td><td>15</td><td>13</td><td>26</td><td>22</td></tr>\n",
       "\t<tr><td>1 </td><td>13</td><td> 5</td><td>22</td><td>22</td></tr>\n",
       "\t<tr><td>1 </td><td>14</td><td> 7</td><td>30</td><td>17</td></tr>\n",
       "\t<tr><td>1 </td><td>17</td><td>15</td><td>30</td><td>27</td></tr>\n",
       "\t<tr><td>1 </td><td>17</td><td>17</td><td>26</td><td>20</td></tr>\n",
       "\t<tr><td>1 </td><td>17</td><td>20</td><td>28</td><td>24</td></tr>\n",
       "\t<tr><td>1 </td><td>15</td><td>15</td><td>29</td><td>24</td></tr>\n",
       "\t<tr><td>1 </td><td>18</td><td>19</td><td>32</td><td>28</td></tr>\n",
       "\t<tr><td>1 </td><td>18</td><td>18</td><td>31</td><td>27</td></tr>\n",
       "\t<tr><td>1 </td><td>15</td><td>14</td><td>26</td><td>21</td></tr>\n",
       "\t<tr><td>1 </td><td>18</td><td>17</td><td>33</td><td>26</td></tr>\n",
       "\t<tr><td>1 </td><td>10</td><td>14</td><td>19</td><td>17</td></tr>\n",
       "\t<tr><td>1 </td><td>18</td><td>21</td><td>30</td><td>29</td></tr>\n",
       "\t<tr><td>1 </td><td>18</td><td>21</td><td>34</td><td>26</td></tr>\n",
       "\t<tr><td>1 </td><td>13</td><td>17</td><td>30</td><td>24</td></tr>\n",
       "\t<tr><td>1 </td><td>16</td><td>16</td><td>16</td><td>16</td></tr>\n",
       "\t<tr><td>1 </td><td>11</td><td>15</td><td>25</td><td>23</td></tr>\n",
       "\t<tr><td>1 </td><td>16</td><td>13</td><td>26</td><td>16</td></tr>\n",
       "\t<tr><td>1 </td><td>16</td><td>13</td><td>23</td><td>21</td></tr>\n",
       "\t<tr><td>1 </td><td>18</td><td>18</td><td>34</td><td>24</td></tr>\n",
       "\t<tr><td>1 </td><td>16</td><td>15</td><td>28</td><td>27</td></tr>\n",
       "\t<tr><td>1 </td><td>15</td><td>16</td><td>29</td><td>24</td></tr>\n",
       "\t<tr><td>1 </td><td>18</td><td>19</td><td>32</td><td>23</td></tr>\n",
       "\t<tr><td>1 </td><td>18</td><td>16</td><td>33</td><td>23</td></tr>\n",
       "\t<tr><td>1 </td><td>17</td><td>20</td><td>21</td><td>21</td></tr>\n",
       "\t<tr><td>1 </td><td>19</td><td>19</td><td>30</td><td>28</td></tr>\n",
       "</tbody>\n",
       "</table>\n",
       "</dd>\n",
       "\t<dt>$`2`</dt>\n",
       "\t\t<dd><table>\n",
       "<thead><tr><th></th><th scope=col>V1</th><th scope=col>V2</th><th scope=col>V3</th><th scope=col>V4</th><th scope=col>V5</th></tr></thead>\n",
       "<tbody>\n",
       "\t<tr><th scope=row>33</th><td>2 </td><td>13</td><td>14</td><td>12</td><td>21</td></tr>\n",
       "\t<tr><th scope=row>34</th><td>2 </td><td>14</td><td>12</td><td>14</td><td>26</td></tr>\n",
       "\t<tr><th scope=row>35</th><td>2 </td><td>12</td><td>19</td><td>21</td><td>21</td></tr>\n",
       "\t<tr><th scope=row>36</th><td>2 </td><td>12</td><td>13</td><td>10</td><td>16</td></tr>\n",
       "\t<tr><th scope=row>37</th><td>2 </td><td>11</td><td>20</td><td>16</td><td>16</td></tr>\n",
       "\t<tr><th scope=row>38</th><td>2 </td><td>12</td><td> 9</td><td>14</td><td>18</td></tr>\n",
       "\t<tr><th scope=row>39</th><td>2 </td><td>10</td><td>13</td><td>18</td><td>24</td></tr>\n",
       "\t<tr><th scope=row>40</th><td>2 </td><td>10</td><td> 8</td><td>13</td><td>23</td></tr>\n",
       "\t<tr><th scope=row>41</th><td>2 </td><td>12</td><td>20</td><td>19</td><td>23</td></tr>\n",
       "\t<tr><th scope=row>42</th><td>2 </td><td>11</td><td>10</td><td>11</td><td>27</td></tr>\n",
       "\t<tr><th scope=row>43</th><td>2 </td><td>12</td><td>18</td><td>25</td><td>25</td></tr>\n",
       "\t<tr><th scope=row>44</th><td>2 </td><td>14</td><td>18</td><td>13</td><td>26</td></tr>\n",
       "\t<tr><th scope=row>45</th><td>2 </td><td>14</td><td>10</td><td>25</td><td>28</td></tr>\n",
       "\t<tr><th scope=row>46</th><td>2 </td><td>13</td><td>16</td><td> 8</td><td>14</td></tr>\n",
       "\t<tr><th scope=row>47</th><td>2 </td><td>14</td><td> 8</td><td>13</td><td>25</td></tr>\n",
       "\t<tr><th scope=row>48</th><td>2 </td><td>13</td><td>16</td><td>23</td><td>28</td></tr>\n",
       "\t<tr><th scope=row>49</th><td>2 </td><td>16</td><td>21</td><td>26</td><td>26</td></tr>\n",
       "\t<tr><th scope=row>50</th><td>2 </td><td>14</td><td>17</td><td>14</td><td>14</td></tr>\n",
       "\t<tr><th scope=row>51</th><td>2 </td><td>16</td><td>16</td><td>15</td><td>23</td></tr>\n",
       "\t<tr><th scope=row>52</th><td>2 </td><td>13</td><td>16</td><td>23</td><td>24</td></tr>\n",
       "\t<tr><th scope=row>53</th><td>2 </td><td> 2</td><td> 6</td><td>16</td><td>21</td></tr>\n",
       "\t<tr><th scope=row>54</th><td>2 </td><td>14</td><td>16</td><td>22</td><td>26</td></tr>\n",
       "\t<tr><th scope=row>55</th><td>2 </td><td>17</td><td>17</td><td>22</td><td>28</td></tr>\n",
       "\t<tr><th scope=row>56</th><td>2 </td><td>16</td><td>13</td><td>16</td><td>14</td></tr>\n",
       "\t<tr><th scope=row>57</th><td>2 </td><td>15</td><td>14</td><td>20</td><td>26</td></tr>\n",
       "\t<tr><th scope=row>58</th><td>2 </td><td>12</td><td>10</td><td>12</td><td> 9</td></tr>\n",
       "\t<tr><th scope=row>59</th><td>2 </td><td>14</td><td>17</td><td>24</td><td>23</td></tr>\n",
       "\t<tr><th scope=row>60</th><td>2 </td><td>13</td><td>15</td><td>18</td><td>20</td></tr>\n",
       "\t<tr><th scope=row>61</th><td>2 </td><td>11</td><td>16</td><td>18</td><td>28</td></tr>\n",
       "\t<tr><th scope=row>62</th><td>2 </td><td> 7</td><td> 7</td><td>19</td><td>18</td></tr>\n",
       "\t<tr><th scope=row>63</th><td>2 </td><td>12</td><td>15</td><td> 7</td><td>28</td></tr>\n",
       "\t<tr><th scope=row>64</th><td>2 </td><td> 6</td><td> 5</td><td> 6</td><td>13</td></tr>\n",
       "</tbody>\n",
       "</table>\n",
       "</dd>\n",
       "</dl>\n"
      ],
      "text/latex": [
       "\\begin{description}\n",
       "\\item[\\$`1`] \\begin{tabular}{r|lllll}\n",
       " V1 & V2 & V3 & V4 & V5\\\\\n",
       "\\hline\n",
       "\t 1  & 15 & 17 & 24 & 14\\\\\n",
       "\t 1  & 17 & 15 & 32 & 26\\\\\n",
       "\t 1  & 15 & 14 & 29 & 23\\\\\n",
       "\t 1  & 13 & 12 & 10 & 16\\\\\n",
       "\t 1  & 20 & 17 & 26 & 28\\\\\n",
       "\t 1  & 15 & 21 & 26 & 21\\\\\n",
       "\t 1  & 15 & 13 & 26 & 22\\\\\n",
       "\t 1  & 13 &  5 & 22 & 22\\\\\n",
       "\t 1  & 14 &  7 & 30 & 17\\\\\n",
       "\t 1  & 17 & 15 & 30 & 27\\\\\n",
       "\t 1  & 17 & 17 & 26 & 20\\\\\n",
       "\t 1  & 17 & 20 & 28 & 24\\\\\n",
       "\t 1  & 15 & 15 & 29 & 24\\\\\n",
       "\t 1  & 18 & 19 & 32 & 28\\\\\n",
       "\t 1  & 18 & 18 & 31 & 27\\\\\n",
       "\t 1  & 15 & 14 & 26 & 21\\\\\n",
       "\t 1  & 18 & 17 & 33 & 26\\\\\n",
       "\t 1  & 10 & 14 & 19 & 17\\\\\n",
       "\t 1  & 18 & 21 & 30 & 29\\\\\n",
       "\t 1  & 18 & 21 & 34 & 26\\\\\n",
       "\t 1  & 13 & 17 & 30 & 24\\\\\n",
       "\t 1  & 16 & 16 & 16 & 16\\\\\n",
       "\t 1  & 11 & 15 & 25 & 23\\\\\n",
       "\t 1  & 16 & 13 & 26 & 16\\\\\n",
       "\t 1  & 16 & 13 & 23 & 21\\\\\n",
       "\t 1  & 18 & 18 & 34 & 24\\\\\n",
       "\t 1  & 16 & 15 & 28 & 27\\\\\n",
       "\t 1  & 15 & 16 & 29 & 24\\\\\n",
       "\t 1  & 18 & 19 & 32 & 23\\\\\n",
       "\t 1  & 18 & 16 & 33 & 23\\\\\n",
       "\t 1  & 17 & 20 & 21 & 21\\\\\n",
       "\t 1  & 19 & 19 & 30 & 28\\\\\n",
       "\\end{tabular}\n",
       "\n",
       "\\item[\\$`2`] \\begin{tabular}{r|lllll}\n",
       "  & V1 & V2 & V3 & V4 & V5\\\\\n",
       "\\hline\n",
       "\t33 & 2  & 13 & 14 & 12 & 21\\\\\n",
       "\t34 & 2  & 14 & 12 & 14 & 26\\\\\n",
       "\t35 & 2  & 12 & 19 & 21 & 21\\\\\n",
       "\t36 & 2  & 12 & 13 & 10 & 16\\\\\n",
       "\t37 & 2  & 11 & 20 & 16 & 16\\\\\n",
       "\t38 & 2  & 12 &  9 & 14 & 18\\\\\n",
       "\t39 & 2  & 10 & 13 & 18 & 24\\\\\n",
       "\t40 & 2  & 10 &  8 & 13 & 23\\\\\n",
       "\t41 & 2  & 12 & 20 & 19 & 23\\\\\n",
       "\t42 & 2  & 11 & 10 & 11 & 27\\\\\n",
       "\t43 & 2  & 12 & 18 & 25 & 25\\\\\n",
       "\t44 & 2  & 14 & 18 & 13 & 26\\\\\n",
       "\t45 & 2  & 14 & 10 & 25 & 28\\\\\n",
       "\t46 & 2  & 13 & 16 &  8 & 14\\\\\n",
       "\t47 & 2  & 14 &  8 & 13 & 25\\\\\n",
       "\t48 & 2  & 13 & 16 & 23 & 28\\\\\n",
       "\t49 & 2  & 16 & 21 & 26 & 26\\\\\n",
       "\t50 & 2  & 14 & 17 & 14 & 14\\\\\n",
       "\t51 & 2  & 16 & 16 & 15 & 23\\\\\n",
       "\t52 & 2  & 13 & 16 & 23 & 24\\\\\n",
       "\t53 & 2  &  2 &  6 & 16 & 21\\\\\n",
       "\t54 & 2  & 14 & 16 & 22 & 26\\\\\n",
       "\t55 & 2  & 17 & 17 & 22 & 28\\\\\n",
       "\t56 & 2  & 16 & 13 & 16 & 14\\\\\n",
       "\t57 & 2  & 15 & 14 & 20 & 26\\\\\n",
       "\t58 & 2  & 12 & 10 & 12 &  9\\\\\n",
       "\t59 & 2  & 14 & 17 & 24 & 23\\\\\n",
       "\t60 & 2  & 13 & 15 & 18 & 20\\\\\n",
       "\t61 & 2  & 11 & 16 & 18 & 28\\\\\n",
       "\t62 & 2  &  7 &  7 & 19 & 18\\\\\n",
       "\t63 & 2  & 12 & 15 &  7 & 28\\\\\n",
       "\t64 & 2  &  6 &  5 &  6 & 13\\\\\n",
       "\\end{tabular}\n",
       "\n",
       "\\end{description}\n"
      ],
      "text/markdown": [
       "$`1`\n",
       ":   \n",
       "| V1 | V2 | V3 | V4 | V5 |\n",
       "|---|---|---|---|---|\n",
       "| 1  | 15 | 17 | 24 | 14 |\n",
       "| 1  | 17 | 15 | 32 | 26 |\n",
       "| 1  | 15 | 14 | 29 | 23 |\n",
       "| 1  | 13 | 12 | 10 | 16 |\n",
       "| 1  | 20 | 17 | 26 | 28 |\n",
       "| 1  | 15 | 21 | 26 | 21 |\n",
       "| 1  | 15 | 13 | 26 | 22 |\n",
       "| 1  | 13 |  5 | 22 | 22 |\n",
       "| 1  | 14 |  7 | 30 | 17 |\n",
       "| 1  | 17 | 15 | 30 | 27 |\n",
       "| 1  | 17 | 17 | 26 | 20 |\n",
       "| 1  | 17 | 20 | 28 | 24 |\n",
       "| 1  | 15 | 15 | 29 | 24 |\n",
       "| 1  | 18 | 19 | 32 | 28 |\n",
       "| 1  | 18 | 18 | 31 | 27 |\n",
       "| 1  | 15 | 14 | 26 | 21 |\n",
       "| 1  | 18 | 17 | 33 | 26 |\n",
       "| 1  | 10 | 14 | 19 | 17 |\n",
       "| 1  | 18 | 21 | 30 | 29 |\n",
       "| 1  | 18 | 21 | 34 | 26 |\n",
       "| 1  | 13 | 17 | 30 | 24 |\n",
       "| 1  | 16 | 16 | 16 | 16 |\n",
       "| 1  | 11 | 15 | 25 | 23 |\n",
       "| 1  | 16 | 13 | 26 | 16 |\n",
       "| 1  | 16 | 13 | 23 | 21 |\n",
       "| 1  | 18 | 18 | 34 | 24 |\n",
       "| 1  | 16 | 15 | 28 | 27 |\n",
       "| 1  | 15 | 16 | 29 | 24 |\n",
       "| 1  | 18 | 19 | 32 | 23 |\n",
       "| 1  | 18 | 16 | 33 | 23 |\n",
       "| 1  | 17 | 20 | 21 | 21 |\n",
       "| 1  | 19 | 19 | 30 | 28 |\n",
       "\n",
       "\n",
       "$`2`\n",
       ":   \n",
       "| <!--/--> | V1 | V2 | V3 | V4 | V5 |\n",
       "|---|---|---|---|---|---|\n",
       "| 33 | 2  | 13 | 14 | 12 | 21 |\n",
       "| 34 | 2  | 14 | 12 | 14 | 26 |\n",
       "| 35 | 2  | 12 | 19 | 21 | 21 |\n",
       "| 36 | 2  | 12 | 13 | 10 | 16 |\n",
       "| 37 | 2  | 11 | 20 | 16 | 16 |\n",
       "| 38 | 2  | 12 |  9 | 14 | 18 |\n",
       "| 39 | 2  | 10 | 13 | 18 | 24 |\n",
       "| 40 | 2  | 10 |  8 | 13 | 23 |\n",
       "| 41 | 2  | 12 | 20 | 19 | 23 |\n",
       "| 42 | 2  | 11 | 10 | 11 | 27 |\n",
       "| 43 | 2  | 12 | 18 | 25 | 25 |\n",
       "| 44 | 2  | 14 | 18 | 13 | 26 |\n",
       "| 45 | 2  | 14 | 10 | 25 | 28 |\n",
       "| 46 | 2  | 13 | 16 |  8 | 14 |\n",
       "| 47 | 2  | 14 |  8 | 13 | 25 |\n",
       "| 48 | 2  | 13 | 16 | 23 | 28 |\n",
       "| 49 | 2  | 16 | 21 | 26 | 26 |\n",
       "| 50 | 2  | 14 | 17 | 14 | 14 |\n",
       "| 51 | 2  | 16 | 16 | 15 | 23 |\n",
       "| 52 | 2  | 13 | 16 | 23 | 24 |\n",
       "| 53 | 2  |  2 |  6 | 16 | 21 |\n",
       "| 54 | 2  | 14 | 16 | 22 | 26 |\n",
       "| 55 | 2  | 17 | 17 | 22 | 28 |\n",
       "| 56 | 2  | 16 | 13 | 16 | 14 |\n",
       "| 57 | 2  | 15 | 14 | 20 | 26 |\n",
       "| 58 | 2  | 12 | 10 | 12 |  9 |\n",
       "| 59 | 2  | 14 | 17 | 24 | 23 |\n",
       "| 60 | 2  | 13 | 15 | 18 | 20 |\n",
       "| 61 | 2  | 11 | 16 | 18 | 28 |\n",
       "| 62 | 2  |  7 |  7 | 19 | 18 |\n",
       "| 63 | 2  | 12 | 15 |  7 | 28 |\n",
       "| 64 | 2  |  6 |  5 |  6 | 13 |\n",
       "\n",
       "\n",
       "\n",
       "\n"
      ],
      "text/plain": [
       "$`1`\n",
       "   V1 V2 V3 V4 V5\n",
       "1   1 15 17 24 14\n",
       "2   1 17 15 32 26\n",
       "3   1 15 14 29 23\n",
       "4   1 13 12 10 16\n",
       "5   1 20 17 26 28\n",
       "6   1 15 21 26 21\n",
       "7   1 15 13 26 22\n",
       "8   1 13  5 22 22\n",
       "9   1 14  7 30 17\n",
       "10  1 17 15 30 27\n",
       "11  1 17 17 26 20\n",
       "12  1 17 20 28 24\n",
       "13  1 15 15 29 24\n",
       "14  1 18 19 32 28\n",
       "15  1 18 18 31 27\n",
       "16  1 15 14 26 21\n",
       "17  1 18 17 33 26\n",
       "18  1 10 14 19 17\n",
       "19  1 18 21 30 29\n",
       "20  1 18 21 34 26\n",
       "21  1 13 17 30 24\n",
       "22  1 16 16 16 16\n",
       "23  1 11 15 25 23\n",
       "24  1 16 13 26 16\n",
       "25  1 16 13 23 21\n",
       "26  1 18 18 34 24\n",
       "27  1 16 15 28 27\n",
       "28  1 15 16 29 24\n",
       "29  1 18 19 32 23\n",
       "30  1 18 16 33 23\n",
       "31  1 17 20 21 21\n",
       "32  1 19 19 30 28\n",
       "\n",
       "$`2`\n",
       "   V1 V2 V3 V4 V5\n",
       "33  2 13 14 12 21\n",
       "34  2 14 12 14 26\n",
       "35  2 12 19 21 21\n",
       "36  2 12 13 10 16\n",
       "37  2 11 20 16 16\n",
       "38  2 12  9 14 18\n",
       "39  2 10 13 18 24\n",
       "40  2 10  8 13 23\n",
       "41  2 12 20 19 23\n",
       "42  2 11 10 11 27\n",
       "43  2 12 18 25 25\n",
       "44  2 14 18 13 26\n",
       "45  2 14 10 25 28\n",
       "46  2 13 16  8 14\n",
       "47  2 14  8 13 25\n",
       "48  2 13 16 23 28\n",
       "49  2 16 21 26 26\n",
       "50  2 14 17 14 14\n",
       "51  2 16 16 15 23\n",
       "52  2 13 16 23 24\n",
       "53  2  2  6 16 21\n",
       "54  2 14 16 22 26\n",
       "55  2 17 17 22 28\n",
       "56  2 16 13 16 14\n",
       "57  2 15 14 20 26\n",
       "58  2 12 10 12  9\n",
       "59  2 14 17 24 23\n",
       "60  2 13 15 18 20\n",
       "61  2 11 16 18 28\n",
       "62  2  7  7 19 18\n",
       "63  2 12 15  7 28\n",
       "64  2  6  5  6 13\n"
      ]
     },
     "metadata": {},
     "output_type": "display_data"
    }
   ],
   "source": [
    "split(Psych, f = Psych$V1)"
   ]
  },
  {
   "cell_type": "markdown",
   "id": "8efad917",
   "metadata": {},
   "source": [
    "Отже, позначимо "
   ]
  },
  {
   "cell_type": "code",
   "execution_count": 16,
   "id": "9ce264c3",
   "metadata": {},
   "outputs": [],
   "source": [
    "PsychM <- split(Psych, f = Psych$V1)$'1'\n",
    "PsychF <- split(Psych, f = Psych$V1)$'2'"
   ]
  },
  {
   "cell_type": "markdown",
   "id": "2c4cdf5e",
   "metadata": {},
   "source": [
    "Обчислимо кількості елементів у вибірках $M$ та $F$, та коваріаційні матриці. "
   ]
  },
  {
   "cell_type": "code",
   "execution_count": 17,
   "id": "5a2df3cc",
   "metadata": {},
   "outputs": [
    {
     "data": {
      "text/html": [
       "<table>\n",
       "<thead><tr><th scope=col>V1</th><th scope=col>V2</th><th scope=col>V3</th><th scope=col>V4</th><th scope=col>V5</th></tr></thead>\n",
       "<tbody>\n",
       "\t<tr><td>1 </td><td>15</td><td>17</td><td>24</td><td>14</td></tr>\n",
       "\t<tr><td>1 </td><td>17</td><td>15</td><td>32</td><td>26</td></tr>\n",
       "\t<tr><td>1 </td><td>15</td><td>14</td><td>29</td><td>23</td></tr>\n",
       "\t<tr><td>1 </td><td>13</td><td>12</td><td>10</td><td>16</td></tr>\n",
       "\t<tr><td>1 </td><td>20</td><td>17</td><td>26</td><td>28</td></tr>\n",
       "\t<tr><td>1 </td><td>15</td><td>21</td><td>26</td><td>21</td></tr>\n",
       "\t<tr><td>1 </td><td>15</td><td>13</td><td>26</td><td>22</td></tr>\n",
       "\t<tr><td>1 </td><td>13</td><td> 5</td><td>22</td><td>22</td></tr>\n",
       "\t<tr><td>1 </td><td>14</td><td> 7</td><td>30</td><td>17</td></tr>\n",
       "\t<tr><td>1 </td><td>17</td><td>15</td><td>30</td><td>27</td></tr>\n",
       "\t<tr><td>1 </td><td>17</td><td>17</td><td>26</td><td>20</td></tr>\n",
       "\t<tr><td>1 </td><td>17</td><td>20</td><td>28</td><td>24</td></tr>\n",
       "\t<tr><td>1 </td><td>15</td><td>15</td><td>29</td><td>24</td></tr>\n",
       "\t<tr><td>1 </td><td>18</td><td>19</td><td>32</td><td>28</td></tr>\n",
       "\t<tr><td>1 </td><td>18</td><td>18</td><td>31</td><td>27</td></tr>\n",
       "\t<tr><td>1 </td><td>15</td><td>14</td><td>26</td><td>21</td></tr>\n",
       "\t<tr><td>1 </td><td>18</td><td>17</td><td>33</td><td>26</td></tr>\n",
       "\t<tr><td>1 </td><td>10</td><td>14</td><td>19</td><td>17</td></tr>\n",
       "\t<tr><td>1 </td><td>18</td><td>21</td><td>30</td><td>29</td></tr>\n",
       "\t<tr><td>1 </td><td>18</td><td>21</td><td>34</td><td>26</td></tr>\n",
       "\t<tr><td>1 </td><td>13</td><td>17</td><td>30</td><td>24</td></tr>\n",
       "\t<tr><td>1 </td><td>16</td><td>16</td><td>16</td><td>16</td></tr>\n",
       "\t<tr><td>1 </td><td>11</td><td>15</td><td>25</td><td>23</td></tr>\n",
       "\t<tr><td>1 </td><td>16</td><td>13</td><td>26</td><td>16</td></tr>\n",
       "\t<tr><td>1 </td><td>16</td><td>13</td><td>23</td><td>21</td></tr>\n",
       "\t<tr><td>1 </td><td>18</td><td>18</td><td>34</td><td>24</td></tr>\n",
       "\t<tr><td>1 </td><td>16</td><td>15</td><td>28</td><td>27</td></tr>\n",
       "\t<tr><td>1 </td><td>15</td><td>16</td><td>29</td><td>24</td></tr>\n",
       "\t<tr><td>1 </td><td>18</td><td>19</td><td>32</td><td>23</td></tr>\n",
       "\t<tr><td>1 </td><td>18</td><td>16</td><td>33</td><td>23</td></tr>\n",
       "\t<tr><td>1 </td><td>17</td><td>20</td><td>21</td><td>21</td></tr>\n",
       "\t<tr><td>1 </td><td>19</td><td>19</td><td>30</td><td>28</td></tr>\n",
       "</tbody>\n",
       "</table>\n"
      ],
      "text/latex": [
       "\\begin{tabular}{r|lllll}\n",
       " V1 & V2 & V3 & V4 & V5\\\\\n",
       "\\hline\n",
       "\t 1  & 15 & 17 & 24 & 14\\\\\n",
       "\t 1  & 17 & 15 & 32 & 26\\\\\n",
       "\t 1  & 15 & 14 & 29 & 23\\\\\n",
       "\t 1  & 13 & 12 & 10 & 16\\\\\n",
       "\t 1  & 20 & 17 & 26 & 28\\\\\n",
       "\t 1  & 15 & 21 & 26 & 21\\\\\n",
       "\t 1  & 15 & 13 & 26 & 22\\\\\n",
       "\t 1  & 13 &  5 & 22 & 22\\\\\n",
       "\t 1  & 14 &  7 & 30 & 17\\\\\n",
       "\t 1  & 17 & 15 & 30 & 27\\\\\n",
       "\t 1  & 17 & 17 & 26 & 20\\\\\n",
       "\t 1  & 17 & 20 & 28 & 24\\\\\n",
       "\t 1  & 15 & 15 & 29 & 24\\\\\n",
       "\t 1  & 18 & 19 & 32 & 28\\\\\n",
       "\t 1  & 18 & 18 & 31 & 27\\\\\n",
       "\t 1  & 15 & 14 & 26 & 21\\\\\n",
       "\t 1  & 18 & 17 & 33 & 26\\\\\n",
       "\t 1  & 10 & 14 & 19 & 17\\\\\n",
       "\t 1  & 18 & 21 & 30 & 29\\\\\n",
       "\t 1  & 18 & 21 & 34 & 26\\\\\n",
       "\t 1  & 13 & 17 & 30 & 24\\\\\n",
       "\t 1  & 16 & 16 & 16 & 16\\\\\n",
       "\t 1  & 11 & 15 & 25 & 23\\\\\n",
       "\t 1  & 16 & 13 & 26 & 16\\\\\n",
       "\t 1  & 16 & 13 & 23 & 21\\\\\n",
       "\t 1  & 18 & 18 & 34 & 24\\\\\n",
       "\t 1  & 16 & 15 & 28 & 27\\\\\n",
       "\t 1  & 15 & 16 & 29 & 24\\\\\n",
       "\t 1  & 18 & 19 & 32 & 23\\\\\n",
       "\t 1  & 18 & 16 & 33 & 23\\\\\n",
       "\t 1  & 17 & 20 & 21 & 21\\\\\n",
       "\t 1  & 19 & 19 & 30 & 28\\\\\n",
       "\\end{tabular}\n"
      ],
      "text/markdown": [
       "\n",
       "| V1 | V2 | V3 | V4 | V5 |\n",
       "|---|---|---|---|---|\n",
       "| 1  | 15 | 17 | 24 | 14 |\n",
       "| 1  | 17 | 15 | 32 | 26 |\n",
       "| 1  | 15 | 14 | 29 | 23 |\n",
       "| 1  | 13 | 12 | 10 | 16 |\n",
       "| 1  | 20 | 17 | 26 | 28 |\n",
       "| 1  | 15 | 21 | 26 | 21 |\n",
       "| 1  | 15 | 13 | 26 | 22 |\n",
       "| 1  | 13 |  5 | 22 | 22 |\n",
       "| 1  | 14 |  7 | 30 | 17 |\n",
       "| 1  | 17 | 15 | 30 | 27 |\n",
       "| 1  | 17 | 17 | 26 | 20 |\n",
       "| 1  | 17 | 20 | 28 | 24 |\n",
       "| 1  | 15 | 15 | 29 | 24 |\n",
       "| 1  | 18 | 19 | 32 | 28 |\n",
       "| 1  | 18 | 18 | 31 | 27 |\n",
       "| 1  | 15 | 14 | 26 | 21 |\n",
       "| 1  | 18 | 17 | 33 | 26 |\n",
       "| 1  | 10 | 14 | 19 | 17 |\n",
       "| 1  | 18 | 21 | 30 | 29 |\n",
       "| 1  | 18 | 21 | 34 | 26 |\n",
       "| 1  | 13 | 17 | 30 | 24 |\n",
       "| 1  | 16 | 16 | 16 | 16 |\n",
       "| 1  | 11 | 15 | 25 | 23 |\n",
       "| 1  | 16 | 13 | 26 | 16 |\n",
       "| 1  | 16 | 13 | 23 | 21 |\n",
       "| 1  | 18 | 18 | 34 | 24 |\n",
       "| 1  | 16 | 15 | 28 | 27 |\n",
       "| 1  | 15 | 16 | 29 | 24 |\n",
       "| 1  | 18 | 19 | 32 | 23 |\n",
       "| 1  | 18 | 16 | 33 | 23 |\n",
       "| 1  | 17 | 20 | 21 | 21 |\n",
       "| 1  | 19 | 19 | 30 | 28 |\n",
       "\n"
      ],
      "text/plain": [
       "   V1 V2 V3 V4 V5\n",
       "1  1  15 17 24 14\n",
       "2  1  17 15 32 26\n",
       "3  1  15 14 29 23\n",
       "4  1  13 12 10 16\n",
       "5  1  20 17 26 28\n",
       "6  1  15 21 26 21\n",
       "7  1  15 13 26 22\n",
       "8  1  13  5 22 22\n",
       "9  1  14  7 30 17\n",
       "10 1  17 15 30 27\n",
       "11 1  17 17 26 20\n",
       "12 1  17 20 28 24\n",
       "13 1  15 15 29 24\n",
       "14 1  18 19 32 28\n",
       "15 1  18 18 31 27\n",
       "16 1  15 14 26 21\n",
       "17 1  18 17 33 26\n",
       "18 1  10 14 19 17\n",
       "19 1  18 21 30 29\n",
       "20 1  18 21 34 26\n",
       "21 1  13 17 30 24\n",
       "22 1  16 16 16 16\n",
       "23 1  11 15 25 23\n",
       "24 1  16 13 26 16\n",
       "25 1  16 13 23 21\n",
       "26 1  18 18 34 24\n",
       "27 1  16 15 28 27\n",
       "28 1  15 16 29 24\n",
       "29 1  18 19 32 23\n",
       "30 1  18 16 33 23\n",
       "31 1  17 20 21 21\n",
       "32 1  19 19 30 28"
      ]
     },
     "metadata": {},
     "output_type": "display_data"
    }
   ],
   "source": [
    "PsychM <- split(Psych, f = Psych$V1)$'1'\n",
    "PsychM"
   ]
  },
  {
   "cell_type": "code",
   "execution_count": 18,
   "id": "9716039d",
   "metadata": {},
   "outputs": [],
   "source": [
    "n1 <- dim(PsychM)[1]\n",
    "n2 <- dim(PsychF)[1]\n",
    "p <- dim(PsychM)[2]\n",
    "k <- 2\n",
    "PsychF1 <- as.matrix(PsychF[,2:5])\n",
    "PsychM1 <- as.matrix(PsychM[,2:5])\n",
    "S1 <-cov(PsychF1)\n",
    "S2 <-cov(PsychM1)"
   ]
  },
  {
   "cell_type": "code",
   "execution_count": 19,
   "id": "7e8928d5",
   "metadata": {},
   "outputs": [
    {
     "data": {
      "text/html": [
       "<table>\n",
       "<thead><tr><th></th><th scope=col>V2</th><th scope=col>V3</th><th scope=col>V4</th><th scope=col>V5</th></tr></thead>\n",
       "<tbody>\n",
       "\t<tr><th scope=row>V2</th><td>7.164315 </td><td> 6.047379</td><td> 5.693044</td><td> 4.700605</td></tr>\n",
       "\t<tr><th scope=row>V3</th><td>6.047379 </td><td>15.894153</td><td> 8.492440</td><td> 5.855847</td></tr>\n",
       "\t<tr><th scope=row>V4</th><td>5.693044 </td><td> 8.492440</td><td>29.356351</td><td>13.980847</td></tr>\n",
       "\t<tr><th scope=row>V5</th><td>4.700605 </td><td> 5.855847</td><td>13.980847</td><td>22.320565</td></tr>\n",
       "</tbody>\n",
       "</table>\n"
      ],
      "text/latex": [
       "\\begin{tabular}{r|llll}\n",
       "  & V2 & V3 & V4 & V5\\\\\n",
       "\\hline\n",
       "\tV2 & 7.164315  &  6.047379 &  5.693044 &  4.700605\\\\\n",
       "\tV3 & 6.047379  & 15.894153 &  8.492440 &  5.855847\\\\\n",
       "\tV4 & 5.693044  &  8.492440 & 29.356351 & 13.980847\\\\\n",
       "\tV5 & 4.700605  &  5.855847 & 13.980847 & 22.320565\\\\\n",
       "\\end{tabular}\n"
      ],
      "text/markdown": [
       "\n",
       "| <!--/--> | V2 | V3 | V4 | V5 |\n",
       "|---|---|---|---|---|\n",
       "| V2 | 7.164315  |  6.047379 |  5.693044 |  4.700605 |\n",
       "| V3 | 6.047379  | 15.894153 |  8.492440 |  5.855847 |\n",
       "| V4 | 5.693044  |  8.492440 | 29.356351 | 13.980847 |\n",
       "| V5 | 4.700605  |  5.855847 | 13.980847 | 22.320565 |\n",
       "\n"
      ],
      "text/plain": [
       "   V2       V3        V4        V5       \n",
       "V2 7.164315  6.047379  5.693044  4.700605\n",
       "V3 6.047379 15.894153  8.492440  5.855847\n",
       "V4 5.693044  8.492440 29.356351 13.980847\n",
       "V5 4.700605  5.855847 13.980847 22.320565"
      ]
     },
     "metadata": {},
     "output_type": "display_data"
    }
   ],
   "source": [
    "Spl <-((n1-1)*S1+ (n2-1)*S2)/(n1+n2-2)\n",
    "Spl"
   ]
  },
  {
   "cell_type": "code",
   "execution_count": 20,
   "id": "c7c438ed",
   "metadata": {},
   "outputs": [
    {
     "data": {
      "text/html": [
       "27325.2279251853"
      ],
      "text/latex": [
       "27325.2279251853"
      ],
      "text/markdown": [
       "27325.2279251853"
      ],
      "text/plain": [
       "[1] 27325.23"
      ]
     },
     "metadata": {},
     "output_type": "display_data"
    }
   ],
   "source": [
    "det(Spl)"
   ]
  },
  {
   "cell_type": "markdown",
   "id": "6c46608d",
   "metadata": {},
   "source": [
    "Обчислимо тепер статистику Бокса: \n",
    "$$\n",
    "M:= \\frac{|S_1|^{n_1/2}|S_2|^{n_2/2}}{|S_{pl}|^{n/2}}, \\quad n= n_1+n_2. \n",
    "$$"
   ]
  },
  {
   "cell_type": "code",
   "execution_count": 21,
   "id": "de567f53",
   "metadata": {},
   "outputs": [
    {
     "data": {
      "text/html": [
       "0.00054"
      ],
      "text/latex": [
       "0.00054"
      ],
      "text/markdown": [
       "0.00054"
      ],
      "text/plain": [
       "[1] 0.00054"
      ]
     },
     "metadata": {},
     "output_type": "display_data"
    }
   ],
   "source": [
    "M <-((det(S1))^(n1/2))*((det(S2))^(n2/2))/(det(Spl)^(n1/2+n2/2))\n",
    "round(M, digits = 5)"
   ]
  },
  {
   "cell_type": "markdown",
   "id": "ff017a33",
   "metadata": {},
   "source": [
    "Порахуємо статистику $u$ та  $c_1$: \n",
    "$$\n",
    "u = 2(1-c_1)\\log M,  \\quad  c_1= \\frac{(k+1)(2p^2 +3p-1)}{6k n (p+1)}.\n",
    "$$"
   ]
  },
  {
   "cell_type": "code",
   "execution_count": 22,
   "id": "11cae843",
   "metadata": {},
   "outputs": [
    {
     "data": {
      "text/html": [
       "13.778"
      ],
      "text/latex": [
       "13.778"
      ],
      "text/markdown": [
       "13.778"
      ],
      "text/plain": [
       "[1] 13.778"
      ]
     },
     "metadata": {},
     "output_type": "display_data"
    }
   ],
   "source": [
    "n <- n1\n",
    "C1 <-(k+1)*(2*p^2+3*p-1)/(6*k*n * (p+1))\n",
    "u <- -round(2*(1-C1)*log(M), digits = 3)\n",
    "u"
   ]
  },
  {
   "cell_type": "markdown",
   "id": "13bcd276",
   "metadata": {},
   "source": [
    "Отже, результат співпадає з отриманим раніше. "
   ]
  },
  {
   "cell_type": "code",
   "execution_count": 23,
   "id": "43f9642e",
   "metadata": {},
   "outputs": [
    {
     "data": {
      "text/html": [
       "24.996"
      ],
      "text/latex": [
       "24.996"
      ],
      "text/markdown": [
       "24.996"
      ],
      "text/plain": [
       "[1] 24.996"
      ]
     },
     "metadata": {},
     "output_type": "display_data"
    }
   ],
   "source": [
    "round(qchisq(0.05, 0.5*(k-1)*p*(p+1), lower.tail = FALSE), digits = 3)"
   ]
  },
  {
   "cell_type": "markdown",
   "id": "ad6d53f9",
   "metadata": {},
   "source": [
    "Отже, приймаємо $H_0$. "
   ]
  },
  {
   "cell_type": "markdown",
   "id": "8863c854",
   "metadata": {},
   "source": [
    "## 3. Тест на незалежність субвекторів. \n",
    "\n",
    "Візьмемо тепер вибірку з попередньої задачі і перевіримо гіпотезу про те, що спостереження для чоловіків і для жінок-- незалежні. Порахуємо коваріаційну матрицю спостережень. \n",
    "Візьмемо PsychF1 та PsychM1, та утворимо коваріаційну матрицю цих даних. "
   ]
  },
  {
   "cell_type": "code",
   "execution_count": 45,
   "id": "0ee333c6",
   "metadata": {},
   "outputs": [
    {
     "data": {
      "text/html": [
       "<table>\n",
       "<thead><tr><th></th><th scope=col>V2</th><th scope=col>V3</th><th scope=col>V4</th><th scope=col>V5</th></tr></thead>\n",
       "<tbody>\n",
       "\t<tr><th scope=row>V2</th><td>-0.34375000</td><td> 0.1622984 </td><td>-2.1633065 </td><td>-1.362903  </td></tr>\n",
       "\t<tr><th scope=row>V3</th><td>-0.06754032</td><td>-0.1703629 </td><td>-2.3044355 </td><td>-2.153226  </td></tr>\n",
       "\t<tr><th scope=row>V4</th><td>-1.39818548</td><td>-3.1300403 </td><td> 4.1955645 </td><td>-1.217742  </td></tr>\n",
       "\t<tr><th scope=row>V5</th><td>-0.61491935</td><td>-0.8125000 </td><td> 0.3346774 </td><td> 1.145161  </td></tr>\n",
       "</tbody>\n",
       "</table>\n"
      ],
      "text/latex": [
       "\\begin{tabular}{r|llll}\n",
       "  & V2 & V3 & V4 & V5\\\\\n",
       "\\hline\n",
       "\tV2 & -0.34375000 &  0.1622984  & -2.1633065  & -1.362903  \\\\\n",
       "\tV3 & -0.06754032 & -0.1703629  & -2.3044355  & -2.153226  \\\\\n",
       "\tV4 & -1.39818548 & -3.1300403  &  4.1955645  & -1.217742  \\\\\n",
       "\tV5 & -0.61491935 & -0.8125000  &  0.3346774  &  1.145161  \\\\\n",
       "\\end{tabular}\n"
      ],
      "text/markdown": [
       "\n",
       "| <!--/--> | V2 | V3 | V4 | V5 |\n",
       "|---|---|---|---|---|\n",
       "| V2 | -0.34375000 |  0.1622984  | -2.1633065  | -1.362903   |\n",
       "| V3 | -0.06754032 | -0.1703629  | -2.3044355  | -2.153226   |\n",
       "| V4 | -1.39818548 | -3.1300403  |  4.1955645  | -1.217742   |\n",
       "| V5 | -0.61491935 | -0.8125000  |  0.3346774  |  1.145161   |\n",
       "\n"
      ],
      "text/plain": [
       "   V2          V3         V4         V5       \n",
       "V2 -0.34375000  0.1622984 -2.1633065 -1.362903\n",
       "V3 -0.06754032 -0.1703629 -2.3044355 -2.153226\n",
       "V4 -1.39818548 -3.1300403  4.1955645 -1.217742\n",
       "V5 -0.61491935 -0.8125000  0.3346774  1.145161"
      ]
     },
     "metadata": {},
     "output_type": "display_data"
    }
   ],
   "source": [
    "S_FM <- cov(PsychF1,PsychM1)\n",
    "S_FM"
   ]
  },
  {
   "cell_type": "code",
   "execution_count": 46,
   "id": "95bcd384",
   "metadata": {},
   "outputs": [],
   "source": [
    "S_FF <- cov(PsychF1)\n",
    "S_MM <- cov(PsychM1)"
   ]
  },
  {
   "cell_type": "markdown",
   "id": "fffaaf7b",
   "metadata": {},
   "source": [
    "З'єднаємо тепе матриці докупи. Для цього застосуємо функцію cbind (або rbond, якщо буде зв'язувати матриці по рядкам)"
   ]
  },
  {
   "cell_type": "code",
   "execution_count": 47,
   "id": "a35c1f3d",
   "metadata": {},
   "outputs": [],
   "source": [
    "A <- cbind(S_FF,S_FM)\n",
    "B <- cbind(S_FM,S_MM)\n",
    "S <- rbind(A,B)"
   ]
  },
  {
   "cell_type": "markdown",
   "id": "c800906d",
   "metadata": {},
   "source": [
    "Обчислимо Лямбду Уілкса та  $F$-статистику наступним чином: \n",
    "$$\n",
    "\\Lambda :=\\frac{|S|}{|S_{xx}| |S_{yy}| }= \\frac{|E|}{|E+ H|} \\sim \\Lambda_{p,\\nu_H, \\nu_E}, \n",
    "$$\n",
    "де \n",
    "$$\n",
    "E:= S_{yy} - S_{yx}S^{-1}_{xx}S_{xy}, \\quad H:= S_{yx}S^{-1}_{xx}S_{xy}.\n",
    "$$\n",
    "Порахуємо $F$-статистику\n",
    "$$\n",
    "F=\\frac{1-\\Lambda^{1/t}}{\\Lambda^{1/t}}  \\frac{df_2}{df_1}, \n",
    "$$\n",
    "$$\n",
    "df_1= p\\nu_H, \\quad df_2= wt-\\frac{1}{2} (p\\nu_H-2), \n",
    "$$\n",
    "$$\n",
    "w=\\nu_E +\\nu_H -\\frac{1}{2} (p+\\nu_H +1) , \\quad t = \\sqrt{\\frac{p^2\\nu_H^2-4}{p^2+\\nu_H^2-5}}. \n",
    "$$\n",
    "У нашому випадку\n",
    "$$\n",
    "\\nu_H = q, \\quad \\nu_E = n-1- q. \n",
    "$$"
   ]
  },
  {
   "cell_type": "code",
   "execution_count": 83,
   "id": "8c3292a6",
   "metadata": {},
   "outputs": [
    {
     "data": {
      "text/html": [
       "0.792"
      ],
      "text/latex": [
       "0.792"
      ],
      "text/markdown": [
       "0.792"
      ],
      "text/plain": [
       "[1] 0.792"
      ]
     },
     "metadata": {},
     "output_type": "display_data"
    }
   ],
   "source": [
    "Lambda <- det(S)/(det(S_FF)*det(S_MM))\n",
    "round(Lambda,3)"
   ]
  },
  {
   "cell_type": "markdown",
   "id": "20d481c6",
   "metadata": {},
   "source": [
    "Тепер обчислимо $F$-статистику. "
   ]
  },
  {
   "cell_type": "code",
   "execution_count": 84,
   "id": "fc18246f",
   "metadata": {},
   "outputs": [
    {
     "data": {
      "text/html": [
       "0.367"
      ],
      "text/latex": [
       "0.367"
      ],
      "text/markdown": [
       "0.367"
      ],
      "text/plain": [
       "[1] 0.367"
      ]
     },
     "metadata": {},
     "output_type": "display_data"
    }
   ],
   "source": [
    "n <- dim(PsychM)[1]\n",
    "p <- dim(PsychM)[2]-1\n",
    "k <- 2\n",
    "nu_H = dim(PsychM)[2]-1\n",
    "nu_E = n - 1 - nu_H\n",
    "w = nu_E + nu_H - 0.5* (p+nu_H+1)\n",
    "t = sqrt(((p*nu_H)^2 -4)/(p^2 +nu_H^2 -5))\n",
    "df1 = p*nu_H\n",
    "df2 = w*t - 0.5 * (df1 -2)\n",
    "F =((1- Lambda^(1/t))/(Lambda^(1/t)) ) * df2/df1\n",
    "round(F,3)"
   ]
  },
  {
   "cell_type": "markdown",
   "id": "70e14579",
   "metadata": {},
   "source": [
    "Обчислимо тепер кванеіль розподілу Фішера з  ступенями свободи."
   ]
  },
  {
   "cell_type": "code",
   "execution_count": 82,
   "id": "d13ae1a2",
   "metadata": {},
   "outputs": [
    {
     "data": {
      "text/html": [
       "1.782"
      ],
      "text/latex": [
       "1.782"
      ],
      "text/markdown": [
       "1.782"
      ],
      "text/plain": [
       "[1] 1.782"
      ]
     },
     "metadata": {},
     "output_type": "display_data"
    }
   ],
   "source": [
    "round(qf(1-0.05, df1, df2, lower.tail = TRUE, log.p = FALSE),3)"
   ]
  },
  {
   "cell_type": "markdown",
   "id": "23ed1aa2",
   "metadata": {},
   "source": [
    "Отже, ми приймаємо гіпотезу $H_0$  про незалежність двох виборок. "
   ]
  }
 ],
 "metadata": {
  "kernelspec": {
   "display_name": "R",
   "language": "R",
   "name": "ir"
  },
  "language_info": {
   "codemirror_mode": "r",
   "file_extension": ".r",
   "mimetype": "text/x-r-source",
   "name": "R",
   "pygments_lexer": "r",
   "version": "3.6.1"
  }
 },
 "nbformat": 4,
 "nbformat_minor": 5
}
